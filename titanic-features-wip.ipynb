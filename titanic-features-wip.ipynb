{
 "cells": [
  {
   "cell_type": "code",
   "execution_count": 1,
   "id": "f6495dc6",
   "metadata": {
    "_cell_guid": "2ce68358-02ec-556d-ba88-e773a50bc18b",
    "execution": {
     "iopub.execute_input": "2021-12-01T21:38:58.831575Z",
     "iopub.status.busy": "2021-12-01T21:38:58.829743Z",
     "iopub.status.idle": "2021-12-01T21:38:58.886219Z",
     "shell.execute_reply": "2021-12-01T21:38:58.885502Z",
     "shell.execute_reply.started": "2021-12-01T21:38:21.261682Z"
    },
    "papermill": {
     "duration": 0.100212,
     "end_time": "2021-12-01T21:38:58.886472",
     "exception": false,
     "start_time": "2021-12-01T21:38:58.786260",
     "status": "completed"
    },
    "tags": []
   },
   "outputs": [],
   "source": [
    "%matplotlib inline\n",
    "import numpy as np\n",
    "import pandas as pd\n",
    "import re as re\n",
    "\n",
    "train = pd.read_csv('../input/titanic/train.csv', header = 0, dtype={'Age': np.float64})\n",
    "test  = pd.read_csv('../input/titanic/test.csv' , header = 0, dtype={'Age': np.float64})\n",
    "PassengerId = test['PassengerId']\n",
    "\n",
    "full_data = [train, test]"
   ]
  },
  {
   "cell_type": "code",
   "execution_count": 2,
   "id": "f430c746",
   "metadata": {
    "execution": {
     "iopub.execute_input": "2021-12-01T21:38:58.972181Z",
     "iopub.status.busy": "2021-12-01T21:38:58.971120Z",
     "iopub.status.idle": "2021-12-01T21:38:59.010167Z",
     "shell.execute_reply": "2021-12-01T21:38:59.010686Z",
     "shell.execute_reply.started": "2021-12-01T21:38:21.282357Z"
    },
    "papermill": {
     "duration": 0.087422,
     "end_time": "2021-12-01T21:38:59.010872",
     "exception": false,
     "start_time": "2021-12-01T21:38:58.923450",
     "status": "completed"
    },
    "tags": []
   },
   "outputs": [
    {
     "data": {
      "text/html": [
       "<div>\n",
       "<style scoped>\n",
       "    .dataframe tbody tr th:only-of-type {\n",
       "        vertical-align: middle;\n",
       "    }\n",
       "\n",
       "    .dataframe tbody tr th {\n",
       "        vertical-align: top;\n",
       "    }\n",
       "\n",
       "    .dataframe thead th {\n",
       "        text-align: right;\n",
       "    }\n",
       "</style>\n",
       "<table border=\"1\" class=\"dataframe\">\n",
       "  <thead>\n",
       "    <tr style=\"text-align: right;\">\n",
       "      <th></th>\n",
       "      <th>PassengerId</th>\n",
       "      <th>Survived</th>\n",
       "      <th>Pclass</th>\n",
       "      <th>Age</th>\n",
       "      <th>SibSp</th>\n",
       "      <th>Parch</th>\n",
       "      <th>Fare</th>\n",
       "    </tr>\n",
       "  </thead>\n",
       "  <tbody>\n",
       "    <tr>\n",
       "      <th>count</th>\n",
       "      <td>891.000000</td>\n",
       "      <td>891.000000</td>\n",
       "      <td>891.000000</td>\n",
       "      <td>714.000000</td>\n",
       "      <td>891.000000</td>\n",
       "      <td>891.000000</td>\n",
       "      <td>891.000000</td>\n",
       "    </tr>\n",
       "    <tr>\n",
       "      <th>mean</th>\n",
       "      <td>446.000000</td>\n",
       "      <td>0.383838</td>\n",
       "      <td>2.308642</td>\n",
       "      <td>29.699118</td>\n",
       "      <td>0.523008</td>\n",
       "      <td>0.381594</td>\n",
       "      <td>32.204208</td>\n",
       "    </tr>\n",
       "    <tr>\n",
       "      <th>std</th>\n",
       "      <td>257.353842</td>\n",
       "      <td>0.486592</td>\n",
       "      <td>0.836071</td>\n",
       "      <td>14.526497</td>\n",
       "      <td>1.102743</td>\n",
       "      <td>0.806057</td>\n",
       "      <td>49.693429</td>\n",
       "    </tr>\n",
       "    <tr>\n",
       "      <th>min</th>\n",
       "      <td>1.000000</td>\n",
       "      <td>0.000000</td>\n",
       "      <td>1.000000</td>\n",
       "      <td>0.420000</td>\n",
       "      <td>0.000000</td>\n",
       "      <td>0.000000</td>\n",
       "      <td>0.000000</td>\n",
       "    </tr>\n",
       "    <tr>\n",
       "      <th>25%</th>\n",
       "      <td>223.500000</td>\n",
       "      <td>0.000000</td>\n",
       "      <td>2.000000</td>\n",
       "      <td>20.125000</td>\n",
       "      <td>0.000000</td>\n",
       "      <td>0.000000</td>\n",
       "      <td>7.910400</td>\n",
       "    </tr>\n",
       "    <tr>\n",
       "      <th>50%</th>\n",
       "      <td>446.000000</td>\n",
       "      <td>0.000000</td>\n",
       "      <td>3.000000</td>\n",
       "      <td>28.000000</td>\n",
       "      <td>0.000000</td>\n",
       "      <td>0.000000</td>\n",
       "      <td>14.454200</td>\n",
       "    </tr>\n",
       "    <tr>\n",
       "      <th>75%</th>\n",
       "      <td>668.500000</td>\n",
       "      <td>1.000000</td>\n",
       "      <td>3.000000</td>\n",
       "      <td>38.000000</td>\n",
       "      <td>1.000000</td>\n",
       "      <td>0.000000</td>\n",
       "      <td>31.000000</td>\n",
       "    </tr>\n",
       "    <tr>\n",
       "      <th>max</th>\n",
       "      <td>891.000000</td>\n",
       "      <td>1.000000</td>\n",
       "      <td>3.000000</td>\n",
       "      <td>80.000000</td>\n",
       "      <td>8.000000</td>\n",
       "      <td>6.000000</td>\n",
       "      <td>512.329200</td>\n",
       "    </tr>\n",
       "  </tbody>\n",
       "</table>\n",
       "</div>"
      ],
      "text/plain": [
       "       PassengerId    Survived      Pclass         Age       SibSp  \\\n",
       "count   891.000000  891.000000  891.000000  714.000000  891.000000   \n",
       "mean    446.000000    0.383838    2.308642   29.699118    0.523008   \n",
       "std     257.353842    0.486592    0.836071   14.526497    1.102743   \n",
       "min       1.000000    0.000000    1.000000    0.420000    0.000000   \n",
       "25%     223.500000    0.000000    2.000000   20.125000    0.000000   \n",
       "50%     446.000000    0.000000    3.000000   28.000000    0.000000   \n",
       "75%     668.500000    1.000000    3.000000   38.000000    1.000000   \n",
       "max     891.000000    1.000000    3.000000   80.000000    8.000000   \n",
       "\n",
       "            Parch        Fare  \n",
       "count  891.000000  891.000000  \n",
       "mean     0.381594   32.204208  \n",
       "std      0.806057   49.693429  \n",
       "min      0.000000    0.000000  \n",
       "25%      0.000000    7.910400  \n",
       "50%      0.000000   14.454200  \n",
       "75%      0.000000   31.000000  \n",
       "max      6.000000  512.329200  "
      ]
     },
     "execution_count": 2,
     "metadata": {},
     "output_type": "execute_result"
    }
   ],
   "source": [
    "train.describe()"
   ]
  },
  {
   "cell_type": "code",
   "execution_count": 3,
   "id": "11ffc6f0",
   "metadata": {
    "execution": {
     "iopub.execute_input": "2021-12-01T21:38:59.088904Z",
     "iopub.status.busy": "2021-12-01T21:38:59.087936Z",
     "iopub.status.idle": "2021-12-01T21:38:59.103540Z",
     "shell.execute_reply": "2021-12-01T21:38:59.104111Z",
     "shell.execute_reply.started": "2021-12-01T21:38:21.311009Z"
    },
    "papermill": {
     "duration": 0.056243,
     "end_time": "2021-12-01T21:38:59.104282",
     "exception": false,
     "start_time": "2021-12-01T21:38:59.048039",
     "status": "completed"
    },
    "tags": []
   },
   "outputs": [
    {
     "name": "stdout",
     "output_type": "stream",
     "text": [
      "<class 'pandas.core.frame.DataFrame'>\n",
      "RangeIndex: 891 entries, 0 to 890\n",
      "Data columns (total 12 columns):\n",
      " #   Column       Non-Null Count  Dtype  \n",
      "---  ------       --------------  -----  \n",
      " 0   PassengerId  891 non-null    int64  \n",
      " 1   Survived     891 non-null    int64  \n",
      " 2   Pclass       891 non-null    int64  \n",
      " 3   Name         891 non-null    object \n",
      " 4   Sex          891 non-null    object \n",
      " 5   Age          714 non-null    float64\n",
      " 6   SibSp        891 non-null    int64  \n",
      " 7   Parch        891 non-null    int64  \n",
      " 8   Ticket       891 non-null    object \n",
      " 9   Fare         891 non-null    float64\n",
      " 10  Cabin        204 non-null    object \n",
      " 11  Embarked     889 non-null    object \n",
      "dtypes: float64(2), int64(5), object(5)\n",
      "memory usage: 83.7+ KB\n"
     ]
    }
   ],
   "source": [
    "train.info()"
   ]
  },
  {
   "cell_type": "code",
   "execution_count": 4,
   "id": "12ff329f",
   "metadata": {
    "execution": {
     "iopub.execute_input": "2021-12-01T21:38:59.182894Z",
     "iopub.status.busy": "2021-12-01T21:38:59.181883Z",
     "iopub.status.idle": "2021-12-01T21:38:59.190968Z",
     "shell.execute_reply": "2021-12-01T21:38:59.191595Z",
     "shell.execute_reply.started": "2021-12-01T21:38:21.325655Z"
    },
    "papermill": {
     "duration": 0.050116,
     "end_time": "2021-12-01T21:38:59.191781",
     "exception": false,
     "start_time": "2021-12-01T21:38:59.141665",
     "status": "completed"
    },
    "tags": []
   },
   "outputs": [
    {
     "data": {
      "text/plain": [
       "PassengerId      0\n",
       "Survived         0\n",
       "Pclass           0\n",
       "Name             0\n",
       "Sex              0\n",
       "Age            177\n",
       "SibSp            0\n",
       "Parch            0\n",
       "Ticket           0\n",
       "Fare             0\n",
       "Cabin          687\n",
       "Embarked         2\n",
       "dtype: int64"
      ]
     },
     "execution_count": 4,
     "metadata": {},
     "output_type": "execute_result"
    }
   ],
   "source": [
    "train.isna().sum()"
   ]
  },
  {
   "cell_type": "code",
   "execution_count": 5,
   "id": "de3d357b",
   "metadata": {
    "execution": {
     "iopub.execute_input": "2021-12-01T21:38:59.271771Z",
     "iopub.status.busy": "2021-12-01T21:38:59.270766Z",
     "iopub.status.idle": "2021-12-01T21:38:59.277883Z",
     "shell.execute_reply": "2021-12-01T21:38:59.278525Z",
     "shell.execute_reply.started": "2021-12-01T21:38:21.340998Z"
    },
    "papermill": {
     "duration": 0.049257,
     "end_time": "2021-12-01T21:38:59.278707",
     "exception": false,
     "start_time": "2021-12-01T21:38:59.229450",
     "status": "completed"
    },
    "tags": []
   },
   "outputs": [
    {
     "data": {
      "text/plain": [
       "0    549\n",
       "1    342\n",
       "Name: Survived, dtype: int64"
      ]
     },
     "execution_count": 5,
     "metadata": {},
     "output_type": "execute_result"
    }
   ],
   "source": [
    "train['Survived'].value_counts()"
   ]
  },
  {
   "cell_type": "markdown",
   "id": "18d9fa04",
   "metadata": {
    "_cell_guid": "f9595646-65c9-6fc4-395f-0befc4d122ce",
    "papermill": {
     "duration": 0.038168,
     "end_time": "2021-12-01T21:38:59.355389",
     "exception": false,
     "start_time": "2021-12-01T21:38:59.317221",
     "status": "completed"
    },
    "tags": []
   },
   "source": [
    "# Feature Engineering #"
   ]
  },
  {
   "cell_type": "markdown",
   "id": "5330c492",
   "metadata": {
    "_cell_guid": "9b4c278b-aaca-e92c-ba77-b9b48379d1f1",
    "papermill": {
     "duration": 0.037397,
     "end_time": "2021-12-01T21:38:59.430921",
     "exception": false,
     "start_time": "2021-12-01T21:38:59.393524",
     "status": "completed"
    },
    "tags": []
   },
   "source": [
    "## 1. Pclass ##\n",
    "there is no missing value on this feature and already a numerical value. so let's check it's impact on our train set."
   ]
  },
  {
   "cell_type": "code",
   "execution_count": 6,
   "id": "14151c35",
   "metadata": {
    "_cell_guid": "4680d950-cf7d-a6ae-e813-535e2247d88e",
    "execution": {
     "iopub.execute_input": "2021-12-01T21:38:59.511704Z",
     "iopub.status.busy": "2021-12-01T21:38:59.510667Z",
     "iopub.status.idle": "2021-12-01T21:38:59.524028Z",
     "shell.execute_reply": "2021-12-01T21:38:59.523125Z",
     "shell.execute_reply.started": "2021-12-01T21:38:21.350028Z"
    },
    "papermill": {
     "duration": 0.055322,
     "end_time": "2021-12-01T21:38:59.524253",
     "exception": false,
     "start_time": "2021-12-01T21:38:59.468931",
     "status": "completed"
    },
    "tags": []
   },
   "outputs": [
    {
     "name": "stdout",
     "output_type": "stream",
     "text": [
      "   Pclass  Survived\n",
      "0       1  0.629630\n",
      "1       2  0.472826\n",
      "2       3  0.242363\n"
     ]
    }
   ],
   "source": [
    "print (train[['Pclass', 'Survived']].groupby(['Pclass'], as_index=False).mean())"
   ]
  },
  {
   "cell_type": "markdown",
   "id": "ca3cb259",
   "metadata": {
    "_cell_guid": "5e70f81c-d4e2-1823-f0ba-a7c9b46984ff",
    "papermill": {
     "duration": 0.037972,
     "end_time": "2021-12-01T21:38:59.601803",
     "exception": false,
     "start_time": "2021-12-01T21:38:59.563831",
     "status": "completed"
    },
    "tags": []
   },
   "source": [
    "## 2. Sex ##"
   ]
  },
  {
   "cell_type": "code",
   "execution_count": 7,
   "id": "a369461f",
   "metadata": {
    "_cell_guid": "6729681d-7915-1631-78d2-ddf3c35a424c",
    "execution": {
     "iopub.execute_input": "2021-12-01T21:38:59.685069Z",
     "iopub.status.busy": "2021-12-01T21:38:59.684397Z",
     "iopub.status.idle": "2021-12-01T21:38:59.692137Z",
     "shell.execute_reply": "2021-12-01T21:38:59.692793Z",
     "shell.execute_reply.started": "2021-12-01T21:38:21.365761Z"
    },
    "papermill": {
     "duration": 0.053228,
     "end_time": "2021-12-01T21:38:59.693035",
     "exception": false,
     "start_time": "2021-12-01T21:38:59.639807",
     "status": "completed"
    },
    "tags": []
   },
   "outputs": [
    {
     "name": "stdout",
     "output_type": "stream",
     "text": [
      "      Sex  Survived\n",
      "0  female  0.742038\n",
      "1    male  0.188908\n"
     ]
    }
   ],
   "source": [
    "print (train[[\"Sex\", \"Survived\"]].groupby(['Sex'], as_index=False).mean())"
   ]
  },
  {
   "cell_type": "markdown",
   "id": "d5d8cddf",
   "metadata": {
    "_cell_guid": "7c58b7ee-d6a1-0cc9-2346-81c47846a54a",
    "papermill": {
     "duration": 0.101577,
     "end_time": "2021-12-01T21:38:59.834652",
     "exception": false,
     "start_time": "2021-12-01T21:38:59.733075",
     "status": "completed"
    },
    "tags": []
   },
   "source": [
    "## 3. SibSp and Parch ##\n",
    "With the number of siblings/spouse and the number of children/parents we can create new feature called Family Size."
   ]
  },
  {
   "cell_type": "code",
   "execution_count": 8,
   "id": "91db9319",
   "metadata": {
    "_cell_guid": "1a537f10-7cec-d0b7-8a34-fa9975655190",
    "execution": {
     "iopub.execute_input": "2021-12-01T21:38:59.920718Z",
     "iopub.status.busy": "2021-12-01T21:38:59.919666Z",
     "iopub.status.idle": "2021-12-01T21:38:59.930085Z",
     "shell.execute_reply": "2021-12-01T21:38:59.929549Z",
     "shell.execute_reply.started": "2021-12-01T21:38:21.377880Z"
    },
    "papermill": {
     "duration": 0.056872,
     "end_time": "2021-12-01T21:38:59.930252",
     "exception": false,
     "start_time": "2021-12-01T21:38:59.873380",
     "status": "completed"
    },
    "tags": []
   },
   "outputs": [
    {
     "name": "stdout",
     "output_type": "stream",
     "text": [
      "   FamilySize  Survived\n",
      "0           1  0.303538\n",
      "1           2  0.552795\n",
      "2           3  0.578431\n",
      "3           4  0.724138\n",
      "4           5  0.200000\n",
      "5           6  0.136364\n",
      "6           7  0.333333\n",
      "7           8  0.000000\n",
      "8          11  0.000000\n"
     ]
    }
   ],
   "source": [
    "for dataset in full_data:\n",
    "    dataset['FamilySize'] = dataset['SibSp'] + dataset['Parch'] + 1\n",
    "print (train[['FamilySize', 'Survived']].groupby(['FamilySize'], as_index=False).mean())"
   ]
  },
  {
   "cell_type": "markdown",
   "id": "a01b7101",
   "metadata": {
    "_cell_guid": "e4861d3e-10db-1a23-8728-44e4d5251844",
    "papermill": {
     "duration": 0.039325,
     "end_time": "2021-12-01T21:39:00.010514",
     "exception": false,
     "start_time": "2021-12-01T21:38:59.971189",
     "status": "completed"
    },
    "tags": []
   },
   "source": [
    "it seems has a good effect on our prediction but let's go further and categorize people to check whether they are alone in this ship or not."
   ]
  },
  {
   "cell_type": "code",
   "execution_count": 9,
   "id": "b039a064",
   "metadata": {
    "_cell_guid": "8c35e945-c928-e3bc-bd9c-d6ddb287e4c9",
    "execution": {
     "iopub.execute_input": "2021-12-01T21:39:00.097429Z",
     "iopub.status.busy": "2021-12-01T21:39:00.096362Z",
     "iopub.status.idle": "2021-12-01T21:39:00.107170Z",
     "shell.execute_reply": "2021-12-01T21:39:00.107707Z",
     "shell.execute_reply.started": "2021-12-01T21:38:21.391464Z"
    },
    "papermill": {
     "duration": 0.058257,
     "end_time": "2021-12-01T21:39:00.107901",
     "exception": false,
     "start_time": "2021-12-01T21:39:00.049644",
     "status": "completed"
    },
    "tags": []
   },
   "outputs": [
    {
     "name": "stdout",
     "output_type": "stream",
     "text": [
      "   IsAlone  Survived\n",
      "0        0  0.505650\n",
      "1        1  0.303538\n"
     ]
    }
   ],
   "source": [
    "for dataset in full_data:\n",
    "    dataset['IsAlone'] = 0\n",
    "    dataset.loc[dataset['FamilySize'] == 1, 'IsAlone'] = 1\n",
    "print (train[['IsAlone', 'Survived']].groupby(['IsAlone'], as_index=False).mean())"
   ]
  },
  {
   "cell_type": "markdown",
   "id": "8b86f944",
   "metadata": {
    "_cell_guid": "2780ca4e-7923-b845-0b6b-5f68a45f6b93",
    "papermill": {
     "duration": 0.039048,
     "end_time": "2021-12-01T21:39:00.186617",
     "exception": false,
     "start_time": "2021-12-01T21:39:00.147569",
     "status": "completed"
    },
    "tags": []
   },
   "source": [
    "good! the impact is considerable."
   ]
  },
  {
   "cell_type": "markdown",
   "id": "07eb5d60",
   "metadata": {
    "_cell_guid": "8aa419c0-6614-7efc-7797-97f4a5158b19",
    "papermill": {
     "duration": 0.039177,
     "end_time": "2021-12-01T21:39:00.265252",
     "exception": false,
     "start_time": "2021-12-01T21:39:00.226075",
     "status": "completed"
    },
    "tags": []
   },
   "source": [
    "## 4. Embarked ##\n",
    "the embarked feature has some missing value. and we try to fill those with the most occurred value ( 'S' )."
   ]
  },
  {
   "cell_type": "code",
   "execution_count": 10,
   "id": "1fdea857",
   "metadata": {
    "_cell_guid": "0e70e9af-d7cc-8c40-b7d4-2643889c376d",
    "execution": {
     "iopub.execute_input": "2021-12-01T21:39:00.350114Z",
     "iopub.status.busy": "2021-12-01T21:39:00.349046Z",
     "iopub.status.idle": "2021-12-01T21:39:00.362712Z",
     "shell.execute_reply": "2021-12-01T21:39:00.361774Z",
     "shell.execute_reply.started": "2021-12-01T21:38:21.408312Z"
    },
    "papermill": {
     "duration": 0.058086,
     "end_time": "2021-12-01T21:39:00.362933",
     "exception": false,
     "start_time": "2021-12-01T21:39:00.304847",
     "status": "completed"
    },
    "tags": []
   },
   "outputs": [
    {
     "name": "stdout",
     "output_type": "stream",
     "text": [
      "  Embarked  Survived\n",
      "0        C  0.553571\n",
      "1        Q  0.389610\n",
      "2        S  0.339009\n"
     ]
    }
   ],
   "source": [
    "for dataset in full_data:\n",
    "    dataset['Embarked'] = dataset['Embarked'].fillna('S')\n",
    "print (train[['Embarked', 'Survived']].groupby(['Embarked'], as_index=False).mean())"
   ]
  },
  {
   "cell_type": "markdown",
   "id": "11a6346a",
   "metadata": {
    "_cell_guid": "e08c9ee8-d6d1-99b7-38bd-f0042c18a5d9",
    "papermill": {
     "duration": 0.039586,
     "end_time": "2021-12-01T21:39:00.443388",
     "exception": false,
     "start_time": "2021-12-01T21:39:00.403802",
     "status": "completed"
    },
    "tags": []
   },
   "source": [
    "## 5. Fare ##\n",
    "Fare also has some missing value and we will replace it with the median. then we categorize it into 4 ranges."
   ]
  },
  {
   "cell_type": "code",
   "execution_count": 11,
   "id": "f77194bb",
   "metadata": {
    "_cell_guid": "a21335bd-4e8d-66e8-e6a5-5d2173b72d3b",
    "execution": {
     "iopub.execute_input": "2021-12-01T21:39:00.531505Z",
     "iopub.status.busy": "2021-12-01T21:39:00.530510Z",
     "iopub.status.idle": "2021-12-01T21:39:00.551675Z",
     "shell.execute_reply": "2021-12-01T21:39:00.552354Z",
     "shell.execute_reply.started": "2021-12-01T21:38:21.420041Z"
    },
    "papermill": {
     "duration": 0.069188,
     "end_time": "2021-12-01T21:39:00.552544",
     "exception": false,
     "start_time": "2021-12-01T21:39:00.483356",
     "status": "completed"
    },
    "tags": []
   },
   "outputs": [
    {
     "name": "stdout",
     "output_type": "stream",
     "text": [
      "   CategoricalFare  Survived\n",
      "0   (-0.001, 7.91]  0.197309\n",
      "1   (7.91, 14.454]  0.303571\n",
      "2   (14.454, 31.0]  0.454955\n",
      "3  (31.0, 512.329]  0.581081\n"
     ]
    }
   ],
   "source": [
    "for dataset in full_data:\n",
    "    dataset['Fare'] = dataset['Fare'].fillna(train['Fare'].median())\n",
    "train['CategoricalFare'] = pd.qcut(train['Fare'], 4)\n",
    "print (train[['CategoricalFare', 'Survived']].groupby(['CategoricalFare'], as_index=False).mean())"
   ]
  },
  {
   "cell_type": "markdown",
   "id": "05db9e3d",
   "metadata": {
    "_cell_guid": "ec8d1b22-a95f-9f16-77ab-7b60d2103852",
    "papermill": {
     "duration": 0.03986,
     "end_time": "2021-12-01T21:39:00.634931",
     "exception": false,
     "start_time": "2021-12-01T21:39:00.595071",
     "status": "completed"
    },
    "tags": []
   },
   "source": [
    "## 6. Age ##\n",
    "we have plenty of missing values in this feature. # generate random numbers between (mean - std) and (mean + std).\n",
    "then we categorize age into 5 range."
   ]
  },
  {
   "cell_type": "code",
   "execution_count": 12,
   "id": "35ffcbdc",
   "metadata": {
    "_cell_guid": "b90c2870-ce5d-ae0e-a33d-59e35445500e",
    "execution": {
     "iopub.execute_input": "2021-12-01T21:39:00.724508Z",
     "iopub.status.busy": "2021-12-01T21:39:00.723723Z",
     "iopub.status.idle": "2021-12-01T21:39:00.742103Z",
     "shell.execute_reply": "2021-12-01T21:39:00.742727Z",
     "shell.execute_reply.started": "2021-12-01T21:38:21.437296Z"
    },
    "papermill": {
     "duration": 0.06784,
     "end_time": "2021-12-01T21:39:00.742915",
     "exception": false,
     "start_time": "2021-12-01T21:39:00.675075",
     "status": "completed"
    },
    "tags": []
   },
   "outputs": [
    {
     "name": "stdout",
     "output_type": "stream",
     "text": [
      "  CategoricalAge  Survived\n",
      "0  (-0.08, 16.0]  0.550459\n",
      "1   (16.0, 32.0]  0.345733\n",
      "2   (32.0, 48.0]  0.379592\n",
      "3   (48.0, 64.0]  0.434783\n",
      "4   (64.0, 80.0]  0.090909\n"
     ]
    },
    {
     "name": "stderr",
     "output_type": "stream",
     "text": [
      "/opt/conda/lib/python3.7/site-packages/ipykernel_launcher.py:7: SettingWithCopyWarning: \n",
      "A value is trying to be set on a copy of a slice from a DataFrame\n",
      "\n",
      "See the caveats in the documentation: https://pandas.pydata.org/pandas-docs/stable/user_guide/indexing.html#returning-a-view-versus-a-copy\n",
      "  import sys\n"
     ]
    }
   ],
   "source": [
    "for dataset in full_data:\n",
    "    age_avg = dataset['Age'].mean()\n",
    "    age_std = dataset['Age'].std()\n",
    "    age_null_count = dataset['Age'].isnull().sum()\n",
    "    \n",
    "    age_null_random_list = np.random.randint(age_avg - age_std, age_avg + age_std, size=age_null_count)\n",
    "    dataset['Age'][np.isnan(dataset['Age'])] = age_null_random_list\n",
    "    dataset['Age'] = dataset['Age'].astype(int)\n",
    "    \n",
    "train['CategoricalAge'] = pd.cut(train['Age'], 5)\n",
    "\n",
    "print (train[['CategoricalAge', 'Survived']].groupby(['CategoricalAge'], as_index=False).mean())"
   ]
  },
  {
   "cell_type": "markdown",
   "id": "37619655",
   "metadata": {
    "_cell_guid": "bd25ec3f-b601-c1cc-d701-991fac1621f9",
    "papermill": {
     "duration": 0.042804,
     "end_time": "2021-12-01T21:39:00.828076",
     "exception": false,
     "start_time": "2021-12-01T21:39:00.785272",
     "status": "completed"
    },
    "tags": []
   },
   "source": [
    "## 7. Name ##\n",
    "inside this feature we can find the title of people."
   ]
  },
  {
   "cell_type": "code",
   "execution_count": 13,
   "id": "06ffa6cd",
   "metadata": {
    "_cell_guid": "ad042f43-bfe0-ded0-4171-379d8caaa749",
    "execution": {
     "iopub.execute_input": "2021-12-01T21:39:00.912842Z",
     "iopub.status.busy": "2021-12-01T21:39:00.912109Z",
     "iopub.status.idle": "2021-12-01T21:39:00.945219Z",
     "shell.execute_reply": "2021-12-01T21:39:00.944578Z",
     "shell.execute_reply.started": "2021-12-01T21:38:21.459896Z"
    },
    "papermill": {
     "duration": 0.076479,
     "end_time": "2021-12-01T21:39:00.945409",
     "exception": false,
     "start_time": "2021-12-01T21:39:00.868930",
     "status": "completed"
    },
    "tags": []
   },
   "outputs": [
    {
     "name": "stdout",
     "output_type": "stream",
     "text": [
      "Sex       female  male\n",
      "Title                 \n",
      "Capt           0     1\n",
      "Col            0     2\n",
      "Countess       1     0\n",
      "Don            0     1\n",
      "Dr             1     6\n",
      "Jonkheer       0     1\n",
      "Lady           1     0\n",
      "Major          0     2\n",
      "Master         0    40\n",
      "Miss         182     0\n",
      "Mlle           2     0\n",
      "Mme            1     0\n",
      "Mr             0   517\n",
      "Mrs          125     0\n",
      "Ms             1     0\n",
      "Rev            0     6\n",
      "Sir            0     1\n"
     ]
    }
   ],
   "source": [
    "def get_title(name):\n",
    "    title_search = re.search(' ([A-Za-z]+)\\.', name)\n",
    "    # If the title exists, extract and return it.\n",
    "    if title_search:\n",
    "        return title_search.group(1)\n",
    "    return \"\"\n",
    "\n",
    "for dataset in full_data:\n",
    "    dataset['Title'] = dataset['Name'].apply(get_title)\n",
    "\n",
    "print(pd.crosstab(train['Title'], train['Sex']))"
   ]
  },
  {
   "cell_type": "markdown",
   "id": "40bbc4fe",
   "metadata": {
    "_cell_guid": "ca5fff8c-7a0d-6c18-2173-b8df6293c50a",
    "papermill": {
     "duration": 0.041206,
     "end_time": "2021-12-01T21:39:01.027726",
     "exception": false,
     "start_time": "2021-12-01T21:39:00.986520",
     "status": "completed"
    },
    "tags": []
   },
   "source": [
    " so we have titles. let's categorize it and check the title impact on survival rate."
   ]
  },
  {
   "cell_type": "code",
   "execution_count": 14,
   "id": "e0f8031b",
   "metadata": {
    "_cell_guid": "8357238b-98fe-632a-acd5-33674a6132ce",
    "execution": {
     "iopub.execute_input": "2021-12-01T21:39:01.119071Z",
     "iopub.status.busy": "2021-12-01T21:39:01.118005Z",
     "iopub.status.idle": "2021-12-01T21:39:01.133841Z",
     "shell.execute_reply": "2021-12-01T21:39:01.133022Z",
     "shell.execute_reply.started": "2021-12-01T21:38:21.485499Z"
    },
    "papermill": {
     "duration": 0.065284,
     "end_time": "2021-12-01T21:39:01.134043",
     "exception": false,
     "start_time": "2021-12-01T21:39:01.068759",
     "status": "completed"
    },
    "tags": []
   },
   "outputs": [
    {
     "name": "stdout",
     "output_type": "stream",
     "text": [
      "    Title  Survived\n",
      "0  Master  0.575000\n",
      "1    Miss  0.702703\n",
      "2      Mr  0.156673\n",
      "3     Mrs  0.793651\n",
      "4    Rare  0.347826\n"
     ]
    }
   ],
   "source": [
    "for dataset in full_data:\n",
    "    dataset['Title'] = dataset['Title'].replace(['Lady', 'Countess','Capt', 'Col',\\\n",
    "     'Don', 'Dr', 'Major', 'Rev', 'Sir', 'Jonkheer', 'Dona'], 'Rare')\n",
    "\n",
    "    dataset['Title'] = dataset['Title'].replace('Mlle', 'Miss')\n",
    "    dataset['Title'] = dataset['Title'].replace('Ms', 'Miss')\n",
    "    dataset['Title'] = dataset['Title'].replace('Mme', 'Mrs')\n",
    "\n",
    "print (train[['Title', 'Survived']].groupby(['Title'], as_index=False).mean())"
   ]
  },
  {
   "cell_type": "markdown",
   "id": "2376bfc7",
   "metadata": {
    "papermill": {
     "duration": 0.041758,
     "end_time": "2021-12-01T21:39:01.219550",
     "exception": false,
     "start_time": "2021-12-01T21:39:01.177792",
     "status": "completed"
    },
    "tags": []
   },
   "source": [
    "## 8. Ticket type ##\n"
   ]
  },
  {
   "cell_type": "code",
   "execution_count": 15,
   "id": "08264c51",
   "metadata": {
    "execution": {
     "iopub.execute_input": "2021-12-01T21:39:01.315653Z",
     "iopub.status.busy": "2021-12-01T21:39:01.310977Z",
     "iopub.status.idle": "2021-12-01T21:39:01.318735Z",
     "shell.execute_reply": "2021-12-01T21:39:01.318075Z",
     "shell.execute_reply.started": "2021-12-01T21:38:21.503021Z"
    },
    "papermill": {
     "duration": 0.057405,
     "end_time": "2021-12-01T21:39:01.318893",
     "exception": false,
     "start_time": "2021-12-01T21:39:01.261488",
     "status": "completed"
    },
    "tags": []
   },
   "outputs": [],
   "source": [
    "for dataset in full_data:\n",
    "    dataset['Ticket_type'] = dataset['Ticket'].apply(lambda x: x[0:3])\n",
    "    dataset['Ticket_type'] = dataset['Ticket_type'].astype('category')\n",
    "    dataset['Ticket_type'] = dataset['Ticket_type'].cat.codes"
   ]
  },
  {
   "cell_type": "markdown",
   "id": "9f3beeee",
   "metadata": {
    "papermill": {
     "duration": 0.041267,
     "end_time": "2021-12-01T21:39:01.403517",
     "exception": false,
     "start_time": "2021-12-01T21:39:01.362250",
     "status": "completed"
    },
    "tags": []
   },
   "source": [
    "## 9. Has Cabin ##"
   ]
  },
  {
   "cell_type": "code",
   "execution_count": 16,
   "id": "b8cf6fc2",
   "metadata": {
    "execution": {
     "iopub.execute_input": "2021-12-01T21:39:01.497524Z",
     "iopub.status.busy": "2021-12-01T21:39:01.495297Z",
     "iopub.status.idle": "2021-12-01T21:39:01.505059Z",
     "shell.execute_reply": "2021-12-01T21:39:01.504144Z",
     "shell.execute_reply.started": "2021-12-01T21:38:21.513605Z"
    },
    "papermill": {
     "duration": 0.060059,
     "end_time": "2021-12-01T21:39:01.505254",
     "exception": false,
     "start_time": "2021-12-01T21:39:01.445195",
     "status": "completed"
    },
    "tags": []
   },
   "outputs": [
    {
     "name": "stdout",
     "output_type": "stream",
     "text": [
      "   Has_Cabin  Survived\n",
      "0          0  0.299854\n",
      "1          1  0.666667\n"
     ]
    }
   ],
   "source": [
    "for dataset in full_data:\n",
    "    dataset['Has_Cabin'] = dataset[\"Cabin\"].apply(lambda x: 0 if type(x) == float else 1)\n",
    "print (train[['Has_Cabin', 'Survived']].groupby(['Has_Cabin'], as_index=False).mean())"
   ]
  },
  {
   "cell_type": "code",
   "execution_count": 17,
   "id": "2695a06c",
   "metadata": {
    "execution": {
     "iopub.execute_input": "2021-12-01T21:39:01.617375Z",
     "iopub.status.busy": "2021-12-01T21:39:01.616170Z",
     "iopub.status.idle": "2021-12-01T21:39:01.704518Z",
     "shell.execute_reply": "2021-12-01T21:39:01.703881Z",
     "shell.execute_reply.started": "2021-12-01T21:38:21.527546Z"
    },
    "papermill": {
     "duration": 0.155208,
     "end_time": "2021-12-01T21:39:01.704681",
     "exception": false,
     "start_time": "2021-12-01T21:39:01.549473",
     "status": "completed"
    },
    "tags": []
   },
   "outputs": [],
   "source": [
    "for dataset in full_data:\n",
    "    dataset['Surname'] = dataset.Name.str.extract(r'([A-Za-z]+),', expand=False)\n",
    "    dataset['TicketPrefix'] = dataset.Ticket.str.extract(r'(.*\\d)', expand=False)\n",
    "    dataset['Surname_Ticket'] = dataset['Surname'] + dataset['TicketPrefix']\n",
    "    dataset['IsFamily'] = dataset.Surname_Ticket.duplicated(keep=False).astype(int)\n",
    "    dataset['Child'] = dataset.Age.map(lambda x: 1 if x <=16 else 0)\n",
    "    FamilyWithChild = dataset[(dataset.IsFamily==1)&(dataset.Child==1)]['Surname_Ticket'].unique()\n",
    "#     print(len(FamilyWithChild))\n",
    "    dataset['FamilyId'] = 0\n",
    "    for ind, identifier in enumerate(FamilyWithChild):\n",
    "        dataset.loc[dataset.Surname_Ticket==identifier, ['FamilyId']] = ind + 1"
   ]
  },
  {
   "cell_type": "code",
   "execution_count": 18,
   "id": "f051eed6",
   "metadata": {
    "execution": {
     "iopub.execute_input": "2021-12-01T21:39:01.801032Z",
     "iopub.status.busy": "2021-12-01T21:39:01.799932Z",
     "iopub.status.idle": "2021-12-01T21:39:03.321856Z",
     "shell.execute_reply": "2021-12-01T21:39:03.322363Z",
     "shell.execute_reply.started": "2021-12-01T21:38:21.618221Z"
    },
    "papermill": {
     "duration": 1.573592,
     "end_time": "2021-12-01T21:39:03.322547",
     "exception": false,
     "start_time": "2021-12-01T21:39:01.748955",
     "status": "completed"
    },
    "tags": []
   },
   "outputs": [
    {
     "data": {
      "image/png": "[encoded data removed]",
      "text/plain": [
       "<Figure size 432x288 with 1 Axes>"
      ]
     },
     "metadata": {
      "needs_background": "light"
     },
     "output_type": "display_data"
    }
   ],
   "source": [
    "test['Survived'] = np.nan\n",
    "for dataset in full_data:\n",
    "    dataset['FamilySurvival'] = 1 \n",
    "    Survived_by_FamilyId = dataset.groupby('FamilyId').Survived.sum()\n",
    "    for i in range(1, len(FamilyWithChild)+1):\n",
    "        if Survived_by_FamilyId[i] >= 1:\n",
    "            dataset.loc[dataset.FamilyId==i, ['FamilySurvival']] = 2\n",
    "        elif Survived_by_FamilyId[i] == 0:\n",
    "            dataset.loc[dataset.FamilyId==i, ['FamilySurvival']] = 0\n",
    "\n",
    "import seaborn as sns\n",
    "import matplotlib.pyplot as plt\n",
    "sns.barplot(x='FamilySurvival', y='Survived', data=train)\n",
    "plt.show()"
   ]
  },
  {
   "cell_type": "markdown",
   "id": "674464ec",
   "metadata": {
    "_cell_guid": "68fa2057-e27a-e252-0d1b-869c00a303ba",
    "papermill": {
     "duration": 0.042684,
     "end_time": "2021-12-01T21:39:03.409817",
     "exception": false,
     "start_time": "2021-12-01T21:39:03.367133",
     "status": "completed"
    },
    "tags": []
   },
   "source": [
    "# Data Cleaning #\n",
    "Cleaning our data and map our features into numerical values."
   ]
  },
  {
   "cell_type": "code",
   "execution_count": 19,
   "id": "a9ec2922",
   "metadata": {
    "_cell_guid": "2502bb70-ce6f-2497-7331-7d1f80521470",
    "execution": {
     "iopub.execute_input": "2021-12-01T21:39:03.500673Z",
     "iopub.status.busy": "2021-12-01T21:39:03.499582Z",
     "iopub.status.idle": "2021-12-01T21:39:03.554925Z",
     "shell.execute_reply": "2021-12-01T21:39:03.554294Z",
     "shell.execute_reply.started": "2021-12-01T21:38:21.894811Z"
    },
    "papermill": {
     "duration": 0.102845,
     "end_time": "2021-12-01T21:39:03.555079",
     "exception": false,
     "start_time": "2021-12-01T21:39:03.452234",
     "status": "completed"
    },
    "tags": []
   },
   "outputs": [
    {
     "data": {
      "text/html": [
       "<div>\n",
       "<style scoped>\n",
       "    .dataframe tbody tr th:only-of-type {\n",
       "        vertical-align: middle;\n",
       "    }\n",
       "\n",
       "    .dataframe tbody tr th {\n",
       "        vertical-align: top;\n",
       "    }\n",
       "\n",
       "    .dataframe thead th {\n",
       "        text-align: right;\n",
       "    }\n",
       "</style>\n",
       "<table border=\"1\" class=\"dataframe\">\n",
       "  <thead>\n",
       "    <tr style=\"text-align: right;\">\n",
       "      <th></th>\n",
       "      <th>Survived</th>\n",
       "      <th>Pclass</th>\n",
       "      <th>Sex</th>\n",
       "      <th>Age</th>\n",
       "      <th>Parch</th>\n",
       "      <th>Fare</th>\n",
       "      <th>Embarked</th>\n",
       "      <th>FamilySize</th>\n",
       "      <th>IsAlone</th>\n",
       "      <th>Title</th>\n",
       "      <th>Ticket_type</th>\n",
       "      <th>Has_Cabin</th>\n",
       "      <th>FamilySurvival</th>\n",
       "      <th>Words_Count</th>\n",
       "    </tr>\n",
       "  </thead>\n",
       "  <tbody>\n",
       "    <tr>\n",
       "      <th>0</th>\n",
       "      <td>0</td>\n",
       "      <td>3</td>\n",
       "      <td>1</td>\n",
       "      <td>1</td>\n",
       "      <td>0</td>\n",
       "      <td>0</td>\n",
       "      <td>0</td>\n",
       "      <td>2</td>\n",
       "      <td>0</td>\n",
       "      <td>1</td>\n",
       "      <td>124</td>\n",
       "      <td>0</td>\n",
       "      <td>1</td>\n",
       "      <td>4</td>\n",
       "    </tr>\n",
       "    <tr>\n",
       "      <th>1</th>\n",
       "      <td>1</td>\n",
       "      <td>1</td>\n",
       "      <td>0</td>\n",
       "      <td>2</td>\n",
       "      <td>0</td>\n",
       "      <td>3</td>\n",
       "      <td>1</td>\n",
       "      <td>2</td>\n",
       "      <td>0</td>\n",
       "      <td>3</td>\n",
       "      <td>137</td>\n",
       "      <td>1</td>\n",
       "      <td>1</td>\n",
       "      <td>7</td>\n",
       "    </tr>\n",
       "    <tr>\n",
       "      <th>2</th>\n",
       "      <td>1</td>\n",
       "      <td>3</td>\n",
       "      <td>0</td>\n",
       "      <td>1</td>\n",
       "      <td>0</td>\n",
       "      <td>1</td>\n",
       "      <td>0</td>\n",
       "      <td>1</td>\n",
       "      <td>1</td>\n",
       "      <td>2</td>\n",
       "      <td>148</td>\n",
       "      <td>0</td>\n",
       "      <td>1</td>\n",
       "      <td>3</td>\n",
       "    </tr>\n",
       "    <tr>\n",
       "      <th>3</th>\n",
       "      <td>1</td>\n",
       "      <td>1</td>\n",
       "      <td>0</td>\n",
       "      <td>2</td>\n",
       "      <td>0</td>\n",
       "      <td>3</td>\n",
       "      <td>0</td>\n",
       "      <td>2</td>\n",
       "      <td>0</td>\n",
       "      <td>3</td>\n",
       "      <td>3</td>\n",
       "      <td>1</td>\n",
       "      <td>1</td>\n",
       "      <td>7</td>\n",
       "    </tr>\n",
       "    <tr>\n",
       "      <th>4</th>\n",
       "      <td>0</td>\n",
       "      <td>3</td>\n",
       "      <td>1</td>\n",
       "      <td>2</td>\n",
       "      <td>0</td>\n",
       "      <td>1</td>\n",
       "      <td>0</td>\n",
       "      <td>1</td>\n",
       "      <td>1</td>\n",
       "      <td>1</td>\n",
       "      <td>97</td>\n",
       "      <td>0</td>\n",
       "      <td>1</td>\n",
       "      <td>4</td>\n",
       "    </tr>\n",
       "    <tr>\n",
       "      <th>5</th>\n",
       "      <td>0</td>\n",
       "      <td>3</td>\n",
       "      <td>1</td>\n",
       "      <td>2</td>\n",
       "      <td>0</td>\n",
       "      <td>1</td>\n",
       "      <td>2</td>\n",
       "      <td>1</td>\n",
       "      <td>1</td>\n",
       "      <td>1</td>\n",
       "      <td>72</td>\n",
       "      <td>0</td>\n",
       "      <td>1</td>\n",
       "      <td>3</td>\n",
       "    </tr>\n",
       "    <tr>\n",
       "      <th>6</th>\n",
       "      <td>0</td>\n",
       "      <td>1</td>\n",
       "      <td>1</td>\n",
       "      <td>3</td>\n",
       "      <td>0</td>\n",
       "      <td>3</td>\n",
       "      <td>0</td>\n",
       "      <td>1</td>\n",
       "      <td>1</td>\n",
       "      <td>1</td>\n",
       "      <td>18</td>\n",
       "      <td>1</td>\n",
       "      <td>1</td>\n",
       "      <td>4</td>\n",
       "    </tr>\n",
       "    <tr>\n",
       "      <th>7</th>\n",
       "      <td>0</td>\n",
       "      <td>3</td>\n",
       "      <td>1</td>\n",
       "      <td>0</td>\n",
       "      <td>1</td>\n",
       "      <td>2</td>\n",
       "      <td>0</td>\n",
       "      <td>5</td>\n",
       "      <td>0</td>\n",
       "      <td>4</td>\n",
       "      <td>83</td>\n",
       "      <td>0</td>\n",
       "      <td>0</td>\n",
       "      <td>4</td>\n",
       "    </tr>\n",
       "    <tr>\n",
       "      <th>8</th>\n",
       "      <td>1</td>\n",
       "      <td>3</td>\n",
       "      <td>0</td>\n",
       "      <td>1</td>\n",
       "      <td>2</td>\n",
       "      <td>1</td>\n",
       "      <td>0</td>\n",
       "      <td>3</td>\n",
       "      <td>0</td>\n",
       "      <td>3</td>\n",
       "      <td>81</td>\n",
       "      <td>0</td>\n",
       "      <td>1</td>\n",
       "      <td>7</td>\n",
       "    </tr>\n",
       "    <tr>\n",
       "      <th>9</th>\n",
       "      <td>1</td>\n",
       "      <td>2</td>\n",
       "      <td>0</td>\n",
       "      <td>0</td>\n",
       "      <td>0</td>\n",
       "      <td>2</td>\n",
       "      <td>1</td>\n",
       "      <td>2</td>\n",
       "      <td>0</td>\n",
       "      <td>3</td>\n",
       "      <td>38</td>\n",
       "      <td>0</td>\n",
       "      <td>2</td>\n",
       "      <td>5</td>\n",
       "    </tr>\n",
       "  </tbody>\n",
       "</table>\n",
       "</div>"
      ],
      "text/plain": [
       "   Survived  Pclass  Sex  Age  Parch  Fare  Embarked  FamilySize  IsAlone  \\\n",
       "0         0       3    1    1      0     0         0           2        0   \n",
       "1         1       1    0    2      0     3         1           2        0   \n",
       "2         1       3    0    1      0     1         0           1        1   \n",
       "3         1       1    0    2      0     3         0           2        0   \n",
       "4         0       3    1    2      0     1         0           1        1   \n",
       "5         0       3    1    2      0     1         2           1        1   \n",
       "6         0       1    1    3      0     3         0           1        1   \n",
       "7         0       3    1    0      1     2         0           5        0   \n",
       "8         1       3    0    1      2     1         0           3        0   \n",
       "9         1       2    0    0      0     2         1           2        0   \n",
       "\n",
       "   Title  Ticket_type  Has_Cabin  FamilySurvival  Words_Count  \n",
       "0      1          124          0               1            4  \n",
       "1      3          137          1               1            7  \n",
       "2      2          148          0               1            3  \n",
       "3      3            3          1               1            7  \n",
       "4      1           97          0               1            4  \n",
       "5      1           72          0               1            3  \n",
       "6      1           18          1               1            4  \n",
       "7      4           83          0               0            4  \n",
       "8      3           81          0               1            7  \n",
       "9      3           38          0               2            5  "
      ]
     },
     "execution_count": 19,
     "metadata": {},
     "output_type": "execute_result"
    }
   ],
   "source": [
    "for dataset in full_data:\n",
    "    \n",
    "    # Mapping name to word count\n",
    "    dataset['Words_Count'] = dataset['Name'].apply(lambda x: len(x.split()))\n",
    "    \n",
    "    # Mapping Sex\n",
    "    dataset['Sex'] = dataset['Sex'].map( {'female': 0, 'male': 1} ).astype(int)\n",
    "    \n",
    "    # Mapping titles\n",
    "    title_mapping = {\"Mr\": 1, \"Miss\": 2, \"Mrs\": 3, \"Master\": 4, \"Rare\": 5}\n",
    "    dataset['Title'] = dataset['Title'].map(title_mapping)\n",
    "    dataset['Title'] = dataset['Title'].fillna(0)\n",
    "    \n",
    "    # Mapping Embarked\n",
    "    dataset['Embarked'] = dataset['Embarked'].map( {'S': 0, 'C': 1, 'Q': 2} ).astype(int)\n",
    "    \n",
    "    # Mapping Fare\n",
    "    dataset.loc[ dataset['Fare'] <= 7.91, 'Fare'] \t\t\t\t\t\t        = 0\n",
    "    dataset.loc[(dataset['Fare'] > 7.91) & (dataset['Fare'] <= 14.454), 'Fare'] = 1\n",
    "    dataset.loc[(dataset['Fare'] > 14.454) & (dataset['Fare'] <= 31), 'Fare']   = 2\n",
    "    dataset.loc[ dataset['Fare'] > 31, 'Fare'] \t\t\t\t\t\t\t        = 3\n",
    "    dataset['Fare'] = dataset['Fare'].astype(int)\n",
    "    \n",
    "    # Mapping Age\n",
    "    dataset.loc[ dataset['Age'] <= 16, 'Age'] \t\t\t\t\t       = 0\n",
    "    dataset.loc[(dataset['Age'] > 16) & (dataset['Age'] <= 32), 'Age'] = 1\n",
    "    dataset.loc[(dataset['Age'] > 32) & (dataset['Age'] <= 48), 'Age'] = 2\n",
    "    dataset.loc[(dataset['Age'] > 48) & (dataset['Age'] <= 64), 'Age'] = 3\n",
    "    dataset.loc[ dataset['Age'] > 64, 'Age']                           = 4\n",
    "\n",
    "# Feature Selection\n",
    "drop_elements = ['PassengerId', 'Name', 'Ticket', 'Cabin', 'SibSp','Surname','TicketPrefix', 'Surname_Ticket', 'IsFamily', 'FamilyId', 'Child']\n",
    "train = train.drop(drop_elements, axis = 1)\n",
    "train = train.drop(['CategoricalAge', 'CategoricalFare'], axis = 1)\n",
    "\n",
    "test  = test.drop(drop_elements, axis = 1)\n",
    "test = test.drop(['Survived'], axis = 1)\n",
    "train.head(10)\n"
   ]
  },
  {
   "cell_type": "code",
   "execution_count": 20,
   "id": "c487d3da",
   "metadata": {
    "execution": {
     "iopub.execute_input": "2021-12-01T21:39:03.647348Z",
     "iopub.status.busy": "2021-12-01T21:39:03.646555Z",
     "iopub.status.idle": "2021-12-01T21:39:05.141118Z",
     "shell.execute_reply": "2021-12-01T21:39:05.141705Z",
     "shell.execute_reply.started": "2021-12-01T21:38:21.943689Z"
    },
    "papermill": {
     "duration": 1.543008,
     "end_time": "2021-12-01T21:39:05.141899",
     "exception": false,
     "start_time": "2021-12-01T21:39:03.598891",
     "status": "completed"
    },
    "tags": []
   },
   "outputs": [
    {
     "data": {
      "text/plain": [
       "<AxesSubplot:title={'center':'Pearson Correlation of Features'}>"
      ]
     },
     "execution_count": 20,
     "metadata": {},
     "output_type": "execute_result"
    },
    {
     "data": {
      "image/png": "[encoded data removed]",
      "text/plain": [
       "<Figure size 1008x864 with 2 Axes>"
      ]
     },
     "metadata": {
      "needs_background": "light"
     },
     "output_type": "display_data"
    }
   ],
   "source": [
    "import matplotlib.pyplot as plt\n",
    "%matplotlib inline\n",
    "import seaborn as sns\n",
    "\n",
    "colormap = plt.cm.RdBu\n",
    "plt.figure(figsize=(14,12))\n",
    "plt.title('Pearson Correlation of Features', y=1.05, size=15)\n",
    "sns.heatmap(train.astype(float).corr(),linewidths=0.1,vmax=1.0, \n",
    "            square=True, cmap=colormap, linecolor='white', annot=True)"
   ]
  },
  {
   "cell_type": "code",
   "execution_count": 21,
   "id": "967d8c9d",
   "metadata": {
    "execution": {
     "iopub.execute_input": "2021-12-01T21:39:05.241513Z",
     "iopub.status.busy": "2021-12-01T21:39:05.240459Z",
     "iopub.status.idle": "2021-12-01T21:39:05.247062Z",
     "shell.execute_reply": "2021-12-01T21:39:05.247567Z",
     "shell.execute_reply.started": "2021-12-01T21:38:23.285449Z"
    },
    "papermill": {
     "duration": 0.058603,
     "end_time": "2021-12-01T21:39:05.247764",
     "exception": false,
     "start_time": "2021-12-01T21:39:05.189161",
     "status": "completed"
    },
    "tags": []
   },
   "outputs": [
    {
     "name": "stdout",
     "output_type": "stream",
     "text": [
      "(891, 14)\n",
      "(418, 13)\n",
      "Index(['Survived', 'Pclass', 'Sex', 'Age', 'Parch', 'Fare', 'Embarked',\n",
      "       'FamilySize', 'IsAlone', 'Title', 'Ticket_type', 'Has_Cabin',\n",
      "       'FamilySurvival', 'Words_Count'],\n",
      "      dtype='object')\n",
      "Index(['Pclass', 'Sex', 'Age', 'Parch', 'Fare', 'Embarked', 'FamilySize',\n",
      "       'IsAlone', 'Title', 'Ticket_type', 'Has_Cabin', 'FamilySurvival',\n",
      "       'Words_Count'],\n",
      "      dtype='object')\n"
     ]
    }
   ],
   "source": [
    "print(train.shape)\n",
    "print(test.shape)\n",
    "print(train.columns)\n",
    "print(test.columns)"
   ]
  },
  {
   "cell_type": "code",
   "execution_count": 22,
   "id": "43cf3d53",
   "metadata": {
    "execution": {
     "iopub.execute_input": "2021-12-01T21:39:05.351483Z",
     "iopub.status.busy": "2021-12-01T21:39:05.350667Z",
     "iopub.status.idle": "2021-12-01T21:39:05.353719Z",
     "shell.execute_reply": "2021-12-01T21:39:05.352989Z",
     "shell.execute_reply.started": "2021-12-01T21:38:23.292157Z"
    },
    "papermill": {
     "duration": 0.057759,
     "end_time": "2021-12-01T21:39:05.353892",
     "exception": false,
     "start_time": "2021-12-01T21:39:05.296133",
     "status": "completed"
    },
    "tags": []
   },
   "outputs": [],
   "source": [
    "# keep only some columns\n",
    "# X_train = train[['Pclass', 'Sex', 'Age', 'Parch', 'Fare', 'Embarked',\n",
    "#        'FamilySize', 'IsAlone', 'Title', 'Ticket_type', 'Has_Cabin',\n",
    "#        'FamilySurvival', 'Words_Count']]\n",
    "X_train = train[['Pclass', 'Sex', 'Age', 'Parch', 'Fare', 'Embarked',\n",
    "       'FamilySize', 'IsAlone', 'Title', 'Ticket_type', 'Has_Cabin',\n",
    "       'FamilySurvival']]\n",
    "y_train = train['Survived']"
   ]
  },
  {
   "cell_type": "code",
   "execution_count": 23,
   "id": "292923a0",
   "metadata": {
    "execution": {
     "iopub.execute_input": "2021-12-01T21:39:05.459283Z",
     "iopub.status.busy": "2021-12-01T21:39:05.458423Z",
     "iopub.status.idle": "2021-12-01T21:39:05.461919Z",
     "shell.execute_reply": "2021-12-01T21:39:05.462648Z",
     "shell.execute_reply.started": "2021-12-01T21:38:23.302651Z"
    },
    "papermill": {
     "duration": 0.058718,
     "end_time": "2021-12-01T21:39:05.462877",
     "exception": false,
     "start_time": "2021-12-01T21:39:05.404159",
     "status": "completed"
    },
    "tags": []
   },
   "outputs": [
    {
     "name": "stdout",
     "output_type": "stream",
     "text": [
      "(891, 12)\n",
      "(891,)\n"
     ]
    }
   ],
   "source": [
    "print(X_train.shape)\n",
    "print(y_train.shape)"
   ]
  },
  {
   "cell_type": "code",
   "execution_count": 24,
   "id": "395cf0f0",
   "metadata": {
    "execution": {
     "iopub.execute_input": "2021-12-01T21:39:05.565293Z",
     "iopub.status.busy": "2021-12-01T21:39:05.564315Z",
     "iopub.status.idle": "2021-12-01T21:39:06.974269Z",
     "shell.execute_reply": "2021-12-01T21:39:06.974820Z",
     "shell.execute_reply.started": "2021-12-01T21:38:23.312536Z"
    },
    "papermill": {
     "duration": 1.461301,
     "end_time": "2021-12-01T21:39:06.974995",
     "exception": false,
     "start_time": "2021-12-01T21:39:05.513694",
     "status": "completed"
    },
    "tags": []
   },
   "outputs": [
    {
     "data": {
      "image/png": "[encoded data removed]",
      "text/plain": [
       "<Figure size 432x288 with 1 Axes>"
      ]
     },
     "metadata": {
      "needs_background": "light"
     },
     "output_type": "display_data"
    },
    {
     "data": {
      "text/html": [
       "<div>\n",
       "<style scoped>\n",
       "    .dataframe tbody tr th:only-of-type {\n",
       "        vertical-align: middle;\n",
       "    }\n",
       "\n",
       "    .dataframe tbody tr th {\n",
       "        vertical-align: top;\n",
       "    }\n",
       "\n",
       "    .dataframe thead th {\n",
       "        text-align: right;\n",
       "    }\n",
       "</style>\n",
       "<table border=\"1\" class=\"dataframe\">\n",
       "  <thead>\n",
       "    <tr style=\"text-align: right;\">\n",
       "      <th></th>\n",
       "      <th>feature</th>\n",
       "      <th>importance</th>\n",
       "    </tr>\n",
       "  </thead>\n",
       "  <tbody>\n",
       "    <tr>\n",
       "      <th>0</th>\n",
       "      <td>Pclass</td>\n",
       "      <td>10.792950</td>\n",
       "    </tr>\n",
       "    <tr>\n",
       "      <th>1</th>\n",
       "      <td>Sex</td>\n",
       "      <td>16.088387</td>\n",
       "    </tr>\n",
       "    <tr>\n",
       "      <th>2</th>\n",
       "      <td>Age</td>\n",
       "      <td>8.122711</td>\n",
       "    </tr>\n",
       "    <tr>\n",
       "      <th>3</th>\n",
       "      <td>Parch</td>\n",
       "      <td>1.995601</td>\n",
       "    </tr>\n",
       "    <tr>\n",
       "      <th>4</th>\n",
       "      <td>Fare</td>\n",
       "      <td>9.067988</td>\n",
       "    </tr>\n",
       "    <tr>\n",
       "      <th>5</th>\n",
       "      <td>Embarked</td>\n",
       "      <td>3.712687</td>\n",
       "    </tr>\n",
       "    <tr>\n",
       "      <th>6</th>\n",
       "      <td>FamilySize</td>\n",
       "      <td>4.926899</td>\n",
       "    </tr>\n",
       "    <tr>\n",
       "      <th>7</th>\n",
       "      <td>IsAlone</td>\n",
       "      <td>0.590297</td>\n",
       "    </tr>\n",
       "    <tr>\n",
       "      <th>8</th>\n",
       "      <td>Title</td>\n",
       "      <td>19.691020</td>\n",
       "    </tr>\n",
       "    <tr>\n",
       "      <th>9</th>\n",
       "      <td>Ticket_type</td>\n",
       "      <td>15.671396</td>\n",
       "    </tr>\n",
       "    <tr>\n",
       "      <th>10</th>\n",
       "      <td>Has_Cabin</td>\n",
       "      <td>5.037896</td>\n",
       "    </tr>\n",
       "    <tr>\n",
       "      <th>11</th>\n",
       "      <td>FamilySurvival</td>\n",
       "      <td>4.302167</td>\n",
       "    </tr>\n",
       "  </tbody>\n",
       "</table>\n",
       "</div>"
      ],
      "text/plain": [
       "           feature  importance\n",
       "0           Pclass   10.792950\n",
       "1              Sex   16.088387\n",
       "2              Age    8.122711\n",
       "3            Parch    1.995601\n",
       "4             Fare    9.067988\n",
       "5         Embarked    3.712687\n",
       "6       FamilySize    4.926899\n",
       "7          IsAlone    0.590297\n",
       "8            Title   19.691020\n",
       "9      Ticket_type   15.671396\n",
       "10       Has_Cabin    5.037896\n",
       "11  FamilySurvival    4.302167"
      ]
     },
     "execution_count": 24,
     "metadata": {},
     "output_type": "execute_result"
    }
   ],
   "source": [
    "from catboost import CatBoostClassifier\n",
    "\n",
    "model = CatBoostClassifier(verbose=False)\n",
    "model.fit(X_train, y_train)\n",
    "importance = pd.DataFrame({'feature':X_train.columns, 'importance': model.feature_importances_})\n",
    "importance.sort_values('importance', ascending=False).set_index('feature').plot(kind='barh')\n",
    "plt.show()\n",
    "\n",
    "importance"
   ]
  },
  {
   "cell_type": "code",
   "execution_count": 25,
   "id": "20ca4e10",
   "metadata": {
    "execution": {
     "iopub.execute_input": "2021-12-01T21:39:07.077275Z",
     "iopub.status.busy": "2021-12-01T21:39:07.076237Z",
     "iopub.status.idle": "2021-12-01T21:39:07.083142Z",
     "shell.execute_reply": "2021-12-01T21:39:07.083786Z",
     "shell.execute_reply.started": "2021-12-01T21:38:24.308178Z"
    },
    "papermill": {
     "duration": 0.060103,
     "end_time": "2021-12-01T21:39:07.083977",
     "exception": false,
     "start_time": "2021-12-01T21:39:07.023874",
     "status": "completed"
    },
    "tags": []
   },
   "outputs": [],
   "source": [
    "train.to_pickle('./train.pkl')\n",
    "test.to_pickle('./test.pkl')\n",
    "train = pd.read_pickle('./train.pkl')\n",
    "test = pd.read_pickle('./test.pkl')"
   ]
  },
  {
   "cell_type": "markdown",
   "id": "5f985042",
   "metadata": {
    "_cell_guid": "23b55b45-572b-7276-32e7-8f7a0dcfd25e",
    "papermill": {
     "duration": 0.049172,
     "end_time": "2021-12-01T21:39:07.182251",
     "exception": false,
     "start_time": "2021-12-01T21:39:07.133079",
     "status": "completed"
    },
    "tags": []
   },
   "source": [
    "# Classifier Comparison #"
   ]
  },
  {
   "cell_type": "markdown",
   "id": "4f04b58e",
   "metadata": {
    "_cell_guid": "438585cf-b7ad-73ba-49aa-87688ff21233",
    "papermill": {
     "duration": 0.048861,
     "end_time": "2021-12-01T21:39:07.280373",
     "exception": false,
     "start_time": "2021-12-01T21:39:07.231512",
     "status": "completed"
    },
    "tags": []
   },
   "source": [
    "# Prediction #"
   ]
  },
  {
   "cell_type": "code",
   "execution_count": 26,
   "id": "53f0a4a8",
   "metadata": {
    "execution": {
     "iopub.execute_input": "2021-12-01T21:39:07.384553Z",
     "iopub.status.busy": "2021-12-01T21:39:07.383639Z",
     "iopub.status.idle": "2021-12-01T21:39:07.896918Z",
     "shell.execute_reply": "2021-12-01T21:39:07.895877Z",
     "shell.execute_reply.started": "2021-12-01T21:38:24.318405Z"
    },
    "papermill": {
     "duration": 0.567517,
     "end_time": "2021-12-01T21:39:07.897142",
     "exception": false,
     "start_time": "2021-12-01T21:39:07.329625",
     "status": "completed"
    },
    "tags": []
   },
   "outputs": [],
   "source": [
    "from sklearn.model_selection import cross_val_score, cross_validate\n",
    "from xgboost import XGBClassifier\n",
    "from sklearn.ensemble import RandomForestClassifier\n"
   ]
  },
  {
   "cell_type": "code",
   "execution_count": 27,
   "id": "98bf9171",
   "metadata": {
    "execution": {
     "iopub.execute_input": "2021-12-01T21:39:08.019453Z",
     "iopub.status.busy": "2021-12-01T21:39:08.018363Z",
     "iopub.status.idle": "2021-12-01T21:39:08.020193Z",
     "shell.execute_reply": "2021-12-01T21:39:08.020746Z",
     "shell.execute_reply.started": "2021-12-01T21:38:24.325245Z"
    },
    "papermill": {
     "duration": 0.064227,
     "end_time": "2021-12-01T21:39:08.020967",
     "exception": false,
     "start_time": "2021-12-01T21:39:07.956740",
     "status": "completed"
    },
    "tags": []
   },
   "outputs": [],
   "source": [
    "y_train = train['Survived'].ravel()\n",
    "features = ['Pclass', 'Sex', 'Age', 'Parch', 'Fare', 'Embarked',\n",
    "       'FamilySize', 'Title', 'Ticket_type', 'Has_Cabin',\n",
    "       'FamilySurvival']\n",
    "\n",
    "x_train = train[features].values # Creates an array of the train data\n",
    "x_test = test[features].values "
   ]
  },
  {
   "cell_type": "code",
   "execution_count": 28,
   "id": "36de5114",
   "metadata": {
    "execution": {
     "iopub.execute_input": "2021-12-01T21:39:08.126615Z",
     "iopub.status.busy": "2021-12-01T21:39:08.125562Z",
     "iopub.status.idle": "2021-12-01T21:39:08.127960Z",
     "shell.execute_reply": "2021-12-01T21:39:08.128453Z",
     "shell.execute_reply.started": "2021-12-01T21:38:24.338832Z"
    },
    "papermill": {
     "duration": 0.056526,
     "end_time": "2021-12-01T21:39:08.128630",
     "exception": false,
     "start_time": "2021-12-01T21:39:08.072104",
     "status": "completed"
    },
    "tags": []
   },
   "outputs": [],
   "source": [
    "\n",
    "# xgb = XGBClassifier()\n",
    "# cv_results = cross_validate(xgb, x_train, y_train, cv=5)\n",
    "# print(cv_results['test_score'].mean())\n",
    "# xgb.fit(x_train, y_train)\n",
    "# result = xgb.predict(x_test)"
   ]
  },
  {
   "cell_type": "code",
   "execution_count": 29,
   "id": "bd820920",
   "metadata": {
    "execution": {
     "iopub.execute_input": "2021-12-01T21:39:08.234824Z",
     "iopub.status.busy": "2021-12-01T21:39:08.234047Z",
     "iopub.status.idle": "2021-12-01T21:39:09.643936Z",
     "shell.execute_reply": "2021-12-01T21:39:09.643259Z",
     "shell.execute_reply.started": "2021-12-01T21:38:24.347141Z"
    },
    "papermill": {
     "duration": 1.465984,
     "end_time": "2021-12-01T21:39:09.644098",
     "exception": false,
     "start_time": "2021-12-01T21:39:08.178114",
     "status": "completed"
    },
    "tags": []
   },
   "outputs": [
    {
     "name": "stdout",
     "output_type": "stream",
     "text": [
      "0.8148076078086749\n"
     ]
    }
   ],
   "source": [
    "rf = RandomForestClassifier()\n",
    "cv_results = cross_validate(rf, x_train, y_train, cv=5)\n",
    "print(cv_results['test_score'].mean())\n",
    "rf.fit(x_train, y_train)\n",
    "result = rf.predict(x_test)"
   ]
  },
  {
   "cell_type": "code",
   "execution_count": 30,
   "id": "4dd716de",
   "metadata": {
    "execution": {
     "iopub.execute_input": "2021-12-01T21:39:09.751310Z",
     "iopub.status.busy": "2021-12-01T21:39:09.749758Z",
     "iopub.status.idle": "2021-12-01T21:39:09.752558Z",
     "shell.execute_reply": "2021-12-01T21:39:09.751956Z",
     "shell.execute_reply.started": "2021-12-01T21:38:25.446476Z"
    },
    "papermill": {
     "duration": 0.05909,
     "end_time": "2021-12-01T21:39:09.752709",
     "exception": false,
     "start_time": "2021-12-01T21:39:09.693619",
     "status": "completed"
    },
    "tags": []
   },
   "outputs": [],
   "source": [
    "# from sklearn.model_selection import cross_val_score, cross_validate\n",
    "# from sklearn.ensemble import VotingClassifier, RandomForestClassifier, AdaBoostClassifier, ExtraTreesClassifier\n",
    "# from sklearn import svm, neighbors\n",
    "# from xgboost import XGBClassifier\n",
    "# from catboost import CatBoostClassifier\n",
    "\n",
    "# ensemble = [CatBoostClassifier(verbose=False), RandomForestClassifier(), svm.NuSVC(probability=True), neighbors.KNeighborsClassifier()]\n",
    "\n",
    "# classifiers_with_names = []\n",
    "# _ = [classifiers_with_names.append((clf.__class__.__name__, clf)) for clf in ensemble]\n",
    "# voting = VotingClassifier(classifiers_with_names, voting='hard')\n",
    "\n",
    "# cv_results = cross_validate(voting, x_train, y_train, cv=5)\n",
    "# print(cv_results['test_score'].mean())\n",
    "\n",
    "# voting.fit(x_train, y_train)\n",
    "# result = voting.predict(x_test)"
   ]
  },
  {
   "cell_type": "code",
   "execution_count": 31,
   "id": "0ef10802",
   "metadata": {
    "execution": {
     "iopub.execute_input": "2021-12-01T21:39:09.858705Z",
     "iopub.status.busy": "2021-12-01T21:39:09.857687Z",
     "iopub.status.idle": "2021-12-01T21:39:09.860949Z",
     "shell.execute_reply": "2021-12-01T21:39:09.860238Z",
     "shell.execute_reply.started": "2021-12-01T21:38:25.451483Z"
    },
    "papermill": {
     "duration": 0.058818,
     "end_time": "2021-12-01T21:39:09.861099",
     "exception": false,
     "start_time": "2021-12-01T21:39:09.802281",
     "status": "completed"
    },
    "tags": []
   },
   "outputs": [],
   "source": [
    "# from sklearn.model_selection import GridSearchCV\n",
    "# from sklearn.ensemble import RandomForestClassifier\n",
    "# n_estimators = [100,  500, 800, 1200]\n",
    "# max_depth = [5, 8, 15,30]\n",
    "# min_samples_split = [2, 5, 10, 100]\n",
    "# min_samples_leaf = [1, 2, 10] \n",
    "# forest = RandomForestClassifier(random_state = 1)\n",
    "\n",
    "# hyperF = dict(n_estimators = n_estimators, max_depth = max_depth,  \n",
    "#               min_samples_split = min_samples_split, \n",
    "#              min_samples_leaf = min_samples_leaf)\n",
    "\n",
    "# gridF = GridSearchCV(forest, hyperF )\n",
    "# bestF = gridF.fit(x_train, y_train)\n",
    "# print(bestF.best_estimator_)"
   ]
  },
  {
   "cell_type": "code",
   "execution_count": 32,
   "id": "9be287ae",
   "metadata": {
    "execution": {
     "iopub.execute_input": "2021-12-01T21:39:10.005794Z",
     "iopub.status.busy": "2021-12-01T21:39:09.969049Z",
     "iopub.status.idle": "2021-12-01T21:39:11.184935Z",
     "shell.execute_reply": "2021-12-01T21:39:11.184308Z",
     "shell.execute_reply.started": "2021-12-01T21:38:25.461269Z"
    },
    "papermill": {
     "duration": 1.272998,
     "end_time": "2021-12-01T21:39:11.185085",
     "exception": false,
     "start_time": "2021-12-01T21:39:09.912087",
     "status": "completed"
    },
    "tags": []
   },
   "outputs": [],
   "source": [
    "model = RandomForestClassifier(n_estimators=500, max_depth=30,min_samples_leaf=2, random_state=1).fit(x_train, y_train)\n",
    "result = model.predict(x_test)"
   ]
  },
  {
   "cell_type": "code",
   "execution_count": 33,
   "id": "b39092e6",
   "metadata": {
    "execution": {
     "iopub.execute_input": "2021-12-01T21:39:11.296603Z",
     "iopub.status.busy": "2021-12-01T21:39:11.288172Z",
     "iopub.status.idle": "2021-12-01T21:39:11.300879Z",
     "shell.execute_reply": "2021-12-01T21:39:11.300264Z",
     "shell.execute_reply.started": "2021-12-01T21:38:26.362604Z"
    },
    "papermill": {
     "duration": 0.065967,
     "end_time": "2021-12-01T21:39:11.301034",
     "exception": false,
     "start_time": "2021-12-01T21:39:11.235067",
     "status": "completed"
    },
    "tags": []
   },
   "outputs": [
    {
     "data": {
      "text/html": [
       "<div>\n",
       "<style scoped>\n",
       "    .dataframe tbody tr th:only-of-type {\n",
       "        vertical-align: middle;\n",
       "    }\n",
       "\n",
       "    .dataframe tbody tr th {\n",
       "        vertical-align: top;\n",
       "    }\n",
       "\n",
       "    .dataframe thead th {\n",
       "        text-align: right;\n",
       "    }\n",
       "</style>\n",
       "<table border=\"1\" class=\"dataframe\">\n",
       "  <thead>\n",
       "    <tr style=\"text-align: right;\">\n",
       "      <th></th>\n",
       "      <th>PassengerId</th>\n",
       "      <th>Survived</th>\n",
       "    </tr>\n",
       "  </thead>\n",
       "  <tbody>\n",
       "    <tr>\n",
       "      <th>0</th>\n",
       "      <td>892</td>\n",
       "      <td>0</td>\n",
       "    </tr>\n",
       "    <tr>\n",
       "      <th>1</th>\n",
       "      <td>893</td>\n",
       "      <td>1</td>\n",
       "    </tr>\n",
       "    <tr>\n",
       "      <th>2</th>\n",
       "      <td>894</td>\n",
       "      <td>0</td>\n",
       "    </tr>\n",
       "    <tr>\n",
       "      <th>3</th>\n",
       "      <td>895</td>\n",
       "      <td>0</td>\n",
       "    </tr>\n",
       "    <tr>\n",
       "      <th>4</th>\n",
       "      <td>896</td>\n",
       "      <td>1</td>\n",
       "    </tr>\n",
       "    <tr>\n",
       "      <th>...</th>\n",
       "      <td>...</td>\n",
       "      <td>...</td>\n",
       "    </tr>\n",
       "    <tr>\n",
       "      <th>413</th>\n",
       "      <td>1305</td>\n",
       "      <td>0</td>\n",
       "    </tr>\n",
       "    <tr>\n",
       "      <th>414</th>\n",
       "      <td>1306</td>\n",
       "      <td>1</td>\n",
       "    </tr>\n",
       "    <tr>\n",
       "      <th>415</th>\n",
       "      <td>1307</td>\n",
       "      <td>0</td>\n",
       "    </tr>\n",
       "    <tr>\n",
       "      <th>416</th>\n",
       "      <td>1308</td>\n",
       "      <td>0</td>\n",
       "    </tr>\n",
       "    <tr>\n",
       "      <th>417</th>\n",
       "      <td>1309</td>\n",
       "      <td>1</td>\n",
       "    </tr>\n",
       "  </tbody>\n",
       "</table>\n",
       "<p>418 rows × 2 columns</p>\n",
       "</div>"
      ],
      "text/plain": [
       "     PassengerId  Survived\n",
       "0            892         0\n",
       "1            893         1\n",
       "2            894         0\n",
       "3            895         0\n",
       "4            896         1\n",
       "..           ...       ...\n",
       "413         1305         0\n",
       "414         1306         1\n",
       "415         1307         0\n",
       "416         1308         0\n",
       "417         1309         1\n",
       "\n",
       "[418 rows x 2 columns]"
      ]
     },
     "execution_count": 33,
     "metadata": {},
     "output_type": "execute_result"
    }
   ],
   "source": [
    "submission = pd.DataFrame({\n",
    "        \"PassengerId\": PassengerId,\n",
    "        \"Survived\": result\n",
    "    })\n",
    "submission"
   ]
  },
  {
   "cell_type": "code",
   "execution_count": 34,
   "id": "34fe32df",
   "metadata": {
    "execution": {
     "iopub.execute_input": "2021-12-01T21:39:11.412148Z",
     "iopub.status.busy": "2021-12-01T21:39:11.411009Z",
     "iopub.status.idle": "2021-12-01T21:39:11.416455Z",
     "shell.execute_reply": "2021-12-01T21:39:11.416954Z",
     "shell.execute_reply.started": "2021-12-01T21:38:26.375102Z"
    },
    "papermill": {
     "duration": 0.06542,
     "end_time": "2021-12-01T21:39:11.417144",
     "exception": false,
     "start_time": "2021-12-01T21:39:11.351724",
     "status": "completed"
    },
    "tags": []
   },
   "outputs": [],
   "source": [
    "submission.to_csv('./submission.csv', index=False)"
   ]
  },
  {
   "cell_type": "code",
   "execution_count": null,
   "id": "26d51b42",
   "metadata": {
    "papermill": {
     "duration": 0.050468,
     "end_time": "2021-12-01T21:39:11.519769",
     "exception": false,
     "start_time": "2021-12-01T21:39:11.469301",
     "status": "completed"
    },
    "tags": []
   },
   "outputs": [],
   "source": []
  }
 ],
 "metadata": {
  "kernelspec": {
   "display_name": "Python 3",
   "language": "python",
   "name": "python3"
  },
  "language_info": {
   "codemirror_mode": {
    "name": "ipython",
    "version": 3
   },
   "file_extension": ".py",
   "mimetype": "text/x-python",
   "name": "python",
   "nbconvert_exporter": "python",
   "pygments_lexer": "ipython3",
   "version": "3.7.10"
  },
  "papermill": {
   "default_parameters": {},
   "duration": 23.97221,
   "end_time": "2021-12-01T21:39:12.381397",
   "environment_variables": {},
   "exception": null,
   "input_path": "__notebook__.ipynb",
   "output_path": "__notebook__.ipynb",
   "parameters": {},
   "start_time": "2021-12-01T21:38:48.409187",
   "version": "2.3.3"
  }
 },
 "nbformat": 4,
 "nbformat_minor": 5
}
