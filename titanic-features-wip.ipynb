{
 "cells": [
  {
   "cell_type": "code",
   "execution_count": 1,
   "id": "b46fcf23",
   "metadata": {
    "_cell_guid": "2ce68358-02ec-556d-ba88-e773a50bc18b",
    "execution": {
     "iopub.execute_input": "2021-11-28T20:58:39.606006Z",
     "iopub.status.busy": "2021-11-28T20:58:39.605380Z",
     "iopub.status.idle": "2021-11-28T20:58:39.643992Z",
     "shell.execute_reply": "2021-11-28T20:58:39.643319Z",
     "shell.execute_reply.started": "2021-11-28T20:58:01.734242Z"
    },
    "papermill": {
     "duration": 0.072011,
     "end_time": "2021-11-28T20:58:39.644176",
     "exception": false,
     "start_time": "2021-11-28T20:58:39.572165",
     "status": "completed"
    },
    "tags": []
   },
   "outputs": [],
   "source": [
    "%matplotlib inline\n",
    "import numpy as np\n",
    "import pandas as pd\n",
    "import re as re\n",
    "\n",
    "train = pd.read_csv('../input/titanic/train.csv', header = 0, dtype={'Age': np.float64})\n",
    "test  = pd.read_csv('../input/titanic/test.csv' , header = 0, dtype={'Age': np.float64})\n",
    "PassengerId = test['PassengerId']\n",
    "\n",
    "full_data = [train, test]"
   ]
  },
  {
   "cell_type": "code",
   "execution_count": 2,
   "id": "59ca254b",
   "metadata": {
    "execution": {
     "iopub.execute_input": "2021-11-28T20:58:39.691117Z",
     "iopub.status.busy": "2021-11-28T20:58:39.690514Z",
     "iopub.status.idle": "2021-11-28T20:58:39.729190Z",
     "shell.execute_reply": "2021-11-28T20:58:39.729656Z",
     "shell.execute_reply.started": "2021-11-28T20:58:01.762076Z"
    },
    "papermill": {
     "duration": 0.063062,
     "end_time": "2021-11-28T20:58:39.729828",
     "exception": false,
     "start_time": "2021-11-28T20:58:39.666766",
     "status": "completed"
    },
    "tags": []
   },
   "outputs": [
    {
     "data": {
      "text/html": [
       "<div>\n",
       "<style scoped>\n",
       "    .dataframe tbody tr th:only-of-type {\n",
       "        vertical-align: middle;\n",
       "    }\n",
       "\n",
       "    .dataframe tbody tr th {\n",
       "        vertical-align: top;\n",
       "    }\n",
       "\n",
       "    .dataframe thead th {\n",
       "        text-align: right;\n",
       "    }\n",
       "</style>\n",
       "<table border=\"1\" class=\"dataframe\">\n",
       "  <thead>\n",
       "    <tr style=\"text-align: right;\">\n",
       "      <th></th>\n",
       "      <th>PassengerId</th>\n",
       "      <th>Survived</th>\n",
       "      <th>Pclass</th>\n",
       "      <th>Age</th>\n",
       "      <th>SibSp</th>\n",
       "      <th>Parch</th>\n",
       "      <th>Fare</th>\n",
       "    </tr>\n",
       "  </thead>\n",
       "  <tbody>\n",
       "    <tr>\n",
       "      <th>count</th>\n",
       "      <td>891.000000</td>\n",
       "      <td>891.000000</td>\n",
       "      <td>891.000000</td>\n",
       "      <td>714.000000</td>\n",
       "      <td>891.000000</td>\n",
       "      <td>891.000000</td>\n",
       "      <td>891.000000</td>\n",
       "    </tr>\n",
       "    <tr>\n",
       "      <th>mean</th>\n",
       "      <td>446.000000</td>\n",
       "      <td>0.383838</td>\n",
       "      <td>2.308642</td>\n",
       "      <td>29.699118</td>\n",
       "      <td>0.523008</td>\n",
       "      <td>0.381594</td>\n",
       "      <td>32.204208</td>\n",
       "    </tr>\n",
       "    <tr>\n",
       "      <th>std</th>\n",
       "      <td>257.353842</td>\n",
       "      <td>0.486592</td>\n",
       "      <td>0.836071</td>\n",
       "      <td>14.526497</td>\n",
       "      <td>1.102743</td>\n",
       "      <td>0.806057</td>\n",
       "      <td>49.693429</td>\n",
       "    </tr>\n",
       "    <tr>\n",
       "      <th>min</th>\n",
       "      <td>1.000000</td>\n",
       "      <td>0.000000</td>\n",
       "      <td>1.000000</td>\n",
       "      <td>0.420000</td>\n",
       "      <td>0.000000</td>\n",
       "      <td>0.000000</td>\n",
       "      <td>0.000000</td>\n",
       "    </tr>\n",
       "    <tr>\n",
       "      <th>25%</th>\n",
       "      <td>223.500000</td>\n",
       "      <td>0.000000</td>\n",
       "      <td>2.000000</td>\n",
       "      <td>20.125000</td>\n",
       "      <td>0.000000</td>\n",
       "      <td>0.000000</td>\n",
       "      <td>7.910400</td>\n",
       "    </tr>\n",
       "    <tr>\n",
       "      <th>50%</th>\n",
       "      <td>446.000000</td>\n",
       "      <td>0.000000</td>\n",
       "      <td>3.000000</td>\n",
       "      <td>28.000000</td>\n",
       "      <td>0.000000</td>\n",
       "      <td>0.000000</td>\n",
       "      <td>14.454200</td>\n",
       "    </tr>\n",
       "    <tr>\n",
       "      <th>75%</th>\n",
       "      <td>668.500000</td>\n",
       "      <td>1.000000</td>\n",
       "      <td>3.000000</td>\n",
       "      <td>38.000000</td>\n",
       "      <td>1.000000</td>\n",
       "      <td>0.000000</td>\n",
       "      <td>31.000000</td>\n",
       "    </tr>\n",
       "    <tr>\n",
       "      <th>max</th>\n",
       "      <td>891.000000</td>\n",
       "      <td>1.000000</td>\n",
       "      <td>3.000000</td>\n",
       "      <td>80.000000</td>\n",
       "      <td>8.000000</td>\n",
       "      <td>6.000000</td>\n",
       "      <td>512.329200</td>\n",
       "    </tr>\n",
       "  </tbody>\n",
       "</table>\n",
       "</div>"
      ],
      "text/plain": [
       "       PassengerId    Survived      Pclass         Age       SibSp  \\\n",
       "count   891.000000  891.000000  891.000000  714.000000  891.000000   \n",
       "mean    446.000000    0.383838    2.308642   29.699118    0.523008   \n",
       "std     257.353842    0.486592    0.836071   14.526497    1.102743   \n",
       "min       1.000000    0.000000    1.000000    0.420000    0.000000   \n",
       "25%     223.500000    0.000000    2.000000   20.125000    0.000000   \n",
       "50%     446.000000    0.000000    3.000000   28.000000    0.000000   \n",
       "75%     668.500000    1.000000    3.000000   38.000000    1.000000   \n",
       "max     891.000000    1.000000    3.000000   80.000000    8.000000   \n",
       "\n",
       "            Parch        Fare  \n",
       "count  891.000000  891.000000  \n",
       "mean     0.381594   32.204208  \n",
       "std      0.806057   49.693429  \n",
       "min      0.000000    0.000000  \n",
       "25%      0.000000    7.910400  \n",
       "50%      0.000000   14.454200  \n",
       "75%      0.000000   31.000000  \n",
       "max      6.000000  512.329200  "
      ]
     },
     "execution_count": 2,
     "metadata": {},
     "output_type": "execute_result"
    }
   ],
   "source": [
    "train.describe()"
   ]
  },
  {
   "cell_type": "code",
   "execution_count": 3,
   "id": "de8f70d4",
   "metadata": {
    "execution": {
     "iopub.execute_input": "2021-11-28T20:58:39.780199Z",
     "iopub.status.busy": "2021-11-28T20:58:39.779540Z",
     "iopub.status.idle": "2021-11-28T20:58:39.790317Z",
     "shell.execute_reply": "2021-11-28T20:58:39.790754Z",
     "shell.execute_reply.started": "2021-11-28T20:58:01.793226Z"
    },
    "papermill": {
     "duration": 0.038863,
     "end_time": "2021-11-28T20:58:39.790945",
     "exception": false,
     "start_time": "2021-11-28T20:58:39.752082",
     "status": "completed"
    },
    "tags": []
   },
   "outputs": [
    {
     "name": "stdout",
     "output_type": "stream",
     "text": [
      "<class 'pandas.core.frame.DataFrame'>\n",
      "RangeIndex: 891 entries, 0 to 890\n",
      "Data columns (total 12 columns):\n",
      " #   Column       Non-Null Count  Dtype  \n",
      "---  ------       --------------  -----  \n",
      " 0   PassengerId  891 non-null    int64  \n",
      " 1   Survived     891 non-null    int64  \n",
      " 2   Pclass       891 non-null    int64  \n",
      " 3   Name         891 non-null    object \n",
      " 4   Sex          891 non-null    object \n",
      " 5   Age          714 non-null    float64\n",
      " 6   SibSp        891 non-null    int64  \n",
      " 7   Parch        891 non-null    int64  \n",
      " 8   Ticket       891 non-null    object \n",
      " 9   Fare         891 non-null    float64\n",
      " 10  Cabin        204 non-null    object \n",
      " 11  Embarked     889 non-null    object \n",
      "dtypes: float64(2), int64(5), object(5)\n",
      "memory usage: 83.7+ KB\n"
     ]
    }
   ],
   "source": [
    "train.info()"
   ]
  },
  {
   "cell_type": "code",
   "execution_count": 4,
   "id": "bac3a137",
   "metadata": {
    "execution": {
     "iopub.execute_input": "2021-11-28T20:58:39.840834Z",
     "iopub.status.busy": "2021-11-28T20:58:39.839903Z",
     "iopub.status.idle": "2021-11-28T20:58:39.846103Z",
     "shell.execute_reply": "2021-11-28T20:58:39.846511Z",
     "shell.execute_reply.started": "2021-11-28T20:58:01.809520Z"
    },
    "papermill": {
     "duration": 0.033612,
     "end_time": "2021-11-28T20:58:39.846687",
     "exception": false,
     "start_time": "2021-11-28T20:58:39.813075",
     "status": "completed"
    },
    "tags": []
   },
   "outputs": [
    {
     "data": {
      "text/plain": [
       "PassengerId      0\n",
       "Survived         0\n",
       "Pclass           0\n",
       "Name             0\n",
       "Sex              0\n",
       "Age            177\n",
       "SibSp            0\n",
       "Parch            0\n",
       "Ticket           0\n",
       "Fare             0\n",
       "Cabin          687\n",
       "Embarked         2\n",
       "dtype: int64"
      ]
     },
     "execution_count": 4,
     "metadata": {},
     "output_type": "execute_result"
    }
   ],
   "source": [
    "train.isna().sum()"
   ]
  },
  {
   "cell_type": "code",
   "execution_count": 5,
   "id": "4bddf715",
   "metadata": {
    "execution": {
     "iopub.execute_input": "2021-11-28T20:58:39.894177Z",
     "iopub.status.busy": "2021-11-28T20:58:39.893518Z",
     "iopub.status.idle": "2021-11-28T20:58:39.901520Z",
     "shell.execute_reply": "2021-11-28T20:58:39.900837Z",
     "shell.execute_reply.started": "2021-11-28T20:58:01.823889Z"
    },
    "papermill": {
     "duration": 0.032675,
     "end_time": "2021-11-28T20:58:39.901669",
     "exception": false,
     "start_time": "2021-11-28T20:58:39.868994",
     "status": "completed"
    },
    "tags": []
   },
   "outputs": [
    {
     "data": {
      "text/plain": [
       "0    549\n",
       "1    342\n",
       "Name: Survived, dtype: int64"
      ]
     },
     "execution_count": 5,
     "metadata": {},
     "output_type": "execute_result"
    }
   ],
   "source": [
    "train['Survived'].value_counts()"
   ]
  },
  {
   "cell_type": "markdown",
   "id": "545e9195",
   "metadata": {
    "_cell_guid": "f9595646-65c9-6fc4-395f-0befc4d122ce",
    "papermill": {
     "duration": 0.022658,
     "end_time": "2021-11-28T20:58:39.947979",
     "exception": false,
     "start_time": "2021-11-28T20:58:39.925321",
     "status": "completed"
    },
    "tags": []
   },
   "source": [
    "# Feature Engineering #"
   ]
  },
  {
   "cell_type": "markdown",
   "id": "dad1d576",
   "metadata": {
    "_cell_guid": "9b4c278b-aaca-e92c-ba77-b9b48379d1f1",
    "papermill": {
     "duration": 0.023241,
     "end_time": "2021-11-28T20:58:39.994067",
     "exception": false,
     "start_time": "2021-11-28T20:58:39.970826",
     "status": "completed"
    },
    "tags": []
   },
   "source": [
    "## 1. Pclass ##\n",
    "there is no missing value on this feature and already a numerical value. so let's check it's impact on our train set."
   ]
  },
  {
   "cell_type": "code",
   "execution_count": 6,
   "id": "b75d1fac",
   "metadata": {
    "_cell_guid": "4680d950-cf7d-a6ae-e813-535e2247d88e",
    "execution": {
     "iopub.execute_input": "2021-11-28T20:58:40.051809Z",
     "iopub.status.busy": "2021-11-28T20:58:40.041803Z",
     "iopub.status.idle": "2021-11-28T20:58:40.054313Z",
     "shell.execute_reply": "2021-11-28T20:58:40.054784Z",
     "shell.execute_reply.started": "2021-11-28T20:58:01.836002Z"
    },
    "papermill": {
     "duration": 0.038257,
     "end_time": "2021-11-28T20:58:40.054991",
     "exception": false,
     "start_time": "2021-11-28T20:58:40.016734",
     "status": "completed"
    },
    "tags": []
   },
   "outputs": [
    {
     "name": "stdout",
     "output_type": "stream",
     "text": [
      "   Pclass  Survived\n",
      "0       1  0.629630\n",
      "1       2  0.472826\n",
      "2       3  0.242363\n"
     ]
    }
   ],
   "source": [
    "print (train[['Pclass', 'Survived']].groupby(['Pclass'], as_index=False).mean())"
   ]
  },
  {
   "cell_type": "markdown",
   "id": "b80255fe",
   "metadata": {
    "_cell_guid": "5e70f81c-d4e2-1823-f0ba-a7c9b46984ff",
    "papermill": {
     "duration": 0.029557,
     "end_time": "2021-11-28T20:58:40.109336",
     "exception": false,
     "start_time": "2021-11-28T20:58:40.079779",
     "status": "completed"
    },
    "tags": []
   },
   "source": [
    "## 2. Sex ##"
   ]
  },
  {
   "cell_type": "code",
   "execution_count": 7,
   "id": "ba437a03",
   "metadata": {
    "_cell_guid": "6729681d-7915-1631-78d2-ddf3c35a424c",
    "execution": {
     "iopub.execute_input": "2021-11-28T20:58:40.176293Z",
     "iopub.status.busy": "2021-11-28T20:58:40.172740Z",
     "iopub.status.idle": "2021-11-28T20:58:40.188220Z",
     "shell.execute_reply": "2021-11-28T20:58:40.188793Z",
     "shell.execute_reply.started": "2021-11-28T20:58:01.853486Z"
    },
    "papermill": {
     "duration": 0.046664,
     "end_time": "2021-11-28T20:58:40.189021",
     "exception": false,
     "start_time": "2021-11-28T20:58:40.142357",
     "status": "completed"
    },
    "tags": []
   },
   "outputs": [
    {
     "name": "stdout",
     "output_type": "stream",
     "text": [
      "      Sex  Survived\n",
      "0  female  0.742038\n",
      "1    male  0.188908\n"
     ]
    }
   ],
   "source": [
    "print (train[[\"Sex\", \"Survived\"]].groupby(['Sex'], as_index=False).mean())"
   ]
  },
  {
   "cell_type": "markdown",
   "id": "849ee0d7",
   "metadata": {
    "_cell_guid": "7c58b7ee-d6a1-0cc9-2346-81c47846a54a",
    "papermill": {
     "duration": 0.023191,
     "end_time": "2021-11-28T20:58:40.236731",
     "exception": false,
     "start_time": "2021-11-28T20:58:40.213540",
     "status": "completed"
    },
    "tags": []
   },
   "source": [
    "## 3. SibSp and Parch ##\n",
    "With the number of siblings/spouse and the number of children/parents we can create new feature called Family Size."
   ]
  },
  {
   "cell_type": "code",
   "execution_count": 8,
   "id": "9ee8324b",
   "metadata": {
    "_cell_guid": "1a537f10-7cec-d0b7-8a34-fa9975655190",
    "execution": {
     "iopub.execute_input": "2021-11-28T20:58:40.286265Z",
     "iopub.status.busy": "2021-11-28T20:58:40.285625Z",
     "iopub.status.idle": "2021-11-28T20:58:40.297988Z",
     "shell.execute_reply": "2021-11-28T20:58:40.298774Z",
     "shell.execute_reply.started": "2021-11-28T20:58:01.869478Z"
    },
    "papermill": {
     "duration": 0.039005,
     "end_time": "2021-11-28T20:58:40.299106",
     "exception": false,
     "start_time": "2021-11-28T20:58:40.260101",
     "status": "completed"
    },
    "tags": []
   },
   "outputs": [
    {
     "name": "stdout",
     "output_type": "stream",
     "text": [
      "   FamilySize  Survived\n",
      "0           1  0.303538\n",
      "1           2  0.552795\n",
      "2           3  0.578431\n",
      "3           4  0.724138\n",
      "4           5  0.200000\n",
      "5           6  0.136364\n",
      "6           7  0.333333\n",
      "7           8  0.000000\n",
      "8          11  0.000000\n"
     ]
    }
   ],
   "source": [
    "for dataset in full_data:\n",
    "    dataset['FamilySize'] = dataset['SibSp'] + dataset['Parch'] + 1\n",
    "print (train[['FamilySize', 'Survived']].groupby(['FamilySize'], as_index=False).mean())"
   ]
  },
  {
   "cell_type": "markdown",
   "id": "fcc828c8",
   "metadata": {
    "_cell_guid": "e4861d3e-10db-1a23-8728-44e4d5251844",
    "papermill": {
     "duration": 0.023534,
     "end_time": "2021-11-28T20:58:40.347507",
     "exception": false,
     "start_time": "2021-11-28T20:58:40.323973",
     "status": "completed"
    },
    "tags": []
   },
   "source": [
    "it seems has a good effect on our prediction but let's go further and categorize people to check whether they are alone in this ship or not."
   ]
  },
  {
   "cell_type": "code",
   "execution_count": 9,
   "id": "63aa14c7",
   "metadata": {
    "_cell_guid": "8c35e945-c928-e3bc-bd9c-d6ddb287e4c9",
    "execution": {
     "iopub.execute_input": "2021-11-28T20:58:40.405541Z",
     "iopub.status.busy": "2021-11-28T20:58:40.403124Z",
     "iopub.status.idle": "2021-11-28T20:58:40.410494Z",
     "shell.execute_reply": "2021-11-28T20:58:40.411032Z",
     "shell.execute_reply.started": "2021-11-28T20:58:01.885566Z"
    },
    "papermill": {
     "duration": 0.03999,
     "end_time": "2021-11-28T20:58:40.411213",
     "exception": false,
     "start_time": "2021-11-28T20:58:40.371223",
     "status": "completed"
    },
    "tags": []
   },
   "outputs": [
    {
     "name": "stdout",
     "output_type": "stream",
     "text": [
      "   IsAlone  Survived\n",
      "0        0  0.505650\n",
      "1        1  0.303538\n"
     ]
    }
   ],
   "source": [
    "for dataset in full_data:\n",
    "    dataset['IsAlone'] = 0\n",
    "    dataset.loc[dataset['FamilySize'] == 1, 'IsAlone'] = 1\n",
    "print (train[['IsAlone', 'Survived']].groupby(['IsAlone'], as_index=False).mean())"
   ]
  },
  {
   "cell_type": "markdown",
   "id": "0b4dbf12",
   "metadata": {
    "_cell_guid": "2780ca4e-7923-b845-0b6b-5f68a45f6b93",
    "papermill": {
     "duration": 0.023996,
     "end_time": "2021-11-28T20:58:40.458802",
     "exception": false,
     "start_time": "2021-11-28T20:58:40.434806",
     "status": "completed"
    },
    "tags": []
   },
   "source": [
    "good! the impact is considerable."
   ]
  },
  {
   "cell_type": "markdown",
   "id": "2284f843",
   "metadata": {
    "_cell_guid": "8aa419c0-6614-7efc-7797-97f4a5158b19",
    "papermill": {
     "duration": 0.023479,
     "end_time": "2021-11-28T20:58:40.506146",
     "exception": false,
     "start_time": "2021-11-28T20:58:40.482667",
     "status": "completed"
    },
    "tags": []
   },
   "source": [
    "## 4. Embarked ##\n",
    "the embarked feature has some missing value. and we try to fill those with the most occurred value ( 'S' )."
   ]
  },
  {
   "cell_type": "code",
   "execution_count": 10,
   "id": "f2843cfe",
   "metadata": {
    "_cell_guid": "0e70e9af-d7cc-8c40-b7d4-2643889c376d",
    "execution": {
     "iopub.execute_input": "2021-11-28T20:58:40.560736Z",
     "iopub.status.busy": "2021-11-28T20:58:40.560081Z",
     "iopub.status.idle": "2021-11-28T20:58:40.568575Z",
     "shell.execute_reply": "2021-11-28T20:58:40.568038Z",
     "shell.execute_reply.started": "2021-11-28T20:58:01.903619Z"
    },
    "papermill": {
     "duration": 0.038983,
     "end_time": "2021-11-28T20:58:40.568716",
     "exception": false,
     "start_time": "2021-11-28T20:58:40.529733",
     "status": "completed"
    },
    "tags": []
   },
   "outputs": [
    {
     "name": "stdout",
     "output_type": "stream",
     "text": [
      "  Embarked  Survived\n",
      "0        C  0.553571\n",
      "1        Q  0.389610\n",
      "2        S  0.339009\n"
     ]
    }
   ],
   "source": [
    "for dataset in full_data:\n",
    "    dataset['Embarked'] = dataset['Embarked'].fillna('S')\n",
    "print (train[['Embarked', 'Survived']].groupby(['Embarked'], as_index=False).mean())"
   ]
  },
  {
   "cell_type": "markdown",
   "id": "79cd1518",
   "metadata": {
    "_cell_guid": "e08c9ee8-d6d1-99b7-38bd-f0042c18a5d9",
    "papermill": {
     "duration": 0.023701,
     "end_time": "2021-11-28T20:58:40.616240",
     "exception": false,
     "start_time": "2021-11-28T20:58:40.592539",
     "status": "completed"
    },
    "tags": []
   },
   "source": [
    "## 5. Fare ##\n",
    "Fare also has some missing value and we will replace it with the median. then we categorize it into 4 ranges."
   ]
  },
  {
   "cell_type": "code",
   "execution_count": 11,
   "id": "b2651307",
   "metadata": {
    "_cell_guid": "a21335bd-4e8d-66e8-e6a5-5d2173b72d3b",
    "execution": {
     "iopub.execute_input": "2021-11-28T20:58:40.677189Z",
     "iopub.status.busy": "2021-11-28T20:58:40.671754Z",
     "iopub.status.idle": "2021-11-28T20:58:40.689609Z",
     "shell.execute_reply": "2021-11-28T20:58:40.690114Z",
     "shell.execute_reply.started": "2021-11-28T20:58:01.917492Z"
    },
    "papermill": {
     "duration": 0.049268,
     "end_time": "2021-11-28T20:58:40.690285",
     "exception": false,
     "start_time": "2021-11-28T20:58:40.641017",
     "status": "completed"
    },
    "tags": []
   },
   "outputs": [
    {
     "name": "stdout",
     "output_type": "stream",
     "text": [
      "   CategoricalFare  Survived\n",
      "0   (-0.001, 7.91]  0.197309\n",
      "1   (7.91, 14.454]  0.303571\n",
      "2   (14.454, 31.0]  0.454955\n",
      "3  (31.0, 512.329]  0.581081\n"
     ]
    }
   ],
   "source": [
    "for dataset in full_data:\n",
    "    dataset['Fare'] = dataset['Fare'].fillna(train['Fare'].median())\n",
    "train['CategoricalFare'] = pd.qcut(train['Fare'], 4)\n",
    "print (train[['CategoricalFare', 'Survived']].groupby(['CategoricalFare'], as_index=False).mean())"
   ]
  },
  {
   "cell_type": "markdown",
   "id": "5cb8af8a",
   "metadata": {
    "_cell_guid": "ec8d1b22-a95f-9f16-77ab-7b60d2103852",
    "papermill": {
     "duration": 0.025114,
     "end_time": "2021-11-28T20:58:40.739473",
     "exception": false,
     "start_time": "2021-11-28T20:58:40.714359",
     "status": "completed"
    },
    "tags": []
   },
   "source": [
    "## 6. Age ##\n",
    "we have plenty of missing values in this feature. # generate random numbers between (mean - std) and (mean + std).\n",
    "then we categorize age into 5 range."
   ]
  },
  {
   "cell_type": "code",
   "execution_count": 12,
   "id": "65a0cabe",
   "metadata": {
    "_cell_guid": "b90c2870-ce5d-ae0e-a33d-59e35445500e",
    "execution": {
     "iopub.execute_input": "2021-11-28T20:58:40.790943Z",
     "iopub.status.busy": "2021-11-28T20:58:40.790323Z",
     "iopub.status.idle": "2021-11-28T20:58:40.810383Z",
     "shell.execute_reply": "2021-11-28T20:58:40.810805Z",
     "shell.execute_reply.started": "2021-11-28T20:58:01.935531Z"
    },
    "papermill": {
     "duration": 0.047412,
     "end_time": "2021-11-28T20:58:40.810992",
     "exception": false,
     "start_time": "2021-11-28T20:58:40.763580",
     "status": "completed"
    },
    "tags": []
   },
   "outputs": [
    {
     "name": "stdout",
     "output_type": "stream",
     "text": [
      "  CategoricalAge  Survived\n",
      "0  (-0.08, 16.0]  0.517857\n",
      "1   (16.0, 32.0]  0.359629\n",
      "2   (32.0, 48.0]  0.365672\n",
      "3   (48.0, 64.0]  0.434783\n",
      "4   (64.0, 80.0]  0.090909\n"
     ]
    },
    {
     "name": "stderr",
     "output_type": "stream",
     "text": [
      "/opt/conda/lib/python3.7/site-packages/ipykernel_launcher.py:7: SettingWithCopyWarning: \n",
      "A value is trying to be set on a copy of a slice from a DataFrame\n",
      "\n",
      "See the caveats in the documentation: https://pandas.pydata.org/pandas-docs/stable/user_guide/indexing.html#returning-a-view-versus-a-copy\n",
      "  import sys\n"
     ]
    }
   ],
   "source": [
    "for dataset in full_data:\n",
    "    age_avg = dataset['Age'].mean()\n",
    "    age_std = dataset['Age'].std()\n",
    "    age_null_count = dataset['Age'].isnull().sum()\n",
    "    \n",
    "    age_null_random_list = np.random.randint(age_avg - age_std, age_avg + age_std, size=age_null_count)\n",
    "    dataset['Age'][np.isnan(dataset['Age'])] = age_null_random_list\n",
    "    dataset['Age'] = dataset['Age'].astype(int)\n",
    "    \n",
    "train['CategoricalAge'] = pd.cut(train['Age'], 5)\n",
    "\n",
    "print (train[['CategoricalAge', 'Survived']].groupby(['CategoricalAge'], as_index=False).mean())"
   ]
  },
  {
   "cell_type": "markdown",
   "id": "b27f26be",
   "metadata": {
    "_cell_guid": "bd25ec3f-b601-c1cc-d701-991fac1621f9",
    "papermill": {
     "duration": 0.024811,
     "end_time": "2021-11-28T20:58:40.861101",
     "exception": false,
     "start_time": "2021-11-28T20:58:40.836290",
     "status": "completed"
    },
    "tags": []
   },
   "source": [
    "## 7. Name ##\n",
    "inside this feature we can find the title of people."
   ]
  },
  {
   "cell_type": "code",
   "execution_count": 13,
   "id": "1e6b643f",
   "metadata": {
    "_cell_guid": "ad042f43-bfe0-ded0-4171-379d8caaa749",
    "execution": {
     "iopub.execute_input": "2021-11-28T20:58:40.914747Z",
     "iopub.status.busy": "2021-11-28T20:58:40.913841Z",
     "iopub.status.idle": "2021-11-28T20:58:40.942523Z",
     "shell.execute_reply": "2021-11-28T20:58:40.943091Z",
     "shell.execute_reply.started": "2021-11-28T20:58:01.959035Z"
    },
    "papermill": {
     "duration": 0.056705,
     "end_time": "2021-11-28T20:58:40.943260",
     "exception": false,
     "start_time": "2021-11-28T20:58:40.886555",
     "status": "completed"
    },
    "tags": []
   },
   "outputs": [
    {
     "name": "stdout",
     "output_type": "stream",
     "text": [
      "Sex       female  male\n",
      "Title                 \n",
      "Capt           0     1\n",
      "Col            0     2\n",
      "Countess       1     0\n",
      "Don            0     1\n",
      "Dr             1     6\n",
      "Jonkheer       0     1\n",
      "Lady           1     0\n",
      "Major          0     2\n",
      "Master         0    40\n",
      "Miss         182     0\n",
      "Mlle           2     0\n",
      "Mme            1     0\n",
      "Mr             0   517\n",
      "Mrs          125     0\n",
      "Ms             1     0\n",
      "Rev            0     6\n",
      "Sir            0     1\n"
     ]
    }
   ],
   "source": [
    "def get_title(name):\n",
    "    title_search = re.search(' ([A-Za-z]+)\\.', name)\n",
    "    # If the title exists, extract and return it.\n",
    "    if title_search:\n",
    "        return title_search.group(1)\n",
    "    return \"\"\n",
    "\n",
    "for dataset in full_data:\n",
    "    dataset['Title'] = dataset['Name'].apply(get_title)\n",
    "\n",
    "print(pd.crosstab(train['Title'], train['Sex']))"
   ]
  },
  {
   "cell_type": "markdown",
   "id": "2714a64a",
   "metadata": {
    "_cell_guid": "ca5fff8c-7a0d-6c18-2173-b8df6293c50a",
    "papermill": {
     "duration": 0.024979,
     "end_time": "2021-11-28T20:58:40.993218",
     "exception": false,
     "start_time": "2021-11-28T20:58:40.968239",
     "status": "completed"
    },
    "tags": []
   },
   "source": [
    " so we have titles. let's categorize it and check the title impact on survival rate."
   ]
  },
  {
   "cell_type": "code",
   "execution_count": 14,
   "id": "79266888",
   "metadata": {
    "_cell_guid": "8357238b-98fe-632a-acd5-33674a6132ce",
    "execution": {
     "iopub.execute_input": "2021-11-28T20:58:41.050874Z",
     "iopub.status.busy": "2021-11-28T20:58:41.050199Z",
     "iopub.status.idle": "2021-11-28T20:58:41.062503Z",
     "shell.execute_reply": "2021-11-28T20:58:41.063232Z",
     "shell.execute_reply.started": "2021-11-28T20:58:01.983611Z"
    },
    "papermill": {
     "duration": 0.044856,
     "end_time": "2021-11-28T20:58:41.063478",
     "exception": false,
     "start_time": "2021-11-28T20:58:41.018622",
     "status": "completed"
    },
    "tags": []
   },
   "outputs": [
    {
     "name": "stdout",
     "output_type": "stream",
     "text": [
      "    Title  Survived\n",
      "0  Master  0.575000\n",
      "1    Miss  0.702703\n",
      "2      Mr  0.156673\n",
      "3     Mrs  0.793651\n",
      "4    Rare  0.347826\n"
     ]
    }
   ],
   "source": [
    "for dataset in full_data:\n",
    "    dataset['Title'] = dataset['Title'].replace(['Lady', 'Countess','Capt', 'Col',\\\n",
    "     'Don', 'Dr', 'Major', 'Rev', 'Sir', 'Jonkheer', 'Dona'], 'Rare')\n",
    "\n",
    "    dataset['Title'] = dataset['Title'].replace('Mlle', 'Miss')\n",
    "    dataset['Title'] = dataset['Title'].replace('Ms', 'Miss')\n",
    "    dataset['Title'] = dataset['Title'].replace('Mme', 'Mrs')\n",
    "\n",
    "print (train[['Title', 'Survived']].groupby(['Title'], as_index=False).mean())"
   ]
  },
  {
   "cell_type": "markdown",
   "id": "b85f9127",
   "metadata": {
    "papermill": {
     "duration": 0.025924,
     "end_time": "2021-11-28T20:58:41.116402",
     "exception": false,
     "start_time": "2021-11-28T20:58:41.090478",
     "status": "completed"
    },
    "tags": []
   },
   "source": [
    "## 8. Ticket type ##\n"
   ]
  },
  {
   "cell_type": "code",
   "execution_count": 15,
   "id": "31ffd7f3",
   "metadata": {
    "execution": {
     "iopub.execute_input": "2021-11-28T20:58:41.175744Z",
     "iopub.status.busy": "2021-11-28T20:58:41.174741Z",
     "iopub.status.idle": "2021-11-28T20:58:41.182379Z",
     "shell.execute_reply": "2021-11-28T20:58:41.181788Z",
     "shell.execute_reply.started": "2021-11-28T20:58:02.003792Z"
    },
    "papermill": {
     "duration": 0.040209,
     "end_time": "2021-11-28T20:58:41.182540",
     "exception": false,
     "start_time": "2021-11-28T20:58:41.142331",
     "status": "completed"
    },
    "tags": []
   },
   "outputs": [],
   "source": [
    "for dataset in full_data:\n",
    "    dataset['Ticket_type'] = dataset['Ticket'].apply(lambda x: x[0:3])\n",
    "    dataset['Ticket_type'] = dataset['Ticket_type'].astype('category')\n",
    "    dataset['Ticket_type'] = dataset['Ticket_type'].cat.codes"
   ]
  },
  {
   "cell_type": "markdown",
   "id": "e84af778",
   "metadata": {
    "papermill": {
     "duration": 0.025924,
     "end_time": "2021-11-28T20:58:41.234457",
     "exception": false,
     "start_time": "2021-11-28T20:58:41.208533",
     "status": "completed"
    },
    "tags": []
   },
   "source": [
    "## 9. Has Cabin ##"
   ]
  },
  {
   "cell_type": "code",
   "execution_count": 16,
   "id": "043257fd",
   "metadata": {
    "execution": {
     "iopub.execute_input": "2021-11-28T20:58:41.293775Z",
     "iopub.status.busy": "2021-11-28T20:58:41.293180Z",
     "iopub.status.idle": "2021-11-28T20:58:41.294868Z",
     "shell.execute_reply": "2021-11-28T20:58:41.295350Z",
     "shell.execute_reply.started": "2021-11-28T20:58:02.015790Z"
    },
    "papermill": {
     "duration": 0.034562,
     "end_time": "2021-11-28T20:58:41.295524",
     "exception": false,
     "start_time": "2021-11-28T20:58:41.260962",
     "status": "completed"
    },
    "tags": []
   },
   "outputs": [],
   "source": [
    "for dataset in full_data:\n",
    "    dataset['Has_Cabin'] = dataset[\"Cabin\"].apply(lambda x: 0 if type(x) == float else 1)"
   ]
  },
  {
   "cell_type": "markdown",
   "id": "9068e6d7",
   "metadata": {
    "_cell_guid": "68fa2057-e27a-e252-0d1b-869c00a303ba",
    "papermill": {
     "duration": 0.024661,
     "end_time": "2021-11-28T20:58:41.345250",
     "exception": false,
     "start_time": "2021-11-28T20:58:41.320589",
     "status": "completed"
    },
    "tags": []
   },
   "source": [
    "# Data Cleaning #\n",
    "Cleaning our data and map our features into numerical values."
   ]
  },
  {
   "cell_type": "code",
   "execution_count": 17,
   "id": "b8d5f99a",
   "metadata": {
    "_cell_guid": "2502bb70-ce6f-2497-7331-7d1f80521470",
    "execution": {
     "iopub.execute_input": "2021-11-28T20:58:41.399406Z",
     "iopub.status.busy": "2021-11-28T20:58:41.398708Z",
     "iopub.status.idle": "2021-11-28T20:58:41.440010Z",
     "shell.execute_reply": "2021-11-28T20:58:41.440433Z",
     "shell.execute_reply.started": "2021-11-28T20:58:02.024981Z"
    },
    "papermill": {
     "duration": 0.070365,
     "end_time": "2021-11-28T20:58:41.440603",
     "exception": false,
     "start_time": "2021-11-28T20:58:41.370238",
     "status": "completed"
    },
    "tags": []
   },
   "outputs": [
    {
     "data": {
      "text/html": [
       "<div>\n",
       "<style scoped>\n",
       "    .dataframe tbody tr th:only-of-type {\n",
       "        vertical-align: middle;\n",
       "    }\n",
       "\n",
       "    .dataframe tbody tr th {\n",
       "        vertical-align: top;\n",
       "    }\n",
       "\n",
       "    .dataframe thead th {\n",
       "        text-align: right;\n",
       "    }\n",
       "</style>\n",
       "<table border=\"1\" class=\"dataframe\">\n",
       "  <thead>\n",
       "    <tr style=\"text-align: right;\">\n",
       "      <th></th>\n",
       "      <th>Survived</th>\n",
       "      <th>Pclass</th>\n",
       "      <th>Sex</th>\n",
       "      <th>Age</th>\n",
       "      <th>Parch</th>\n",
       "      <th>Fare</th>\n",
       "      <th>Embarked</th>\n",
       "      <th>FamilySize</th>\n",
       "      <th>IsAlone</th>\n",
       "      <th>Title</th>\n",
       "      <th>Ticket_type</th>\n",
       "      <th>Has_Cabin</th>\n",
       "      <th>Words_Count</th>\n",
       "    </tr>\n",
       "  </thead>\n",
       "  <tbody>\n",
       "    <tr>\n",
       "      <th>0</th>\n",
       "      <td>0</td>\n",
       "      <td>3</td>\n",
       "      <td>1</td>\n",
       "      <td>1</td>\n",
       "      <td>0</td>\n",
       "      <td>0</td>\n",
       "      <td>0</td>\n",
       "      <td>2</td>\n",
       "      <td>0</td>\n",
       "      <td>1</td>\n",
       "      <td>124</td>\n",
       "      <td>0</td>\n",
       "      <td>4</td>\n",
       "    </tr>\n",
       "    <tr>\n",
       "      <th>1</th>\n",
       "      <td>1</td>\n",
       "      <td>1</td>\n",
       "      <td>0</td>\n",
       "      <td>2</td>\n",
       "      <td>0</td>\n",
       "      <td>3</td>\n",
       "      <td>1</td>\n",
       "      <td>2</td>\n",
       "      <td>0</td>\n",
       "      <td>3</td>\n",
       "      <td>137</td>\n",
       "      <td>1</td>\n",
       "      <td>7</td>\n",
       "    </tr>\n",
       "    <tr>\n",
       "      <th>2</th>\n",
       "      <td>1</td>\n",
       "      <td>3</td>\n",
       "      <td>0</td>\n",
       "      <td>1</td>\n",
       "      <td>0</td>\n",
       "      <td>1</td>\n",
       "      <td>0</td>\n",
       "      <td>1</td>\n",
       "      <td>1</td>\n",
       "      <td>2</td>\n",
       "      <td>148</td>\n",
       "      <td>0</td>\n",
       "      <td>3</td>\n",
       "    </tr>\n",
       "    <tr>\n",
       "      <th>3</th>\n",
       "      <td>1</td>\n",
       "      <td>1</td>\n",
       "      <td>0</td>\n",
       "      <td>2</td>\n",
       "      <td>0</td>\n",
       "      <td>3</td>\n",
       "      <td>0</td>\n",
       "      <td>2</td>\n",
       "      <td>0</td>\n",
       "      <td>3</td>\n",
       "      <td>3</td>\n",
       "      <td>1</td>\n",
       "      <td>7</td>\n",
       "    </tr>\n",
       "    <tr>\n",
       "      <th>4</th>\n",
       "      <td>0</td>\n",
       "      <td>3</td>\n",
       "      <td>1</td>\n",
       "      <td>2</td>\n",
       "      <td>0</td>\n",
       "      <td>1</td>\n",
       "      <td>0</td>\n",
       "      <td>1</td>\n",
       "      <td>1</td>\n",
       "      <td>1</td>\n",
       "      <td>97</td>\n",
       "      <td>0</td>\n",
       "      <td>4</td>\n",
       "    </tr>\n",
       "    <tr>\n",
       "      <th>5</th>\n",
       "      <td>0</td>\n",
       "      <td>3</td>\n",
       "      <td>1</td>\n",
       "      <td>2</td>\n",
       "      <td>0</td>\n",
       "      <td>1</td>\n",
       "      <td>2</td>\n",
       "      <td>1</td>\n",
       "      <td>1</td>\n",
       "      <td>1</td>\n",
       "      <td>72</td>\n",
       "      <td>0</td>\n",
       "      <td>3</td>\n",
       "    </tr>\n",
       "    <tr>\n",
       "      <th>6</th>\n",
       "      <td>0</td>\n",
       "      <td>1</td>\n",
       "      <td>1</td>\n",
       "      <td>3</td>\n",
       "      <td>0</td>\n",
       "      <td>3</td>\n",
       "      <td>0</td>\n",
       "      <td>1</td>\n",
       "      <td>1</td>\n",
       "      <td>1</td>\n",
       "      <td>18</td>\n",
       "      <td>1</td>\n",
       "      <td>4</td>\n",
       "    </tr>\n",
       "    <tr>\n",
       "      <th>7</th>\n",
       "      <td>0</td>\n",
       "      <td>3</td>\n",
       "      <td>1</td>\n",
       "      <td>0</td>\n",
       "      <td>1</td>\n",
       "      <td>2</td>\n",
       "      <td>0</td>\n",
       "      <td>5</td>\n",
       "      <td>0</td>\n",
       "      <td>4</td>\n",
       "      <td>83</td>\n",
       "      <td>0</td>\n",
       "      <td>4</td>\n",
       "    </tr>\n",
       "    <tr>\n",
       "      <th>8</th>\n",
       "      <td>1</td>\n",
       "      <td>3</td>\n",
       "      <td>0</td>\n",
       "      <td>1</td>\n",
       "      <td>2</td>\n",
       "      <td>1</td>\n",
       "      <td>0</td>\n",
       "      <td>3</td>\n",
       "      <td>0</td>\n",
       "      <td>3</td>\n",
       "      <td>81</td>\n",
       "      <td>0</td>\n",
       "      <td>7</td>\n",
       "    </tr>\n",
       "    <tr>\n",
       "      <th>9</th>\n",
       "      <td>1</td>\n",
       "      <td>2</td>\n",
       "      <td>0</td>\n",
       "      <td>0</td>\n",
       "      <td>0</td>\n",
       "      <td>2</td>\n",
       "      <td>1</td>\n",
       "      <td>2</td>\n",
       "      <td>0</td>\n",
       "      <td>3</td>\n",
       "      <td>38</td>\n",
       "      <td>0</td>\n",
       "      <td>5</td>\n",
       "    </tr>\n",
       "  </tbody>\n",
       "</table>\n",
       "</div>"
      ],
      "text/plain": [
       "   Survived  Pclass  Sex  Age  Parch  Fare  Embarked  FamilySize  IsAlone  \\\n",
       "0         0       3    1    1      0     0         0           2        0   \n",
       "1         1       1    0    2      0     3         1           2        0   \n",
       "2         1       3    0    1      0     1         0           1        1   \n",
       "3         1       1    0    2      0     3         0           2        0   \n",
       "4         0       3    1    2      0     1         0           1        1   \n",
       "5         0       3    1    2      0     1         2           1        1   \n",
       "6         0       1    1    3      0     3         0           1        1   \n",
       "7         0       3    1    0      1     2         0           5        0   \n",
       "8         1       3    0    1      2     1         0           3        0   \n",
       "9         1       2    0    0      0     2         1           2        0   \n",
       "\n",
       "   Title  Ticket_type  Has_Cabin  Words_Count  \n",
       "0      1          124          0            4  \n",
       "1      3          137          1            7  \n",
       "2      2          148          0            3  \n",
       "3      3            3          1            7  \n",
       "4      1           97          0            4  \n",
       "5      1           72          0            3  \n",
       "6      1           18          1            4  \n",
       "7      4           83          0            4  \n",
       "8      3           81          0            7  \n",
       "9      3           38          0            5  "
      ]
     },
     "execution_count": 17,
     "metadata": {},
     "output_type": "execute_result"
    }
   ],
   "source": [
    "for dataset in full_data:\n",
    "    \n",
    "    # Mapping name to word count\n",
    "    dataset['Words_Count'] = dataset['Name'].apply(lambda x: len(x.split()))\n",
    "    \n",
    "    # Mapping Sex\n",
    "    dataset['Sex'] = dataset['Sex'].map( {'female': 0, 'male': 1} ).astype(int)\n",
    "    \n",
    "    # Mapping titles\n",
    "    title_mapping = {\"Mr\": 1, \"Miss\": 2, \"Mrs\": 3, \"Master\": 4, \"Rare\": 5}\n",
    "    dataset['Title'] = dataset['Title'].map(title_mapping)\n",
    "    dataset['Title'] = dataset['Title'].fillna(0)\n",
    "    \n",
    "    # Mapping Embarked\n",
    "    dataset['Embarked'] = dataset['Embarked'].map( {'S': 0, 'C': 1, 'Q': 2} ).astype(int)\n",
    "    \n",
    "    # Mapping Fare\n",
    "    dataset.loc[ dataset['Fare'] <= 7.91, 'Fare'] \t\t\t\t\t\t        = 0\n",
    "    dataset.loc[(dataset['Fare'] > 7.91) & (dataset['Fare'] <= 14.454), 'Fare'] = 1\n",
    "    dataset.loc[(dataset['Fare'] > 14.454) & (dataset['Fare'] <= 31), 'Fare']   = 2\n",
    "    dataset.loc[ dataset['Fare'] > 31, 'Fare'] \t\t\t\t\t\t\t        = 3\n",
    "    dataset['Fare'] = dataset['Fare'].astype(int)\n",
    "    \n",
    "    # Mapping Age\n",
    "    dataset.loc[ dataset['Age'] <= 16, 'Age'] \t\t\t\t\t       = 0\n",
    "    dataset.loc[(dataset['Age'] > 16) & (dataset['Age'] <= 32), 'Age'] = 1\n",
    "    dataset.loc[(dataset['Age'] > 32) & (dataset['Age'] <= 48), 'Age'] = 2\n",
    "    dataset.loc[(dataset['Age'] > 48) & (dataset['Age'] <= 64), 'Age'] = 3\n",
    "    dataset.loc[ dataset['Age'] > 64, 'Age']                           = 4\n",
    "\n",
    "# Feature Selection\n",
    "drop_elements = ['PassengerId', 'Name', 'Ticket', 'Cabin', 'SibSp']\n",
    "train = train.drop(drop_elements, axis = 1)\n",
    "train = train.drop(['CategoricalAge', 'CategoricalFare'], axis = 1)\n",
    "\n",
    "test  = test.drop(drop_elements, axis = 1)\n",
    "\n",
    "train.head(10)\n"
   ]
  },
  {
   "cell_type": "code",
   "execution_count": 18,
   "id": "854efc64",
   "metadata": {
    "execution": {
     "iopub.execute_input": "2021-11-28T20:58:41.501231Z",
     "iopub.status.busy": "2021-11-28T20:58:41.500560Z",
     "iopub.status.idle": "2021-11-28T20:58:43.780734Z",
     "shell.execute_reply": "2021-11-28T20:58:43.781231Z",
     "shell.execute_reply.started": "2021-11-28T20:58:02.077124Z"
    },
    "papermill": {
     "duration": 2.315094,
     "end_time": "2021-11-28T20:58:43.781403",
     "exception": false,
     "start_time": "2021-11-28T20:58:41.466309",
     "status": "completed"
    },
    "tags": []
   },
   "outputs": [
    {
     "data": {
      "text/plain": [
       "<AxesSubplot:title={'center':'Pearson Correlation of Features'}>"
      ]
     },
     "execution_count": 18,
     "metadata": {},
     "output_type": "execute_result"
    },
    {
     "data": {
      "image/png": "[encoded data removed]",
      "text/plain": [
       "<Figure size 1008x864 with 2 Axes>"
      ]
     },
     "metadata": {
      "needs_background": "light"
     },
     "output_type": "display_data"
    }
   ],
   "source": [
    "import matplotlib.pyplot as plt\n",
    "%matplotlib inline\n",
    "import seaborn as sns\n",
    "\n",
    "colormap = plt.cm.RdBu\n",
    "plt.figure(figsize=(14,12))\n",
    "plt.title('Pearson Correlation of Features', y=1.05, size=15)\n",
    "sns.heatmap(train.astype(float).corr(),linewidths=0.1,vmax=1.0, \n",
    "            square=True, cmap=colormap, linecolor='white', annot=True)"
   ]
  },
  {
   "cell_type": "code",
   "execution_count": 19,
   "id": "a7e22fec",
   "metadata": {
    "execution": {
     "iopub.execute_input": "2021-11-28T20:58:43.844627Z",
     "iopub.status.busy": "2021-11-28T20:58:43.844021Z",
     "iopub.status.idle": "2021-11-28T20:58:43.846813Z",
     "shell.execute_reply": "2021-11-28T20:58:43.847281Z",
     "shell.execute_reply.started": "2021-11-28T20:58:03.451357Z"
    },
    "papermill": {
     "duration": 0.036187,
     "end_time": "2021-11-28T20:58:43.847475",
     "exception": false,
     "start_time": "2021-11-28T20:58:43.811288",
     "status": "completed"
    },
    "tags": []
   },
   "outputs": [],
   "source": [
    "# train = train.values\n",
    "# test  = test.values"
   ]
  },
  {
   "cell_type": "markdown",
   "id": "2a238b00",
   "metadata": {
    "_cell_guid": "23b55b45-572b-7276-32e7-8f7a0dcfd25e",
    "papermill": {
     "duration": 0.029012,
     "end_time": "2021-11-28T20:58:43.905644",
     "exception": false,
     "start_time": "2021-11-28T20:58:43.876632",
     "status": "completed"
    },
    "tags": []
   },
   "source": [
    "# Classifier Comparison #"
   ]
  },
  {
   "cell_type": "markdown",
   "id": "8d029de9",
   "metadata": {
    "_cell_guid": "438585cf-b7ad-73ba-49aa-87688ff21233",
    "papermill": {
     "duration": 0.028539,
     "end_time": "2021-11-28T20:58:43.963179",
     "exception": false,
     "start_time": "2021-11-28T20:58:43.934640",
     "status": "completed"
    },
    "tags": []
   },
   "source": [
    "# Prediction #"
   ]
  },
  {
   "cell_type": "code",
   "execution_count": 20,
   "id": "88494158",
   "metadata": {
    "execution": {
     "iopub.execute_input": "2021-11-28T20:58:44.024379Z",
     "iopub.status.busy": "2021-11-28T20:58:44.023782Z",
     "iopub.status.idle": "2021-11-28T20:58:44.028703Z",
     "shell.execute_reply": "2021-11-28T20:58:44.029182Z",
     "shell.execute_reply.started": "2021-11-28T20:58:03.455890Z"
    },
    "papermill": {
     "duration": 0.036981,
     "end_time": "2021-11-28T20:58:44.029348",
     "exception": false,
     "start_time": "2021-11-28T20:58:43.992367",
     "status": "completed"
    },
    "tags": []
   },
   "outputs": [],
   "source": [
    "y_train = train['Survived'].ravel()\n",
    "train = train.drop(['Survived'], axis=1)\n",
    "x_train = train.values # Creates an array of the train data\n",
    "x_test = test.values "
   ]
  },
  {
   "cell_type": "code",
   "execution_count": 21,
   "id": "d1376ee9",
   "metadata": {
    "execution": {
     "iopub.execute_input": "2021-11-28T20:58:44.152289Z",
     "iopub.status.busy": "2021-11-28T20:58:44.151658Z",
     "iopub.status.idle": "2021-11-28T20:58:44.911345Z",
     "shell.execute_reply": "2021-11-28T20:58:44.911930Z",
     "shell.execute_reply.started": "2021-11-28T20:58:03.468052Z"
    },
    "papermill": {
     "duration": 0.793703,
     "end_time": "2021-11-28T20:58:44.912137",
     "exception": false,
     "start_time": "2021-11-28T20:58:44.118434",
     "status": "completed"
    },
    "tags": []
   },
   "outputs": [
    {
     "name": "stderr",
     "output_type": "stream",
     "text": [
      "/opt/conda/lib/python3.7/site-packages/xgboost/sklearn.py:1224: UserWarning: The use of label encoder in XGBClassifier is deprecated and will be removed in a future release. To remove this warning, do the following: 1) Pass option use_label_encoder=False when constructing XGBClassifier object; and 2) Encode your labels (y) as integers starting with 0, i.e. 0, 1, 2, ..., [num_class - 1].\n",
      "  warnings.warn(label_encoder_deprecation_msg, UserWarning)\n"
     ]
    },
    {
     "name": "stdout",
     "output_type": "stream",
     "text": [
      "[20:58:44] WARNING: ../src/learner.cc:1115: Starting in XGBoost 1.3.0, the default evaluation metric used with the objective 'binary:logistic' was changed from 'error' to 'logloss'. Explicitly set eval_metric if you'd like to restore the old behavior.\n"
     ]
    }
   ],
   "source": [
    "from xgboost import XGBClassifier\n",
    "\n",
    "xgb = XGBClassifier().fit(x_train, y_train)\n",
    "result = xgb.predict(x_test)"
   ]
  },
  {
   "cell_type": "code",
   "execution_count": 22,
   "id": "7be90f19",
   "metadata": {
    "execution": {
     "iopub.execute_input": "2021-11-28T20:58:44.981702Z",
     "iopub.status.busy": "2021-11-28T20:58:44.981090Z",
     "iopub.status.idle": "2021-11-28T20:58:44.984582Z",
     "shell.execute_reply": "2021-11-28T20:58:44.985154Z",
     "shell.execute_reply.started": "2021-11-28T20:58:03.937787Z"
    },
    "papermill": {
     "duration": 0.041291,
     "end_time": "2021-11-28T20:58:44.985355",
     "exception": false,
     "start_time": "2021-11-28T20:58:44.944064",
     "status": "completed"
    },
    "tags": []
   },
   "outputs": [],
   "source": [
    "# from sklearn.ensemble import RandomForestClassifier\n",
    "# rf = RandomForestClassifier()\n",
    "# rf.fit(x_train, y_train)\n",
    "# result = rf.predict(x_test)"
   ]
  },
  {
   "cell_type": "code",
   "execution_count": 23,
   "id": "0468ad60",
   "metadata": {
    "execution": {
     "iopub.execute_input": "2021-11-28T20:58:45.050185Z",
     "iopub.status.busy": "2021-11-28T20:58:45.049410Z",
     "iopub.status.idle": "2021-11-28T20:58:45.060292Z",
     "shell.execute_reply": "2021-11-28T20:58:45.060760Z",
     "shell.execute_reply.started": "2021-11-28T20:58:03.946604Z"
    },
    "papermill": {
     "duration": 0.044757,
     "end_time": "2021-11-28T20:58:45.060969",
     "exception": false,
     "start_time": "2021-11-28T20:58:45.016212",
     "status": "completed"
    },
    "tags": []
   },
   "outputs": [
    {
     "data": {
      "text/html": [
       "<div>\n",
       "<style scoped>\n",
       "    .dataframe tbody tr th:only-of-type {\n",
       "        vertical-align: middle;\n",
       "    }\n",
       "\n",
       "    .dataframe tbody tr th {\n",
       "        vertical-align: top;\n",
       "    }\n",
       "\n",
       "    .dataframe thead th {\n",
       "        text-align: right;\n",
       "    }\n",
       "</style>\n",
       "<table border=\"1\" class=\"dataframe\">\n",
       "  <thead>\n",
       "    <tr style=\"text-align: right;\">\n",
       "      <th></th>\n",
       "      <th>PassengerId</th>\n",
       "      <th>Survived</th>\n",
       "    </tr>\n",
       "  </thead>\n",
       "  <tbody>\n",
       "    <tr>\n",
       "      <th>0</th>\n",
       "      <td>892</td>\n",
       "      <td>0</td>\n",
       "    </tr>\n",
       "    <tr>\n",
       "      <th>1</th>\n",
       "      <td>893</td>\n",
       "      <td>1</td>\n",
       "    </tr>\n",
       "    <tr>\n",
       "      <th>2</th>\n",
       "      <td>894</td>\n",
       "      <td>0</td>\n",
       "    </tr>\n",
       "    <tr>\n",
       "      <th>3</th>\n",
       "      <td>895</td>\n",
       "      <td>0</td>\n",
       "    </tr>\n",
       "    <tr>\n",
       "      <th>4</th>\n",
       "      <td>896</td>\n",
       "      <td>0</td>\n",
       "    </tr>\n",
       "    <tr>\n",
       "      <th>...</th>\n",
       "      <td>...</td>\n",
       "      <td>...</td>\n",
       "    </tr>\n",
       "    <tr>\n",
       "      <th>413</th>\n",
       "      <td>1305</td>\n",
       "      <td>0</td>\n",
       "    </tr>\n",
       "    <tr>\n",
       "      <th>414</th>\n",
       "      <td>1306</td>\n",
       "      <td>1</td>\n",
       "    </tr>\n",
       "    <tr>\n",
       "      <th>415</th>\n",
       "      <td>1307</td>\n",
       "      <td>0</td>\n",
       "    </tr>\n",
       "    <tr>\n",
       "      <th>416</th>\n",
       "      <td>1308</td>\n",
       "      <td>0</td>\n",
       "    </tr>\n",
       "    <tr>\n",
       "      <th>417</th>\n",
       "      <td>1309</td>\n",
       "      <td>1</td>\n",
       "    </tr>\n",
       "  </tbody>\n",
       "</table>\n",
       "<p>418 rows × 2 columns</p>\n",
       "</div>"
      ],
      "text/plain": [
       "     PassengerId  Survived\n",
       "0            892         0\n",
       "1            893         1\n",
       "2            894         0\n",
       "3            895         0\n",
       "4            896         0\n",
       "..           ...       ...\n",
       "413         1305         0\n",
       "414         1306         1\n",
       "415         1307         0\n",
       "416         1308         0\n",
       "417         1309         1\n",
       "\n",
       "[418 rows x 2 columns]"
      ]
     },
     "execution_count": 23,
     "metadata": {},
     "output_type": "execute_result"
    }
   ],
   "source": [
    "submission = pd.DataFrame({\n",
    "        \"PassengerId\": PassengerId,\n",
    "        \"Survived\": result\n",
    "    })\n",
    "submission"
   ]
  },
  {
   "cell_type": "code",
   "execution_count": 24,
   "id": "d4e7d7e8",
   "metadata": {
    "execution": {
     "iopub.execute_input": "2021-11-28T20:58:45.127243Z",
     "iopub.status.busy": "2021-11-28T20:58:45.126548Z",
     "iopub.status.idle": "2021-11-28T20:58:45.134083Z",
     "shell.execute_reply": "2021-11-28T20:58:45.134568Z",
     "shell.execute_reply.started": "2021-11-28T20:58:03.961477Z"
    },
    "papermill": {
     "duration": 0.042765,
     "end_time": "2021-11-28T20:58:45.134798",
     "exception": false,
     "start_time": "2021-11-28T20:58:45.092033",
     "status": "completed"
    },
    "tags": []
   },
   "outputs": [],
   "source": [
    "submission.to_csv('./submission.csv', index=False)"
   ]
  },
  {
   "cell_type": "code",
   "execution_count": null,
   "id": "6e2d54c9",
   "metadata": {
    "papermill": {
     "duration": 0.031636,
     "end_time": "2021-11-28T20:58:45.198445",
     "exception": false,
     "start_time": "2021-11-28T20:58:45.166809",
     "status": "completed"
    },
    "tags": []
   },
   "outputs": [],
   "source": []
  }
 ],
 "metadata": {
  "kernelspec": {
   "display_name": "Python 3",
   "language": "python",
   "name": "python3"
  },
  "language_info": {
   "codemirror_mode": {
    "name": "ipython",
    "version": 3
   },
   "file_extension": ".py",
   "mimetype": "text/x-python",
   "name": "python",
   "nbconvert_exporter": "python",
   "pygments_lexer": "ipython3",
   "version": "3.7.10"
  },
  "papermill": {
   "default_parameters": {},
   "duration": 14.944633,
   "end_time": "2021-11-28T20:58:45.940663",
   "environment_variables": {},
   "exception": null,
   "input_path": "__notebook__.ipynb",
   "output_path": "__notebook__.ipynb",
   "parameters": {},
   "start_time": "2021-11-28T20:58:30.996030",
   "version": "2.3.3"
  }
 },
 "nbformat": 4,
 "nbformat_minor": 5
}
