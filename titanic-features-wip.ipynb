{
 "cells": [
  {
   "cell_type": "code",
   "execution_count": 34,
   "id": "9fdf5ac2",
   "metadata": {
    "_cell_guid": "2ce68358-02ec-556d-ba88-e773a50bc18b",
    "execution": {
     "iopub.execute_input": "2021-11-28T21:22:31.410982Z",
     "iopub.status.busy": "2021-11-28T21:22:31.410004Z",
     "iopub.status.idle": "2021-11-28T21:22:31.453543Z",
     "shell.execute_reply": "2021-11-28T21:22:31.454107Z",
     "shell.execute_reply.started": "2021-11-28T21:21:57.918271Z"
    },
    "papermill": {
     "duration": 0.087321,
     "end_time": "2021-11-28T21:22:31.454434",
     "exception": false,
     "start_time": "2021-11-28T21:22:31.367113",
     "status": "completed"
    },
    "tags": []
   },
   "outputs": [],
   "source": [
    "%matplotlib inline\n",
    "import numpy as np\n",
    "import pandas as pd\n",
    "import re as re\n",
    "\n",
    "train = pd.read_csv('../input/titanic/train.csv', header = 0, dtype={'Age': np.float64})\n",
    "test  = pd.read_csv('../input/titanic/test.csv' , header = 0, dtype={'Age': np.float64})\n",
    "PassengerId = test['PassengerId']\n",
    "\n",
    "full_data = [train, test]"
   ]
  },
  {
   "cell_type": "code",
   "execution_count": 35,
   "id": "205d82ba",
   "metadata": {
    "execution": {
     "iopub.execute_input": "2021-11-28T21:22:31.515073Z",
     "iopub.status.busy": "2021-11-28T21:22:31.514332Z",
     "iopub.status.idle": "2021-11-28T21:22:31.559039Z",
     "shell.execute_reply": "2021-11-28T21:22:31.559553Z",
     "shell.execute_reply.started": "2021-11-28T21:21:57.941616Z"
    },
    "papermill": {
     "duration": 0.076313,
     "end_time": "2021-11-28T21:22:31.559727",
     "exception": false,
     "start_time": "2021-11-28T21:22:31.483414",
     "status": "completed"
    },
    "tags": []
   },
   "outputs": [
    {
     "data": {
      "text/html": [
       "<div>\n",
       "<style scoped>\n",
       "    .dataframe tbody tr th:only-of-type {\n",
       "        vertical-align: middle;\n",
       "    }\n",
       "\n",
       "    .dataframe tbody tr th {\n",
       "        vertical-align: top;\n",
       "    }\n",
       "\n",
       "    .dataframe thead th {\n",
       "        text-align: right;\n",
       "    }\n",
       "</style>\n",
       "<table border=\"1\" class=\"dataframe\">\n",
       "  <thead>\n",
       "    <tr style=\"text-align: right;\">\n",
       "      <th></th>\n",
       "      <th>PassengerId</th>\n",
       "      <th>Survived</th>\n",
       "      <th>Pclass</th>\n",
       "      <th>Age</th>\n",
       "      <th>SibSp</th>\n",
       "      <th>Parch</th>\n",
       "      <th>Fare</th>\n",
       "    </tr>\n",
       "  </thead>\n",
       "  <tbody>\n",
       "    <tr>\n",
       "      <th>count</th>\n",
       "      <td>891.000000</td>\n",
       "      <td>891.000000</td>\n",
       "      <td>891.000000</td>\n",
       "      <td>714.000000</td>\n",
       "      <td>891.000000</td>\n",
       "      <td>891.000000</td>\n",
       "      <td>891.000000</td>\n",
       "    </tr>\n",
       "    <tr>\n",
       "      <th>mean</th>\n",
       "      <td>446.000000</td>\n",
       "      <td>0.383838</td>\n",
       "      <td>2.308642</td>\n",
       "      <td>29.699118</td>\n",
       "      <td>0.523008</td>\n",
       "      <td>0.381594</td>\n",
       "      <td>32.204208</td>\n",
       "    </tr>\n",
       "    <tr>\n",
       "      <th>std</th>\n",
       "      <td>257.353842</td>\n",
       "      <td>0.486592</td>\n",
       "      <td>0.836071</td>\n",
       "      <td>14.526497</td>\n",
       "      <td>1.102743</td>\n",
       "      <td>0.806057</td>\n",
       "      <td>49.693429</td>\n",
       "    </tr>\n",
       "    <tr>\n",
       "      <th>min</th>\n",
       "      <td>1.000000</td>\n",
       "      <td>0.000000</td>\n",
       "      <td>1.000000</td>\n",
       "      <td>0.420000</td>\n",
       "      <td>0.000000</td>\n",
       "      <td>0.000000</td>\n",
       "      <td>0.000000</td>\n",
       "    </tr>\n",
       "    <tr>\n",
       "      <th>25%</th>\n",
       "      <td>223.500000</td>\n",
       "      <td>0.000000</td>\n",
       "      <td>2.000000</td>\n",
       "      <td>20.125000</td>\n",
       "      <td>0.000000</td>\n",
       "      <td>0.000000</td>\n",
       "      <td>7.910400</td>\n",
       "    </tr>\n",
       "    <tr>\n",
       "      <th>50%</th>\n",
       "      <td>446.000000</td>\n",
       "      <td>0.000000</td>\n",
       "      <td>3.000000</td>\n",
       "      <td>28.000000</td>\n",
       "      <td>0.000000</td>\n",
       "      <td>0.000000</td>\n",
       "      <td>14.454200</td>\n",
       "    </tr>\n",
       "    <tr>\n",
       "      <th>75%</th>\n",
       "      <td>668.500000</td>\n",
       "      <td>1.000000</td>\n",
       "      <td>3.000000</td>\n",
       "      <td>38.000000</td>\n",
       "      <td>1.000000</td>\n",
       "      <td>0.000000</td>\n",
       "      <td>31.000000</td>\n",
       "    </tr>\n",
       "    <tr>\n",
       "      <th>max</th>\n",
       "      <td>891.000000</td>\n",
       "      <td>1.000000</td>\n",
       "      <td>3.000000</td>\n",
       "      <td>80.000000</td>\n",
       "      <td>8.000000</td>\n",
       "      <td>6.000000</td>\n",
       "      <td>512.329200</td>\n",
       "    </tr>\n",
       "  </tbody>\n",
       "</table>\n",
       "</div>"
      ],
      "text/plain": [
       "       PassengerId    Survived      Pclass         Age       SibSp  \\\n",
       "count   891.000000  891.000000  891.000000  714.000000  891.000000   \n",
       "mean    446.000000    0.383838    2.308642   29.699118    0.523008   \n",
       "std     257.353842    0.486592    0.836071   14.526497    1.102743   \n",
       "min       1.000000    0.000000    1.000000    0.420000    0.000000   \n",
       "25%     223.500000    0.000000    2.000000   20.125000    0.000000   \n",
       "50%     446.000000    0.000000    3.000000   28.000000    0.000000   \n",
       "75%     668.500000    1.000000    3.000000   38.000000    1.000000   \n",
       "max     891.000000    1.000000    3.000000   80.000000    8.000000   \n",
       "\n",
       "            Parch        Fare  \n",
       "count  891.000000  891.000000  \n",
       "mean     0.381594   32.204208  \n",
       "std      0.806057   49.693429  \n",
       "min      0.000000    0.000000  \n",
       "25%      0.000000    7.910400  \n",
       "50%      0.000000   14.454200  \n",
       "75%      0.000000   31.000000  \n",
       "max      6.000000  512.329200  "
      ]
     },
     "execution_count": 35,
     "metadata": {},
     "output_type": "execute_result"
    }
   ],
   "source": [
    "train.describe()"
   ]
  },
  {
   "cell_type": "code",
   "execution_count": 36,
   "id": "ee6ecf60",
   "metadata": {
    "execution": {
     "iopub.execute_input": "2021-11-28T21:22:31.624715Z",
     "iopub.status.busy": "2021-11-28T21:22:31.623981Z",
     "iopub.status.idle": "2021-11-28T21:22:31.637465Z",
     "shell.execute_reply": "2021-11-28T21:22:31.636763Z",
     "shell.execute_reply.started": "2021-11-28T21:21:57.972735Z"
    },
    "papermill": {
     "duration": 0.048463,
     "end_time": "2021-11-28T21:22:31.637614",
     "exception": false,
     "start_time": "2021-11-28T21:22:31.589151",
     "status": "completed"
    },
    "tags": []
   },
   "outputs": [
    {
     "name": "stdout",
     "output_type": "stream",
     "text": [
      "<class 'pandas.core.frame.DataFrame'>\n",
      "RangeIndex: 891 entries, 0 to 890\n",
      "Data columns (total 12 columns):\n",
      " #   Column       Non-Null Count  Dtype  \n",
      "---  ------       --------------  -----  \n",
      " 0   PassengerId  891 non-null    int64  \n",
      " 1   Survived     891 non-null    int64  \n",
      " 2   Pclass       891 non-null    int64  \n",
      " 3   Name         891 non-null    object \n",
      " 4   Sex          891 non-null    object \n",
      " 5   Age          714 non-null    float64\n",
      " 6   SibSp        891 non-null    int64  \n",
      " 7   Parch        891 non-null    int64  \n",
      " 8   Ticket       891 non-null    object \n",
      " 9   Fare         891 non-null    float64\n",
      " 10  Cabin        204 non-null    object \n",
      " 11  Embarked     889 non-null    object \n",
      "dtypes: float64(2), int64(5), object(5)\n",
      "memory usage: 83.7+ KB\n"
     ]
    }
   ],
   "source": [
    "train.info()"
   ]
  },
  {
   "cell_type": "code",
   "execution_count": 37,
   "id": "51087d43",
   "metadata": {
    "execution": {
     "iopub.execute_input": "2021-11-28T21:22:31.701193Z",
     "iopub.status.busy": "2021-11-28T21:22:31.700418Z",
     "iopub.status.idle": "2021-11-28T21:22:31.707189Z",
     "shell.execute_reply": "2021-11-28T21:22:31.707693Z",
     "shell.execute_reply.started": "2021-11-28T21:21:57.987610Z"
    },
    "papermill": {
     "duration": 0.040785,
     "end_time": "2021-11-28T21:22:31.707877",
     "exception": false,
     "start_time": "2021-11-28T21:22:31.667092",
     "status": "completed"
    },
    "tags": []
   },
   "outputs": [
    {
     "data": {
      "text/plain": [
       "PassengerId      0\n",
       "Survived         0\n",
       "Pclass           0\n",
       "Name             0\n",
       "Sex              0\n",
       "Age            177\n",
       "SibSp            0\n",
       "Parch            0\n",
       "Ticket           0\n",
       "Fare             0\n",
       "Cabin          687\n",
       "Embarked         2\n",
       "dtype: int64"
      ]
     },
     "execution_count": 37,
     "metadata": {},
     "output_type": "execute_result"
    }
   ],
   "source": [
    "train.isna().sum()"
   ]
  },
  {
   "cell_type": "code",
   "execution_count": 38,
   "id": "4280bcd3",
   "metadata": {
    "execution": {
     "iopub.execute_input": "2021-11-28T21:22:31.770068Z",
     "iopub.status.busy": "2021-11-28T21:22:31.769410Z",
     "iopub.status.idle": "2021-11-28T21:22:31.775721Z",
     "shell.execute_reply": "2021-11-28T21:22:31.776220Z",
     "shell.execute_reply.started": "2021-11-28T21:21:57.997106Z"
    },
    "papermill": {
     "duration": 0.039013,
     "end_time": "2021-11-28T21:22:31.776415",
     "exception": false,
     "start_time": "2021-11-28T21:22:31.737402",
     "status": "completed"
    },
    "tags": []
   },
   "outputs": [
    {
     "data": {
      "text/plain": [
       "0    549\n",
       "1    342\n",
       "Name: Survived, dtype: int64"
      ]
     },
     "execution_count": 38,
     "metadata": {},
     "output_type": "execute_result"
    }
   ],
   "source": [
    "train['Survived'].value_counts()"
   ]
  },
  {
   "cell_type": "markdown",
   "id": "764bfbfb",
   "metadata": {
    "_cell_guid": "f9595646-65c9-6fc4-395f-0befc4d122ce",
    "papermill": {
     "duration": 0.029885,
     "end_time": "2021-11-28T21:22:31.836706",
     "exception": false,
     "start_time": "2021-11-28T21:22:31.806821",
     "status": "completed"
    },
    "tags": []
   },
   "source": [
    "# Feature Engineering #"
   ]
  },
  {
   "cell_type": "markdown",
   "id": "02aa0964",
   "metadata": {
    "_cell_guid": "9b4c278b-aaca-e92c-ba77-b9b48379d1f1",
    "papermill": {
     "duration": 0.029858,
     "end_time": "2021-11-28T21:22:31.896522",
     "exception": false,
     "start_time": "2021-11-28T21:22:31.866664",
     "status": "completed"
    },
    "tags": []
   },
   "source": [
    "## 1. Pclass ##\n",
    "there is no missing value on this feature and already a numerical value. so let's check it's impact on our train set."
   ]
  },
  {
   "cell_type": "code",
   "execution_count": 39,
   "id": "8872c763",
   "metadata": {
    "_cell_guid": "4680d950-cf7d-a6ae-e813-535e2247d88e",
    "execution": {
     "iopub.execute_input": "2021-11-28T21:22:31.962540Z",
     "iopub.status.busy": "2021-11-28T21:22:31.961764Z",
     "iopub.status.idle": "2021-11-28T21:22:31.974430Z",
     "shell.execute_reply": "2021-11-28T21:22:31.975091Z",
     "shell.execute_reply.started": "2021-11-28T21:21:58.004955Z"
    },
    "papermill": {
     "duration": 0.047005,
     "end_time": "2021-11-28T21:22:31.975299",
     "exception": false,
     "start_time": "2021-11-28T21:22:31.928294",
     "status": "completed"
    },
    "tags": []
   },
   "outputs": [
    {
     "name": "stdout",
     "output_type": "stream",
     "text": [
      "   Pclass  Survived\n",
      "0       1  0.629630\n",
      "1       2  0.472826\n",
      "2       3  0.242363\n"
     ]
    }
   ],
   "source": [
    "print (train[['Pclass', 'Survived']].groupby(['Pclass'], as_index=False).mean())"
   ]
  },
  {
   "cell_type": "markdown",
   "id": "b79beb48",
   "metadata": {
    "_cell_guid": "5e70f81c-d4e2-1823-f0ba-a7c9b46984ff",
    "papermill": {
     "duration": 0.030168,
     "end_time": "2021-11-28T21:22:32.035648",
     "exception": false,
     "start_time": "2021-11-28T21:22:32.005480",
     "status": "completed"
    },
    "tags": []
   },
   "source": [
    "## 2. Sex ##"
   ]
  },
  {
   "cell_type": "code",
   "execution_count": 40,
   "id": "bed762e0",
   "metadata": {
    "_cell_guid": "6729681d-7915-1631-78d2-ddf3c35a424c",
    "execution": {
     "iopub.execute_input": "2021-11-28T21:22:32.102225Z",
     "iopub.status.busy": "2021-11-28T21:22:32.101483Z",
     "iopub.status.idle": "2021-11-28T21:22:32.110336Z",
     "shell.execute_reply": "2021-11-28T21:22:32.109648Z",
     "shell.execute_reply.started": "2021-11-28T21:21:58.021638Z"
    },
    "papermill": {
     "duration": 0.044569,
     "end_time": "2021-11-28T21:22:32.110480",
     "exception": false,
     "start_time": "2021-11-28T21:22:32.065911",
     "status": "completed"
    },
    "tags": []
   },
   "outputs": [
    {
     "name": "stdout",
     "output_type": "stream",
     "text": [
      "      Sex  Survived\n",
      "0  female  0.742038\n",
      "1    male  0.188908\n"
     ]
    }
   ],
   "source": [
    "print (train[[\"Sex\", \"Survived\"]].groupby(['Sex'], as_index=False).mean())"
   ]
  },
  {
   "cell_type": "markdown",
   "id": "96c18aee",
   "metadata": {
    "_cell_guid": "7c58b7ee-d6a1-0cc9-2346-81c47846a54a",
    "papermill": {
     "duration": 0.030197,
     "end_time": "2021-11-28T21:22:32.171382",
     "exception": false,
     "start_time": "2021-11-28T21:22:32.141185",
     "status": "completed"
    },
    "tags": []
   },
   "source": [
    "## 3. SibSp and Parch ##\n",
    "With the number of siblings/spouse and the number of children/parents we can create new feature called Family Size."
   ]
  },
  {
   "cell_type": "code",
   "execution_count": 41,
   "id": "19db19bf",
   "metadata": {
    "_cell_guid": "1a537f10-7cec-d0b7-8a34-fa9975655190",
    "execution": {
     "iopub.execute_input": "2021-11-28T21:22:32.241455Z",
     "iopub.status.busy": "2021-11-28T21:22:32.240732Z",
     "iopub.status.idle": "2021-11-28T21:22:32.249374Z",
     "shell.execute_reply": "2021-11-28T21:22:32.249835Z",
     "shell.execute_reply.started": "2021-11-28T21:21:58.039097Z"
    },
    "papermill": {
     "duration": 0.047868,
     "end_time": "2021-11-28T21:22:32.250026",
     "exception": false,
     "start_time": "2021-11-28T21:22:32.202158",
     "status": "completed"
    },
    "tags": []
   },
   "outputs": [
    {
     "name": "stdout",
     "output_type": "stream",
     "text": [
      "   FamilySize  Survived\n",
      "0           1  0.303538\n",
      "1           2  0.552795\n",
      "2           3  0.578431\n",
      "3           4  0.724138\n",
      "4           5  0.200000\n",
      "5           6  0.136364\n",
      "6           7  0.333333\n",
      "7           8  0.000000\n",
      "8          11  0.000000\n"
     ]
    }
   ],
   "source": [
    "for dataset in full_data:\n",
    "    dataset['FamilySize'] = dataset['SibSp'] + dataset['Parch'] + 1\n",
    "print (train[['FamilySize', 'Survived']].groupby(['FamilySize'], as_index=False).mean())"
   ]
  },
  {
   "cell_type": "markdown",
   "id": "8ccb973d",
   "metadata": {
    "_cell_guid": "e4861d3e-10db-1a23-8728-44e4d5251844",
    "papermill": {
     "duration": 0.030568,
     "end_time": "2021-11-28T21:22:32.311435",
     "exception": false,
     "start_time": "2021-11-28T21:22:32.280867",
     "status": "completed"
    },
    "tags": []
   },
   "source": [
    "it seems has a good effect on our prediction but let's go further and categorize people to check whether they are alone in this ship or not."
   ]
  },
  {
   "cell_type": "code",
   "execution_count": 42,
   "id": "7876bb15",
   "metadata": {
    "_cell_guid": "8c35e945-c928-e3bc-bd9c-d6ddb287e4c9",
    "execution": {
     "iopub.execute_input": "2021-11-28T21:22:32.389072Z",
     "iopub.status.busy": "2021-11-28T21:22:32.385559Z",
     "iopub.status.idle": "2021-11-28T21:22:32.394852Z",
     "shell.execute_reply": "2021-11-28T21:22:32.395773Z",
     "shell.execute_reply.started": "2021-11-28T21:21:58.052647Z"
    },
    "papermill": {
     "duration": 0.053537,
     "end_time": "2021-11-28T21:22:32.396044",
     "exception": false,
     "start_time": "2021-11-28T21:22:32.342507",
     "status": "completed"
    },
    "tags": []
   },
   "outputs": [
    {
     "name": "stdout",
     "output_type": "stream",
     "text": [
      "   IsAlone  Survived\n",
      "0        0  0.505650\n",
      "1        1  0.303538\n"
     ]
    }
   ],
   "source": [
    "for dataset in full_data:\n",
    "    dataset['IsAlone'] = 0\n",
    "    dataset.loc[dataset['FamilySize'] == 1, 'IsAlone'] = 1\n",
    "print (train[['IsAlone', 'Survived']].groupby(['IsAlone'], as_index=False).mean())"
   ]
  },
  {
   "cell_type": "markdown",
   "id": "2e438bb8",
   "metadata": {
    "_cell_guid": "2780ca4e-7923-b845-0b6b-5f68a45f6b93",
    "papermill": {
     "duration": 0.037486,
     "end_time": "2021-11-28T21:22:32.470857",
     "exception": false,
     "start_time": "2021-11-28T21:22:32.433371",
     "status": "completed"
    },
    "tags": []
   },
   "source": [
    "good! the impact is considerable."
   ]
  },
  {
   "cell_type": "markdown",
   "id": "68c5c52d",
   "metadata": {
    "_cell_guid": "8aa419c0-6614-7efc-7797-97f4a5158b19",
    "papermill": {
     "duration": 0.031809,
     "end_time": "2021-11-28T21:22:32.537104",
     "exception": false,
     "start_time": "2021-11-28T21:22:32.505295",
     "status": "completed"
    },
    "tags": []
   },
   "source": [
    "## 4. Embarked ##\n",
    "the embarked feature has some missing value. and we try to fill those with the most occurred value ( 'S' )."
   ]
  },
  {
   "cell_type": "code",
   "execution_count": 43,
   "id": "308e6c2b",
   "metadata": {
    "_cell_guid": "0e70e9af-d7cc-8c40-b7d4-2643889c376d",
    "execution": {
     "iopub.execute_input": "2021-11-28T21:22:32.604269Z",
     "iopub.status.busy": "2021-11-28T21:22:32.603574Z",
     "iopub.status.idle": "2021-11-28T21:22:32.616030Z",
     "shell.execute_reply": "2021-11-28T21:22:32.615460Z",
     "shell.execute_reply.started": "2021-11-28T21:21:58.069871Z"
    },
    "papermill": {
     "duration": 0.047291,
     "end_time": "2021-11-28T21:22:32.616174",
     "exception": false,
     "start_time": "2021-11-28T21:22:32.568883",
     "status": "completed"
    },
    "tags": []
   },
   "outputs": [
    {
     "name": "stdout",
     "output_type": "stream",
     "text": [
      "  Embarked  Survived\n",
      "0        C  0.553571\n",
      "1        Q  0.389610\n",
      "2        S  0.339009\n"
     ]
    }
   ],
   "source": [
    "for dataset in full_data:\n",
    "    dataset['Embarked'] = dataset['Embarked'].fillna('S')\n",
    "print (train[['Embarked', 'Survived']].groupby(['Embarked'], as_index=False).mean())"
   ]
  },
  {
   "cell_type": "markdown",
   "id": "23620324",
   "metadata": {
    "_cell_guid": "e08c9ee8-d6d1-99b7-38bd-f0042c18a5d9",
    "papermill": {
     "duration": 0.032063,
     "end_time": "2021-11-28T21:22:32.680814",
     "exception": false,
     "start_time": "2021-11-28T21:22:32.648751",
     "status": "completed"
    },
    "tags": []
   },
   "source": [
    "## 5. Fare ##\n",
    "Fare also has some missing value and we will replace it with the median. then we categorize it into 4 ranges."
   ]
  },
  {
   "cell_type": "code",
   "execution_count": 44,
   "id": "a9a682be",
   "metadata": {
    "_cell_guid": "a21335bd-4e8d-66e8-e6a5-5d2173b72d3b",
    "execution": {
     "iopub.execute_input": "2021-11-28T21:22:32.761773Z",
     "iopub.status.busy": "2021-11-28T21:22:32.754073Z",
     "iopub.status.idle": "2021-11-28T21:22:32.771781Z",
     "shell.execute_reply": "2021-11-28T21:22:32.772307Z",
     "shell.execute_reply.started": "2021-11-28T21:21:58.083653Z"
    },
    "papermill": {
     "duration": 0.059819,
     "end_time": "2021-11-28T21:22:32.772499",
     "exception": false,
     "start_time": "2021-11-28T21:22:32.712680",
     "status": "completed"
    },
    "tags": []
   },
   "outputs": [
    {
     "name": "stdout",
     "output_type": "stream",
     "text": [
      "   CategoricalFare  Survived\n",
      "0   (-0.001, 7.91]  0.197309\n",
      "1   (7.91, 14.454]  0.303571\n",
      "2   (14.454, 31.0]  0.454955\n",
      "3  (31.0, 512.329]  0.581081\n"
     ]
    }
   ],
   "source": [
    "for dataset in full_data:\n",
    "    dataset['Fare'] = dataset['Fare'].fillna(train['Fare'].median())\n",
    "train['CategoricalFare'] = pd.qcut(train['Fare'], 4)\n",
    "print (train[['CategoricalFare', 'Survived']].groupby(['CategoricalFare'], as_index=False).mean())"
   ]
  },
  {
   "cell_type": "markdown",
   "id": "35623c5e",
   "metadata": {
    "_cell_guid": "ec8d1b22-a95f-9f16-77ab-7b60d2103852",
    "papermill": {
     "duration": 0.033686,
     "end_time": "2021-11-28T21:22:32.838994",
     "exception": false,
     "start_time": "2021-11-28T21:22:32.805308",
     "status": "completed"
    },
    "tags": []
   },
   "source": [
    "## 6. Age ##\n",
    "we have plenty of missing values in this feature. # generate random numbers between (mean - std) and (mean + std).\n",
    "then we categorize age into 5 range."
   ]
  },
  {
   "cell_type": "code",
   "execution_count": 45,
   "id": "aa2b088c",
   "metadata": {
    "_cell_guid": "b90c2870-ce5d-ae0e-a33d-59e35445500e",
    "execution": {
     "iopub.execute_input": "2021-11-28T21:22:32.907986Z",
     "iopub.status.busy": "2021-11-28T21:22:32.907256Z",
     "iopub.status.idle": "2021-11-28T21:22:32.930753Z",
     "shell.execute_reply": "2021-11-28T21:22:32.931320Z",
     "shell.execute_reply.started": "2021-11-28T21:21:58.100447Z"
    },
    "papermill": {
     "duration": 0.05966,
     "end_time": "2021-11-28T21:22:32.931516",
     "exception": false,
     "start_time": "2021-11-28T21:22:32.871856",
     "status": "completed"
    },
    "tags": []
   },
   "outputs": [
    {
     "name": "stdout",
     "output_type": "stream",
     "text": [
      "  CategoricalAge  Survived\n",
      "0  (-0.08, 16.0]  0.535714\n",
      "1   (16.0, 32.0]  0.338565\n",
      "2   (32.0, 48.0]  0.395257\n",
      "3   (48.0, 64.0]  0.434783\n",
      "4   (64.0, 80.0]  0.090909\n"
     ]
    },
    {
     "name": "stderr",
     "output_type": "stream",
     "text": [
      "<ipython-input-45-629c01ad4b82>:7: SettingWithCopyWarning: \n",
      "A value is trying to be set on a copy of a slice from a DataFrame\n",
      "\n",
      "See the caveats in the documentation: https://pandas.pydata.org/pandas-docs/stable/user_guide/indexing.html#returning-a-view-versus-a-copy\n",
      "  dataset['Age'][np.isnan(dataset['Age'])] = age_null_random_list\n"
     ]
    }
   ],
   "source": [
    "for dataset in full_data:\n",
    "    age_avg = dataset['Age'].mean()\n",
    "    age_std = dataset['Age'].std()\n",
    "    age_null_count = dataset['Age'].isnull().sum()\n",
    "    \n",
    "    age_null_random_list = np.random.randint(age_avg - age_std, age_avg + age_std, size=age_null_count)\n",
    "    dataset['Age'][np.isnan(dataset['Age'])] = age_null_random_list\n",
    "    dataset['Age'] = dataset['Age'].astype(int)\n",
    "    \n",
    "train['CategoricalAge'] = pd.cut(train['Age'], 5)\n",
    "\n",
    "print (train[['CategoricalAge', 'Survived']].groupby(['CategoricalAge'], as_index=False).mean())"
   ]
  },
  {
   "cell_type": "markdown",
   "id": "385a5fae",
   "metadata": {
    "_cell_guid": "bd25ec3f-b601-c1cc-d701-991fac1621f9",
    "papermill": {
     "duration": 0.032639,
     "end_time": "2021-11-28T21:22:32.996467",
     "exception": false,
     "start_time": "2021-11-28T21:22:32.963828",
     "status": "completed"
    },
    "tags": []
   },
   "source": [
    "## 7. Name ##\n",
    "inside this feature we can find the title of people."
   ]
  },
  {
   "cell_type": "code",
   "execution_count": 46,
   "id": "0a8d7c16",
   "metadata": {
    "_cell_guid": "ad042f43-bfe0-ded0-4171-379d8caaa749",
    "execution": {
     "iopub.execute_input": "2021-11-28T21:22:33.075865Z",
     "iopub.status.busy": "2021-11-28T21:22:33.075142Z",
     "iopub.status.idle": "2021-11-28T21:22:33.097250Z",
     "shell.execute_reply": "2021-11-28T21:22:33.098065Z",
     "shell.execute_reply.started": "2021-11-28T21:21:58.125180Z"
    },
    "papermill": {
     "duration": 0.069512,
     "end_time": "2021-11-28T21:22:33.098302",
     "exception": false,
     "start_time": "2021-11-28T21:22:33.028790",
     "status": "completed"
    },
    "tags": []
   },
   "outputs": [
    {
     "name": "stdout",
     "output_type": "stream",
     "text": [
      "Sex       female  male\n",
      "Title                 \n",
      "Capt           0     1\n",
      "Col            0     2\n",
      "Countess       1     0\n",
      "Don            0     1\n",
      "Dr             1     6\n",
      "Jonkheer       0     1\n",
      "Lady           1     0\n",
      "Major          0     2\n",
      "Master         0    40\n",
      "Miss         182     0\n",
      "Mlle           2     0\n",
      "Mme            1     0\n",
      "Mr             0   517\n",
      "Mrs          125     0\n",
      "Ms             1     0\n",
      "Rev            0     6\n",
      "Sir            0     1\n"
     ]
    }
   ],
   "source": [
    "def get_title(name):\n",
    "    title_search = re.search(' ([A-Za-z]+)\\.', name)\n",
    "    # If the title exists, extract and return it.\n",
    "    if title_search:\n",
    "        return title_search.group(1)\n",
    "    return \"\"\n",
    "\n",
    "for dataset in full_data:\n",
    "    dataset['Title'] = dataset['Name'].apply(get_title)\n",
    "\n",
    "print(pd.crosstab(train['Title'], train['Sex']))"
   ]
  },
  {
   "cell_type": "markdown",
   "id": "7d9f5563",
   "metadata": {
    "_cell_guid": "ca5fff8c-7a0d-6c18-2173-b8df6293c50a",
    "papermill": {
     "duration": 0.032315,
     "end_time": "2021-11-28T21:22:33.164300",
     "exception": false,
     "start_time": "2021-11-28T21:22:33.131985",
     "status": "completed"
    },
    "tags": []
   },
   "source": [
    " so we have titles. let's categorize it and check the title impact on survival rate."
   ]
  },
  {
   "cell_type": "code",
   "execution_count": 47,
   "id": "f5ca12dc",
   "metadata": {
    "_cell_guid": "8357238b-98fe-632a-acd5-33674a6132ce",
    "execution": {
     "iopub.execute_input": "2021-11-28T21:22:33.233644Z",
     "iopub.status.busy": "2021-11-28T21:22:33.232607Z",
     "iopub.status.idle": "2021-11-28T21:22:33.251987Z",
     "shell.execute_reply": "2021-11-28T21:22:33.252678Z",
     "shell.execute_reply.started": "2021-11-28T21:21:58.149403Z"
    },
    "papermill": {
     "duration": 0.056066,
     "end_time": "2021-11-28T21:22:33.252924",
     "exception": false,
     "start_time": "2021-11-28T21:22:33.196858",
     "status": "completed"
    },
    "tags": []
   },
   "outputs": [
    {
     "name": "stdout",
     "output_type": "stream",
     "text": [
      "    Title  Survived\n",
      "0  Master  0.575000\n",
      "1    Miss  0.702703\n",
      "2      Mr  0.156673\n",
      "3     Mrs  0.793651\n",
      "4    Rare  0.347826\n"
     ]
    }
   ],
   "source": [
    "for dataset in full_data:\n",
    "    dataset['Title'] = dataset['Title'].replace(['Lady', 'Countess','Capt', 'Col',\\\n",
    "     'Don', 'Dr', 'Major', 'Rev', 'Sir', 'Jonkheer', 'Dona'], 'Rare')\n",
    "\n",
    "    dataset['Title'] = dataset['Title'].replace('Mlle', 'Miss')\n",
    "    dataset['Title'] = dataset['Title'].replace('Ms', 'Miss')\n",
    "    dataset['Title'] = dataset['Title'].replace('Mme', 'Mrs')\n",
    "\n",
    "print (train[['Title', 'Survived']].groupby(['Title'], as_index=False).mean())"
   ]
  },
  {
   "cell_type": "markdown",
   "id": "05fd4fa4",
   "metadata": {
    "papermill": {
     "duration": 0.0329,
     "end_time": "2021-11-28T21:22:33.322565",
     "exception": false,
     "start_time": "2021-11-28T21:22:33.289665",
     "status": "completed"
    },
    "tags": []
   },
   "source": [
    "## 8. Ticket type ##\n"
   ]
  },
  {
   "cell_type": "code",
   "execution_count": 48,
   "id": "7e91e3e2",
   "metadata": {
    "execution": {
     "iopub.execute_input": "2021-11-28T21:22:33.402364Z",
     "iopub.status.busy": "2021-11-28T21:22:33.401636Z",
     "iopub.status.idle": "2021-11-28T21:22:33.403040Z",
     "shell.execute_reply": "2021-11-28T21:22:33.403620Z",
     "shell.execute_reply.started": "2021-11-28T21:21:58.172159Z"
    },
    "papermill": {
     "duration": 0.047759,
     "end_time": "2021-11-28T21:22:33.403808",
     "exception": false,
     "start_time": "2021-11-28T21:22:33.356049",
     "status": "completed"
    },
    "tags": []
   },
   "outputs": [],
   "source": [
    "for dataset in full_data:\n",
    "    dataset['Ticket_type'] = dataset['Ticket'].apply(lambda x: x[0:3])\n",
    "    dataset['Ticket_type'] = dataset['Ticket_type'].astype('category')\n",
    "    dataset['Ticket_type'] = dataset['Ticket_type'].cat.codes"
   ]
  },
  {
   "cell_type": "markdown",
   "id": "941c197f",
   "metadata": {
    "papermill": {
     "duration": 0.03284,
     "end_time": "2021-11-28T21:22:33.470090",
     "exception": false,
     "start_time": "2021-11-28T21:22:33.437250",
     "status": "completed"
    },
    "tags": []
   },
   "source": [
    "## 9. Has Cabin ##"
   ]
  },
  {
   "cell_type": "code",
   "execution_count": 49,
   "id": "40b88665",
   "metadata": {
    "execution": {
     "iopub.execute_input": "2021-11-28T21:22:33.540424Z",
     "iopub.status.busy": "2021-11-28T21:22:33.539706Z",
     "iopub.status.idle": "2021-11-28T21:22:33.546555Z",
     "shell.execute_reply": "2021-11-28T21:22:33.547174Z",
     "shell.execute_reply.started": "2021-11-28T21:21:58.186135Z"
    },
    "papermill": {
     "duration": 0.043782,
     "end_time": "2021-11-28T21:22:33.547359",
     "exception": false,
     "start_time": "2021-11-28T21:22:33.503577",
     "status": "completed"
    },
    "tags": []
   },
   "outputs": [],
   "source": [
    "for dataset in full_data:\n",
    "    dataset['Has_Cabin'] = dataset[\"Cabin\"].apply(lambda x: 0 if type(x) == float else 1)"
   ]
  },
  {
   "cell_type": "markdown",
   "id": "11e7f305",
   "metadata": {
    "_cell_guid": "68fa2057-e27a-e252-0d1b-869c00a303ba",
    "papermill": {
     "duration": 0.033206,
     "end_time": "2021-11-28T21:22:33.613651",
     "exception": false,
     "start_time": "2021-11-28T21:22:33.580445",
     "status": "completed"
    },
    "tags": []
   },
   "source": [
    "# Data Cleaning #\n",
    "Cleaning our data and map our features into numerical values."
   ]
  },
  {
   "cell_type": "code",
   "execution_count": 50,
   "id": "f559e0ec",
   "metadata": {
    "_cell_guid": "2502bb70-ce6f-2497-7331-7d1f80521470",
    "execution": {
     "iopub.execute_input": "2021-11-28T21:22:33.684188Z",
     "iopub.status.busy": "2021-11-28T21:22:33.683441Z",
     "iopub.status.idle": "2021-11-28T21:22:33.733355Z",
     "shell.execute_reply": "2021-11-28T21:22:33.733833Z",
     "shell.execute_reply.started": "2021-11-28T21:21:58.196673Z"
    },
    "papermill": {
     "duration": 0.086729,
     "end_time": "2021-11-28T21:22:33.734029",
     "exception": false,
     "start_time": "2021-11-28T21:22:33.647300",
     "status": "completed"
    },
    "tags": []
   },
   "outputs": [
    {
     "data": {
      "text/html": [
       "<div>\n",
       "<style scoped>\n",
       "    .dataframe tbody tr th:only-of-type {\n",
       "        vertical-align: middle;\n",
       "    }\n",
       "\n",
       "    .dataframe tbody tr th {\n",
       "        vertical-align: top;\n",
       "    }\n",
       "\n",
       "    .dataframe thead th {\n",
       "        text-align: right;\n",
       "    }\n",
       "</style>\n",
       "<table border=\"1\" class=\"dataframe\">\n",
       "  <thead>\n",
       "    <tr style=\"text-align: right;\">\n",
       "      <th></th>\n",
       "      <th>PassengerId</th>\n",
       "      <th>Survived</th>\n",
       "      <th>Pclass</th>\n",
       "      <th>Sex</th>\n",
       "      <th>Age</th>\n",
       "      <th>Parch</th>\n",
       "      <th>Fare</th>\n",
       "      <th>Embarked</th>\n",
       "      <th>FamilySize</th>\n",
       "      <th>IsAlone</th>\n",
       "      <th>Title</th>\n",
       "      <th>Ticket_type</th>\n",
       "      <th>Has_Cabin</th>\n",
       "      <th>Words_Count</th>\n",
       "    </tr>\n",
       "  </thead>\n",
       "  <tbody>\n",
       "    <tr>\n",
       "      <th>0</th>\n",
       "      <td>1</td>\n",
       "      <td>0</td>\n",
       "      <td>3</td>\n",
       "      <td>1</td>\n",
       "      <td>1</td>\n",
       "      <td>0</td>\n",
       "      <td>0</td>\n",
       "      <td>0</td>\n",
       "      <td>2</td>\n",
       "      <td>0</td>\n",
       "      <td>1</td>\n",
       "      <td>124</td>\n",
       "      <td>0</td>\n",
       "      <td>4</td>\n",
       "    </tr>\n",
       "    <tr>\n",
       "      <th>1</th>\n",
       "      <td>2</td>\n",
       "      <td>1</td>\n",
       "      <td>1</td>\n",
       "      <td>0</td>\n",
       "      <td>2</td>\n",
       "      <td>0</td>\n",
       "      <td>3</td>\n",
       "      <td>1</td>\n",
       "      <td>2</td>\n",
       "      <td>0</td>\n",
       "      <td>3</td>\n",
       "      <td>137</td>\n",
       "      <td>1</td>\n",
       "      <td>7</td>\n",
       "    </tr>\n",
       "    <tr>\n",
       "      <th>2</th>\n",
       "      <td>3</td>\n",
       "      <td>1</td>\n",
       "      <td>3</td>\n",
       "      <td>0</td>\n",
       "      <td>1</td>\n",
       "      <td>0</td>\n",
       "      <td>1</td>\n",
       "      <td>0</td>\n",
       "      <td>1</td>\n",
       "      <td>1</td>\n",
       "      <td>2</td>\n",
       "      <td>148</td>\n",
       "      <td>0</td>\n",
       "      <td>3</td>\n",
       "    </tr>\n",
       "    <tr>\n",
       "      <th>3</th>\n",
       "      <td>4</td>\n",
       "      <td>1</td>\n",
       "      <td>1</td>\n",
       "      <td>0</td>\n",
       "      <td>2</td>\n",
       "      <td>0</td>\n",
       "      <td>3</td>\n",
       "      <td>0</td>\n",
       "      <td>2</td>\n",
       "      <td>0</td>\n",
       "      <td>3</td>\n",
       "      <td>3</td>\n",
       "      <td>1</td>\n",
       "      <td>7</td>\n",
       "    </tr>\n",
       "    <tr>\n",
       "      <th>4</th>\n",
       "      <td>5</td>\n",
       "      <td>0</td>\n",
       "      <td>3</td>\n",
       "      <td>1</td>\n",
       "      <td>2</td>\n",
       "      <td>0</td>\n",
       "      <td>1</td>\n",
       "      <td>0</td>\n",
       "      <td>1</td>\n",
       "      <td>1</td>\n",
       "      <td>1</td>\n",
       "      <td>97</td>\n",
       "      <td>0</td>\n",
       "      <td>4</td>\n",
       "    </tr>\n",
       "    <tr>\n",
       "      <th>5</th>\n",
       "      <td>6</td>\n",
       "      <td>0</td>\n",
       "      <td>3</td>\n",
       "      <td>1</td>\n",
       "      <td>1</td>\n",
       "      <td>0</td>\n",
       "      <td>1</td>\n",
       "      <td>2</td>\n",
       "      <td>1</td>\n",
       "      <td>1</td>\n",
       "      <td>1</td>\n",
       "      <td>72</td>\n",
       "      <td>0</td>\n",
       "      <td>3</td>\n",
       "    </tr>\n",
       "    <tr>\n",
       "      <th>6</th>\n",
       "      <td>7</td>\n",
       "      <td>0</td>\n",
       "      <td>1</td>\n",
       "      <td>1</td>\n",
       "      <td>3</td>\n",
       "      <td>0</td>\n",
       "      <td>3</td>\n",
       "      <td>0</td>\n",
       "      <td>1</td>\n",
       "      <td>1</td>\n",
       "      <td>1</td>\n",
       "      <td>18</td>\n",
       "      <td>1</td>\n",
       "      <td>4</td>\n",
       "    </tr>\n",
       "    <tr>\n",
       "      <th>7</th>\n",
       "      <td>8</td>\n",
       "      <td>0</td>\n",
       "      <td>3</td>\n",
       "      <td>1</td>\n",
       "      <td>0</td>\n",
       "      <td>1</td>\n",
       "      <td>2</td>\n",
       "      <td>0</td>\n",
       "      <td>5</td>\n",
       "      <td>0</td>\n",
       "      <td>4</td>\n",
       "      <td>83</td>\n",
       "      <td>0</td>\n",
       "      <td>4</td>\n",
       "    </tr>\n",
       "    <tr>\n",
       "      <th>8</th>\n",
       "      <td>9</td>\n",
       "      <td>1</td>\n",
       "      <td>3</td>\n",
       "      <td>0</td>\n",
       "      <td>1</td>\n",
       "      <td>2</td>\n",
       "      <td>1</td>\n",
       "      <td>0</td>\n",
       "      <td>3</td>\n",
       "      <td>0</td>\n",
       "      <td>3</td>\n",
       "      <td>81</td>\n",
       "      <td>0</td>\n",
       "      <td>7</td>\n",
       "    </tr>\n",
       "    <tr>\n",
       "      <th>9</th>\n",
       "      <td>10</td>\n",
       "      <td>1</td>\n",
       "      <td>2</td>\n",
       "      <td>0</td>\n",
       "      <td>0</td>\n",
       "      <td>0</td>\n",
       "      <td>2</td>\n",
       "      <td>1</td>\n",
       "      <td>2</td>\n",
       "      <td>0</td>\n",
       "      <td>3</td>\n",
       "      <td>38</td>\n",
       "      <td>0</td>\n",
       "      <td>5</td>\n",
       "    </tr>\n",
       "  </tbody>\n",
       "</table>\n",
       "</div>"
      ],
      "text/plain": [
       "   PassengerId  Survived  Pclass  Sex  Age  Parch  Fare  Embarked  FamilySize  \\\n",
       "0            1         0       3    1    1      0     0         0           2   \n",
       "1            2         1       1    0    2      0     3         1           2   \n",
       "2            3         1       3    0    1      0     1         0           1   \n",
       "3            4         1       1    0    2      0     3         0           2   \n",
       "4            5         0       3    1    2      0     1         0           1   \n",
       "5            6         0       3    1    1      0     1         2           1   \n",
       "6            7         0       1    1    3      0     3         0           1   \n",
       "7            8         0       3    1    0      1     2         0           5   \n",
       "8            9         1       3    0    1      2     1         0           3   \n",
       "9           10         1       2    0    0      0     2         1           2   \n",
       "\n",
       "   IsAlone  Title  Ticket_type  Has_Cabin  Words_Count  \n",
       "0        0      1          124          0            4  \n",
       "1        0      3          137          1            7  \n",
       "2        1      2          148          0            3  \n",
       "3        0      3            3          1            7  \n",
       "4        1      1           97          0            4  \n",
       "5        1      1           72          0            3  \n",
       "6        1      1           18          1            4  \n",
       "7        0      4           83          0            4  \n",
       "8        0      3           81          0            7  \n",
       "9        0      3           38          0            5  "
      ]
     },
     "execution_count": 50,
     "metadata": {},
     "output_type": "execute_result"
    }
   ],
   "source": [
    "for dataset in full_data:\n",
    "    \n",
    "    # Mapping name to word count\n",
    "    dataset['Words_Count'] = dataset['Name'].apply(lambda x: len(x.split()))\n",
    "    \n",
    "    # Mapping Sex\n",
    "    dataset['Sex'] = dataset['Sex'].map( {'female': 0, 'male': 1} ).astype(int)\n",
    "    \n",
    "    # Mapping titles\n",
    "    title_mapping = {\"Mr\": 1, \"Miss\": 2, \"Mrs\": 3, \"Master\": 4, \"Rare\": 5}\n",
    "    dataset['Title'] = dataset['Title'].map(title_mapping)\n",
    "    dataset['Title'] = dataset['Title'].fillna(0)\n",
    "    \n",
    "    # Mapping Embarked\n",
    "    dataset['Embarked'] = dataset['Embarked'].map( {'S': 0, 'C': 1, 'Q': 2} ).astype(int)\n",
    "    \n",
    "    # Mapping Fare\n",
    "    dataset.loc[ dataset['Fare'] <= 7.91, 'Fare'] \t\t\t\t\t\t        = 0\n",
    "    dataset.loc[(dataset['Fare'] > 7.91) & (dataset['Fare'] <= 14.454), 'Fare'] = 1\n",
    "    dataset.loc[(dataset['Fare'] > 14.454) & (dataset['Fare'] <= 31), 'Fare']   = 2\n",
    "    dataset.loc[ dataset['Fare'] > 31, 'Fare'] \t\t\t\t\t\t\t        = 3\n",
    "    dataset['Fare'] = dataset['Fare'].astype(int)\n",
    "    \n",
    "    # Mapping Age\n",
    "    dataset.loc[ dataset['Age'] <= 16, 'Age'] \t\t\t\t\t       = 0\n",
    "    dataset.loc[(dataset['Age'] > 16) & (dataset['Age'] <= 32), 'Age'] = 1\n",
    "    dataset.loc[(dataset['Age'] > 32) & (dataset['Age'] <= 48), 'Age'] = 2\n",
    "    dataset.loc[(dataset['Age'] > 48) & (dataset['Age'] <= 64), 'Age'] = 3\n",
    "    dataset.loc[ dataset['Age'] > 64, 'Age']                           = 4\n",
    "\n",
    "# Feature Selection\n",
    "drop_elements = [ 'Name', 'Ticket', 'Cabin', 'SibSp']\n",
    "train = train.drop(drop_elements, axis = 1)\n",
    "train = train.drop(['CategoricalAge', 'CategoricalFare'], axis = 1)\n",
    "\n",
    "test  = test.drop(drop_elements, axis = 1)\n",
    "\n",
    "train.head(10)\n"
   ]
  },
  {
   "cell_type": "code",
   "execution_count": 51,
   "id": "0a1ad1d5",
   "metadata": {
    "execution": {
     "iopub.execute_input": "2021-11-28T21:22:33.806164Z",
     "iopub.status.busy": "2021-11-28T21:22:33.805415Z",
     "iopub.status.idle": "2021-11-28T21:22:36.161035Z",
     "shell.execute_reply": "2021-11-28T21:22:36.161567Z",
     "shell.execute_reply.started": "2021-11-28T21:21:58.248903Z"
    },
    "papermill": {
     "duration": 2.39372,
     "end_time": "2021-11-28T21:22:36.161745",
     "exception": false,
     "start_time": "2021-11-28T21:22:33.768025",
     "status": "completed"
    },
    "tags": []
   },
   "outputs": [
    {
     "data": {
      "text/plain": [
       "<AxesSubplot:title={'center':'Pearson Correlation of Features'}>"
      ]
     },
     "execution_count": 51,
     "metadata": {},
     "output_type": "execute_result"
    },
    {
     "data": {
      "image/png": "[encoded data removed]",
      "text/plain": [
       "<Figure size 1008x864 with 2 Axes>"
      ]
     },
     "metadata": {
      "needs_background": "light"
     },
     "output_type": "display_data"
    }
   ],
   "source": [
    "import matplotlib.pyplot as plt\n",
    "%matplotlib inline\n",
    "import seaborn as sns\n",
    "\n",
    "colormap = plt.cm.RdBu\n",
    "plt.figure(figsize=(14,12))\n",
    "plt.title('Pearson Correlation of Features', y=1.05, size=15)\n",
    "sns.heatmap(train.astype(float).corr(),linewidths=0.1,vmax=1.0, \n",
    "            square=True, cmap=colormap, linecolor='white', annot=True)"
   ]
  },
  {
   "cell_type": "code",
   "execution_count": 52,
   "id": "2ade5d79",
   "metadata": {
    "execution": {
     "iopub.execute_input": "2021-11-28T21:22:36.240137Z",
     "iopub.status.busy": "2021-11-28T21:22:36.239444Z",
     "iopub.status.idle": "2021-11-28T21:22:36.247482Z",
     "shell.execute_reply": "2021-11-28T21:22:36.246887Z",
     "shell.execute_reply.started": "2021-11-28T21:21:59.517577Z"
    },
    "papermill": {
     "duration": 0.048365,
     "end_time": "2021-11-28T21:22:36.247625",
     "exception": false,
     "start_time": "2021-11-28T21:22:36.199260",
     "status": "completed"
    },
    "tags": []
   },
   "outputs": [],
   "source": [
    "train.to_pickle('./train.pkl')\n",
    "test.to_pickle('./test.pkl')\n",
    "train = pd.read_pickle('./train.pkl')\n",
    "test = pd.read_pickle('./test.pkl')"
   ]
  },
  {
   "cell_type": "markdown",
   "id": "56b3cfbb",
   "metadata": {
    "_cell_guid": "23b55b45-572b-7276-32e7-8f7a0dcfd25e",
    "papermill": {
     "duration": 0.036891,
     "end_time": "2021-11-28T21:22:36.321885",
     "exception": false,
     "start_time": "2021-11-28T21:22:36.284994",
     "status": "completed"
    },
    "tags": []
   },
   "source": [
    "# Classifier Comparison #"
   ]
  },
  {
   "cell_type": "markdown",
   "id": "2444e1dc",
   "metadata": {
    "_cell_guid": "438585cf-b7ad-73ba-49aa-87688ff21233",
    "papermill": {
     "duration": 0.036548,
     "end_time": "2021-11-28T21:22:36.395716",
     "exception": false,
     "start_time": "2021-11-28T21:22:36.359168",
     "status": "completed"
    },
    "tags": []
   },
   "source": [
    "# Prediction #"
   ]
  },
  {
   "cell_type": "code",
   "execution_count": 53,
   "id": "62d9be6c",
   "metadata": {
    "execution": {
     "iopub.execute_input": "2021-11-28T21:22:36.478211Z",
     "iopub.status.busy": "2021-11-28T21:22:36.477256Z",
     "iopub.status.idle": "2021-11-28T21:22:36.479828Z",
     "shell.execute_reply": "2021-11-28T21:22:36.480466Z",
     "shell.execute_reply.started": "2021-11-28T21:21:59.526031Z"
    },
    "papermill": {
     "duration": 0.047897,
     "end_time": "2021-11-28T21:22:36.480640",
     "exception": false,
     "start_time": "2021-11-28T21:22:36.432743",
     "status": "completed"
    },
    "tags": []
   },
   "outputs": [],
   "source": [
    "y_train = train['Survived'].ravel()\n",
    "train = train.drop(['Survived'], axis=1)\n",
    "x_train = train.values # Creates an array of the train data\n",
    "x_test = test.values "
   ]
  },
  {
   "cell_type": "code",
   "execution_count": 54,
   "id": "74cf4d7b",
   "metadata": {
    "execution": {
     "iopub.execute_input": "2021-11-28T21:22:36.621857Z",
     "iopub.status.busy": "2021-11-28T21:22:36.620860Z",
     "iopub.status.idle": "2021-11-28T21:22:37.398043Z",
     "shell.execute_reply": "2021-11-28T21:22:37.398681Z",
     "shell.execute_reply.started": "2021-11-28T21:21:59.535890Z"
    },
    "papermill": {
     "duration": 0.818355,
     "end_time": "2021-11-28T21:22:37.398898",
     "exception": false,
     "start_time": "2021-11-28T21:22:36.580543",
     "status": "completed"
    },
    "tags": []
   },
   "outputs": [
    {
     "name": "stdout",
     "output_type": "stream",
     "text": [
      "[22:20:31] WARNING: C:/Users/Administrator/workspace/xgboost-win64_release_1.4.0/src/learner.cc:1095: Starting in XGBoost 1.3.0, the default evaluation metric used with the objective 'binary:logistic' was changed from 'error' to 'logloss'. Explicitly set eval_metric if you'd like to restore the old behavior.\n"
     ]
    },
    {
     "name": "stderr",
     "output_type": "stream",
     "text": [
      "C:\\Users\\Karth\\miniconda3\\lib\\site-packages\\xgboost\\sklearn.py:1146: UserWarning: The use of label encoder in XGBClassifier is deprecated and will be removed in a future release. To remove this warning, do the following: 1) Pass option use_label_encoder=False when constructing XGBClassifier object; and 2) Encode your labels (y) as integers starting with 0, i.e. 0, 1, 2, ..., [num_class - 1].\n",
      "  warnings.warn(label_encoder_deprecation_msg, UserWarning)\n"
     ]
    }
   ],
   "source": [
    "from xgboost import XGBClassifier\n",
    "\n",
    "xgb = XGBClassifier().fit(x_train, y_train)\n",
    "result = xgb.predict(x_test)"
   ]
  },
  {
   "cell_type": "code",
   "execution_count": 55,
   "id": "dca4d334",
   "metadata": {
    "execution": {
     "iopub.execute_input": "2021-11-28T21:22:37.482470Z",
     "iopub.status.busy": "2021-11-28T21:22:37.481566Z",
     "iopub.status.idle": "2021-11-28T21:22:37.484540Z",
     "shell.execute_reply": "2021-11-28T21:22:37.483867Z",
     "shell.execute_reply.started": "2021-11-28T21:22:00.002146Z"
    },
    "papermill": {
     "duration": 0.045637,
     "end_time": "2021-11-28T21:22:37.484686",
     "exception": false,
     "start_time": "2021-11-28T21:22:37.439049",
     "status": "completed"
    },
    "tags": []
   },
   "outputs": [],
   "source": [
    "# from sklearn.ensemble import RandomForestClassifier\n",
    "# rf = RandomForestClassifier()\n",
    "# rf.fit(x_train, y_train)\n",
    "# result = rf.predict(x_test)"
   ]
  },
  {
   "cell_type": "code",
   "execution_count": 56,
   "id": "b17fb3e9",
   "metadata": {
    "execution": {
     "iopub.execute_input": "2021-11-28T21:22:37.568766Z",
     "iopub.status.busy": "2021-11-28T21:22:37.567899Z",
     "iopub.status.idle": "2021-11-28T21:22:37.583748Z",
     "shell.execute_reply": "2021-11-28T21:22:37.583199Z",
     "shell.execute_reply.started": "2021-11-28T21:22:00.007881Z"
    },
    "papermill": {
     "duration": 0.060464,
     "end_time": "2021-11-28T21:22:37.583914",
     "exception": false,
     "start_time": "2021-11-28T21:22:37.523450",
     "status": "completed"
    },
    "tags": []
   },
   "outputs": [
    {
     "data": {
      "text/html": [
       "<div>\n",
       "<style scoped>\n",
       "    .dataframe tbody tr th:only-of-type {\n",
       "        vertical-align: middle;\n",
       "    }\n",
       "\n",
       "    .dataframe tbody tr th {\n",
       "        vertical-align: top;\n",
       "    }\n",
       "\n",
       "    .dataframe thead th {\n",
       "        text-align: right;\n",
       "    }\n",
       "</style>\n",
       "<table border=\"1\" class=\"dataframe\">\n",
       "  <thead>\n",
       "    <tr style=\"text-align: right;\">\n",
       "      <th></th>\n",
       "      <th>PassengerId</th>\n",
       "      <th>Survived</th>\n",
       "    </tr>\n",
       "  </thead>\n",
       "  <tbody>\n",
       "    <tr>\n",
       "      <th>0</th>\n",
       "      <td>892</td>\n",
       "      <td>0</td>\n",
       "    </tr>\n",
       "    <tr>\n",
       "      <th>1</th>\n",
       "      <td>893</td>\n",
       "      <td>1</td>\n",
       "    </tr>\n",
       "    <tr>\n",
       "      <th>2</th>\n",
       "      <td>894</td>\n",
       "      <td>0</td>\n",
       "    </tr>\n",
       "    <tr>\n",
       "      <th>3</th>\n",
       "      <td>895</td>\n",
       "      <td>0</td>\n",
       "    </tr>\n",
       "    <tr>\n",
       "      <th>4</th>\n",
       "      <td>896</td>\n",
       "      <td>0</td>\n",
       "    </tr>\n",
       "    <tr>\n",
       "      <th>...</th>\n",
       "      <td>...</td>\n",
       "      <td>...</td>\n",
       "    </tr>\n",
       "    <tr>\n",
       "      <th>413</th>\n",
       "      <td>1305</td>\n",
       "      <td>0</td>\n",
       "    </tr>\n",
       "    <tr>\n",
       "      <th>414</th>\n",
       "      <td>1306</td>\n",
       "      <td>1</td>\n",
       "    </tr>\n",
       "    <tr>\n",
       "      <th>415</th>\n",
       "      <td>1307</td>\n",
       "      <td>0</td>\n",
       "    </tr>\n",
       "    <tr>\n",
       "      <th>416</th>\n",
       "      <td>1308</td>\n",
       "      <td>0</td>\n",
       "    </tr>\n",
       "    <tr>\n",
       "      <th>417</th>\n",
       "      <td>1309</td>\n",
       "      <td>1</td>\n",
       "    </tr>\n",
       "  </tbody>\n",
       "</table>\n",
       "<p>418 rows × 2 columns</p>\n",
       "</div>"
      ],
      "text/plain": [
       "     PassengerId  Survived\n",
       "0            892         0\n",
       "1            893         1\n",
       "2            894         0\n",
       "3            895         0\n",
       "4            896         0\n",
       "..           ...       ...\n",
       "413         1305         0\n",
       "414         1306         1\n",
       "415         1307         0\n",
       "416         1308         0\n",
       "417         1309         1\n",
       "\n",
       "[418 rows x 2 columns]"
      ]
     },
     "execution_count": 56,
     "metadata": {},
     "output_type": "execute_result"
    }
   ],
   "source": [
    "submission = pd.DataFrame({\n",
    "        \"PassengerId\": PassengerId,\n",
    "        \"Survived\": result\n",
    "    })\n",
    "submission"
   ]
  },
  {
   "cell_type": "code",
   "execution_count": 57,
   "id": "30d90e60",
   "metadata": {
    "execution": {
     "iopub.execute_input": "2021-11-28T21:22:37.680069Z",
     "iopub.status.busy": "2021-11-28T21:22:37.679059Z",
     "iopub.status.idle": "2021-11-28T21:22:37.684121Z",
     "shell.execute_reply": "2021-11-28T21:22:37.685013Z",
     "shell.execute_reply.started": "2021-11-28T21:22:00.027168Z"
    },
    "papermill": {
     "duration": 0.058254,
     "end_time": "2021-11-28T21:22:37.685258",
     "exception": false,
     "start_time": "2021-11-28T21:22:37.627004",
     "status": "completed"
    },
    "tags": []
   },
   "outputs": [],
   "source": [
    "submission.to_csv('./submission.csv', index=False)"
   ]
  },
  {
   "cell_type": "code",
   "execution_count": null,
   "id": "64e5c06d",
   "metadata": {
    "papermill": {
     "duration": 0.039936,
     "end_time": "2021-11-28T21:22:37.769237",
     "exception": false,
     "start_time": "2021-11-28T21:22:37.729301",
     "status": "completed"
    },
    "tags": []
   },
   "outputs": [],
   "source": []
  }
 ],
 "metadata": {
  "kernelspec": {
   "display_name": "Python 3",
   "language": "python",
   "name": "python3"
  },
  "language_info": {
   "codemirror_mode": {
    "name": "ipython",
    "version": 3
   },
   "file_extension": ".py",
   "mimetype": "text/x-python",
   "name": "python",
   "nbconvert_exporter": "python",
   "pygments_lexer": "ipython3",
   "version": "3.9.1"
  },
  "papermill": {
   "default_parameters": {},
   "duration": 16.565082,
   "end_time": "2021-11-28T21:22:38.626118",
   "environment_variables": {},
   "exception": null,
   "input_path": "__notebook__.ipynb",
   "output_path": "__notebook__.ipynb",
   "parameters": {},
   "start_time": "2021-11-28T21:22:22.061036",
   "version": "2.3.3"
  }
 },
 "nbformat": 4,
 "nbformat_minor": 5
}
