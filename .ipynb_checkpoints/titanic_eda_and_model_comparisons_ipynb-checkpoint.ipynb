{
 "cells": [
  {
   "cell_type": "code",
   "execution_count": null,
   "id": "RIul00sqYE_q",
   "metadata": {
    "_cell_guid": "2ce68358-02ec-556d-ba88-e773a50bc18b",
    "execution": {
     "iopub.execute_input": "2021-12-02T02:12:01.654580Z",
     "iopub.status.busy": "2021-12-02T02:12:01.652765Z",
     "iopub.status.idle": "2021-12-02T02:12:02.561188Z",
     "shell.execute_reply": "2021-12-02T02:12:02.560202Z",
     "shell.execute_reply.started": "2021-12-02T01:43:43.264155Z"
    },
    "id": "RIul00sqYE_q",
    "papermill": {
     "duration": 0.949644,
     "end_time": "2021-12-02T02:12:02.561364",
     "exception": false,
     "start_time": "2021-12-02T02:12:01.611720",
     "status": "completed"
    },
    "tags": []
   },
   "outputs": [],
   "source": [
    "%matplotlib inline\n",
    "import numpy as np\n",
    "import pandas as pd\n",
    "import re as re\n",
    "import matplotlib.pyplot as plt\n",
    "import seaborn as sns\n",
    "\n",
    "import warnings\n",
    "warnings.filterwarnings('ignore')\n",
    "\n",
    "train = pd.read_csv('/content/drive/MyDrive/titanic/train.csv', header = 0, dtype={'Age': np.float64})\n",
    "test  = pd.read_csv('/content/drive/MyDrive/titanic/test.csv' , header = 0, dtype={'Age': np.float64})\n",
    "PassengerId = test['PassengerId']\n",
    "\n",
    "full_data = [train, test]"
   ]
  },
  {
   "cell_type": "code",
   "execution_count": null,
   "id": "vr29B7N4YIEL",
   "metadata": {
    "colab": {
     "base_uri": "https://localhost:8080/"
    },
    "id": "vr29B7N4YIEL",
    "outputId": "2de646c7-b7ae-473b-d53d-79926d0252cb"
   },
   "outputs": [
    {
     "name": "stdout",
     "output_type": "stream",
     "text": [
      "Drive already mounted at /content/drive; to attempt to forcibly remount, call drive.mount(\"/content/drive\", force_remount=True).\n"
     ]
    }
   ],
   "source": [
    "from google.colab import drive\n",
    "drive.mount('/content/drive')"
   ]
  },
  {
   "cell_type": "code",
   "execution_count": null,
   "id": "kyw1C65Q5KmK",
   "metadata": {
    "colab": {
     "base_uri": "https://localhost:8080/",
     "height": 228
    },
    "id": "kyw1C65Q5KmK",
    "outputId": "16a11cf8-064a-4029-df13-9cfa04f9d68e"
   },
   "outputs": [
    {
     "data": {
      "text/html": [
       "<div>\n",
       "<style scoped>\n",
       "    .dataframe tbody tr th:only-of-type {\n",
       "        vertical-align: middle;\n",
       "    }\n",
       "\n",
       "    .dataframe tbody tr th {\n",
       "        vertical-align: top;\n",
       "    }\n",
       "\n",
       "    .dataframe thead th {\n",
       "        text-align: right;\n",
       "    }\n",
       "</style>\n",
       "<table border=\"1\" class=\"dataframe\">\n",
       "  <thead>\n",
       "    <tr style=\"text-align: right;\">\n",
       "      <th></th>\n",
       "      <th>Survived</th>\n",
       "      <th>Pclass</th>\n",
       "      <th>Sex</th>\n",
       "      <th>Age</th>\n",
       "      <th>Parch</th>\n",
       "      <th>Fare</th>\n",
       "      <th>Embarked</th>\n",
       "      <th>FamilySize</th>\n",
       "      <th>IsAlone</th>\n",
       "      <th>Title</th>\n",
       "      <th>Ticket_type</th>\n",
       "      <th>Has_Cabin</th>\n",
       "      <th>FamilySurvival</th>\n",
       "      <th>Words_Count</th>\n",
       "    </tr>\n",
       "  </thead>\n",
       "  <tbody>\n",
       "    <tr>\n",
       "      <th>0</th>\n",
       "      <td>0</td>\n",
       "      <td>3</td>\n",
       "      <td>1</td>\n",
       "      <td>1</td>\n",
       "      <td>0</td>\n",
       "      <td>0</td>\n",
       "      <td>0</td>\n",
       "      <td>2</td>\n",
       "      <td>0</td>\n",
       "      <td>1</td>\n",
       "      <td>124</td>\n",
       "      <td>0</td>\n",
       "      <td>1</td>\n",
       "      <td>4</td>\n",
       "    </tr>\n",
       "    <tr>\n",
       "      <th>1</th>\n",
       "      <td>1</td>\n",
       "      <td>1</td>\n",
       "      <td>0</td>\n",
       "      <td>2</td>\n",
       "      <td>0</td>\n",
       "      <td>3</td>\n",
       "      <td>1</td>\n",
       "      <td>2</td>\n",
       "      <td>0</td>\n",
       "      <td>3</td>\n",
       "      <td>137</td>\n",
       "      <td>1</td>\n",
       "      <td>1</td>\n",
       "      <td>7</td>\n",
       "    </tr>\n",
       "    <tr>\n",
       "      <th>2</th>\n",
       "      <td>1</td>\n",
       "      <td>3</td>\n",
       "      <td>0</td>\n",
       "      <td>1</td>\n",
       "      <td>0</td>\n",
       "      <td>1</td>\n",
       "      <td>0</td>\n",
       "      <td>1</td>\n",
       "      <td>1</td>\n",
       "      <td>2</td>\n",
       "      <td>148</td>\n",
       "      <td>0</td>\n",
       "      <td>1</td>\n",
       "      <td>3</td>\n",
       "    </tr>\n",
       "    <tr>\n",
       "      <th>3</th>\n",
       "      <td>1</td>\n",
       "      <td>1</td>\n",
       "      <td>0</td>\n",
       "      <td>2</td>\n",
       "      <td>0</td>\n",
       "      <td>3</td>\n",
       "      <td>0</td>\n",
       "      <td>2</td>\n",
       "      <td>0</td>\n",
       "      <td>3</td>\n",
       "      <td>3</td>\n",
       "      <td>1</td>\n",
       "      <td>1</td>\n",
       "      <td>7</td>\n",
       "    </tr>\n",
       "    <tr>\n",
       "      <th>4</th>\n",
       "      <td>0</td>\n",
       "      <td>3</td>\n",
       "      <td>1</td>\n",
       "      <td>2</td>\n",
       "      <td>0</td>\n",
       "      <td>1</td>\n",
       "      <td>0</td>\n",
       "      <td>1</td>\n",
       "      <td>1</td>\n",
       "      <td>1</td>\n",
       "      <td>97</td>\n",
       "      <td>0</td>\n",
       "      <td>1</td>\n",
       "      <td>4</td>\n",
       "    </tr>\n",
       "  </tbody>\n",
       "</table>\n",
       "</div>"
      ],
      "text/plain": [
       "   Survived  Pclass  Sex  ...  Has_Cabin  FamilySurvival  Words_Count\n",
       "0         0       3    1  ...          0               1            4\n",
       "1         1       1    0  ...          1               1            7\n",
       "2         1       3    0  ...          0               1            3\n",
       "3         1       1    0  ...          1               1            7\n",
       "4         0       3    1  ...          0               1            4\n",
       "\n",
       "[5 rows x 14 columns]"
      ]
     },
     "execution_count": 107,
     "metadata": {},
     "output_type": "execute_result"
    }
   ],
   "source": [
    "train.head()"
   ]
  },
  {
   "cell_type": "code",
   "execution_count": null,
   "id": "80IkpI8PYE_s",
   "metadata": {
    "colab": {
     "base_uri": "https://localhost:8080/",
     "height": 323
    },
    "execution": {
     "iopub.execute_input": "2021-12-02T02:12:02.638518Z",
     "iopub.status.busy": "2021-12-02T02:12:02.637766Z",
     "iopub.status.idle": "2021-12-02T02:12:02.670588Z",
     "shell.execute_reply": "2021-12-02T02:12:02.671091Z",
     "shell.execute_reply.started": "2021-12-02T01:43:43.294792Z"
    },
    "id": "80IkpI8PYE_s",
    "outputId": "103b6c56-6965-43b1-de4b-f78852684ead",
    "papermill": {
     "duration": 0.077483,
     "end_time": "2021-12-02T02:12:02.671270",
     "exception": false,
     "start_time": "2021-12-02T02:12:02.593787",
     "status": "completed"
    },
    "tags": []
   },
   "outputs": [
    {
     "data": {
      "text/html": [
       "<div>\n",
       "<style scoped>\n",
       "    .dataframe tbody tr th:only-of-type {\n",
       "        vertical-align: middle;\n",
       "    }\n",
       "\n",
       "    .dataframe tbody tr th {\n",
       "        vertical-align: top;\n",
       "    }\n",
       "\n",
       "    .dataframe thead th {\n",
       "        text-align: right;\n",
       "    }\n",
       "</style>\n",
       "<table border=\"1\" class=\"dataframe\">\n",
       "  <thead>\n",
       "    <tr style=\"text-align: right;\">\n",
       "      <th></th>\n",
       "      <th>PassengerId</th>\n",
       "      <th>Survived</th>\n",
       "      <th>Pclass</th>\n",
       "      <th>Age</th>\n",
       "      <th>SibSp</th>\n",
       "      <th>Parch</th>\n",
       "      <th>Fare</th>\n",
       "    </tr>\n",
       "  </thead>\n",
       "  <tbody>\n",
       "    <tr>\n",
       "      <th>count</th>\n",
       "      <td>891.000000</td>\n",
       "      <td>891.000000</td>\n",
       "      <td>891.000000</td>\n",
       "      <td>714.000000</td>\n",
       "      <td>891.000000</td>\n",
       "      <td>891.000000</td>\n",
       "      <td>891.000000</td>\n",
       "    </tr>\n",
       "    <tr>\n",
       "      <th>mean</th>\n",
       "      <td>446.000000</td>\n",
       "      <td>0.383838</td>\n",
       "      <td>2.308642</td>\n",
       "      <td>29.699118</td>\n",
       "      <td>0.523008</td>\n",
       "      <td>0.381594</td>\n",
       "      <td>32.204208</td>\n",
       "    </tr>\n",
       "    <tr>\n",
       "      <th>std</th>\n",
       "      <td>257.353842</td>\n",
       "      <td>0.486592</td>\n",
       "      <td>0.836071</td>\n",
       "      <td>14.526497</td>\n",
       "      <td>1.102743</td>\n",
       "      <td>0.806057</td>\n",
       "      <td>49.693429</td>\n",
       "    </tr>\n",
       "    <tr>\n",
       "      <th>min</th>\n",
       "      <td>1.000000</td>\n",
       "      <td>0.000000</td>\n",
       "      <td>1.000000</td>\n",
       "      <td>0.420000</td>\n",
       "      <td>0.000000</td>\n",
       "      <td>0.000000</td>\n",
       "      <td>0.000000</td>\n",
       "    </tr>\n",
       "    <tr>\n",
       "      <th>25%</th>\n",
       "      <td>223.500000</td>\n",
       "      <td>0.000000</td>\n",
       "      <td>2.000000</td>\n",
       "      <td>20.125000</td>\n",
       "      <td>0.000000</td>\n",
       "      <td>0.000000</td>\n",
       "      <td>7.910400</td>\n",
       "    </tr>\n",
       "    <tr>\n",
       "      <th>50%</th>\n",
       "      <td>446.000000</td>\n",
       "      <td>0.000000</td>\n",
       "      <td>3.000000</td>\n",
       "      <td>28.000000</td>\n",
       "      <td>0.000000</td>\n",
       "      <td>0.000000</td>\n",
       "      <td>14.454200</td>\n",
       "    </tr>\n",
       "    <tr>\n",
       "      <th>75%</th>\n",
       "      <td>668.500000</td>\n",
       "      <td>1.000000</td>\n",
       "      <td>3.000000</td>\n",
       "      <td>38.000000</td>\n",
       "      <td>1.000000</td>\n",
       "      <td>0.000000</td>\n",
       "      <td>31.000000</td>\n",
       "    </tr>\n",
       "    <tr>\n",
       "      <th>max</th>\n",
       "      <td>891.000000</td>\n",
       "      <td>1.000000</td>\n",
       "      <td>3.000000</td>\n",
       "      <td>80.000000</td>\n",
       "      <td>8.000000</td>\n",
       "      <td>6.000000</td>\n",
       "      <td>512.329200</td>\n",
       "    </tr>\n",
       "  </tbody>\n",
       "</table>\n",
       "</div>"
      ],
      "text/plain": [
       "       PassengerId    Survived      Pclass  ...       SibSp       Parch        Fare\n",
       "count   891.000000  891.000000  891.000000  ...  891.000000  891.000000  891.000000\n",
       "mean    446.000000    0.383838    2.308642  ...    0.523008    0.381594   32.204208\n",
       "std     257.353842    0.486592    0.836071  ...    1.102743    0.806057   49.693429\n",
       "min       1.000000    0.000000    1.000000  ...    0.000000    0.000000    0.000000\n",
       "25%     223.500000    0.000000    2.000000  ...    0.000000    0.000000    7.910400\n",
       "50%     446.000000    0.000000    3.000000  ...    0.000000    0.000000   14.454200\n",
       "75%     668.500000    1.000000    3.000000  ...    1.000000    0.000000   31.000000\n",
       "max     891.000000    1.000000    3.000000  ...    8.000000    6.000000  512.329200\n",
       "\n",
       "[8 rows x 7 columns]"
      ]
     },
     "execution_count": 4,
     "metadata": {},
     "output_type": "execute_result"
    }
   ],
   "source": [
    "train.describe()"
   ]
  },
  {
   "cell_type": "code",
   "execution_count": null,
   "id": "CNR86tgRYE_u",
   "metadata": {
    "colab": {
     "base_uri": "https://localhost:8080/"
    },
    "execution": {
     "iopub.execute_input": "2021-12-02T02:12:02.748499Z",
     "iopub.status.busy": "2021-12-02T02:12:02.747014Z",
     "iopub.status.idle": "2021-12-02T02:12:02.751558Z",
     "shell.execute_reply": "2021-12-02T02:12:02.752236Z",
     "shell.execute_reply.started": "2021-12-02T01:43:43.330035Z"
    },
    "id": "CNR86tgRYE_u",
    "outputId": "c7ef3373-4560-48d2-a05b-29ad610ba71c",
    "papermill": {
     "duration": 0.049459,
     "end_time": "2021-12-02T02:12:02.752448",
     "exception": false,
     "start_time": "2021-12-02T02:12:02.702989",
     "status": "completed"
    },
    "tags": []
   },
   "outputs": [
    {
     "name": "stdout",
     "output_type": "stream",
     "text": [
      "<class 'pandas.core.frame.DataFrame'>\n",
      "RangeIndex: 891 entries, 0 to 890\n",
      "Data columns (total 12 columns):\n",
      " #   Column       Non-Null Count  Dtype  \n",
      "---  ------       --------------  -----  \n",
      " 0   PassengerId  891 non-null    int64  \n",
      " 1   Survived     891 non-null    int64  \n",
      " 2   Pclass       891 non-null    int64  \n",
      " 3   Name         891 non-null    object \n",
      " 4   Sex          891 non-null    object \n",
      " 5   Age          714 non-null    float64\n",
      " 6   SibSp        891 non-null    int64  \n",
      " 7   Parch        891 non-null    int64  \n",
      " 8   Ticket       891 non-null    object \n",
      " 9   Fare         891 non-null    float64\n",
      " 10  Cabin        204 non-null    object \n",
      " 11  Embarked     889 non-null    object \n",
      "dtypes: float64(2), int64(5), object(5)\n",
      "memory usage: 83.7+ KB\n"
     ]
    }
   ],
   "source": [
    "train.info()"
   ]
  },
  {
   "cell_type": "code",
   "execution_count": null,
   "id": "GSKeHHtLYE_v",
   "metadata": {
    "colab": {
     "base_uri": "https://localhost:8080/"
    },
    "execution": {
     "iopub.execute_input": "2021-12-02T02:12:02.818912Z",
     "iopub.status.busy": "2021-12-02T02:12:02.818253Z",
     "iopub.status.idle": "2021-12-02T02:12:02.826100Z",
     "shell.execute_reply": "2021-12-02T02:12:02.826675Z",
     "shell.execute_reply.started": "2021-12-02T01:43:43.344555Z"
    },
    "id": "GSKeHHtLYE_v",
    "outputId": "5fc76dba-bce4-43bf-8060-8b98505e045d",
    "papermill": {
     "duration": 0.042534,
     "end_time": "2021-12-02T02:12:02.826845",
     "exception": false,
     "start_time": "2021-12-02T02:12:02.784311",
     "status": "completed"
    },
    "tags": []
   },
   "outputs": [
    {
     "data": {
      "text/plain": [
       "PassengerId      0\n",
       "Survived         0\n",
       "Pclass           0\n",
       "Name             0\n",
       "Sex              0\n",
       "Age            177\n",
       "SibSp            0\n",
       "Parch            0\n",
       "Ticket           0\n",
       "Fare             0\n",
       "Cabin          687\n",
       "Embarked         2\n",
       "dtype: int64"
      ]
     },
     "execution_count": 6,
     "metadata": {},
     "output_type": "execute_result"
    }
   ],
   "source": [
    "train.isna().sum()"
   ]
  },
  {
   "cell_type": "code",
   "execution_count": null,
   "id": "9ym5pyjNYE_w",
   "metadata": {
    "colab": {
     "base_uri": "https://localhost:8080/"
    },
    "execution": {
     "iopub.execute_input": "2021-12-02T02:12:02.893842Z",
     "iopub.status.busy": "2021-12-02T02:12:02.893222Z",
     "iopub.status.idle": "2021-12-02T02:12:02.899103Z",
     "shell.execute_reply": "2021-12-02T02:12:02.899667Z",
     "shell.execute_reply.started": "2021-12-02T01:43:43.362147Z"
    },
    "id": "9ym5pyjNYE_w",
    "outputId": "10e86c63-83e6-4e79-f324-5fa4f1239ec7",
    "papermill": {
     "duration": 0.041314,
     "end_time": "2021-12-02T02:12:02.899830",
     "exception": false,
     "start_time": "2021-12-02T02:12:02.858516",
     "status": "completed"
    },
    "tags": []
   },
   "outputs": [
    {
     "data": {
      "text/plain": [
       "0    549\n",
       "1    342\n",
       "Name: Survived, dtype: int64"
      ]
     },
     "execution_count": 7,
     "metadata": {},
     "output_type": "execute_result"
    }
   ],
   "source": [
    "train['Survived'].value_counts()"
   ]
  },
  {
   "cell_type": "markdown",
   "id": "4K7h_C6MYE_x",
   "metadata": {
    "id": "4K7h_C6MYE_x"
   },
   "source": [
    "## Data Analysis"
   ]
  },
  {
   "cell_type": "markdown",
   "id": "bKZJhUKqYE_y",
   "metadata": {
    "id": "bKZJhUKqYE_y"
   },
   "source": [
    "### Check for data imbalance"
   ]
  },
  {
   "cell_type": "code",
   "execution_count": null,
   "id": "PS3G5krFYE_z",
   "metadata": {
    "id": "PS3G5krFYE_z"
   },
   "outputs": [],
   "source": [
    "def countplot(x1,df,title):\n",
    "    sns.set_style(\"dark\")\n",
    "    sns.countplot(x=x1, data=df, palette=sns.color_palette(\"Paired\", 7), saturation=10)\n",
    "    plt.title(title,fontsize = 20)\n",
    "    plt.show() "
   ]
  },
  {
   "cell_type": "code",
   "execution_count": null,
   "id": "dorl10bNYE_0",
   "metadata": {
    "colab": {
     "base_uri": "https://localhost:8080/",
     "height": 355
    },
    "id": "dorl10bNYE_0",
    "outputId": "8ccdeec6-e579-42ed-ac19-873f73b09d2d"
   },
   "outputs": [
    {
     "data": {
      "image/png": "[encoded data removed]",
      "text/plain": [
       "<Figure size 432x288 with 1 Axes>"
      ]
     },
     "metadata": {},
     "output_type": "display_data"
    },
    {
     "name": "stdout",
     "output_type": "stream",
     "text": [
      "\u001b[1mCount plot \u001b[0m - The countplot is used to represent the occurrence(counts) of the observation present in the categorical variable\n",
      "\u001b[1m Observation: \u001b[0mWhen there is a considerable, or in some circumstances extreme, discrepancy between the number of samples of each class of problem, a dataset is said to be imbalanced. As it is not the same case here, our data is balanced data\n"
     ]
    }
   ],
   "source": [
    "# Checking for data imbalance\n",
    "countplot('Survived',train,'countplot wrt to Survival')\n",
    "print('\\033[1mCount plot \\033[0m - The countplot is used to represent the occurrence(counts) of the observation present in the categorical variable')\n",
    "print('\\033[1m Observation: \\033[0mWhen there is a considerable, or in some circumstances extreme, discrepancy between the number of samples of each class of problem, a dataset is said to be imbalanced. As it is not the same case here, our data is balanced data')"
   ]
  },
  {
   "cell_type": "code",
   "execution_count": null,
   "id": "1tp3h7BIYE_1",
   "metadata": {
    "colab": {
     "base_uri": "https://localhost:8080/",
     "height": 324
    },
    "id": "1tp3h7BIYE_1",
    "outputId": "2158accc-67fd-457e-ed9e-f1253d0e2b5e"
   },
   "outputs": [
    {
     "data": {
      "image/png": "[encoded data removed]",
      "text/plain": [
       "<Figure size 432x288 with 1 Axes>"
      ]
     },
     "metadata": {},
     "output_type": "display_data"
    },
    {
     "name": "stdout",
     "output_type": "stream",
     "text": [
      "\u001b[1m Pie chart - \u001b[0m Pie charts make sense to show a parts-to-whole relationship for categorical or nominal data\n",
      "\u001b[1m Observation: \u001b[0mAs we can see from the pie chart, most of the customers are of the age group 30-45\n"
     ]
    }
   ],
   "source": [
    "def pie(df):\n",
    "    plt.pie(df['Survived'].value_counts(), labels=df['Survived'].value_counts().index.tolist(), autopct='%1.0f%%',shadow = True)\n",
    "    plt.title('Distribution of Survival', fontsize = 20)\n",
    "    plt.show()\n",
    "pie(train)\n",
    "print('\\033[1m Pie chart - \\033[0m Pie charts make sense to show a parts-to-whole relationship for categorical or nominal data')\n",
    "print('\\033[1m Observation: \\033[0mAs we can see from the pie chart, most of the customers are of the age group 30-45')"
   ]
  },
  {
   "cell_type": "code",
   "execution_count": null,
   "id": "QYth7AHpYE_2",
   "metadata": {
    "colab": {
     "base_uri": "https://localhost:8080/"
    },
    "id": "QYth7AHpYE_2",
    "outputId": "bfbdd2ff-42bf-4140-c3d8-cdf9ca45ada1"
   },
   "outputs": [
    {
     "data": {
      "text/plain": [
       "0    549\n",
       "1    342\n",
       "Name: Survived, dtype: int64"
      ]
     },
     "execution_count": 11,
     "metadata": {},
     "output_type": "execute_result"
    }
   ],
   "source": [
    "train['Survived'].value_counts()"
   ]
  },
  {
   "cell_type": "markdown",
   "id": "8JHU-ZLQYE_3",
   "metadata": {
    "id": "8JHU-ZLQYE_3"
   },
   "source": [
    "### Check for missing values"
   ]
  },
  {
   "cell_type": "markdown",
   "id": "NeUxq4eFYE_4",
   "metadata": {
    "id": "NeUxq4eFYE_4"
   },
   "source": [
    "**Checking for missing values wrt train data**"
   ]
  },
  {
   "cell_type": "code",
   "execution_count": null,
   "id": "Dl214hurYE_5",
   "metadata": {
    "colab": {
     "base_uri": "https://localhost:8080/"
    },
    "id": "Dl214hurYE_5",
    "outputId": "7ca73e87-1f8c-4ade-e4db-32f0ff1dd497"
   },
   "outputs": [
    {
     "name": "stdout",
     "output_type": "stream",
     "text": [
      "Collecting missingpy\n",
      "  Downloading missingpy-0.2.0-py3-none-any.whl (49 kB)\n",
      "\u001b[?25l\r",
      "\u001b[K     |██████▊                         | 10 kB 21.2 MB/s eta 0:00:01\r",
      "\u001b[K     |█████████████▍                  | 20 kB 26.6 MB/s eta 0:00:01\r",
      "\u001b[K     |████████████████████            | 30 kB 12.4 MB/s eta 0:00:01\r",
      "\u001b[K     |██████████████████████████▊     | 40 kB 9.3 MB/s eta 0:00:01\r",
      "\u001b[K     |████████████████████████████████| 49 kB 2.5 MB/s \n",
      "\u001b[?25hInstalling collected packages: missingpy\n",
      "Successfully installed missingpy-0.2.0\n"
     ]
    }
   ],
   "source": [
    "pip install missingpy"
   ]
  },
  {
   "cell_type": "code",
   "execution_count": null,
   "id": "i1fLN9YKYE_6",
   "metadata": {
    "id": "i1fLN9YKYE_6"
   },
   "outputs": [],
   "source": [
    "%matplotlib inline\n",
    "import numpy as np\n",
    "import pandas as pd\n",
    "import matplotlib.pyplot as plt\n",
    "import seaborn as sns\n",
    "import re as re\n",
    "import missingno as msno\n",
    "import warnings\n",
    "warnings.filterwarnings(\"ignore\")"
   ]
  },
  {
   "cell_type": "code",
   "execution_count": null,
   "id": "K2V2NZgSYE_7",
   "metadata": {
    "colab": {
     "base_uri": "https://localhost:8080/",
     "height": 379
    },
    "id": "K2V2NZgSYE_7",
    "outputId": "b2274c00-602e-4c06-840e-e76e11f0767a"
   },
   "outputs": [
    {
     "data": {
      "image/png": "[encoded data removed]",
      "text/plain": [
       "<Figure size 1800x720 with 2 Axes>"
      ]
     },
     "metadata": {
      "needs_background": "light"
     },
     "output_type": "display_data"
    },
    {
     "name": "stdout",
     "output_type": "stream",
     "text": [
      "\u001b[1m Observation: \u001b[0mWe can see some missing values in the age,cabin and embarked columns.The Age feature is missing approximately 19.8% of its values. I'm guessing that the Age feature is pretty important to survival, so we should probably attempt to fill these gaps\n"
     ]
    }
   ],
   "source": [
    "def missing(df):\n",
    "    msno.matrix(df)\n",
    "    plt.show()\n",
    "missing(train)\n",
    "print(\"\\033[1m Observation: \\033[0mWe can see some missing values in the age,cabin and embarked columns.The Age feature is missing approximately 19.8% of its values. I'm guessing that the Age feature is pretty important to survival, so we should probably attempt to fill these gaps\")"
   ]
  },
  {
   "cell_type": "code",
   "execution_count": null,
   "id": "Yfy2UDtaYE_8",
   "metadata": {
    "colab": {
     "base_uri": "https://localhost:8080/"
    },
    "id": "Yfy2UDtaYE_8",
    "outputId": "0b525169-6361-4ea4-aa42-da1ea90431a8"
   },
   "outputs": [
    {
     "name": "stdout",
     "output_type": "stream",
     "text": [
      "PassengerId     0.00\n",
      "Survived        0.00\n",
      "Pclass          0.00\n",
      "Name            0.00\n",
      "Sex             0.00\n",
      "Age            19.87\n",
      "SibSp           0.00\n",
      "Parch           0.00\n",
      "Ticket          0.00\n",
      "Fare            0.00\n",
      "Cabin          77.10\n",
      "Embarked        0.22\n",
      "dtype: float64\n",
      "\u001b[1mObservation1: \u001b[0mThe Age feature is missing approximately 19.8% of its values. But as age seems to be an important factor we will try to impute null values with some appropriate values during our data preprocessing\n",
      "\u001b[1mObservation2: \u001b[0mThe Cabin feature is missing approximately 77.10% of its values. Which is alot, so we might consider dropping it\n",
      "\u001b[1mObservation3: \u001b[0mThe EMbark feature is missing approximately 0.22% of its values, which is quite small and can be taken care off\n"
     ]
    }
   ],
   "source": [
    "print(train.isna().mean().round(4) * 100)\n",
    "print('\\033[1mObservation1: \\033[0mThe Age feature is missing approximately 19.8% of its values. But as age seems to be an important factor we will try to impute null values with some appropriate values during our data preprocessing')\n",
    "print('\\033[1mObservation2: \\033[0mThe Cabin feature is missing approximately 77.10% of its values. Which is alot, so we might consider dropping it')\n",
    "print('\\033[1mObservation3: \\033[0mThe EMbark feature is missing approximately 0.22% of its values, which is quite small and can be taken care off')"
   ]
  },
  {
   "cell_type": "code",
   "execution_count": null,
   "id": "Bf3ly7J5YE_9",
   "metadata": {
    "colab": {
     "base_uri": "https://localhost:8080/",
     "height": 444
    },
    "id": "Bf3ly7J5YE_9",
    "outputId": "a92ec797-c24b-4ebf-f8b4-5ae9763f5068"
   },
   "outputs": [
    {
     "data": {
      "image/png": "[encoded data removed]",
      "text/plain": [
       "<Figure size 1800x720 with 3 Axes>"
      ]
     },
     "metadata": {
      "needs_background": "light"
     },
     "output_type": "display_data"
    },
    {
     "name": "stdout",
     "output_type": "stream",
     "text": [
      "\u001b[1m Missingno_bar: \u001b[0mmsno.bar is a simple visualization of nullity by column\n",
      "\u001b[1m Observation1: \u001b[0mAge column has upto 80% of data(714 data points)\n",
      "\u001b[1m Observation2: \u001b[0mCabin column has upto 20% of data(204 data points)\n",
      "\u001b[1m Observation3: \u001b[0mEmbarked column has upto 99% of data(889 data points)\n"
     ]
    }
   ],
   "source": [
    "def miss_bar(df):\n",
    "    msno.bar(df)\n",
    "    plt.show()\n",
    "miss_bar(train)\n",
    "print('\\033[1m Missingno_bar: \\033[0mmsno.bar is a simple visualization of nullity by column')\n",
    "print('\\033[1m Observation1: \\033[0mAge column has upto 80% of data(714 data points)' )\n",
    "print('\\033[1m Observation2: \\033[0mCabin column has upto 20% of data(204 data points)' )\n",
    "print('\\033[1m Observation3: \\033[0mEmbarked column has upto 99% of data(889 data points)' )"
   ]
  },
  {
   "cell_type": "markdown",
   "id": "tDX24JG_YE_-",
   "metadata": {
    "id": "tDX24JG_YE_-"
   },
   "source": [
    "**Checking for missing values wrt test data**"
   ]
  },
  {
   "cell_type": "code",
   "execution_count": null,
   "id": "_FDIrct8YE_-",
   "metadata": {
    "colab": {
     "base_uri": "https://localhost:8080/",
     "height": 379
    },
    "id": "_FDIrct8YE_-",
    "outputId": "692d9e07-b70e-4c60-a8a4-f24b730401d6"
   },
   "outputs": [
    {
     "data": {
      "image/png": "[encoded data removed]",
      "text/plain": [
       "<Figure size 1800x720 with 2 Axes>"
      ]
     },
     "metadata": {
      "needs_background": "light"
     },
     "output_type": "display_data"
    },
    {
     "name": "stdout",
     "output_type": "stream",
     "text": [
      "\u001b[1m Observation: \u001b[0mWe can see some missing values in the age and cabin columns\n"
     ]
    }
   ],
   "source": [
    "missing(test)\n",
    "print('\\033[1m Observation: \\033[0mWe can see some missing values in the age and cabin columns')"
   ]
  },
  {
   "cell_type": "code",
   "execution_count": null,
   "id": "tGDRa16uYE__",
   "metadata": {
    "colab": {
     "base_uri": "https://localhost:8080/",
     "height": 409
    },
    "id": "tGDRa16uYE__",
    "outputId": "3e0f1507-87ec-4bcf-cc97-a391454309be"
   },
   "outputs": [
    {
     "data": {
      "image/png": "[encoded data removed]",
      "text/plain": [
       "<Figure size 1800x720 with 3 Axes>"
      ]
     },
     "metadata": {
      "needs_background": "light"
     },
     "output_type": "display_data"
    },
    {
     "name": "stdout",
     "output_type": "stream",
     "text": [
      "\u001b[1m Observation1: \u001b[0mAge column has upto 80% of data(332  data points)\n",
      "\u001b[1m Observation2: \u001b[0mCabin column has upto 20% of data(91 data points)\n"
     ]
    }
   ],
   "source": [
    "miss_bar(test)\n",
    "print('\\033[1m Observation1: \\033[0mAge column has upto 80% of data(332  data points)' )\n",
    "print('\\033[1m Observation2: \\033[0mCabin column has upto 20% of data(91 data points)' )"
   ]
  },
  {
   "cell_type": "markdown",
   "id": "Tv3fnRxFYFAA",
   "metadata": {
    "id": "Tv3fnRxFYFAA"
   },
   "source": [
    "## Analysing The Features"
   ]
  },
  {
   "cell_type": "markdown",
   "id": "a4C-h-QRYFAA",
   "metadata": {
    "id": "a4C-h-QRYFAA"
   },
   "source": [
    "**Age column**"
   ]
  },
  {
   "cell_type": "code",
   "execution_count": null,
   "id": "TE4S7KGUYFAB",
   "metadata": {
    "colab": {
     "base_uri": "https://localhost:8080/",
     "height": 72
    },
    "id": "TE4S7KGUYFAB",
    "outputId": "493e3234-d701-4a25-eb32-1dc66840707f"
   },
   "outputs": [
    {
     "data": {
      "image/png": "[encoded data removed]",
      "text/plain": [
       "<Figure size 432x288 with 1 Axes>"
      ]
     },
     "metadata": {
      "needs_background": "light"
     },
     "output_type": "display_data"
    },
    {
     "name": "stdout",
     "output_type": "stream",
     "text": [
      "\u001b[1m Observation: \u001b[0mWe observe that females survival rate is more\n"
     ]
    }
   ],
   "source": [
    "def barplot(df,col1,title,col2 = 'Survived'):    \n",
    "    df[[col1,col2]].groupby([col1]).mean().plot.bar()\n",
    "    plt.title(title,fontsize = 20)\n",
    "    plt.show()\n",
    "barplot(train,'Sex','Sex vs Survival')\n",
    "print('\\033[1m Observation: \\033[0mWe observe that females survival rate is more')"
   ]
  },
  {
   "cell_type": "code",
   "execution_count": null,
   "id": "eF_A1t3aYFAB",
   "metadata": {
    "colab": {
     "base_uri": "https://localhost:8080/",
     "height": 72
    },
    "id": "eF_A1t3aYFAB",
    "outputId": "e277f0d9-6184-4d65-ebb7-a727dc277349"
   },
   "outputs": [
    {
     "data": {
      "image/png": "[encoded data removed]",
      "text/plain": [
       "<Figure size 432x288 with 1 Axes>"
      ]
     },
     "metadata": {
      "needs_background": "light"
     },
     "output_type": "display_data"
    },
    {
     "name": "stdout",
     "output_type": "stream",
     "text": [
      "\u001b[1m Observation: \u001b[0mWe observe that class1 survival rate is more as compared to other classes. Whereas class3 survival is the least\n"
     ]
    }
   ],
   "source": [
    "barplot(train,'Pclass','Pclass vs Survival')\n",
    "print('\\033[1m Observation: \\033[0mWe observe that class1 survival rate is more as compared to other classes. Whereas class3 survival is the least')"
   ]
  },
  {
   "cell_type": "code",
   "execution_count": null,
   "id": "uss22RsPYFAC",
   "metadata": {
    "colab": {
     "base_uri": "https://localhost:8080/",
     "height": 245
    },
    "id": "uss22RsPYFAC",
    "outputId": "e14b9ac3-fdbe-4ac5-b162-b91afcf3d561"
   },
   "outputs": [
    {
     "name": "stdout",
     "output_type": "stream",
     "text": [
      "\u001b[1m Observation1: \u001b[0mAs we can see, 136 out of 216 passengers from pclass = 1 survived, whereas 372 out of 491 passengers from pclass = 3 did not survive\n"
     ]
    },
    {
     "data": {
      "text/html": [
       "<style  type=\"text/css\" >\n",
       "#T_c5a0a534_539c_11ec_81e9_0242ac1c0002row0_col0,#T_c5a0a534_539c_11ec_81e9_0242ac1c0002row1_col1,#T_c5a0a534_539c_11ec_81e9_0242ac1c0002row1_col2{\n",
       "            background-color:  #ffff66;\n",
       "            color:  #000000;\n",
       "        }#T_c5a0a534_539c_11ec_81e9_0242ac1c0002row0_col1{\n",
       "            background-color:  #cee666;\n",
       "            color:  #000000;\n",
       "        }#T_c5a0a534_539c_11ec_81e9_0242ac1c0002row0_col2{\n",
       "            background-color:  #f4fa66;\n",
       "            color:  #000000;\n",
       "        }#T_c5a0a534_539c_11ec_81e9_0242ac1c0002row1_col0{\n",
       "            background-color:  #f6fa66;\n",
       "            color:  #000000;\n",
       "        }#T_c5a0a534_539c_11ec_81e9_0242ac1c0002row2_col0{\n",
       "            background-color:  #60b066;\n",
       "            color:  #000000;\n",
       "        }#T_c5a0a534_539c_11ec_81e9_0242ac1c0002row2_col1{\n",
       "            background-color:  #dfef66;\n",
       "            color:  #000000;\n",
       "        }#T_c5a0a534_539c_11ec_81e9_0242ac1c0002row2_col2{\n",
       "            background-color:  #90c866;\n",
       "            color:  #000000;\n",
       "        }#T_c5a0a534_539c_11ec_81e9_0242ac1c0002row3_col0,#T_c5a0a534_539c_11ec_81e9_0242ac1c0002row3_col1,#T_c5a0a534_539c_11ec_81e9_0242ac1c0002row3_col2{\n",
       "            background-color:  #008066;\n",
       "            color:  #f1f1f1;\n",
       "        }</style><table id=\"T_c5a0a534_539c_11ec_81e9_0242ac1c0002\" class=\"dataframe\"><thead>    <tr>        <th class=\"index_name level0\" >Survived</th>        <th class=\"col_heading level0 col0\" >0</th>        <th class=\"col_heading level0 col1\" >1</th>        <th class=\"col_heading level0 col2\" >All</th>    </tr>    <tr>        <th class=\"index_name level0\" >Pclass</th>        <th class=\"blank\" ></th>        <th class=\"blank\" ></th>        <th class=\"blank\" ></th>    </tr></thead><tbody>\n",
       "                <tr>\n",
       "                        <th id=\"T_c5a0a534_539c_11ec_81e9_0242ac1c0002level0_row0\" class=\"row_heading level0 row0\" >1</th>\n",
       "                        <td id=\"T_c5a0a534_539c_11ec_81e9_0242ac1c0002row0_col0\" class=\"data row0 col0\" >80</td>\n",
       "                        <td id=\"T_c5a0a534_539c_11ec_81e9_0242ac1c0002row0_col1\" class=\"data row0 col1\" >136</td>\n",
       "                        <td id=\"T_c5a0a534_539c_11ec_81e9_0242ac1c0002row0_col2\" class=\"data row0 col2\" >216</td>\n",
       "            </tr>\n",
       "            <tr>\n",
       "                        <th id=\"T_c5a0a534_539c_11ec_81e9_0242ac1c0002level0_row1\" class=\"row_heading level0 row1\" >2</th>\n",
       "                        <td id=\"T_c5a0a534_539c_11ec_81e9_0242ac1c0002row1_col0\" class=\"data row1 col0\" >97</td>\n",
       "                        <td id=\"T_c5a0a534_539c_11ec_81e9_0242ac1c0002row1_col1\" class=\"data row1 col1\" >87</td>\n",
       "                        <td id=\"T_c5a0a534_539c_11ec_81e9_0242ac1c0002row1_col2\" class=\"data row1 col2\" >184</td>\n",
       "            </tr>\n",
       "            <tr>\n",
       "                        <th id=\"T_c5a0a534_539c_11ec_81e9_0242ac1c0002level0_row2\" class=\"row_heading level0 row2\" >3</th>\n",
       "                        <td id=\"T_c5a0a534_539c_11ec_81e9_0242ac1c0002row2_col0\" class=\"data row2 col0\" >372</td>\n",
       "                        <td id=\"T_c5a0a534_539c_11ec_81e9_0242ac1c0002row2_col1\" class=\"data row2 col1\" >119</td>\n",
       "                        <td id=\"T_c5a0a534_539c_11ec_81e9_0242ac1c0002row2_col2\" class=\"data row2 col2\" >491</td>\n",
       "            </tr>\n",
       "            <tr>\n",
       "                        <th id=\"T_c5a0a534_539c_11ec_81e9_0242ac1c0002level0_row3\" class=\"row_heading level0 row3\" >All</th>\n",
       "                        <td id=\"T_c5a0a534_539c_11ec_81e9_0242ac1c0002row3_col0\" class=\"data row3 col0\" >549</td>\n",
       "                        <td id=\"T_c5a0a534_539c_11ec_81e9_0242ac1c0002row3_col1\" class=\"data row3 col1\" >342</td>\n",
       "                        <td id=\"T_c5a0a534_539c_11ec_81e9_0242ac1c0002row3_col2\" class=\"data row3 col2\" >891</td>\n",
       "            </tr>\n",
       "    </tbody></table>"
      ],
      "text/plain": [
       "<pandas.io.formats.style.Styler at 0x7fe2ca91cf90>"
      ]
     },
     "execution_count": 21,
     "metadata": {},
     "output_type": "execute_result"
    }
   ],
   "source": [
    "print('\\033[1m Observation1: \\033[0mAs we can see, 136 out of 216 passengers from pclass = 1 survived, whereas 372 out of 491 passengers from pclass = 3 did not survive')\n",
    "pd.crosstab(train.Pclass,train.Survived,margins=True).style.background_gradient(cmap='summer_r')"
   ]
  },
  {
   "cell_type": "code",
   "execution_count": null,
   "id": "SOJbcvPhYFAD",
   "metadata": {
    "colab": {
     "base_uri": "https://localhost:8080/",
     "height": 55
    },
    "id": "SOJbcvPhYFAD",
    "outputId": "e6cd3d96-b1f8-476b-e925-d98648e6767e"
   },
   "outputs": [
    {
     "data": {
      "image/png": "[encoded data removed]",
      "text/plain": [
       "<Figure size 432x288 with 1 Axes>"
      ]
     },
     "metadata": {
      "needs_background": "light"
     },
     "output_type": "display_data"
    }
   ],
   "source": [
    "barplot(train,'Embarked','Embarked vs Survival')"
   ]
  },
  {
   "cell_type": "code",
   "execution_count": null,
   "id": "t7RPtGMlYFAD",
   "metadata": {
    "colab": {
     "base_uri": "https://localhost:8080/",
     "height": 108
    },
    "id": "t7RPtGMlYFAD",
    "outputId": "92461cf4-f629-4e33-9ea4-876ea4e59eb9"
   },
   "outputs": [
    {
     "data": {
      "image/png": "[encoded data removed]",
      "text/plain": [
       "<Figure size 1296x576 with 2 Axes>"
      ]
     },
     "metadata": {
      "needs_background": "light"
     },
     "output_type": "display_data"
    },
    {
     "name": "stdout",
     "output_type": "stream",
     "text": [
      "\u001b[1m Observation1: \u001b[0mThe number of children increased with pclass and their survival rate was pretty good irrespective of what pclass they were in\n",
      "\u001b[1m Observation2: \u001b[0mSurvival rate of men decreased with increase in age\n",
      "\u001b[1m Observation3: \u001b[0mSurvival rate of women aged between 20-50 is more. Also, irrespective of age or class the survival rate of women was good\n"
     ]
    }
   ],
   "source": [
    "f,ax=plt.subplots(1,2,figsize=(18,8))\n",
    "sns.violinplot(\"Pclass\",\"Age\", hue=\"Survived\", data=train,split=True,ax=ax[0])\n",
    "ax[0].set_title('Pclass and Age vs Survived')\n",
    "ax[0].set_yticks(range(0,110,10))\n",
    "sns.violinplot(\"Sex\",\"Age\", hue=\"Survived\", data=train,split=True,ax=ax[1])\n",
    "ax[1].set_title('Sex and Age vs Survived')\n",
    "ax[1].set_yticks(range(0,110,10))\n",
    "plt.show()\n",
    "print('\\033[1m Observation1: \\033[0mThe number of children increased with pclass and their survival rate was pretty good irrespective of what pclass they were in')\n",
    "print('\\033[1m Observation2: \\033[0mSurvival rate of men decreased with increase in age')\n",
    "print('\\033[1m Observation3: \\033[0mSurvival rate of women aged between 20-50 is more. Also, irrespective of age or class the survival rate of women was good')\n"
   ]
  },
  {
   "cell_type": "markdown",
   "id": "yvcnP81nYFAE",
   "metadata": {
    "id": "yvcnP81nYFAE"
   },
   "source": [
    "**Chances for Survival by Port Of Embarkation**"
   ]
  },
  {
   "cell_type": "code",
   "execution_count": null,
   "id": "1alxSnxZYFAE",
   "metadata": {
    "colab": {
     "base_uri": "https://localhost:8080/",
     "height": 72
    },
    "id": "1alxSnxZYFAE",
    "outputId": "95222c29-f691-4432-e3f7-80b3906c88fe"
   },
   "outputs": [
    {
     "data": {
      "image/png": "[encoded data removed]",
      "text/plain": [
       "<Figure size 360x216 with 1 Axes>"
      ]
     },
     "metadata": {
      "needs_background": "light"
     },
     "output_type": "display_data"
    },
    {
     "name": "stdout",
     "output_type": "stream",
     "text": [
      "\u001b[1m Observation: \u001b[0msSurvival rate of port c is highest around 55%\n"
     ]
    }
   ],
   "source": [
    "sns.factorplot('Embarked','Survived',data=train)\n",
    "fig=plt.gcf()\n",
    "fig.set_size_inches(5,3)\n",
    "plt.show()\n",
    "print('\\033[1m Observation: \\033[0msSurvival rate of port c is highest around 55%')\n"
   ]
  },
  {
   "cell_type": "code",
   "execution_count": null,
   "id": "jecTMd4vYFAF",
   "metadata": {
    "colab": {
     "base_uri": "https://localhost:8080/",
     "height": 125
    },
    "id": "jecTMd4vYFAF",
    "outputId": "0f8329b7-415d-4041-bb1c-3cdd4c920dfb"
   },
   "outputs": [
    {
     "data": {
      "image/png": "[encoded data removed]",
      "text/plain": [
       "<Figure size 1440x1080 with 4 Axes>"
      ]
     },
     "metadata": {
      "needs_background": "light"
     },
     "output_type": "display_data"
    },
    {
     "name": "stdout",
     "output_type": "stream",
     "text": [
      "\u001b[1m Observation1: \u001b[0msMore number of people have boarded from port S and least is from port Q\n",
      "\u001b[1m Observation2: \u001b[0msMore number of male passengers have baorded from port S\n",
      "\u001b[1m Observation3: \u001b[0msThe chances of survival wrt to port C is more\n",
      "\u001b[1m Observation4: \u001b[0msMore number of passengers from pclass =3 have boarded from port S and more number of passengers from pclass = 1 have boarded from port S, hence we can assume that couls be a reason why more number of passengers were saved from port S\n"
     ]
    }
   ],
   "source": [
    "f,ax=plt.subplots(2,2,figsize=(20,15))\n",
    "sns.countplot('Embarked',data=train,ax=ax[0,0])\n",
    "ax[0,0].set_title('No. Of Passengers Boarded')\n",
    "sns.countplot('Embarked',hue='Sex',data=train,ax=ax[0,1])\n",
    "ax[0,1].set_title('Male-Female Split for Embarked')\n",
    "sns.countplot('Embarked',hue='Survived',data=train,ax=ax[1,0])\n",
    "ax[1,0].set_title('Embarked vs Survived')\n",
    "sns.countplot('Embarked',hue='Pclass',data=train,ax=ax[1,1])\n",
    "ax[1,1].set_title('Embarked vs Pclass')\n",
    "plt.subplots_adjust(wspace=0.2,hspace=0.5)\n",
    "plt.show()\n",
    "print('\\033[1m Observation1: \\033[0msMore number of people have boarded from port S and least is from port Q')\n",
    "print('\\033[1m Observation2: \\033[0msMore number of male passengers have baorded from port S')\n",
    "print('\\033[1m Observation3: \\033[0msThe chances of survival wrt to port C is more')\n",
    "print('\\033[1m Observation4: \\033[0msMore number of passengers from pclass =3 have boarded from port S and more number of passengers from pclass = 1 have boarded from port S, hence we can assume that couls be a reason why more number of passengers were saved from port S')"
   ]
  },
  {
   "cell_type": "code",
   "execution_count": null,
   "id": "a0muSlyrYFAG",
   "metadata": {
    "colab": {
     "base_uri": "https://localhost:8080/",
     "height": 245
    },
    "id": "a0muSlyrYFAG",
    "outputId": "deea127b-f8e6-48da-f331-1d4d1387d54c"
   },
   "outputs": [
    {
     "name": "stdout",
     "output_type": "stream",
     "text": [
      "\u001b[1m Observation: \u001b[0msAs you can see, 93 out of 168 people have survived from port C. So sruvival rate wrt port C is more\n"
     ]
    },
    {
     "data": {
      "text/html": [
       "<style  type=\"text/css\" >\n",
       "#T_c6e1eb42_539c_11ec_81e9_0242ac1c0002row0_col0{\n",
       "            background-color:  #f1f866;\n",
       "            color:  #000000;\n",
       "        }#T_c6e1eb42_539c_11ec_81e9_0242ac1c0002row0_col1{\n",
       "            background-color:  #cbe566;\n",
       "            color:  #000000;\n",
       "        }#T_c6e1eb42_539c_11ec_81e9_0242ac1c0002row0_col2{\n",
       "            background-color:  #e3f166;\n",
       "            color:  #000000;\n",
       "        }#T_c6e1eb42_539c_11ec_81e9_0242ac1c0002row1_col0,#T_c6e1eb42_539c_11ec_81e9_0242ac1c0002row1_col1,#T_c6e1eb42_539c_11ec_81e9_0242ac1c0002row1_col2{\n",
       "            background-color:  #ffff66;\n",
       "            color:  #000000;\n",
       "        }#T_c6e1eb42_539c_11ec_81e9_0242ac1c0002row2_col0{\n",
       "            background-color:  #3e9e66;\n",
       "            color:  #000000;\n",
       "        }#T_c6e1eb42_539c_11ec_81e9_0242ac1c0002row2_col1{\n",
       "            background-color:  #65b266;\n",
       "            color:  #000000;\n",
       "        }#T_c6e1eb42_539c_11ec_81e9_0242ac1c0002row2_col2{\n",
       "            background-color:  #4da666;\n",
       "            color:  #000000;\n",
       "        }#T_c6e1eb42_539c_11ec_81e9_0242ac1c0002row3_col0,#T_c6e1eb42_539c_11ec_81e9_0242ac1c0002row3_col1,#T_c6e1eb42_539c_11ec_81e9_0242ac1c0002row3_col2{\n",
       "            background-color:  #008066;\n",
       "            color:  #f1f1f1;\n",
       "        }</style><table id=\"T_c6e1eb42_539c_11ec_81e9_0242ac1c0002\" class=\"dataframe\"><thead>    <tr>        <th class=\"index_name level0\" >Survived</th>        <th class=\"col_heading level0 col0\" >0</th>        <th class=\"col_heading level0 col1\" >1</th>        <th class=\"col_heading level0 col2\" >All</th>    </tr>    <tr>        <th class=\"index_name level0\" >Embarked</th>        <th class=\"blank\" ></th>        <th class=\"blank\" ></th>        <th class=\"blank\" ></th>    </tr></thead><tbody>\n",
       "                <tr>\n",
       "                        <th id=\"T_c6e1eb42_539c_11ec_81e9_0242ac1c0002level0_row0\" class=\"row_heading level0 row0\" >C</th>\n",
       "                        <td id=\"T_c6e1eb42_539c_11ec_81e9_0242ac1c0002row0_col0\" class=\"data row0 col0\" >75</td>\n",
       "                        <td id=\"T_c6e1eb42_539c_11ec_81e9_0242ac1c0002row0_col1\" class=\"data row0 col1\" >93</td>\n",
       "                        <td id=\"T_c6e1eb42_539c_11ec_81e9_0242ac1c0002row0_col2\" class=\"data row0 col2\" >168</td>\n",
       "            </tr>\n",
       "            <tr>\n",
       "                        <th id=\"T_c6e1eb42_539c_11ec_81e9_0242ac1c0002level0_row1\" class=\"row_heading level0 row1\" >Q</th>\n",
       "                        <td id=\"T_c6e1eb42_539c_11ec_81e9_0242ac1c0002row1_col0\" class=\"data row1 col0\" >47</td>\n",
       "                        <td id=\"T_c6e1eb42_539c_11ec_81e9_0242ac1c0002row1_col1\" class=\"data row1 col1\" >30</td>\n",
       "                        <td id=\"T_c6e1eb42_539c_11ec_81e9_0242ac1c0002row1_col2\" class=\"data row1 col2\" >77</td>\n",
       "            </tr>\n",
       "            <tr>\n",
       "                        <th id=\"T_c6e1eb42_539c_11ec_81e9_0242ac1c0002level0_row2\" class=\"row_heading level0 row2\" >S</th>\n",
       "                        <td id=\"T_c6e1eb42_539c_11ec_81e9_0242ac1c0002row2_col0\" class=\"data row2 col0\" >427</td>\n",
       "                        <td id=\"T_c6e1eb42_539c_11ec_81e9_0242ac1c0002row2_col1\" class=\"data row2 col1\" >217</td>\n",
       "                        <td id=\"T_c6e1eb42_539c_11ec_81e9_0242ac1c0002row2_col2\" class=\"data row2 col2\" >644</td>\n",
       "            </tr>\n",
       "            <tr>\n",
       "                        <th id=\"T_c6e1eb42_539c_11ec_81e9_0242ac1c0002level0_row3\" class=\"row_heading level0 row3\" >All</th>\n",
       "                        <td id=\"T_c6e1eb42_539c_11ec_81e9_0242ac1c0002row3_col0\" class=\"data row3 col0\" >549</td>\n",
       "                        <td id=\"T_c6e1eb42_539c_11ec_81e9_0242ac1c0002row3_col1\" class=\"data row3 col1\" >340</td>\n",
       "                        <td id=\"T_c6e1eb42_539c_11ec_81e9_0242ac1c0002row3_col2\" class=\"data row3 col2\" >889</td>\n",
       "            </tr>\n",
       "    </tbody></table>"
      ],
      "text/plain": [
       "<pandas.io.formats.style.Styler at 0x7fe2caa72c50>"
      ]
     },
     "execution_count": 26,
     "metadata": {},
     "output_type": "execute_result"
    }
   ],
   "source": [
    "print('\\033[1m Observation: \\033[0msAs you can see, 93 out of 168 people have survived from port C. So sruvival rate wrt port C is more')\n",
    "pd.crosstab(train.Embarked,train.Survived,margins=True).style.background_gradient(cmap='summer_r')"
   ]
  },
  {
   "cell_type": "markdown",
   "id": "tKcIgR-MYFAG",
   "metadata": {
    "id": "tKcIgR-MYFAG"
   },
   "source": [
    "**Chances for Survival by Port Of SibSp**"
   ]
  },
  {
   "cell_type": "code",
   "execution_count": null,
   "id": "pw0M7MfJYFAH",
   "metadata": {
    "colab": {
     "base_uri": "https://localhost:8080/",
     "height": 340
    },
    "id": "pw0M7MfJYFAH",
    "outputId": "85a5103e-8a2d-4f23-e898-778e32077d2a"
   },
   "outputs": [
    {
     "name": "stdout",
     "output_type": "stream",
     "text": [
      "\u001b[1m Observation: \u001b[0msAs you can see, people with no sibling/spouse survived the most\n"
     ]
    },
    {
     "data": {
      "text/html": [
       "<style  type=\"text/css\" >\n",
       "#T_c6e91c96_539c_11ec_81e9_0242ac1c0002row0_col0,#T_c6e91c96_539c_11ec_81e9_0242ac1c0002row0_col1{\n",
       "            background-color:  #008066;\n",
       "            color:  #f1f1f1;\n",
       "        }#T_c6e91c96_539c_11ec_81e9_0242ac1c0002row1_col0{\n",
       "            background-color:  #c4e266;\n",
       "            color:  #000000;\n",
       "        }#T_c6e91c96_539c_11ec_81e9_0242ac1c0002row1_col1{\n",
       "            background-color:  #77bb66;\n",
       "            color:  #000000;\n",
       "        }#T_c6e91c96_539c_11ec_81e9_0242ac1c0002row2_col0,#T_c6e91c96_539c_11ec_81e9_0242ac1c0002row4_col0{\n",
       "            background-color:  #f9fc66;\n",
       "            color:  #000000;\n",
       "        }#T_c6e91c96_539c_11ec_81e9_0242ac1c0002row2_col1{\n",
       "            background-color:  #f0f866;\n",
       "            color:  #000000;\n",
       "        }#T_c6e91c96_539c_11ec_81e9_0242ac1c0002row3_col0,#T_c6e91c96_539c_11ec_81e9_0242ac1c0002row3_col1{\n",
       "            background-color:  #fbfd66;\n",
       "            color:  #000000;\n",
       "        }#T_c6e91c96_539c_11ec_81e9_0242ac1c0002row4_col1{\n",
       "            background-color:  #fcfe66;\n",
       "            color:  #000000;\n",
       "        }#T_c6e91c96_539c_11ec_81e9_0242ac1c0002row5_col0,#T_c6e91c96_539c_11ec_81e9_0242ac1c0002row5_col1,#T_c6e91c96_539c_11ec_81e9_0242ac1c0002row6_col1{\n",
       "            background-color:  #ffff66;\n",
       "            color:  #000000;\n",
       "        }#T_c6e91c96_539c_11ec_81e9_0242ac1c0002row6_col0{\n",
       "            background-color:  #fefe66;\n",
       "            color:  #000000;\n",
       "        }</style><table id=\"T_c6e91c96_539c_11ec_81e9_0242ac1c0002\" class=\"dataframe\"><thead>    <tr>        <th class=\"index_name level0\" >Survived</th>        <th class=\"col_heading level0 col0\" >0</th>        <th class=\"col_heading level0 col1\" >1</th>    </tr>    <tr>        <th class=\"index_name level0\" >SibSp</th>        <th class=\"blank\" ></th>        <th class=\"blank\" ></th>    </tr></thead><tbody>\n",
       "                <tr>\n",
       "                        <th id=\"T_c6e91c96_539c_11ec_81e9_0242ac1c0002level0_row0\" class=\"row_heading level0 row0\" >0</th>\n",
       "                        <td id=\"T_c6e91c96_539c_11ec_81e9_0242ac1c0002row0_col0\" class=\"data row0 col0\" >398</td>\n",
       "                        <td id=\"T_c6e91c96_539c_11ec_81e9_0242ac1c0002row0_col1\" class=\"data row0 col1\" >210</td>\n",
       "            </tr>\n",
       "            <tr>\n",
       "                        <th id=\"T_c6e91c96_539c_11ec_81e9_0242ac1c0002level0_row1\" class=\"row_heading level0 row1\" >1</th>\n",
       "                        <td id=\"T_c6e91c96_539c_11ec_81e9_0242ac1c0002row1_col0\" class=\"data row1 col0\" >97</td>\n",
       "                        <td id=\"T_c6e91c96_539c_11ec_81e9_0242ac1c0002row1_col1\" class=\"data row1 col1\" >112</td>\n",
       "            </tr>\n",
       "            <tr>\n",
       "                        <th id=\"T_c6e91c96_539c_11ec_81e9_0242ac1c0002level0_row2\" class=\"row_heading level0 row2\" >2</th>\n",
       "                        <td id=\"T_c6e91c96_539c_11ec_81e9_0242ac1c0002row2_col0\" class=\"data row2 col0\" >15</td>\n",
       "                        <td id=\"T_c6e91c96_539c_11ec_81e9_0242ac1c0002row2_col1\" class=\"data row2 col1\" >13</td>\n",
       "            </tr>\n",
       "            <tr>\n",
       "                        <th id=\"T_c6e91c96_539c_11ec_81e9_0242ac1c0002level0_row3\" class=\"row_heading level0 row3\" >3</th>\n",
       "                        <td id=\"T_c6e91c96_539c_11ec_81e9_0242ac1c0002row3_col0\" class=\"data row3 col0\" >12</td>\n",
       "                        <td id=\"T_c6e91c96_539c_11ec_81e9_0242ac1c0002row3_col1\" class=\"data row3 col1\" >4</td>\n",
       "            </tr>\n",
       "            <tr>\n",
       "                        <th id=\"T_c6e91c96_539c_11ec_81e9_0242ac1c0002level0_row4\" class=\"row_heading level0 row4\" >4</th>\n",
       "                        <td id=\"T_c6e91c96_539c_11ec_81e9_0242ac1c0002row4_col0\" class=\"data row4 col0\" >15</td>\n",
       "                        <td id=\"T_c6e91c96_539c_11ec_81e9_0242ac1c0002row4_col1\" class=\"data row4 col1\" >3</td>\n",
       "            </tr>\n",
       "            <tr>\n",
       "                        <th id=\"T_c6e91c96_539c_11ec_81e9_0242ac1c0002level0_row5\" class=\"row_heading level0 row5\" >5</th>\n",
       "                        <td id=\"T_c6e91c96_539c_11ec_81e9_0242ac1c0002row5_col0\" class=\"data row5 col0\" >5</td>\n",
       "                        <td id=\"T_c6e91c96_539c_11ec_81e9_0242ac1c0002row5_col1\" class=\"data row5 col1\" >0</td>\n",
       "            </tr>\n",
       "            <tr>\n",
       "                        <th id=\"T_c6e91c96_539c_11ec_81e9_0242ac1c0002level0_row6\" class=\"row_heading level0 row6\" >8</th>\n",
       "                        <td id=\"T_c6e91c96_539c_11ec_81e9_0242ac1c0002row6_col0\" class=\"data row6 col0\" >7</td>\n",
       "                        <td id=\"T_c6e91c96_539c_11ec_81e9_0242ac1c0002row6_col1\" class=\"data row6 col1\" >0</td>\n",
       "            </tr>\n",
       "    </tbody></table>"
      ],
      "text/plain": [
       "<pandas.io.formats.style.Styler at 0x7fe2ca26b850>"
      ]
     },
     "execution_count": 27,
     "metadata": {},
     "output_type": "execute_result"
    }
   ],
   "source": [
    "print('\\033[1m Observation: \\033[0msAs you can see, people with no sibling/spouse survived the most')\n",
    "pd.crosstab([train.SibSp],train.Survived).style.background_gradient(cmap='summer_r')"
   ]
  },
  {
   "cell_type": "code",
   "execution_count": null,
   "id": "7ic6h6QBYFAI",
   "metadata": {
    "colab": {
     "base_uri": "https://localhost:8080/",
     "height": 72
    },
    "id": "7ic6h6QBYFAI",
    "outputId": "111a2560-0d0d-4cec-f799-f5d05f5051c9"
   },
   "outputs": [
    {
     "data": {
      "image/png": "[encoded data removed]",
      "text/plain": [
       "<Figure size 432x288 with 1 Axes>"
      ]
     },
     "metadata": {
      "needs_background": "light"
     },
     "output_type": "display_data"
    },
    {
     "name": "stdout",
     "output_type": "stream",
     "text": [
      "\u001b[1m Observation: \u001b[0msWe observe that, with the increase in number of siblibs/spouse, survival rate decreases\n"
     ]
    }
   ],
   "source": [
    "sns.barplot('SibSp','Survived',data=train)\n",
    "plt.title('SibSp vs Survived')\n",
    "plt.show()\n",
    "print('\\033[1m Observation: \\033[0msWe observe that, with the increase in number of siblibs/spouse, survival rate decreases')"
   ]
  },
  {
   "cell_type": "code",
   "execution_count": null,
   "id": "ZHvtKxeqYFAJ",
   "metadata": {
    "colab": {
     "base_uri": "https://localhost:8080/",
     "height": 340
    },
    "id": "ZHvtKxeqYFAJ",
    "outputId": "bf97df9a-2fcc-4df8-c036-dc307bd8eac6"
   },
   "outputs": [
    {
     "name": "stdout",
     "output_type": "stream",
     "text": [
      "\u001b[1m Observation: \u001b[0msWe observe that,passengers with siblib/spouse>3 were all from pclass= 3, so their survival rate was less\n"
     ]
    },
    {
     "data": {
      "text/html": [
       "<style  type=\"text/css\" >\n",
       "#T_c72b74f6_539c_11ec_81e9_0242ac1c0002row0_col0,#T_c72b74f6_539c_11ec_81e9_0242ac1c0002row0_col1,#T_c72b74f6_539c_11ec_81e9_0242ac1c0002row0_col2{\n",
       "            background-color:  #008066;\n",
       "            color:  #f1f1f1;\n",
       "        }#T_c72b74f6_539c_11ec_81e9_0242ac1c0002row1_col0{\n",
       "            background-color:  #7bbd66;\n",
       "            color:  #000000;\n",
       "        }#T_c72b74f6_539c_11ec_81e9_0242ac1c0002row1_col1{\n",
       "            background-color:  #8ac466;\n",
       "            color:  #000000;\n",
       "        }#T_c72b74f6_539c_11ec_81e9_0242ac1c0002row1_col2{\n",
       "            background-color:  #c6e266;\n",
       "            color:  #000000;\n",
       "        }#T_c72b74f6_539c_11ec_81e9_0242ac1c0002row2_col0,#T_c72b74f6_539c_11ec_81e9_0242ac1c0002row4_col2{\n",
       "            background-color:  #f6fa66;\n",
       "            color:  #000000;\n",
       "        }#T_c72b74f6_539c_11ec_81e9_0242ac1c0002row2_col1{\n",
       "            background-color:  #eef666;\n",
       "            color:  #000000;\n",
       "        }#T_c72b74f6_539c_11ec_81e9_0242ac1c0002row2_col2{\n",
       "            background-color:  #f8fc66;\n",
       "            color:  #000000;\n",
       "        }#T_c72b74f6_539c_11ec_81e9_0242ac1c0002row3_col0,#T_c72b74f6_539c_11ec_81e9_0242ac1c0002row3_col2{\n",
       "            background-color:  #fafc66;\n",
       "            color:  #000000;\n",
       "        }#T_c72b74f6_539c_11ec_81e9_0242ac1c0002row3_col1{\n",
       "            background-color:  #fdfe66;\n",
       "            color:  #000000;\n",
       "        }#T_c72b74f6_539c_11ec_81e9_0242ac1c0002row4_col0,#T_c72b74f6_539c_11ec_81e9_0242ac1c0002row4_col1,#T_c72b74f6_539c_11ec_81e9_0242ac1c0002row5_col0,#T_c72b74f6_539c_11ec_81e9_0242ac1c0002row5_col1,#T_c72b74f6_539c_11ec_81e9_0242ac1c0002row5_col2,#T_c72b74f6_539c_11ec_81e9_0242ac1c0002row6_col0,#T_c72b74f6_539c_11ec_81e9_0242ac1c0002row6_col1{\n",
       "            background-color:  #ffff66;\n",
       "            color:  #000000;\n",
       "        }#T_c72b74f6_539c_11ec_81e9_0242ac1c0002row6_col2{\n",
       "            background-color:  #fefe66;\n",
       "            color:  #000000;\n",
       "        }</style><table id=\"T_c72b74f6_539c_11ec_81e9_0242ac1c0002\" class=\"dataframe\"><thead>    <tr>        <th class=\"index_name level0\" >Pclass</th>        <th class=\"col_heading level0 col0\" >1</th>        <th class=\"col_heading level0 col1\" >2</th>        <th class=\"col_heading level0 col2\" >3</th>    </tr>    <tr>        <th class=\"index_name level0\" >SibSp</th>        <th class=\"blank\" ></th>        <th class=\"blank\" ></th>        <th class=\"blank\" ></th>    </tr></thead><tbody>\n",
       "                <tr>\n",
       "                        <th id=\"T_c72b74f6_539c_11ec_81e9_0242ac1c0002level0_row0\" class=\"row_heading level0 row0\" >0</th>\n",
       "                        <td id=\"T_c72b74f6_539c_11ec_81e9_0242ac1c0002row0_col0\" class=\"data row0 col0\" >137</td>\n",
       "                        <td id=\"T_c72b74f6_539c_11ec_81e9_0242ac1c0002row0_col1\" class=\"data row0 col1\" >120</td>\n",
       "                        <td id=\"T_c72b74f6_539c_11ec_81e9_0242ac1c0002row0_col2\" class=\"data row0 col2\" >351</td>\n",
       "            </tr>\n",
       "            <tr>\n",
       "                        <th id=\"T_c72b74f6_539c_11ec_81e9_0242ac1c0002level0_row1\" class=\"row_heading level0 row1\" >1</th>\n",
       "                        <td id=\"T_c72b74f6_539c_11ec_81e9_0242ac1c0002row1_col0\" class=\"data row1 col0\" >71</td>\n",
       "                        <td id=\"T_c72b74f6_539c_11ec_81e9_0242ac1c0002row1_col1\" class=\"data row1 col1\" >55</td>\n",
       "                        <td id=\"T_c72b74f6_539c_11ec_81e9_0242ac1c0002row1_col2\" class=\"data row1 col2\" >83</td>\n",
       "            </tr>\n",
       "            <tr>\n",
       "                        <th id=\"T_c72b74f6_539c_11ec_81e9_0242ac1c0002level0_row2\" class=\"row_heading level0 row2\" >2</th>\n",
       "                        <td id=\"T_c72b74f6_539c_11ec_81e9_0242ac1c0002row2_col0\" class=\"data row2 col0\" >5</td>\n",
       "                        <td id=\"T_c72b74f6_539c_11ec_81e9_0242ac1c0002row2_col1\" class=\"data row2 col1\" >8</td>\n",
       "                        <td id=\"T_c72b74f6_539c_11ec_81e9_0242ac1c0002row2_col2\" class=\"data row2 col2\" >15</td>\n",
       "            </tr>\n",
       "            <tr>\n",
       "                        <th id=\"T_c72b74f6_539c_11ec_81e9_0242ac1c0002level0_row3\" class=\"row_heading level0 row3\" >3</th>\n",
       "                        <td id=\"T_c72b74f6_539c_11ec_81e9_0242ac1c0002row3_col0\" class=\"data row3 col0\" >3</td>\n",
       "                        <td id=\"T_c72b74f6_539c_11ec_81e9_0242ac1c0002row3_col1\" class=\"data row3 col1\" >1</td>\n",
       "                        <td id=\"T_c72b74f6_539c_11ec_81e9_0242ac1c0002row3_col2\" class=\"data row3 col2\" >12</td>\n",
       "            </tr>\n",
       "            <tr>\n",
       "                        <th id=\"T_c72b74f6_539c_11ec_81e9_0242ac1c0002level0_row4\" class=\"row_heading level0 row4\" >4</th>\n",
       "                        <td id=\"T_c72b74f6_539c_11ec_81e9_0242ac1c0002row4_col0\" class=\"data row4 col0\" >0</td>\n",
       "                        <td id=\"T_c72b74f6_539c_11ec_81e9_0242ac1c0002row4_col1\" class=\"data row4 col1\" >0</td>\n",
       "                        <td id=\"T_c72b74f6_539c_11ec_81e9_0242ac1c0002row4_col2\" class=\"data row4 col2\" >18</td>\n",
       "            </tr>\n",
       "            <tr>\n",
       "                        <th id=\"T_c72b74f6_539c_11ec_81e9_0242ac1c0002level0_row5\" class=\"row_heading level0 row5\" >5</th>\n",
       "                        <td id=\"T_c72b74f6_539c_11ec_81e9_0242ac1c0002row5_col0\" class=\"data row5 col0\" >0</td>\n",
       "                        <td id=\"T_c72b74f6_539c_11ec_81e9_0242ac1c0002row5_col1\" class=\"data row5 col1\" >0</td>\n",
       "                        <td id=\"T_c72b74f6_539c_11ec_81e9_0242ac1c0002row5_col2\" class=\"data row5 col2\" >5</td>\n",
       "            </tr>\n",
       "            <tr>\n",
       "                        <th id=\"T_c72b74f6_539c_11ec_81e9_0242ac1c0002level0_row6\" class=\"row_heading level0 row6\" >8</th>\n",
       "                        <td id=\"T_c72b74f6_539c_11ec_81e9_0242ac1c0002row6_col0\" class=\"data row6 col0\" >0</td>\n",
       "                        <td id=\"T_c72b74f6_539c_11ec_81e9_0242ac1c0002row6_col1\" class=\"data row6 col1\" >0</td>\n",
       "                        <td id=\"T_c72b74f6_539c_11ec_81e9_0242ac1c0002row6_col2\" class=\"data row6 col2\" >7</td>\n",
       "            </tr>\n",
       "    </tbody></table>"
      ],
      "text/plain": [
       "<pandas.io.formats.style.Styler at 0x7fe2d3fac3d0>"
      ]
     },
     "execution_count": 29,
     "metadata": {},
     "output_type": "execute_result"
    }
   ],
   "source": [
    "print('\\033[1m Observation: \\033[0msWe observe that,passengers with siblib/spouse>3 were all from pclass= 3, so their survival rate was less')\n",
    "pd.crosstab(train.SibSp,train.Pclass).style.background_gradient(cmap='summer_r')"
   ]
  },
  {
   "cell_type": "markdown",
   "id": "cNXSvyMsYFAJ",
   "metadata": {
    "id": "cNXSvyMsYFAJ"
   },
   "source": [
    "**Chances for Survival by Port Of Parch**"
   ]
  },
  {
   "cell_type": "code",
   "execution_count": null,
   "id": "0QR1f9PoYFAK",
   "metadata": {
    "colab": {
     "base_uri": "https://localhost:8080/",
     "height": 72
    },
    "id": "0QR1f9PoYFAK",
    "outputId": "989ca002-98fb-402a-8062-3044461344f5"
   },
   "outputs": [
    {
     "data": {
      "image/png": "[encoded data removed]",
      "text/plain": [
       "<Figure size 432x288 with 1 Axes>"
      ]
     },
     "metadata": {
      "needs_background": "light"
     },
     "output_type": "display_data"
    },
    {
     "name": "stdout",
     "output_type": "stream",
     "text": [
      "\u001b[1m Observation: \u001b[0msWe observe that, with the increase in number of parents/children, survival rate decreases\n"
     ]
    }
   ],
   "source": [
    "sns.barplot('Parch','Survived',data=train)\n",
    "plt.title('Parch vs Survived')\n",
    "plt.show()\n",
    "print('\\033[1m Observation: \\033[0msWe observe that, with the increase in number of parents/children, survival rate decreases')"
   ]
  },
  {
   "cell_type": "code",
   "execution_count": null,
   "id": "VAowZAnAYFAL",
   "metadata": {
    "colab": {
     "base_uri": "https://localhost:8080/",
     "height": 340
    },
    "id": "VAowZAnAYFAL",
    "outputId": "a047200b-9e49-4603-d1a6-57ce07f289fc"
   },
   "outputs": [
    {
     "name": "stdout",
     "output_type": "stream",
     "text": [
      "\u001b[1m Observation: \u001b[0msWe observe that,passengers with Parents/children>3 were all from pclass= 3, so their survival rate was less\n"
     ]
    },
    {
     "data": {
      "text/html": [
       "<style  type=\"text/css\" >\n",
       "#T_c77191c0_539c_11ec_81e9_0242ac1c0002row0_col0,#T_c77191c0_539c_11ec_81e9_0242ac1c0002row0_col1,#T_c77191c0_539c_11ec_81e9_0242ac1c0002row0_col2{\n",
       "            background-color:  #008066;\n",
       "            color:  #f1f1f1;\n",
       "        }#T_c77191c0_539c_11ec_81e9_0242ac1c0002row1_col0{\n",
       "            background-color:  #cfe766;\n",
       "            color:  #000000;\n",
       "        }#T_c77191c0_539c_11ec_81e9_0242ac1c0002row1_col1{\n",
       "            background-color:  #c2e066;\n",
       "            color:  #000000;\n",
       "        }#T_c77191c0_539c_11ec_81e9_0242ac1c0002row1_col2{\n",
       "            background-color:  #dbed66;\n",
       "            color:  #000000;\n",
       "        }#T_c77191c0_539c_11ec_81e9_0242ac1c0002row2_col0{\n",
       "            background-color:  #dfef66;\n",
       "            color:  #000000;\n",
       "        }#T_c77191c0_539c_11ec_81e9_0242ac1c0002row2_col1{\n",
       "            background-color:  #e1f066;\n",
       "            color:  #000000;\n",
       "        }#T_c77191c0_539c_11ec_81e9_0242ac1c0002row2_col2{\n",
       "            background-color:  #e3f166;\n",
       "            color:  #000000;\n",
       "        }#T_c77191c0_539c_11ec_81e9_0242ac1c0002row3_col0,#T_c77191c0_539c_11ec_81e9_0242ac1c0002row4_col1,#T_c77191c0_539c_11ec_81e9_0242ac1c0002row5_col0,#T_c77191c0_539c_11ec_81e9_0242ac1c0002row5_col1,#T_c77191c0_539c_11ec_81e9_0242ac1c0002row6_col0,#T_c77191c0_539c_11ec_81e9_0242ac1c0002row6_col1,#T_c77191c0_539c_11ec_81e9_0242ac1c0002row6_col2{\n",
       "            background-color:  #ffff66;\n",
       "            color:  #000000;\n",
       "        }#T_c77191c0_539c_11ec_81e9_0242ac1c0002row3_col1{\n",
       "            background-color:  #fcfe66;\n",
       "            color:  #000000;\n",
       "        }#T_c77191c0_539c_11ec_81e9_0242ac1c0002row3_col2,#T_c77191c0_539c_11ec_81e9_0242ac1c0002row4_col0,#T_c77191c0_539c_11ec_81e9_0242ac1c0002row4_col2{\n",
       "            background-color:  #fefe66;\n",
       "            color:  #000000;\n",
       "        }#T_c77191c0_539c_11ec_81e9_0242ac1c0002row5_col2{\n",
       "            background-color:  #fdfe66;\n",
       "            color:  #000000;\n",
       "        }</style><table id=\"T_c77191c0_539c_11ec_81e9_0242ac1c0002\" class=\"dataframe\"><thead>    <tr>        <th class=\"index_name level0\" >Pclass</th>        <th class=\"col_heading level0 col0\" >1</th>        <th class=\"col_heading level0 col1\" >2</th>        <th class=\"col_heading level0 col2\" >3</th>    </tr>    <tr>        <th class=\"index_name level0\" >Parch</th>        <th class=\"blank\" ></th>        <th class=\"blank\" ></th>        <th class=\"blank\" ></th>    </tr></thead><tbody>\n",
       "                <tr>\n",
       "                        <th id=\"T_c77191c0_539c_11ec_81e9_0242ac1c0002level0_row0\" class=\"row_heading level0 row0\" >0</th>\n",
       "                        <td id=\"T_c77191c0_539c_11ec_81e9_0242ac1c0002row0_col0\" class=\"data row0 col0\" >163</td>\n",
       "                        <td id=\"T_c77191c0_539c_11ec_81e9_0242ac1c0002row0_col1\" class=\"data row0 col1\" >134</td>\n",
       "                        <td id=\"T_c77191c0_539c_11ec_81e9_0242ac1c0002row0_col2\" class=\"data row0 col2\" >381</td>\n",
       "            </tr>\n",
       "            <tr>\n",
       "                        <th id=\"T_c77191c0_539c_11ec_81e9_0242ac1c0002level0_row1\" class=\"row_heading level0 row1\" >1</th>\n",
       "                        <td id=\"T_c77191c0_539c_11ec_81e9_0242ac1c0002row1_col0\" class=\"data row1 col0\" >31</td>\n",
       "                        <td id=\"T_c77191c0_539c_11ec_81e9_0242ac1c0002row1_col1\" class=\"data row1 col1\" >32</td>\n",
       "                        <td id=\"T_c77191c0_539c_11ec_81e9_0242ac1c0002row1_col2\" class=\"data row1 col2\" >55</td>\n",
       "            </tr>\n",
       "            <tr>\n",
       "                        <th id=\"T_c77191c0_539c_11ec_81e9_0242ac1c0002level0_row2\" class=\"row_heading level0 row2\" >2</th>\n",
       "                        <td id=\"T_c77191c0_539c_11ec_81e9_0242ac1c0002row2_col0\" class=\"data row2 col0\" >21</td>\n",
       "                        <td id=\"T_c77191c0_539c_11ec_81e9_0242ac1c0002row2_col1\" class=\"data row2 col1\" >16</td>\n",
       "                        <td id=\"T_c77191c0_539c_11ec_81e9_0242ac1c0002row2_col2\" class=\"data row2 col2\" >43</td>\n",
       "            </tr>\n",
       "            <tr>\n",
       "                        <th id=\"T_c77191c0_539c_11ec_81e9_0242ac1c0002level0_row3\" class=\"row_heading level0 row3\" >3</th>\n",
       "                        <td id=\"T_c77191c0_539c_11ec_81e9_0242ac1c0002row3_col0\" class=\"data row3 col0\" >0</td>\n",
       "                        <td id=\"T_c77191c0_539c_11ec_81e9_0242ac1c0002row3_col1\" class=\"data row3 col1\" >2</td>\n",
       "                        <td id=\"T_c77191c0_539c_11ec_81e9_0242ac1c0002row3_col2\" class=\"data row3 col2\" >3</td>\n",
       "            </tr>\n",
       "            <tr>\n",
       "                        <th id=\"T_c77191c0_539c_11ec_81e9_0242ac1c0002level0_row4\" class=\"row_heading level0 row4\" >4</th>\n",
       "                        <td id=\"T_c77191c0_539c_11ec_81e9_0242ac1c0002row4_col0\" class=\"data row4 col0\" >1</td>\n",
       "                        <td id=\"T_c77191c0_539c_11ec_81e9_0242ac1c0002row4_col1\" class=\"data row4 col1\" >0</td>\n",
       "                        <td id=\"T_c77191c0_539c_11ec_81e9_0242ac1c0002row4_col2\" class=\"data row4 col2\" >3</td>\n",
       "            </tr>\n",
       "            <tr>\n",
       "                        <th id=\"T_c77191c0_539c_11ec_81e9_0242ac1c0002level0_row5\" class=\"row_heading level0 row5\" >5</th>\n",
       "                        <td id=\"T_c77191c0_539c_11ec_81e9_0242ac1c0002row5_col0\" class=\"data row5 col0\" >0</td>\n",
       "                        <td id=\"T_c77191c0_539c_11ec_81e9_0242ac1c0002row5_col1\" class=\"data row5 col1\" >0</td>\n",
       "                        <td id=\"T_c77191c0_539c_11ec_81e9_0242ac1c0002row5_col2\" class=\"data row5 col2\" >5</td>\n",
       "            </tr>\n",
       "            <tr>\n",
       "                        <th id=\"T_c77191c0_539c_11ec_81e9_0242ac1c0002level0_row6\" class=\"row_heading level0 row6\" >6</th>\n",
       "                        <td id=\"T_c77191c0_539c_11ec_81e9_0242ac1c0002row6_col0\" class=\"data row6 col0\" >0</td>\n",
       "                        <td id=\"T_c77191c0_539c_11ec_81e9_0242ac1c0002row6_col1\" class=\"data row6 col1\" >0</td>\n",
       "                        <td id=\"T_c77191c0_539c_11ec_81e9_0242ac1c0002row6_col2\" class=\"data row6 col2\" >1</td>\n",
       "            </tr>\n",
       "    </tbody></table>"
      ],
      "text/plain": [
       "<pandas.io.formats.style.Styler at 0x7fe2d3fc3390>"
      ]
     },
     "execution_count": 31,
     "metadata": {},
     "output_type": "execute_result"
    }
   ],
   "source": [
    "print('\\033[1m Observation: \\033[0msWe observe that,passengers with Parents/children>3 were all from pclass= 3, so their survival rate was less')\n",
    "pd.crosstab(train.Parch,train.Pclass).style.background_gradient(cmap='summer_r')"
   ]
  },
  {
   "cell_type": "markdown",
   "id": "4nXfBC9oYFAL",
   "metadata": {
    "_cell_guid": "f9595646-65c9-6fc4-395f-0befc4d122ce",
    "id": "4nXfBC9oYFAL",
    "papermill": {
     "duration": 0.032006,
     "end_time": "2021-12-02T02:12:02.963971",
     "exception": false,
     "start_time": "2021-12-02T02:12:02.931965",
     "status": "completed"
    },
    "tags": []
   },
   "source": [
    "# Feature Engineering #"
   ]
  },
  {
   "cell_type": "code",
   "execution_count": null,
   "id": "6oOeDiKQYFAM",
   "metadata": {
    "colab": {
     "base_uri": "https://localhost:8080/",
     "height": 794
    },
    "execution": {
     "iopub.execute_input": "2021-12-02T02:12:03.035714Z",
     "iopub.status.busy": "2021-12-02T02:12:03.034692Z",
     "iopub.status.idle": "2021-12-02T02:12:04.663353Z",
     "shell.execute_reply": "2021-12-02T02:12:04.663870Z",
     "shell.execute_reply.started": "2021-12-02T01:43:43.376162Z"
    },
    "id": "6oOeDiKQYFAM",
    "outputId": "2218407b-bc6e-4e47-b936-60eb668f2b28",
    "papermill": {
     "duration": 1.667147,
     "end_time": "2021-12-02T02:12:04.664076",
     "exception": false,
     "start_time": "2021-12-02T02:12:02.996929",
     "status": "completed"
    },
    "tags": []
   },
   "outputs": [
    {
     "name": "stdout",
     "output_type": "stream",
     "text": [
      "Survival Correlation by: Sex\n",
      "      Sex  Survived\n",
      "0  female  0.742038\n",
      "1    male  0.188908\n",
      "---------- \n",
      "\n",
      "Survival Correlation by: Pclass\n",
      "   Pclass  Survived\n",
      "0       1  0.629630\n",
      "1       2  0.472826\n",
      "2       3  0.242363\n",
      "---------- \n",
      "\n",
      "Survival Correlation by: SibSp\n",
      "   SibSp  Survived\n",
      "0      0  0.345395\n",
      "1      1  0.535885\n",
      "2      2  0.464286\n",
      "3      3  0.250000\n",
      "4      4  0.166667\n",
      "5      5  0.000000\n",
      "6      8  0.000000\n",
      "---------- \n",
      "\n",
      "Survival Correlation by: Parch\n",
      "   Parch  Survived\n",
      "0      0  0.343658\n",
      "1      1  0.550847\n",
      "2      2  0.500000\n",
      "3      3  0.600000\n",
      "4      4  0.000000\n",
      "5      5  0.200000\n",
      "6      6  0.000000\n",
      "---------- \n",
      "\n",
      "Survival Correlation by: Embarked\n",
      "  Embarked  Survived\n",
      "0        C  0.553571\n",
      "1        Q  0.389610\n",
      "2        S  0.336957\n",
      "---------- \n",
      "\n"
     ]
    },
    {
     "data": {
      "image/png": "[encoded data removed]",
      "text/plain": [
       "<Figure size 2160x432 with 5 Axes>"
      ]
     },
     "metadata": {
      "needs_background": "light"
     },
     "output_type": "display_data"
    }
   ],
   "source": [
    "features = ['Sex', 'Pclass', 'SibSp', 'Parch', 'Embarked']\n",
    "fig, saxis = plt.subplots(1, len(features),figsize=(len(features) * 6,6))\n",
    "for ind, x in enumerate(features):\n",
    "    print('Survival Correlation by:', x)\n",
    "    print(train[[x, \"Survived\"]].groupby(x, as_index=False).mean()) \n",
    "    print('-'*10, '\\n')\n",
    "    sns.barplot(x, y=\"Survived\", data=train, ax = saxis[ind])"
   ]
  },
  {
   "cell_type": "code",
   "execution_count": null,
   "id": "60rDiqYkYFAN",
   "metadata": {
    "colab": {
     "base_uri": "https://localhost:8080/",
     "height": 55
    },
    "execution": {
     "iopub.execute_input": "2021-12-02T02:12:04.736150Z",
     "iopub.status.busy": "2021-12-02T02:12:04.735534Z",
     "iopub.status.idle": "2021-12-02T02:12:05.102588Z",
     "shell.execute_reply": "2021-12-02T02:12:05.102014Z",
     "shell.execute_reply.started": "2021-12-02T01:43:44.922444Z"
    },
    "id": "60rDiqYkYFAN",
    "outputId": "82f5e037-9f83-4051-b258-2f325ceb9453",
    "papermill": {
     "duration": 0.404175,
     "end_time": "2021-12-02T02:12:05.102741",
     "exception": false,
     "start_time": "2021-12-02T02:12:04.698566",
     "status": "completed"
    },
    "tags": []
   },
   "outputs": [
    {
     "data": {
      "image/png": "[encoded data removed]",
      "text/plain": [
       "<Figure size 432x288 with 1 Axes>"
      ]
     },
     "metadata": {
      "needs_background": "light"
     },
     "output_type": "display_data"
    }
   ],
   "source": [
    "bins = [0, 2, 12, 17, 60, np.inf]\n",
    "labels = ['baby', 'child', 'teenager', 'adult', 'elderly']\n",
    "age_groups = pd.cut(train.Age, bins, labels = labels)\n",
    "train['AgeGroup'] = age_groups\n",
    "sns.barplot(x=\"AgeGroup\", y=\"Survived\", data=train)\n",
    "plt.show()"
   ]
  },
  {
   "cell_type": "markdown",
   "id": "6HOuUtdLYFAO",
   "metadata": {
    "_cell_guid": "7c58b7ee-d6a1-0cc9-2346-81c47846a54a",
    "id": "6HOuUtdLYFAO",
    "papermill": {
     "duration": 0.035468,
     "end_time": "2021-12-02T02:12:05.174105",
     "exception": false,
     "start_time": "2021-12-02T02:12:05.138637",
     "status": "completed"
    },
    "tags": []
   },
   "source": [
    "number of siblings/spouse + number of children/parents + 1 =  Family Size."
   ]
  },
  {
   "cell_type": "code",
   "execution_count": null,
   "id": "ZWBBXR2vYFAO",
   "metadata": {
    "_cell_guid": "1a537f10-7cec-d0b7-8a34-fa9975655190",
    "colab": {
     "base_uri": "https://localhost:8080/",
     "height": 231
    },
    "execution": {
     "iopub.execute_input": "2021-12-02T02:12:05.260877Z",
     "iopub.status.busy": "2021-12-02T02:12:05.255037Z",
     "iopub.status.idle": "2021-12-02T02:12:05.770158Z",
     "shell.execute_reply": "2021-12-02T02:12:05.770672Z",
     "shell.execute_reply.started": "2021-12-02T01:43:45.296687Z"
    },
    "id": "ZWBBXR2vYFAO",
    "outputId": "3d3f1017-4f23-4616-c00f-09f3ebb676a5",
    "papermill": {
     "duration": 0.56103,
     "end_time": "2021-12-02T02:12:05.770850",
     "exception": false,
     "start_time": "2021-12-02T02:12:05.209820",
     "status": "completed"
    },
    "tags": []
   },
   "outputs": [
    {
     "name": "stdout",
     "output_type": "stream",
     "text": [
      "   FamilySize  Survived\n",
      "0           1  0.303538\n",
      "1           2  0.552795\n",
      "2           3  0.578431\n",
      "3           4  0.724138\n",
      "4           5  0.200000\n",
      "5           6  0.136364\n",
      "6           7  0.333333\n",
      "7           8  0.000000\n",
      "8          11  0.000000\n"
     ]
    },
    {
     "data": {
      "image/png": "[encoded data removed]",
      "text/plain": [
       "<Figure size 432x288 with 1 Axes>"
      ]
     },
     "metadata": {
      "needs_background": "light"
     },
     "output_type": "display_data"
    }
   ],
   "source": [
    "for dataset in full_data:\n",
    "    dataset['FamilySize'] = dataset['SibSp'] + dataset['Parch'] + 1\n",
    "print (train[['FamilySize', 'Survived']].groupby(['FamilySize'], as_index=False).mean())\n",
    "sns.barplot(x=\"FamilySize\", y=\"Survived\", data=train)\n",
    "plt.show()"
   ]
  },
  {
   "cell_type": "code",
   "execution_count": null,
   "id": "guxhHNnoYFAP",
   "metadata": {
    "_cell_guid": "8c35e945-c928-e3bc-bd9c-d6ddb287e4c9",
    "colab": {
     "base_uri": "https://localhost:8080/",
     "height": 108
    },
    "execution": {
     "iopub.execute_input": "2021-12-02T02:12:05.858032Z",
     "iopub.status.busy": "2021-12-02T02:12:05.853109Z",
     "iopub.status.idle": "2021-12-02T02:12:06.087536Z",
     "shell.execute_reply": "2021-12-02T02:12:06.086788Z",
     "shell.execute_reply.started": "2021-12-02T01:43:45.822555Z"
    },
    "id": "guxhHNnoYFAP",
    "outputId": "aba46ff6-76ef-4c31-a508-57c73f729a63",
    "papermill": {
     "duration": 0.280303,
     "end_time": "2021-12-02T02:12:06.087686",
     "exception": false,
     "start_time": "2021-12-02T02:12:05.807383",
     "status": "completed"
    },
    "tags": []
   },
   "outputs": [
    {
     "name": "stdout",
     "output_type": "stream",
     "text": [
      "   IsAlone  Survived\n",
      "0        0  0.505650\n",
      "1        1  0.303538\n"
     ]
    },
    {
     "data": {
      "image/png": "[encoded data removed]",
      "text/plain": [
       "<Figure size 432x288 with 1 Axes>"
      ]
     },
     "metadata": {
      "needs_background": "light"
     },
     "output_type": "display_data"
    }
   ],
   "source": [
    "# check whether they are alone in this ship or not.\n",
    "for dataset in full_data:\n",
    "    dataset['IsAlone'] = 0\n",
    "    dataset.loc[dataset['FamilySize'] == 1, 'IsAlone'] = 1\n",
    "print (train[['IsAlone', 'Survived']].groupby(['IsAlone'], as_index=False).mean())\n",
    "sns.barplot(x=\"IsAlone\", y=\"Survived\", data=train)\n",
    "plt.show()"
   ]
  },
  {
   "cell_type": "code",
   "execution_count": null,
   "id": "tmpkPi7IYFAQ",
   "metadata": {
    "_cell_guid": "0e70e9af-d7cc-8c40-b7d4-2643889c376d",
    "colab": {
     "base_uri": "https://localhost:8080/",
     "height": 125
    },
    "execution": {
     "iopub.execute_input": "2021-12-02T02:12:06.167362Z",
     "iopub.status.busy": "2021-12-02T02:12:06.166337Z",
     "iopub.status.idle": "2021-12-02T02:12:06.448881Z",
     "shell.execute_reply": "2021-12-02T02:12:06.449510Z",
     "shell.execute_reply.started": "2021-12-02T01:43:46.075487Z"
    },
    "id": "tmpkPi7IYFAQ",
    "outputId": "80458879-462d-4563-fae9-9a5260b52d66",
    "papermill": {
     "duration": 0.32394,
     "end_time": "2021-12-02T02:12:06.449697",
     "exception": false,
     "start_time": "2021-12-02T02:12:06.125757",
     "status": "completed"
    },
    "tags": []
   },
   "outputs": [
    {
     "name": "stdout",
     "output_type": "stream",
     "text": [
      "  Embarked  Survived\n",
      "0        C  0.553571\n",
      "1        Q  0.389610\n",
      "2        S  0.339009\n"
     ]
    },
    {
     "data": {
      "image/png": "[encoded data removed]",
      "text/plain": [
       "<Figure size 432x288 with 1 Axes>"
      ]
     },
     "metadata": {
      "needs_background": "light"
     },
     "output_type": "display_data"
    }
   ],
   "source": [
    "# The embarked feature has some missing value. and we try to fill those with the most occurred value ( 'S' ).\n",
    "for dataset in full_data:\n",
    "    dataset['Embarked'] = dataset['Embarked'].fillna('S')\n",
    "print (train[['Embarked', 'Survived']].groupby(['Embarked'], as_index=False).mean())\n",
    "sns.barplot(x=\"Embarked\", y=\"Survived\", data=train)\n",
    "plt.show()"
   ]
  },
  {
   "cell_type": "code",
   "execution_count": null,
   "id": "Z8e0Ug92YFAQ",
   "metadata": {
    "_cell_guid": "a21335bd-4e8d-66e8-e6a5-5d2173b72d3b",
    "colab": {
     "base_uri": "https://localhost:8080/"
    },
    "execution": {
     "iopub.execute_input": "2021-12-02T02:12:06.530314Z",
     "iopub.status.busy": "2021-12-02T02:12:06.529317Z",
     "iopub.status.idle": "2021-12-02T02:12:06.550662Z",
     "shell.execute_reply": "2021-12-02T02:12:06.551230Z",
     "shell.execute_reply.started": "2021-12-02T01:43:46.370694Z"
    },
    "id": "Z8e0Ug92YFAQ",
    "outputId": "5addf436-5a59-42b2-8847-7f7a1a62149c",
    "papermill": {
     "duration": 0.063292,
     "end_time": "2021-12-02T02:12:06.551414",
     "exception": false,
     "start_time": "2021-12-02T02:12:06.488122",
     "status": "completed"
    },
    "tags": []
   },
   "outputs": [
    {
     "name": "stdout",
     "output_type": "stream",
     "text": [
      "   CategoricalFare  Survived\n",
      "0   (-0.001, 7.91]  0.197309\n",
      "1   (7.91, 14.454]  0.303571\n",
      "2   (14.454, 31.0]  0.454955\n",
      "3  (31.0, 512.329]  0.581081\n"
     ]
    }
   ],
   "source": [
    "# Fare also has some missing value and we will replace it with the median. then we categorize it into 4 ranges.\n",
    "for dataset in full_data:\n",
    "    dataset['Fare'] = dataset['Fare'].fillna(train['Fare'].median())\n",
    "train['CategoricalFare'] = pd.qcut(train['Fare'], 4)\n",
    "print (train[['CategoricalFare', 'Survived']].groupby(['CategoricalFare'], as_index=False).mean())"
   ]
  },
  {
   "cell_type": "code",
   "execution_count": null,
   "id": "zHEiVRR6YFAR",
   "metadata": {
    "_cell_guid": "b90c2870-ce5d-ae0e-a33d-59e35445500e",
    "colab": {
     "base_uri": "https://localhost:8080/"
    },
    "execution": {
     "iopub.execute_input": "2021-12-02T02:12:06.634765Z",
     "iopub.status.busy": "2021-12-02T02:12:06.633671Z",
     "iopub.status.idle": "2021-12-02T02:12:06.656885Z",
     "shell.execute_reply": "2021-12-02T02:12:06.657723Z",
     "shell.execute_reply.started": "2021-12-02T01:43:46.396605Z"
    },
    "id": "zHEiVRR6YFAR",
    "outputId": "b8b2ca69-14ed-4b14-9494-0b7b34c18e66",
    "papermill": {
     "duration": 0.067559,
     "end_time": "2021-12-02T02:12:06.657991",
     "exception": false,
     "start_time": "2021-12-02T02:12:06.590432",
     "status": "completed"
    },
    "tags": []
   },
   "outputs": [
    {
     "name": "stdout",
     "output_type": "stream",
     "text": [
      "  CategoricalAge  Survived\n",
      "0  (-0.08, 16.0]  0.546296\n",
      "1   (16.0, 32.0]  0.348889\n",
      "2   (32.0, 48.0]  0.375494\n",
      "3   (48.0, 64.0]  0.434783\n",
      "4   (64.0, 80.0]  0.090909\n"
     ]
    }
   ],
   "source": [
    "# We have plenty of missing values in Age feature. Generate random numbers between (mean - std) and (mean + std) then we categorize age into 5 range.\n",
    "for dataset in full_data:\n",
    "    age_avg = dataset['Age'].mean()\n",
    "    age_std = dataset['Age'].std()\n",
    "    age_null_count = dataset['Age'].isnull().sum()\n",
    "    \n",
    "    age_null_random_list = np.random.randint(age_avg - age_std, age_avg + age_std, size=age_null_count)\n",
    "    dataset['Age'][np.isnan(dataset['Age'])] = age_null_random_list\n",
    "    dataset['Age'] = dataset['Age'].astype(int)\n",
    "    \n",
    "train['CategoricalAge'] = pd.cut(train['Age'], 5)\n",
    "\n",
    "print (train[['CategoricalAge', 'Survived']].groupby(['CategoricalAge'], as_index=False).mean())"
   ]
  },
  {
   "cell_type": "code",
   "execution_count": null,
   "id": "vfeft6oYYFAS",
   "metadata": {
    "_cell_guid": "ad042f43-bfe0-ded0-4171-379d8caaa749",
    "colab": {
     "base_uri": "https://localhost:8080/"
    },
    "execution": {
     "iopub.execute_input": "2021-12-02T02:12:06.752957Z",
     "iopub.status.busy": "2021-12-02T02:12:06.752179Z",
     "iopub.status.idle": "2021-12-02T02:12:06.769747Z",
     "shell.execute_reply": "2021-12-02T02:12:06.770801Z",
     "shell.execute_reply.started": "2021-12-02T01:43:46.427472Z"
    },
    "id": "vfeft6oYYFAS",
    "outputId": "58e3134d-04b4-4e1c-b45b-35ff759dfc19",
    "papermill": {
     "duration": 0.072708,
     "end_time": "2021-12-02T02:12:06.771130",
     "exception": false,
     "start_time": "2021-12-02T02:12:06.698422",
     "status": "completed"
    },
    "tags": []
   },
   "outputs": [
    {
     "name": "stdout",
     "output_type": "stream",
     "text": [
      "Sex       female  male\n",
      "Title                 \n",
      "Capt           0     1\n",
      "Col            0     2\n",
      "Countess       1     0\n",
      "Don            0     1\n",
      "Dr             1     6\n",
      "Jonkheer       0     1\n",
      "Lady           1     0\n",
      "Major          0     2\n",
      "Master         0    40\n",
      "Miss         182     0\n",
      "Mlle           2     0\n",
      "Mme            1     0\n",
      "Mr             0   517\n",
      "Mrs          125     0\n",
      "Ms             1     0\n",
      "Rev            0     6\n",
      "Sir            0     1\n"
     ]
    }
   ],
   "source": [
    "# find Title from Name\n",
    "def get_title(name):\n",
    "    title_search = re.search(' ([A-Za-z]+)\\.', name)\n",
    "    # If the title exists, extract and return it.\n",
    "    if title_search:\n",
    "        return title_search.group(1)\n",
    "    return \"\"\n",
    "\n",
    "for dataset in full_data:\n",
    "    dataset['Title'] = dataset['Name'].apply(get_title)\n",
    "\n",
    "print(pd.crosstab(train['Title'], train['Sex']))"
   ]
  },
  {
   "cell_type": "code",
   "execution_count": null,
   "id": "xfJYlvGRYFAT",
   "metadata": {
    "_cell_guid": "8357238b-98fe-632a-acd5-33674a6132ce",
    "colab": {
     "base_uri": "https://localhost:8080/",
     "height": 160
    },
    "execution": {
     "iopub.execute_input": "2021-12-02T02:12:06.861996Z",
     "iopub.status.busy": "2021-12-02T02:12:06.860096Z",
     "iopub.status.idle": "2021-12-02T02:12:07.219226Z",
     "shell.execute_reply": "2021-12-02T02:12:07.219703Z",
     "shell.execute_reply.started": "2021-12-02T01:43:46.462897Z"
    },
    "id": "xfJYlvGRYFAT",
    "outputId": "ae2be8e3-faef-4e78-940a-f6d77b02bc16",
    "papermill": {
     "duration": 0.40726,
     "end_time": "2021-12-02T02:12:07.219887",
     "exception": false,
     "start_time": "2021-12-02T02:12:06.812627",
     "status": "completed"
    },
    "tags": []
   },
   "outputs": [
    {
     "name": "stdout",
     "output_type": "stream",
     "text": [
      "    Title  Survived\n",
      "0  Master  0.575000\n",
      "1    Miss  0.702703\n",
      "2      Mr  0.156673\n",
      "3     Mrs  0.793651\n",
      "4    Rare  0.347826\n"
     ]
    },
    {
     "data": {
      "image/png": "[encoded data removed]",
      "text/plain": [
       "<Figure size 432x288 with 1 Axes>"
      ]
     },
     "metadata": {
      "needs_background": "light"
     },
     "output_type": "display_data"
    }
   ],
   "source": [
    "# categorize the titles\n",
    "for dataset in full_data:\n",
    "    dataset['Title'] = dataset['Title'].replace(['Lady', 'Countess','Capt', 'Col',\\\n",
    "     'Don', 'Dr', 'Major', 'Rev', 'Sir', 'Jonkheer', 'Dona'], 'Rare')\n",
    "\n",
    "    dataset['Title'] = dataset['Title'].replace('Mlle', 'Miss')\n",
    "    dataset['Title'] = dataset['Title'].replace('Ms', 'Miss')\n",
    "    dataset['Title'] = dataset['Title'].replace('Mme', 'Mrs')\n",
    "\n",
    "print (train[['Title', 'Survived']].groupby(['Title'], as_index=False).mean())\n",
    "sns.barplot(x=\"Title\", y=\"Survived\", data=train)\n",
    "plt.show()"
   ]
  },
  {
   "cell_type": "code",
   "execution_count": null,
   "id": "bpJ2Oyc-YFAU",
   "metadata": {
    "execution": {
     "iopub.execute_input": "2021-12-02T02:12:07.304219Z",
     "iopub.status.busy": "2021-12-02T02:12:07.303520Z",
     "iopub.status.idle": "2021-12-02T02:12:07.313944Z",
     "shell.execute_reply": "2021-12-02T02:12:07.314481Z",
     "shell.execute_reply.started": "2021-12-02T01:43:46.876120Z"
    },
    "id": "bpJ2Oyc-YFAU",
    "papermill": {
     "duration": 0.054185,
     "end_time": "2021-12-02T02:12:07.314672",
     "exception": false,
     "start_time": "2021-12-02T02:12:07.260487",
     "status": "completed"
    },
    "tags": []
   },
   "outputs": [],
   "source": [
    "# ticket type\n",
    "for dataset in full_data:\n",
    "    dataset['Ticket_type'] = dataset['Ticket'].apply(lambda x: x[0:3])\n",
    "    dataset['Ticket_type'] = dataset['Ticket_type'].astype('category')\n",
    "    dataset['Ticket_type'] = dataset['Ticket_type'].cat.codes"
   ]
  },
  {
   "cell_type": "code",
   "execution_count": null,
   "id": "kzFGlnsNYFAV",
   "metadata": {
    "colab": {
     "base_uri": "https://localhost:8080/"
    },
    "execution": {
     "iopub.execute_input": "2021-12-02T02:12:07.398870Z",
     "iopub.status.busy": "2021-12-02T02:12:07.398249Z",
     "iopub.status.idle": "2021-12-02T02:12:07.410902Z",
     "shell.execute_reply": "2021-12-02T02:12:07.411669Z",
     "shell.execute_reply.started": "2021-12-02T01:43:46.891814Z"
    },
    "id": "kzFGlnsNYFAV",
    "outputId": "d9e54c70-76d9-4f72-c26c-c5961852d32d",
    "papermill": {
     "duration": 0.057011,
     "end_time": "2021-12-02T02:12:07.411892",
     "exception": false,
     "start_time": "2021-12-02T02:12:07.354881",
     "status": "completed"
    },
    "tags": []
   },
   "outputs": [
    {
     "name": "stdout",
     "output_type": "stream",
     "text": [
      "   Has_Cabin  Survived\n",
      "0          0  0.299854\n",
      "1          1  0.666667\n"
     ]
    }
   ],
   "source": [
    "# has cabin ?\n",
    "for dataset in full_data:\n",
    "    dataset['Has_Cabin'] = dataset[\"Cabin\"].apply(lambda x: 0 if type(x) == float else 1)\n",
    "print (train[['Has_Cabin', 'Survived']].groupby(['Has_Cabin'], as_index=False).mean())"
   ]
  },
  {
   "cell_type": "code",
   "execution_count": null,
   "id": "xe3jpA8pYFAW",
   "metadata": {
    "execution": {
     "iopub.execute_input": "2021-12-02T02:12:07.512635Z",
     "iopub.status.busy": "2021-12-02T02:12:07.511824Z",
     "iopub.status.idle": "2021-12-02T02:12:07.598245Z",
     "shell.execute_reply": "2021-12-02T02:12:07.597597Z",
     "shell.execute_reply.started": "2021-12-02T01:43:46.922114Z"
    },
    "id": "xe3jpA8pYFAW",
    "papermill": {
     "duration": 0.144422,
     "end_time": "2021-12-02T02:12:07.598402",
     "exception": false,
     "start_time": "2021-12-02T02:12:07.453980",
     "status": "completed"
    },
    "tags": []
   },
   "outputs": [],
   "source": [
    "for dataset in full_data:\n",
    "    dataset['Surname'] = dataset.Name.str.extract(r'([A-Za-z]+),', expand=False)\n",
    "    dataset['TicketPrefix'] = dataset.Ticket.str.extract(r'(.*\\d)', expand=False)\n",
    "    dataset['Surname_Ticket'] = dataset['Surname'] + dataset['TicketPrefix']\n",
    "    dataset['IsFamily'] = dataset.Surname_Ticket.duplicated(keep=False).astype(int)\n",
    "    dataset['Child'] = dataset.Age.map(lambda x: 1 if x <=16 else 0)\n",
    "    FamilyWithChild = dataset[(dataset.IsFamily==1)&(dataset.Child==1)]['Surname_Ticket'].unique()\n",
    "\n",
    "    dataset['FamilyId'] = 0\n",
    "    for ind, identifier in enumerate(FamilyWithChild):\n",
    "        dataset.loc[dataset.Surname_Ticket==identifier, ['FamilyId']] = ind + 1"
   ]
  },
  {
   "cell_type": "code",
   "execution_count": null,
   "id": "z0Y-W3Z_YFAW",
   "metadata": {
    "colab": {
     "base_uri": "https://localhost:8080/",
     "height": 55
    },
    "execution": {
     "iopub.execute_input": "2021-12-02T02:12:07.692693Z",
     "iopub.status.busy": "2021-12-02T02:12:07.690143Z",
     "iopub.status.idle": "2021-12-02T02:12:07.999178Z",
     "shell.execute_reply": "2021-12-02T02:12:07.998585Z",
     "shell.execute_reply.started": "2021-12-02T01:43:47.032476Z"
    },
    "id": "z0Y-W3Z_YFAW",
    "outputId": "3f67f7e4-5ab6-4e9a-c526-aef600f4e91e",
    "papermill": {
     "duration": 0.358789,
     "end_time": "2021-12-02T02:12:07.999342",
     "exception": false,
     "start_time": "2021-12-02T02:12:07.640553",
     "status": "completed"
    },
    "tags": []
   },
   "outputs": [
    {
     "data": {
      "image/png": "[encoded data removed]",
      "text/plain": [
       "<Figure size 432x288 with 1 Axes>"
      ]
     },
     "metadata": {
      "needs_background": "light"
     },
     "output_type": "display_data"
    }
   ],
   "source": [
    "test['Survived'] = np.nan\n",
    "for dataset in full_data:\n",
    "    dataset['FamilySurvival'] = 1 \n",
    "    Survived_by_FamilyId = dataset.groupby('FamilyId').Survived.sum()\n",
    "    for i in range(1, len(FamilyWithChild)+1):\n",
    "        if Survived_by_FamilyId[i] >= 1:\n",
    "            dataset.loc[dataset.FamilyId==i, ['FamilySurvival']] = 2\n",
    "        elif Survived_by_FamilyId[i] == 0:\n",
    "            dataset.loc[dataset.FamilyId==i, ['FamilySurvival']] = 0\n",
    "\n",
    "import seaborn as sns\n",
    "import matplotlib.pyplot as plt\n",
    "sns.barplot(x='FamilySurvival', y='Survived', data=train)\n",
    "plt.show()"
   ]
  },
  {
   "cell_type": "markdown",
   "id": "wukYR7E5YFAX",
   "metadata": {
    "_cell_guid": "68fa2057-e27a-e252-0d1b-869c00a303ba",
    "id": "wukYR7E5YFAX",
    "papermill": {
     "duration": 0.040736,
     "end_time": "2021-12-02T02:12:08.081848",
     "exception": false,
     "start_time": "2021-12-02T02:12:08.041112",
     "status": "completed"
    },
    "tags": []
   },
   "source": [
    "# Data Preprocessing #"
   ]
  },
  {
   "cell_type": "code",
   "execution_count": null,
   "id": "olm6m6LmYFAX",
   "metadata": {
    "_cell_guid": "2502bb70-ce6f-2497-7331-7d1f80521470",
    "colab": {
     "base_uri": "https://localhost:8080/",
     "height": 386
    },
    "execution": {
     "iopub.execute_input": "2021-12-02T02:12:08.176109Z",
     "iopub.status.busy": "2021-12-02T02:12:08.175083Z",
     "iopub.status.idle": "2021-12-02T02:12:08.221760Z",
     "shell.execute_reply": "2021-12-02T02:12:08.222358Z",
     "shell.execute_reply.started": "2021-12-02T01:43:47.304769Z"
    },
    "id": "olm6m6LmYFAX",
    "outputId": "b7fcd99a-c44b-484d-8694-a19040bf6f88",
    "papermill": {
     "duration": 0.097844,
     "end_time": "2021-12-02T02:12:08.222537",
     "exception": false,
     "start_time": "2021-12-02T02:12:08.124693",
     "status": "completed"
    },
    "tags": []
   },
   "outputs": [
    {
     "data": {
      "text/html": [
       "<div>\n",
       "<style scoped>\n",
       "    .dataframe tbody tr th:only-of-type {\n",
       "        vertical-align: middle;\n",
       "    }\n",
       "\n",
       "    .dataframe tbody tr th {\n",
       "        vertical-align: top;\n",
       "    }\n",
       "\n",
       "    .dataframe thead th {\n",
       "        text-align: right;\n",
       "    }\n",
       "</style>\n",
       "<table border=\"1\" class=\"dataframe\">\n",
       "  <thead>\n",
       "    <tr style=\"text-align: right;\">\n",
       "      <th></th>\n",
       "      <th>Survived</th>\n",
       "      <th>Pclass</th>\n",
       "      <th>Sex</th>\n",
       "      <th>Age</th>\n",
       "      <th>Parch</th>\n",
       "      <th>Fare</th>\n",
       "      <th>Embarked</th>\n",
       "      <th>FamilySize</th>\n",
       "      <th>IsAlone</th>\n",
       "      <th>Title</th>\n",
       "      <th>Ticket_type</th>\n",
       "      <th>Has_Cabin</th>\n",
       "      <th>FamilySurvival</th>\n",
       "      <th>Words_Count</th>\n",
       "    </tr>\n",
       "  </thead>\n",
       "  <tbody>\n",
       "    <tr>\n",
       "      <th>0</th>\n",
       "      <td>0</td>\n",
       "      <td>3</td>\n",
       "      <td>1</td>\n",
       "      <td>1</td>\n",
       "      <td>0</td>\n",
       "      <td>0</td>\n",
       "      <td>0</td>\n",
       "      <td>2</td>\n",
       "      <td>0</td>\n",
       "      <td>1</td>\n",
       "      <td>124</td>\n",
       "      <td>0</td>\n",
       "      <td>1</td>\n",
       "      <td>4</td>\n",
       "    </tr>\n",
       "    <tr>\n",
       "      <th>1</th>\n",
       "      <td>1</td>\n",
       "      <td>1</td>\n",
       "      <td>0</td>\n",
       "      <td>2</td>\n",
       "      <td>0</td>\n",
       "      <td>3</td>\n",
       "      <td>1</td>\n",
       "      <td>2</td>\n",
       "      <td>0</td>\n",
       "      <td>3</td>\n",
       "      <td>137</td>\n",
       "      <td>1</td>\n",
       "      <td>1</td>\n",
       "      <td>7</td>\n",
       "    </tr>\n",
       "    <tr>\n",
       "      <th>2</th>\n",
       "      <td>1</td>\n",
       "      <td>3</td>\n",
       "      <td>0</td>\n",
       "      <td>1</td>\n",
       "      <td>0</td>\n",
       "      <td>1</td>\n",
       "      <td>0</td>\n",
       "      <td>1</td>\n",
       "      <td>1</td>\n",
       "      <td>2</td>\n",
       "      <td>148</td>\n",
       "      <td>0</td>\n",
       "      <td>1</td>\n",
       "      <td>3</td>\n",
       "    </tr>\n",
       "    <tr>\n",
       "      <th>3</th>\n",
       "      <td>1</td>\n",
       "      <td>1</td>\n",
       "      <td>0</td>\n",
       "      <td>2</td>\n",
       "      <td>0</td>\n",
       "      <td>3</td>\n",
       "      <td>0</td>\n",
       "      <td>2</td>\n",
       "      <td>0</td>\n",
       "      <td>3</td>\n",
       "      <td>3</td>\n",
       "      <td>1</td>\n",
       "      <td>1</td>\n",
       "      <td>7</td>\n",
       "    </tr>\n",
       "    <tr>\n",
       "      <th>4</th>\n",
       "      <td>0</td>\n",
       "      <td>3</td>\n",
       "      <td>1</td>\n",
       "      <td>2</td>\n",
       "      <td>0</td>\n",
       "      <td>1</td>\n",
       "      <td>0</td>\n",
       "      <td>1</td>\n",
       "      <td>1</td>\n",
       "      <td>1</td>\n",
       "      <td>97</td>\n",
       "      <td>0</td>\n",
       "      <td>1</td>\n",
       "      <td>4</td>\n",
       "    </tr>\n",
       "    <tr>\n",
       "      <th>5</th>\n",
       "      <td>0</td>\n",
       "      <td>3</td>\n",
       "      <td>1</td>\n",
       "      <td>2</td>\n",
       "      <td>0</td>\n",
       "      <td>1</td>\n",
       "      <td>2</td>\n",
       "      <td>1</td>\n",
       "      <td>1</td>\n",
       "      <td>1</td>\n",
       "      <td>72</td>\n",
       "      <td>0</td>\n",
       "      <td>1</td>\n",
       "      <td>3</td>\n",
       "    </tr>\n",
       "    <tr>\n",
       "      <th>6</th>\n",
       "      <td>0</td>\n",
       "      <td>1</td>\n",
       "      <td>1</td>\n",
       "      <td>3</td>\n",
       "      <td>0</td>\n",
       "      <td>3</td>\n",
       "      <td>0</td>\n",
       "      <td>1</td>\n",
       "      <td>1</td>\n",
       "      <td>1</td>\n",
       "      <td>18</td>\n",
       "      <td>1</td>\n",
       "      <td>1</td>\n",
       "      <td>4</td>\n",
       "    </tr>\n",
       "    <tr>\n",
       "      <th>7</th>\n",
       "      <td>0</td>\n",
       "      <td>3</td>\n",
       "      <td>1</td>\n",
       "      <td>0</td>\n",
       "      <td>1</td>\n",
       "      <td>2</td>\n",
       "      <td>0</td>\n",
       "      <td>5</td>\n",
       "      <td>0</td>\n",
       "      <td>4</td>\n",
       "      <td>83</td>\n",
       "      <td>0</td>\n",
       "      <td>0</td>\n",
       "      <td>4</td>\n",
       "    </tr>\n",
       "    <tr>\n",
       "      <th>8</th>\n",
       "      <td>1</td>\n",
       "      <td>3</td>\n",
       "      <td>0</td>\n",
       "      <td>1</td>\n",
       "      <td>2</td>\n",
       "      <td>1</td>\n",
       "      <td>0</td>\n",
       "      <td>3</td>\n",
       "      <td>0</td>\n",
       "      <td>3</td>\n",
       "      <td>81</td>\n",
       "      <td>0</td>\n",
       "      <td>1</td>\n",
       "      <td>7</td>\n",
       "    </tr>\n",
       "    <tr>\n",
       "      <th>9</th>\n",
       "      <td>1</td>\n",
       "      <td>2</td>\n",
       "      <td>0</td>\n",
       "      <td>0</td>\n",
       "      <td>0</td>\n",
       "      <td>2</td>\n",
       "      <td>1</td>\n",
       "      <td>2</td>\n",
       "      <td>0</td>\n",
       "      <td>3</td>\n",
       "      <td>38</td>\n",
       "      <td>0</td>\n",
       "      <td>2</td>\n",
       "      <td>5</td>\n",
       "    </tr>\n",
       "  </tbody>\n",
       "</table>\n",
       "</div>"
      ],
      "text/plain": [
       "   Survived  Pclass  Sex  ...  Has_Cabin  FamilySurvival  Words_Count\n",
       "0         0       3    1  ...          0               1            4\n",
       "1         1       1    0  ...          1               1            7\n",
       "2         1       3    0  ...          0               1            3\n",
       "3         1       1    0  ...          1               1            7\n",
       "4         0       3    1  ...          0               1            4\n",
       "5         0       3    1  ...          0               1            3\n",
       "6         0       1    1  ...          1               1            4\n",
       "7         0       3    1  ...          0               0            4\n",
       "8         1       3    0  ...          0               1            7\n",
       "9         1       2    0  ...          0               2            5\n",
       "\n",
       "[10 rows x 14 columns]"
      ]
     },
     "execution_count": 45,
     "metadata": {},
     "output_type": "execute_result"
    }
   ],
   "source": [
    "for dataset in full_data:\n",
    "    \n",
    "    # Mapping name to word count\n",
    "    dataset['Words_Count'] = dataset['Name'].apply(lambda x: len(x.split()))\n",
    "    \n",
    "    # Mapping Sex\n",
    "    dataset['Sex'] = dataset['Sex'].map( {'female': 0, 'male': 1} ).astype(int)\n",
    "    \n",
    "    # Mapping titles\n",
    "    title_mapping = {\"Mr\": 1, \"Miss\": 2, \"Mrs\": 3, \"Master\": 4, \"Rare\": 5}\n",
    "    dataset['Title'] = dataset['Title'].map(title_mapping)\n",
    "    dataset['Title'] = dataset['Title'].fillna(0)\n",
    "    \n",
    "    # Mapping Embarked\n",
    "    dataset['Embarked'] = dataset['Embarked'].map( {'S': 0, 'C': 1, 'Q': 2} ).astype(int)\n",
    "    \n",
    "    # Mapping Fare\n",
    "    dataset.loc[ dataset['Fare'] <= 7.91, 'Fare'] \t\t\t\t\t\t        = 0\n",
    "    dataset.loc[(dataset['Fare'] > 7.91) & (dataset['Fare'] <= 14.454), 'Fare'] = 1\n",
    "    dataset.loc[(dataset['Fare'] > 14.454) & (dataset['Fare'] <= 31), 'Fare']   = 2\n",
    "    dataset.loc[ dataset['Fare'] > 31, 'Fare'] \t\t\t\t\t\t\t        = 3\n",
    "    dataset['Fare'] = dataset['Fare'].astype(int)\n",
    "    \n",
    "    # Mapping Age\n",
    "    dataset.loc[ dataset['Age'] <= 16, 'Age'] \t\t\t\t\t       = 0\n",
    "    dataset.loc[(dataset['Age'] > 16) & (dataset['Age'] <= 32), 'Age'] = 1\n",
    "    dataset.loc[(dataset['Age'] > 32) & (dataset['Age'] <= 48), 'Age'] = 2\n",
    "    dataset.loc[(dataset['Age'] > 48) & (dataset['Age'] <= 64), 'Age'] = 3\n",
    "    dataset.loc[ dataset['Age'] > 64, 'Age']                           = 4\n",
    "\n",
    "# Feature Selection\n",
    "drop_elements = ['PassengerId', 'Name', 'Ticket', 'Cabin', 'SibSp','Surname','TicketPrefix', 'Surname_Ticket', 'IsFamily', 'FamilyId', 'Child']\n",
    "train = train.drop(drop_elements, axis = 1)\n",
    "train = train.drop(['AgeGroup', 'CategoricalAge', 'CategoricalFare'], axis = 1)\n",
    "\n",
    "test  = test.drop(drop_elements, axis = 1)\n",
    "test = test.drop(['Survived'], axis = 1)\n",
    "train.head(10)"
   ]
  },
  {
   "cell_type": "code",
   "execution_count": null,
   "id": "JTpMxXntYFAY",
   "metadata": {
    "colab": {
     "base_uri": "https://localhost:8080/",
     "height": 736
    },
    "execution": {
     "iopub.execute_input": "2021-12-02T02:12:08.316469Z",
     "iopub.status.busy": "2021-12-02T02:12:08.315458Z",
     "iopub.status.idle": "2021-12-02T02:12:09.761420Z",
     "shell.execute_reply": "2021-12-02T02:12:09.761969Z",
     "shell.execute_reply.started": "2021-12-02T01:43:47.367205Z"
    },
    "id": "JTpMxXntYFAY",
    "outputId": "93fed59b-d7b8-43c6-b03c-c19de252b2cc",
    "papermill": {
     "duration": 1.497821,
     "end_time": "2021-12-02T02:12:09.762150",
     "exception": false,
     "start_time": "2021-12-02T02:12:08.264329",
     "status": "completed"
    },
    "tags": []
   },
   "outputs": [
    {
     "data": {
      "text/plain": [
       "<matplotlib.axes._subplots.AxesSubplot at 0x7fe2ca835f50>"
      ]
     },
     "execution_count": 46,
     "metadata": {},
     "output_type": "execute_result"
    },
    {
     "data": {
      "image/png": "[encoded data removed]",
      "text/plain": [
       "<Figure size 1008x864 with 2 Axes>"
      ]
     },
     "metadata": {
      "needs_background": "light"
     },
     "output_type": "display_data"
    }
   ],
   "source": [
    "import matplotlib.pyplot as plt\n",
    "%matplotlib inline\n",
    "import seaborn as sns\n",
    "\n",
    "colormap = plt.cm.RdBu\n",
    "plt.figure(figsize=(14,12))\n",
    "plt.title('Correlation of Features', y=1.05, size=15)\n",
    "sns.heatmap(train.astype(float).corr(),linewidths=0.1,vmax=1.0, \n",
    "            square=True, cmap=colormap, linecolor='white', annot=True)"
   ]
  },
  {
   "cell_type": "code",
   "execution_count": null,
   "id": "QY7tDOjcYFAZ",
   "metadata": {
    "colab": {
     "base_uri": "https://localhost:8080/"
    },
    "execution": {
     "iopub.execute_input": "2021-12-02T02:12:09.859312Z",
     "iopub.status.busy": "2021-12-02T02:12:09.856142Z",
     "iopub.status.idle": "2021-12-02T02:12:09.861790Z",
     "shell.execute_reply": "2021-12-02T02:12:09.862266Z",
     "shell.execute_reply.started": "2021-12-02T01:43:48.948657Z"
    },
    "id": "QY7tDOjcYFAZ",
    "outputId": "b389e34c-db04-48f5-fc64-eb03dd9fcf6c",
    "papermill": {
     "duration": 0.054802,
     "end_time": "2021-12-02T02:12:09.862451",
     "exception": false,
     "start_time": "2021-12-02T02:12:09.807649",
     "status": "completed"
    },
    "tags": []
   },
   "outputs": [
    {
     "name": "stdout",
     "output_type": "stream",
     "text": [
      "(891, 14)\n",
      "(418, 13)\n",
      "Index(['Survived', 'Pclass', 'Sex', 'Age', 'Parch', 'Fare', 'Embarked',\n",
      "       'FamilySize', 'IsAlone', 'Title', 'Ticket_type', 'Has_Cabin',\n",
      "       'FamilySurvival', 'Words_Count'],\n",
      "      dtype='object')\n",
      "Index(['Pclass', 'Sex', 'Age', 'Parch', 'Fare', 'Embarked', 'FamilySize',\n",
      "       'IsAlone', 'Title', 'Ticket_type', 'Has_Cabin', 'FamilySurvival',\n",
      "       'Words_Count'],\n",
      "      dtype='object')\n"
     ]
    }
   ],
   "source": [
    "print(train.shape)\n",
    "print(test.shape)\n",
    "print(train.columns)\n",
    "print(test.columns)"
   ]
  },
  {
   "cell_type": "code",
   "execution_count": null,
   "id": "BIGgdmWDYFAZ",
   "metadata": {
    "execution": {
     "iopub.execute_input": "2021-12-02T02:12:09.956235Z",
     "iopub.status.busy": "2021-12-02T02:12:09.955573Z",
     "iopub.status.idle": "2021-12-02T02:12:09.960209Z",
     "shell.execute_reply": "2021-12-02T02:12:09.960780Z",
     "shell.execute_reply.started": "2021-12-02T01:43:48.959041Z"
    },
    "id": "BIGgdmWDYFAZ",
    "papermill": {
     "duration": 0.053649,
     "end_time": "2021-12-02T02:12:09.960965",
     "exception": false,
     "start_time": "2021-12-02T02:12:09.907316",
     "status": "completed"
    },
    "tags": []
   },
   "outputs": [],
   "source": [
    "# keep only some columns\n",
    "X_train = train[['Pclass', 'Sex', 'Age', 'Parch', 'Fare', 'Embarked',\n",
    "       'FamilySize', 'IsAlone', 'Title', 'Ticket_type', 'Has_Cabin',\n",
    "       'FamilySurvival']]\n",
    "y_train = train['Survived']"
   ]
  },
  {
   "cell_type": "code",
   "execution_count": null,
   "id": "7vlkpUiiYFAa",
   "metadata": {
    "colab": {
     "base_uri": "https://localhost:8080/"
    },
    "execution": {
     "iopub.execute_input": "2021-12-02T02:12:10.116190Z",
     "iopub.status.busy": "2021-12-02T02:12:10.115502Z",
     "iopub.status.idle": "2021-12-02T02:12:10.119445Z",
     "shell.execute_reply": "2021-12-02T02:12:10.120064Z",
     "shell.execute_reply.started": "2021-12-02T01:43:48.969438Z"
    },
    "id": "7vlkpUiiYFAa",
    "outputId": "93e89d4f-e824-4586-b645-d0f2dca4cd1f",
    "papermill": {
     "duration": 0.115558,
     "end_time": "2021-12-02T02:12:10.120250",
     "exception": false,
     "start_time": "2021-12-02T02:12:10.004692",
     "status": "completed"
    },
    "tags": []
   },
   "outputs": [
    {
     "name": "stdout",
     "output_type": "stream",
     "text": [
      "(891, 12)\n",
      "(891,)\n"
     ]
    }
   ],
   "source": [
    "print(X_train.shape)\n",
    "print(y_train.shape)"
   ]
  },
  {
   "cell_type": "code",
   "execution_count": null,
   "id": "qlGfUIB_YxMd",
   "metadata": {
    "colab": {
     "base_uri": "https://localhost:8080/"
    },
    "id": "qlGfUIB_YxMd",
    "outputId": "f35b1f91-6b33-4c86-d8ea-578ff4de229b"
   },
   "outputs": [
    {
     "name": "stdout",
     "output_type": "stream",
     "text": [
      "Collecting catboost\n",
      "  Downloading catboost-1.0.3-cp37-none-manylinux1_x86_64.whl (76.3 MB)\n",
      "\u001b[K     |████████████████████████████████| 76.3 MB 58 kB/s \n",
      "\u001b[?25hRequirement already satisfied: numpy>=1.16.0 in /usr/local/lib/python3.7/dist-packages (from catboost) (1.19.5)\n",
      "Requirement already satisfied: scipy in /usr/local/lib/python3.7/dist-packages (from catboost) (1.4.1)\n",
      "Requirement already satisfied: pandas>=0.24.0 in /usr/local/lib/python3.7/dist-packages (from catboost) (1.1.5)\n",
      "Requirement already satisfied: plotly in /usr/local/lib/python3.7/dist-packages (from catboost) (4.4.1)\n",
      "Requirement already satisfied: six in /usr/local/lib/python3.7/dist-packages (from catboost) (1.15.0)\n",
      "Requirement already satisfied: graphviz in /usr/local/lib/python3.7/dist-packages (from catboost) (0.10.1)\n",
      "Requirement already satisfied: matplotlib in /usr/local/lib/python3.7/dist-packages (from catboost) (3.2.2)\n",
      "Requirement already satisfied: python-dateutil>=2.7.3 in /usr/local/lib/python3.7/dist-packages (from pandas>=0.24.0->catboost) (2.8.2)\n",
      "Requirement already satisfied: pytz>=2017.2 in /usr/local/lib/python3.7/dist-packages (from pandas>=0.24.0->catboost) (2018.9)\n",
      "Requirement already satisfied: pyparsing!=2.0.4,!=2.1.2,!=2.1.6,>=2.0.1 in /usr/local/lib/python3.7/dist-packages (from matplotlib->catboost) (3.0.6)\n",
      "Requirement already satisfied: cycler>=0.10 in /usr/local/lib/python3.7/dist-packages (from matplotlib->catboost) (0.11.0)\n",
      "Requirement already satisfied: kiwisolver>=1.0.1 in /usr/local/lib/python3.7/dist-packages (from matplotlib->catboost) (1.3.2)\n",
      "Requirement already satisfied: retrying>=1.3.3 in /usr/local/lib/python3.7/dist-packages (from plotly->catboost) (1.3.3)\n",
      "Installing collected packages: catboost\n",
      "Successfully installed catboost-1.0.3\n"
     ]
    }
   ],
   "source": [
    "pip install catboost"
   ]
  },
  {
   "cell_type": "code",
   "execution_count": null,
   "id": "9N1gusSFYFAa",
   "metadata": {
    "colab": {
     "base_uri": "https://localhost:8080/",
     "height": 697
    },
    "execution": {
     "iopub.execute_input": "2021-12-02T02:12:10.216866Z",
     "iopub.status.busy": "2021-12-02T02:12:10.216204Z",
     "iopub.status.idle": "2021-12-02T02:12:11.602143Z",
     "shell.execute_reply": "2021-12-02T02:12:11.601495Z",
     "shell.execute_reply.started": "2021-12-02T01:43:48.983173Z"
    },
    "id": "9N1gusSFYFAa",
    "outputId": "678aa3f5-632c-464a-de40-270749508036",
    "papermill": {
     "duration": 1.435297,
     "end_time": "2021-12-02T02:12:11.602307",
     "exception": false,
     "start_time": "2021-12-02T02:12:10.167010",
     "status": "completed"
    },
    "tags": []
   },
   "outputs": [
    {
     "data": {
      "image/png": "[encoded data removed]",
      "text/plain": [
       "<Figure size 432x288 with 1 Axes>"
      ]
     },
     "metadata": {
      "needs_background": "light"
     },
     "output_type": "display_data"
    },
    {
     "data": {
      "text/html": [
       "<div>\n",
       "<style scoped>\n",
       "    .dataframe tbody tr th:only-of-type {\n",
       "        vertical-align: middle;\n",
       "    }\n",
       "\n",
       "    .dataframe tbody tr th {\n",
       "        vertical-align: top;\n",
       "    }\n",
       "\n",
       "    .dataframe thead th {\n",
       "        text-align: right;\n",
       "    }\n",
       "</style>\n",
       "<table border=\"1\" class=\"dataframe\">\n",
       "  <thead>\n",
       "    <tr style=\"text-align: right;\">\n",
       "      <th></th>\n",
       "      <th>feature</th>\n",
       "      <th>importance</th>\n",
       "    </tr>\n",
       "  </thead>\n",
       "  <tbody>\n",
       "    <tr>\n",
       "      <th>0</th>\n",
       "      <td>Pclass</td>\n",
       "      <td>10.839075</td>\n",
       "    </tr>\n",
       "    <tr>\n",
       "      <th>1</th>\n",
       "      <td>Sex</td>\n",
       "      <td>15.966632</td>\n",
       "    </tr>\n",
       "    <tr>\n",
       "      <th>2</th>\n",
       "      <td>Age</td>\n",
       "      <td>8.251875</td>\n",
       "    </tr>\n",
       "    <tr>\n",
       "      <th>3</th>\n",
       "      <td>Parch</td>\n",
       "      <td>2.174030</td>\n",
       "    </tr>\n",
       "    <tr>\n",
       "      <th>4</th>\n",
       "      <td>Fare</td>\n",
       "      <td>8.782586</td>\n",
       "    </tr>\n",
       "    <tr>\n",
       "      <th>5</th>\n",
       "      <td>Embarked</td>\n",
       "      <td>3.828713</td>\n",
       "    </tr>\n",
       "    <tr>\n",
       "      <th>6</th>\n",
       "      <td>FamilySize</td>\n",
       "      <td>4.851357</td>\n",
       "    </tr>\n",
       "    <tr>\n",
       "      <th>7</th>\n",
       "      <td>IsAlone</td>\n",
       "      <td>0.477597</td>\n",
       "    </tr>\n",
       "    <tr>\n",
       "      <th>8</th>\n",
       "      <td>Title</td>\n",
       "      <td>20.612481</td>\n",
       "    </tr>\n",
       "    <tr>\n",
       "      <th>9</th>\n",
       "      <td>Ticket_type</td>\n",
       "      <td>14.669015</td>\n",
       "    </tr>\n",
       "    <tr>\n",
       "      <th>10</th>\n",
       "      <td>Has_Cabin</td>\n",
       "      <td>5.314535</td>\n",
       "    </tr>\n",
       "    <tr>\n",
       "      <th>11</th>\n",
       "      <td>FamilySurvival</td>\n",
       "      <td>4.232105</td>\n",
       "    </tr>\n",
       "  </tbody>\n",
       "</table>\n",
       "</div>"
      ],
      "text/plain": [
       "           feature  importance\n",
       "0           Pclass   10.839075\n",
       "1              Sex   15.966632\n",
       "2              Age    8.251875\n",
       "3            Parch    2.174030\n",
       "4             Fare    8.782586\n",
       "5         Embarked    3.828713\n",
       "6       FamilySize    4.851357\n",
       "7          IsAlone    0.477597\n",
       "8            Title   20.612481\n",
       "9      Ticket_type   14.669015\n",
       "10       Has_Cabin    5.314535\n",
       "11  FamilySurvival    4.232105"
      ]
     },
     "execution_count": 52,
     "metadata": {},
     "output_type": "execute_result"
    }
   ],
   "source": [
    "from catboost import CatBoostClassifier\n",
    "\n",
    "model = CatBoostClassifier(verbose=False)\n",
    "model.fit(X_train, y_train)\n",
    "importance = pd.DataFrame({'feature':X_train.columns, 'importance': model.feature_importances_})\n",
    "importance.sort_values('importance', ascending=False).set_index('feature').plot(kind='barh')\n",
    "plt.show()\n",
    "\n",
    "importance"
   ]
  },
  {
   "cell_type": "code",
   "execution_count": null,
   "id": "Kp8Vojm2YFAb",
   "metadata": {
    "execution": {
     "iopub.execute_input": "2021-12-02T02:12:11.703984Z",
     "iopub.status.busy": "2021-12-02T02:12:11.703265Z",
     "iopub.status.idle": "2021-12-02T02:12:11.708123Z",
     "shell.execute_reply": "2021-12-02T02:12:11.707530Z",
     "shell.execute_reply.started": "2021-12-02T01:43:50.568304Z"
    },
    "id": "Kp8Vojm2YFAb",
    "papermill": {
     "duration": 0.058108,
     "end_time": "2021-12-02T02:12:11.708274",
     "exception": false,
     "start_time": "2021-12-02T02:12:11.650166",
     "status": "completed"
    },
    "tags": []
   },
   "outputs": [],
   "source": [
    "train.to_pickle('./train.pkl')\n",
    "test.to_pickle('./test.pkl')\n",
    "train = pd.read_pickle('./train.pkl')\n",
    "test = pd.read_pickle('./test.pkl')"
   ]
  },
  {
   "cell_type": "markdown",
   "id": "DWKO83ojYFAb",
   "metadata": {
    "_cell_guid": "23b55b45-572b-7276-32e7-8f7a0dcfd25e",
    "id": "DWKO83ojYFAb",
    "papermill": {
     "duration": 0.046782,
     "end_time": "2021-12-02T02:12:11.803270",
     "exception": false,
     "start_time": "2021-12-02T02:12:11.756488",
     "status": "completed"
    },
    "tags": []
   },
   "source": [
    "# Classifier Comparison #"
   ]
  },
  {
   "cell_type": "markdown",
   "id": "WfkaNSvhYFAb",
   "metadata": {
    "_cell_guid": "438585cf-b7ad-73ba-49aa-87688ff21233",
    "id": "WfkaNSvhYFAb",
    "papermill": {
     "duration": 0.047566,
     "end_time": "2021-12-02T02:12:11.898273",
     "exception": false,
     "start_time": "2021-12-02T02:12:11.850707",
     "status": "completed"
    },
    "tags": []
   },
   "source": [
    "# Prediction #"
   ]
  },
  {
   "cell_type": "code",
   "execution_count": null,
   "id": "cK6j3wqRYFAc",
   "metadata": {
    "execution": {
     "iopub.execute_input": "2021-12-02T02:12:12.000370Z",
     "iopub.status.busy": "2021-12-02T02:12:11.999648Z",
     "iopub.status.idle": "2021-12-02T02:12:12.548067Z",
     "shell.execute_reply": "2021-12-02T02:12:12.548635Z",
     "shell.execute_reply.started": "2021-12-02T01:43:50.577309Z"
    },
    "id": "cK6j3wqRYFAc",
    "papermill": {
     "duration": 0.601545,
     "end_time": "2021-12-02T02:12:12.548812",
     "exception": false,
     "start_time": "2021-12-02T02:12:11.947267",
     "status": "completed"
    },
    "tags": []
   },
   "outputs": [],
   "source": [
    "from sklearn.model_selection import cross_val_score, cross_validate\n",
    "from xgboost import XGBClassifier\n",
    "from sklearn.ensemble import RandomForestClassifier\n"
   ]
  },
  {
   "cell_type": "code",
   "execution_count": null,
   "id": "Qid7-rI4YFAc",
   "metadata": {
    "execution": {
     "iopub.execute_input": "2021-12-02T02:12:12.656385Z",
     "iopub.status.busy": "2021-12-02T02:12:12.655621Z",
     "iopub.status.idle": "2021-12-02T02:12:12.658727Z",
     "shell.execute_reply": "2021-12-02T02:12:12.658212Z",
     "shell.execute_reply.started": "2021-12-02T01:43:51.028842Z"
    },
    "id": "Qid7-rI4YFAc",
    "papermill": {
     "duration": 0.061422,
     "end_time": "2021-12-02T02:12:12.658870",
     "exception": false,
     "start_time": "2021-12-02T02:12:12.597448",
     "status": "completed"
    },
    "tags": []
   },
   "outputs": [],
   "source": [
    "y_train = train['Survived'].ravel()\n",
    "features = ['Pclass', 'Sex', 'Age', 'Parch', 'Fare', 'Embarked',\n",
    "       'FamilySize', 'Title', 'Ticket_type', 'Has_Cabin',\n",
    "       'FamilySurvival']\n",
    "\n",
    "x_train = train[features].values # Creates an array of the train data\n",
    "x_test = test[features].values "
   ]
  },
  {
   "cell_type": "code",
   "execution_count": null,
   "id": "27gRK2PhYFAd",
   "metadata": {
    "colab": {
     "base_uri": "https://localhost:8080/"
    },
    "execution": {
     "iopub.execute_input": "2021-12-02T02:12:12.760735Z",
     "iopub.status.busy": "2021-12-02T02:12:12.759442Z",
     "iopub.status.idle": "2021-12-02T02:12:12.762655Z",
     "shell.execute_reply": "2021-12-02T02:12:12.762090Z",
     "shell.execute_reply.started": "2021-12-02T01:43:51.039224Z"
    },
    "id": "27gRK2PhYFAd",
    "outputId": "9075e83c-5a81-4a66-fb5c-e01575cc80e2",
    "papermill": {
     "duration": 0.055857,
     "end_time": "2021-12-02T02:12:12.762800",
     "exception": false,
     "start_time": "2021-12-02T02:12:12.706943",
     "status": "completed"
    },
    "tags": []
   },
   "outputs": [
    {
     "name": "stdout",
     "output_type": "stream",
     "text": [
      "0.8327663046889713\n"
     ]
    }
   ],
   "source": [
    "xgb = XGBClassifier()\n",
    "cv_results_xgb = cross_validate(xgb, x_train, y_train, cv=5)\n",
    "print(cv_results_xgb['test_score'].mean())\n",
    "xgb.fit(x_train, y_train)\n",
    "result_xgb = xgb.predict(x_test)"
   ]
  },
  {
   "cell_type": "code",
   "execution_count": null,
   "id": "ZdgFxdtPZfHZ",
   "metadata": {
    "colab": {
     "base_uri": "https://localhost:8080/",
     "height": 447
    },
    "id": "ZdgFxdtPZfHZ",
    "outputId": "de576b02-cfad-43f0-d367-0a38d7a8028c"
   },
   "outputs": [
    {
     "data": {
      "text/html": [
       "<div>\n",
       "<style scoped>\n",
       "    .dataframe tbody tr th:only-of-type {\n",
       "        vertical-align: middle;\n",
       "    }\n",
       "\n",
       "    .dataframe tbody tr th {\n",
       "        vertical-align: top;\n",
       "    }\n",
       "\n",
       "    .dataframe thead th {\n",
       "        text-align: right;\n",
       "    }\n",
       "</style>\n",
       "<table border=\"1\" class=\"dataframe\">\n",
       "  <thead>\n",
       "    <tr style=\"text-align: right;\">\n",
       "      <th></th>\n",
       "      <th>PassengerId</th>\n",
       "      <th>Survived</th>\n",
       "    </tr>\n",
       "  </thead>\n",
       "  <tbody>\n",
       "    <tr>\n",
       "      <th>0</th>\n",
       "      <td>892</td>\n",
       "      <td>0</td>\n",
       "    </tr>\n",
       "    <tr>\n",
       "      <th>1</th>\n",
       "      <td>893</td>\n",
       "      <td>1</td>\n",
       "    </tr>\n",
       "    <tr>\n",
       "      <th>2</th>\n",
       "      <td>894</td>\n",
       "      <td>0</td>\n",
       "    </tr>\n",
       "    <tr>\n",
       "      <th>3</th>\n",
       "      <td>895</td>\n",
       "      <td>0</td>\n",
       "    </tr>\n",
       "    <tr>\n",
       "      <th>4</th>\n",
       "      <td>896</td>\n",
       "      <td>1</td>\n",
       "    </tr>\n",
       "    <tr>\n",
       "      <th>...</th>\n",
       "      <td>...</td>\n",
       "      <td>...</td>\n",
       "    </tr>\n",
       "    <tr>\n",
       "      <th>413</th>\n",
       "      <td>1305</td>\n",
       "      <td>0</td>\n",
       "    </tr>\n",
       "    <tr>\n",
       "      <th>414</th>\n",
       "      <td>1306</td>\n",
       "      <td>1</td>\n",
       "    </tr>\n",
       "    <tr>\n",
       "      <th>415</th>\n",
       "      <td>1307</td>\n",
       "      <td>0</td>\n",
       "    </tr>\n",
       "    <tr>\n",
       "      <th>416</th>\n",
       "      <td>1308</td>\n",
       "      <td>0</td>\n",
       "    </tr>\n",
       "    <tr>\n",
       "      <th>417</th>\n",
       "      <td>1309</td>\n",
       "      <td>1</td>\n",
       "    </tr>\n",
       "  </tbody>\n",
       "</table>\n",
       "<p>418 rows × 2 columns</p>\n",
       "</div>"
      ],
      "text/plain": [
       "     PassengerId  Survived\n",
       "0            892         0\n",
       "1            893         1\n",
       "2            894         0\n",
       "3            895         0\n",
       "4            896         1\n",
       "..           ...       ...\n",
       "413         1305         0\n",
       "414         1306         1\n",
       "415         1307         0\n",
       "416         1308         0\n",
       "417         1309         1\n",
       "\n",
       "[418 rows x 2 columns]"
      ]
     },
     "execution_count": 81,
     "metadata": {},
     "output_type": "execute_result"
    }
   ],
   "source": [
    "submission_xgb = pd.DataFrame({\n",
    "        \"PassengerId\": PassengerId,\n",
    "        \"Survived\": result_xgb\n",
    "    })\n",
    "submission_xgb"
   ]
  },
  {
   "cell_type": "code",
   "execution_count": null,
   "id": "O3Gk-3QiYFAe",
   "metadata": {
    "colab": {
     "base_uri": "https://localhost:8080/"
    },
    "execution": {
     "iopub.execute_input": "2021-12-02T02:12:12.863847Z",
     "iopub.status.busy": "2021-12-02T02:12:12.860585Z",
     "iopub.status.idle": "2021-12-02T02:12:14.351367Z",
     "shell.execute_reply": "2021-12-02T02:12:14.350583Z",
     "shell.execute_reply.started": "2021-12-02T01:43:51.052057Z"
    },
    "id": "O3Gk-3QiYFAe",
    "outputId": "fceaceb9-a966-4aa9-982c-a0a118a54ece",
    "papermill": {
     "duration": 1.541288,
     "end_time": "2021-12-02T02:12:14.351531",
     "exception": false,
     "start_time": "2021-12-02T02:12:12.810243",
     "status": "completed"
    },
    "tags": []
   },
   "outputs": [
    {
     "name": "stdout",
     "output_type": "stream",
     "text": [
      "0.8170547988199107\n"
     ]
    }
   ],
   "source": [
    "rf = RandomForestClassifier()\n",
    "cv_results_rf = cross_validate(rf, x_train, y_train, cv=5)\n",
    "print(cv_results_rf['test_score'].mean())\n",
    "rf.fit(x_train, y_train)\n",
    "result = rf.predict(x_test)"
   ]
  },
  {
   "cell_type": "code",
   "execution_count": null,
   "id": "ePpSMF9BYFAh",
   "metadata": {
    "colab": {
     "base_uri": "https://localhost:8080/"
    },
    "execution": {
     "iopub.execute_input": "2021-12-02T02:12:14.663900Z",
     "iopub.status.busy": "2021-12-02T02:12:14.663267Z",
     "iopub.status.idle": "2021-12-02T02:12:16.526678Z",
     "shell.execute_reply": "2021-12-02T02:12:16.525993Z",
     "shell.execute_reply.started": "2021-12-02T02:11:15.732736Z"
    },
    "id": "ePpSMF9BYFAh",
    "outputId": "164fd55d-4eb5-48d5-bef6-8ce1a9163d3c",
    "papermill": {
     "duration": 1.914763,
     "end_time": "2021-12-02T02:12:16.526831",
     "exception": false,
     "start_time": "2021-12-02T02:12:14.612068",
     "status": "completed"
    },
    "tags": []
   },
   "outputs": [
    {
     "name": "stdout",
     "output_type": "stream",
     "text": [
      "0.8181846713953925\n"
     ]
    }
   ],
   "source": [
    "model = RandomForestClassifier(bootstrap=True, class_weight=None, criterion='gini',\n",
    "            max_depth=None, max_features='auto', max_leaf_nodes=None,\n",
    "            min_impurity_decrease=0.0,\n",
    "            min_samples_leaf=1, min_samples_split=2,\n",
    "            min_weight_fraction_leaf=0.0, n_estimators=400, n_jobs=1,\n",
    "            oob_score=False, random_state=None, verbose=0,\n",
    "            warm_start=False).fit(x_train, y_train)\n",
    "cv_results = cross_validate(model, x_train, y_train, cv=5)\n",
    "print(cv_results['test_score'].mean())\n",
    "result = model.predict(x_test)"
   ]
  },
  {
   "cell_type": "code",
   "execution_count": null,
   "id": "1tiBv_ZOal27",
   "metadata": {
    "colab": {
     "base_uri": "https://localhost:8080/"
    },
    "id": "1tiBv_ZOal27",
    "outputId": "5fd1c0b0-b71a-439e-d5bc-ece5bafd1fbf"
   },
   "outputs": [
    {
     "name": "stdout",
     "output_type": "stream",
     "text": [
      "0.8091760299625468\n"
     ]
    }
   ],
   "source": [
    "from sklearn.linear_model import LogisticRegression\n",
    "logreg = LogisticRegression()\n",
    "cv_results_logreg = cross_validate(logreg, x_train, y_train, cv=10,scoring='accuracy')\n",
    "print(cv_results_logreg['test_score'].mean())\n",
    "logreg.fit(x_train, y_train)\n",
    "logreg_predictions = logreg.predict(x_test)"
   ]
  },
  {
   "cell_type": "code",
   "execution_count": null,
   "id": "BEXOTm_pYFAi",
   "metadata": {
    "execution": {
     "iopub.execute_input": "2021-12-02T02:12:16.748116Z",
     "iopub.status.busy": "2021-12-02T02:12:16.747216Z",
     "iopub.status.idle": "2021-12-02T02:12:16.752713Z",
     "shell.execute_reply": "2021-12-02T02:12:16.753216Z",
     "shell.execute_reply.started": "2021-12-02T02:11:23.504724Z"
    },
    "id": "BEXOTm_pYFAi",
    "papermill": {
     "duration": 0.059987,
     "end_time": "2021-12-02T02:12:16.753398",
     "exception": false,
     "start_time": "2021-12-02T02:12:16.693411",
     "status": "completed"
    },
    "tags": []
   },
   "outputs": [],
   "source": [
    "submission.to_csv('./submission_rf.csv', index=False)"
   ]
  },
  {
   "cell_type": "code",
   "execution_count": null,
   "id": "VC0y_ir9YFAi",
   "metadata": {
    "colab": {
     "base_uri": "https://localhost:8080/"
    },
    "id": "VC0y_ir9YFAi",
    "outputId": "b7d01ddc-65ee-412b-bad2-daf8afd1aa5b",
    "papermill": {
     "duration": 0.049063,
     "end_time": "2021-12-02T02:12:16.851948",
     "exception": false,
     "start_time": "2021-12-02T02:12:16.802885",
     "status": "completed"
    },
    "tags": []
   },
   "outputs": [
    {
     "name": "stdout",
     "output_type": "stream",
     "text": [
      "0.8305316678174627\n"
     ]
    }
   ],
   "source": [
    "from sklearn.ensemble import GradientBoostingClassifier\n",
    "\n",
    "titanic_gbc = GradientBoostingClassifier(n_estimators = 100)\n",
    "cv_results_gbc = cross_validate(titanic_gbc, x_train, y_train, cv=5)\n",
    "print(cv_results_gbc['test_score'].mean())\n",
    "titanic_gbc.fit(x_train, y_train)\n",
    "titanic_predictions = titanic_gbc.predict(x_test)"
   ]
  },
  {
   "cell_type": "code",
   "execution_count": null,
   "id": "Jtq0evLMfbS2",
   "metadata": {
    "colab": {
     "base_uri": "https://localhost:8080/",
     "height": 447
    },
    "id": "Jtq0evLMfbS2",
    "outputId": "fee32b04-c758-4c73-9539-cbaa256566c0"
   },
   "outputs": [
    {
     "data": {
      "text/html": [
       "<div>\n",
       "<style scoped>\n",
       "    .dataframe tbody tr th:only-of-type {\n",
       "        vertical-align: middle;\n",
       "    }\n",
       "\n",
       "    .dataframe tbody tr th {\n",
       "        vertical-align: top;\n",
       "    }\n",
       "\n",
       "    .dataframe thead th {\n",
       "        text-align: right;\n",
       "    }\n",
       "</style>\n",
       "<table border=\"1\" class=\"dataframe\">\n",
       "  <thead>\n",
       "    <tr style=\"text-align: right;\">\n",
       "      <th></th>\n",
       "      <th>PassengerId</th>\n",
       "      <th>Survived</th>\n",
       "    </tr>\n",
       "  </thead>\n",
       "  <tbody>\n",
       "    <tr>\n",
       "      <th>0</th>\n",
       "      <td>892</td>\n",
       "      <td>0</td>\n",
       "    </tr>\n",
       "    <tr>\n",
       "      <th>1</th>\n",
       "      <td>893</td>\n",
       "      <td>1</td>\n",
       "    </tr>\n",
       "    <tr>\n",
       "      <th>2</th>\n",
       "      <td>894</td>\n",
       "      <td>0</td>\n",
       "    </tr>\n",
       "    <tr>\n",
       "      <th>3</th>\n",
       "      <td>895</td>\n",
       "      <td>0</td>\n",
       "    </tr>\n",
       "    <tr>\n",
       "      <th>4</th>\n",
       "      <td>896</td>\n",
       "      <td>1</td>\n",
       "    </tr>\n",
       "    <tr>\n",
       "      <th>...</th>\n",
       "      <td>...</td>\n",
       "      <td>...</td>\n",
       "    </tr>\n",
       "    <tr>\n",
       "      <th>413</th>\n",
       "      <td>1305</td>\n",
       "      <td>0</td>\n",
       "    </tr>\n",
       "    <tr>\n",
       "      <th>414</th>\n",
       "      <td>1306</td>\n",
       "      <td>1</td>\n",
       "    </tr>\n",
       "    <tr>\n",
       "      <th>415</th>\n",
       "      <td>1307</td>\n",
       "      <td>0</td>\n",
       "    </tr>\n",
       "    <tr>\n",
       "      <th>416</th>\n",
       "      <td>1308</td>\n",
       "      <td>0</td>\n",
       "    </tr>\n",
       "    <tr>\n",
       "      <th>417</th>\n",
       "      <td>1309</td>\n",
       "      <td>1</td>\n",
       "    </tr>\n",
       "  </tbody>\n",
       "</table>\n",
       "<p>418 rows × 2 columns</p>\n",
       "</div>"
      ],
      "text/plain": [
       "     PassengerId  Survived\n",
       "0            892         0\n",
       "1            893         1\n",
       "2            894         0\n",
       "3            895         0\n",
       "4            896         1\n",
       "..           ...       ...\n",
       "413         1305         0\n",
       "414         1306         1\n",
       "415         1307         0\n",
       "416         1308         0\n",
       "417         1309         1\n",
       "\n",
       "[418 rows x 2 columns]"
      ]
     },
     "execution_count": 72,
     "metadata": {},
     "output_type": "execute_result"
    }
   ],
   "source": [
    "submission_gb = pd.DataFrame({\n",
    "        \"PassengerId\": PassengerId,\n",
    "        \"Survived\": titanic_predictions\n",
    "    })\n",
    "submission_gb"
   ]
  },
  {
   "cell_type": "code",
   "execution_count": null,
   "id": "ufH3FbkkfyKs",
   "metadata": {
    "id": "ufH3FbkkfyKs"
   },
   "outputs": [],
   "source": [
    "submission_gb.to_csv('./submission_gb.csv', index=False)"
   ]
  },
  {
   "cell_type": "code",
   "execution_count": null,
   "id": "NTyC4_ZPgStx",
   "metadata": {
    "colab": {
     "base_uri": "https://localhost:8080/"
    },
    "id": "NTyC4_ZPgStx",
    "outputId": "49796707-10cd-4c0b-c73e-f56693bc722a"
   },
   "outputs": [
    {
     "name": "stdout",
     "output_type": "stream",
     "text": [
      "0.6655930087390761\n"
     ]
    }
   ],
   "source": [
    "from sklearn.svm import  SVC,LinearSVC\n",
    "model_svm=SVC()\n",
    "cv_results_svm = cross_validate(model_svm, x_train, y_train, cv=10)\n",
    "print(cv_results_svm['test_score'].mean())\n",
    "model_svm.fit(x_train, y_train)\n",
    "model_svm = model_svm.predict(x_test)"
   ]
  },
  {
   "cell_type": "code",
   "execution_count": null,
   "id": "7VLg0X-vgS36",
   "metadata": {
    "colab": {
     "base_uri": "https://localhost:8080/"
    },
    "id": "7VLg0X-vgS36",
    "outputId": "df1dae7c-dd75-4fb9-a7dc-50e2074964fd"
   },
   "outputs": [
    {
     "name": "stdout",
     "output_type": "stream",
     "text": [
      "0.7733412842884941\n"
     ]
    }
   ],
   "source": [
    "from sklearn.neighbors import KNeighborsClassifier\n",
    "model_knn = KNeighborsClassifier(n_neighbors = 4)\n",
    "cv_results_knn = cross_validate(model_knn, x_train, y_train, cv=5)\n",
    "print(cv_results_knn['test_score'].mean())\n",
    "model_knn.fit(x_train, y_train)\n",
    "model_knn = model_knn.predict(x_test)"
   ]
  },
  {
   "cell_type": "code",
   "execution_count": null,
   "id": "fM8LAw7EgTBx",
   "metadata": {
    "colab": {
     "base_uri": "https://localhost:8080/"
    },
    "id": "fM8LAw7EgTBx",
    "outputId": "9aee6f3e-7a8b-49d9-ac1f-e39f5b9b43a2"
   },
   "outputs": [
    {
     "name": "stdout",
     "output_type": "stream",
     "text": [
      "0.7823237712635741\n"
     ]
    }
   ],
   "source": [
    "from sklearn.naive_bayes import GaussianNB\n",
    "model_gau= GaussianNB()\n",
    "cv_results_gau = cross_validate(model_gau, x_train, y_train, cv=5)\n",
    "print(cv_results_gau['test_score'].mean())\n",
    "model_gau.fit(x_train, y_train)\n",
    "model_gau = model_gau.predict(x_test)"
   ]
  },
  {
   "cell_type": "code",
   "execution_count": null,
   "id": "h6B9BI1pgTLx",
   "metadata": {
    "colab": {
     "base_uri": "https://localhost:8080/"
    },
    "id": "h6B9BI1pgTLx",
    "outputId": "8c71b4ec-6ee5-45db-8b8b-c32a0c21fa59"
   },
   "outputs": [
    {
     "name": "stdout",
     "output_type": "stream",
     "text": [
      "0.8237963718536188\n"
     ]
    }
   ],
   "source": [
    "from sklearn.ensemble import AdaBoostClassifier\n",
    "model_ada= AdaBoostClassifier()\n",
    "cv_results_ada = cross_validate(model_ada, x_train, y_train, cv=5)\n",
    "print(cv_results_ada['test_score'].mean())\n",
    "model_ada.fit(x_train, y_train)\n",
    "model_ada = model_ada.predict(x_test)"
   ]
  },
  {
   "cell_type": "code",
   "execution_count": null,
   "id": "2bYDdmdpgTbY",
   "metadata": {
    "colab": {
     "base_uri": "https://localhost:8080/"
    },
    "id": "2bYDdmdpgTbY",
    "outputId": "7cb3d708-12f0-427a-ac0d-4b7fadc8adfd"
   },
   "outputs": [
    {
     "name": "stdout",
     "output_type": "stream",
     "text": [
      "0.8114179900822297\n"
     ]
    }
   ],
   "source": [
    "from sklearn.discriminant_analysis import LinearDiscriminantAnalysis\n",
    "model_linear= LinearDiscriminantAnalysis()\n",
    "cv_results_linear = cross_validate(model_linear, x_train, y_train, cv=5)\n",
    "print(cv_results_linear['test_score'].mean())\n",
    "model_linear.fit(x_train, y_train)\n",
    "model_linear = model_linear.predict(x_test)\n"
   ]
  },
  {
   "cell_type": "code",
   "execution_count": null,
   "id": "uoK9zKWhpbtx",
   "metadata": {
    "colab": {
     "base_uri": "https://localhost:8080/"
    },
    "id": "uoK9zKWhpbtx",
    "outputId": "f4caf89d-bf4f-4c0a-8cbd-e36e691ab767"
   },
   "outputs": [
    {
     "name": "stdout",
     "output_type": "stream",
     "text": [
      "0.812560416797439\n"
     ]
    }
   ],
   "source": [
    "from sklearn.tree import DecisionTreeClassifier\n",
    "model_dec= DecisionTreeClassifier(criterion='gini', \n",
    "                             min_samples_split=10,min_samples_leaf=1,\n",
    "                             max_features='auto')\n",
    "cv_results_dectree = cross_validate(model_dec, x_train, y_train, cv=5)\n",
    "print(cv_results_dectree['test_score'].mean())\n",
    "model_dec.fit(x_train, y_train)\n",
    "model_dec = model_dec.predict(x_test)\n"
   ]
  },
  {
   "cell_type": "code",
   "execution_count": null,
   "id": "3wfOyeWdpb6l",
   "metadata": {
    "colab": {
     "base_uri": "https://localhost:8080/"
    },
    "id": "3wfOyeWdpb6l",
    "outputId": "32086709-93f4-441e-f0fd-64a55b991d81"
   },
   "outputs": [
    {
     "name": "stdout",
     "output_type": "stream",
     "text": [
      "0.7879354717218003\n"
     ]
    }
   ],
   "source": [
    "from sklearn.discriminant_analysis import QuadraticDiscriminantAnalysis\n",
    "model_qua=QuadraticDiscriminantAnalysis()\n",
    "cv_results_qua = cross_validate(model_qua, x_train, y_train, cv=5)\n",
    "print(cv_results_qua['test_score'].mean())\n",
    "model_qua.fit(x_train, y_train)\n",
    "model_qua = model_qua.predict(x_test)"
   ]
  },
  {
   "cell_type": "code",
   "execution_count": null,
   "id": "tajA6w2sl_FE",
   "metadata": {
    "colab": {
     "base_uri": "https://localhost:8080/"
    },
    "id": "tajA6w2sl_FE",
    "outputId": "b18d2a21-fffa-4553-d9ec-663bd7690103"
   },
   "outputs": [
    {
     "data": {
      "text/plain": [
       "dict"
      ]
     },
     "execution_count": 96,
     "metadata": {},
     "output_type": "execute_result"
    }
   ],
   "source": [
    "type(cv_results_svm)"
   ]
  },
  {
   "cell_type": "code",
   "execution_count": null,
   "id": "QVf-Ty67ko92",
   "metadata": {
    "colab": {
     "base_uri": "https://localhost:8080/",
     "height": 417
    },
    "id": "QVf-Ty67ko92",
    "outputId": "9997bcd5-5367-4f3b-a186-c00400751821"
   },
   "outputs": [
    {
     "data": {
      "text/html": [
       "<div>\n",
       "<style scoped>\n",
       "    .dataframe tbody tr th:only-of-type {\n",
       "        vertical-align: middle;\n",
       "    }\n",
       "\n",
       "    .dataframe tbody tr th {\n",
       "        vertical-align: top;\n",
       "    }\n",
       "\n",
       "    .dataframe thead th {\n",
       "        text-align: right;\n",
       "    }\n",
       "</style>\n",
       "<table border=\"1\" class=\"dataframe\">\n",
       "  <thead>\n",
       "    <tr style=\"text-align: right;\">\n",
       "      <th></th>\n",
       "      <th>Model</th>\n",
       "      <th>Score</th>\n",
       "    </tr>\n",
       "  </thead>\n",
       "  <tbody>\n",
       "    <tr>\n",
       "      <th>10</th>\n",
       "      <td>XGBoost</td>\n",
       "      <td>0.832766</td>\n",
       "    </tr>\n",
       "    <tr>\n",
       "      <th>6</th>\n",
       "      <td>Gradient Decent</td>\n",
       "      <td>0.830532</td>\n",
       "    </tr>\n",
       "    <tr>\n",
       "      <th>5</th>\n",
       "      <td>AdaBoostClassifier</td>\n",
       "      <td>0.823796</td>\n",
       "    </tr>\n",
       "    <tr>\n",
       "      <th>3</th>\n",
       "      <td>Random Forest</td>\n",
       "      <td>0.817055</td>\n",
       "    </tr>\n",
       "    <tr>\n",
       "      <th>8</th>\n",
       "      <td>Decision Tree</td>\n",
       "      <td>0.812560</td>\n",
       "    </tr>\n",
       "    <tr>\n",
       "      <th>7</th>\n",
       "      <td>Linear Discriminant Analysis</td>\n",
       "      <td>0.811418</td>\n",
       "    </tr>\n",
       "    <tr>\n",
       "      <th>2</th>\n",
       "      <td>Logistic Regression</td>\n",
       "      <td>0.809176</td>\n",
       "    </tr>\n",
       "    <tr>\n",
       "      <th>9</th>\n",
       "      <td>Quadratic Discriminant Analysis</td>\n",
       "      <td>0.787935</td>\n",
       "    </tr>\n",
       "    <tr>\n",
       "      <th>4</th>\n",
       "      <td>Naive Bayes</td>\n",
       "      <td>0.782324</td>\n",
       "    </tr>\n",
       "    <tr>\n",
       "      <th>1</th>\n",
       "      <td>KNN</td>\n",
       "      <td>0.773341</td>\n",
       "    </tr>\n",
       "    <tr>\n",
       "      <th>0</th>\n",
       "      <td>Support Vector Machines</td>\n",
       "      <td>0.665593</td>\n",
       "    </tr>\n",
       "  </tbody>\n",
       "</table>\n",
       "</div>"
      ],
      "text/plain": [
       "                              Model     Score\n",
       "10                          XGBoost  0.832766\n",
       "6                   Gradient Decent  0.830532\n",
       "5                AdaBoostClassifier  0.823796\n",
       "3                     Random Forest  0.817055\n",
       "8                     Decision Tree  0.812560\n",
       "7      Linear Discriminant Analysis  0.811418\n",
       "2               Logistic Regression  0.809176\n",
       "9   Quadratic Discriminant Analysis  0.787935\n",
       "4                       Naive Bayes  0.782324\n",
       "1                               KNN  0.773341\n",
       "0           Support Vector Machines  0.665593"
      ]
     },
     "execution_count": 108,
     "metadata": {},
     "output_type": "execute_result"
    }
   ],
   "source": [
    "models = pd.DataFrame({\n",
    "    'Model': ['Support Vector Machines', 'KNN', 'Logistic Regression', \n",
    "              'Random Forest', 'Naive Bayes', 'AdaBoostClassifier', \n",
    "              'Gradient Decent', 'Linear Discriminant Analysis','Decision Tree','Quadratic Discriminant Analysis',\n",
    "              'XGBoost'],\n",
    "    'Score': [cv_results_svm['test_score'].mean(), cv_results_knn['test_score'].mean(), cv_results_logreg['test_score'].mean(), \n",
    "              cv_results_rf['test_score'].mean(), cv_results_gau['test_score'].mean(), cv_results_ada['test_score'].mean(), \n",
    "              cv_results_gbc['test_score'].mean(), cv_results_linear['test_score'].mean(),cv_results_dectree['test_score'].mean(),cv_results_qua['test_score'].mean(),\n",
    "              cv_results_xgb['test_score'].mean()]})\n",
    "models.sort_values(by='Score',ascending=False)"
   ]
  },
  {
   "cell_type": "code",
   "execution_count": null,
   "id": "-btwh0BUneB7",
   "metadata": {
    "colab": {
     "base_uri": "https://localhost:8080/",
     "height": 447
    },
    "id": "-btwh0BUneB7",
    "outputId": "a77541b3-ac83-4c35-e995-2bdb82da9f19"
   },
   "outputs": [
    {
     "data": {
      "text/html": [
       "<div>\n",
       "<style scoped>\n",
       "    .dataframe tbody tr th:only-of-type {\n",
       "        vertical-align: middle;\n",
       "    }\n",
       "\n",
       "    .dataframe tbody tr th {\n",
       "        vertical-align: top;\n",
       "    }\n",
       "\n",
       "    .dataframe thead th {\n",
       "        text-align: right;\n",
       "    }\n",
       "</style>\n",
       "<table border=\"1\" class=\"dataframe\">\n",
       "  <thead>\n",
       "    <tr style=\"text-align: right;\">\n",
       "      <th></th>\n",
       "      <th>PassengerId</th>\n",
       "      <th>Survived</th>\n",
       "    </tr>\n",
       "  </thead>\n",
       "  <tbody>\n",
       "    <tr>\n",
       "      <th>0</th>\n",
       "      <td>892</td>\n",
       "      <td>0</td>\n",
       "    </tr>\n",
       "    <tr>\n",
       "      <th>1</th>\n",
       "      <td>893</td>\n",
       "      <td>1</td>\n",
       "    </tr>\n",
       "    <tr>\n",
       "      <th>2</th>\n",
       "      <td>894</td>\n",
       "      <td>0</td>\n",
       "    </tr>\n",
       "    <tr>\n",
       "      <th>3</th>\n",
       "      <td>895</td>\n",
       "      <td>0</td>\n",
       "    </tr>\n",
       "    <tr>\n",
       "      <th>4</th>\n",
       "      <td>896</td>\n",
       "      <td>1</td>\n",
       "    </tr>\n",
       "    <tr>\n",
       "      <th>...</th>\n",
       "      <td>...</td>\n",
       "      <td>...</td>\n",
       "    </tr>\n",
       "    <tr>\n",
       "      <th>413</th>\n",
       "      <td>1305</td>\n",
       "      <td>0</td>\n",
       "    </tr>\n",
       "    <tr>\n",
       "      <th>414</th>\n",
       "      <td>1306</td>\n",
       "      <td>0</td>\n",
       "    </tr>\n",
       "    <tr>\n",
       "      <th>415</th>\n",
       "      <td>1307</td>\n",
       "      <td>0</td>\n",
       "    </tr>\n",
       "    <tr>\n",
       "      <th>416</th>\n",
       "      <td>1308</td>\n",
       "      <td>0</td>\n",
       "    </tr>\n",
       "    <tr>\n",
       "      <th>417</th>\n",
       "      <td>1309</td>\n",
       "      <td>1</td>\n",
       "    </tr>\n",
       "  </tbody>\n",
       "</table>\n",
       "<p>418 rows × 2 columns</p>\n",
       "</div>"
      ],
      "text/plain": [
       "     PassengerId  Survived\n",
       "0            892         0\n",
       "1            893         1\n",
       "2            894         0\n",
       "3            895         0\n",
       "4            896         1\n",
       "..           ...       ...\n",
       "413         1305         0\n",
       "414         1306         0\n",
       "415         1307         0\n",
       "416         1308         0\n",
       "417         1309         1\n",
       "\n",
       "[418 rows x 2 columns]"
      ]
     },
     "execution_count": 109,
     "metadata": {},
     "output_type": "execute_result"
    }
   ],
   "source": [
    "submission_ada = pd.DataFrame({\n",
    "        \"PassengerId\": PassengerId,\n",
    "        \"Survived\": model_ada\n",
    "    })\n",
    "submission_ada"
   ]
  },
  {
   "cell_type": "code",
   "execution_count": null,
   "id": "ukz_0orc9lz2",
   "metadata": {
    "id": "ukz_0orc9lz2"
   },
   "outputs": [],
   "source": [
    "submission_ada.to_csv('./submission_ada.csv', index=False)"
   ]
  },
  {
   "cell_type": "code",
   "execution_count": null,
   "id": "ym1IA-tY9tfC",
   "metadata": {
    "id": "ym1IA-tY9tfC"
   },
   "outputs": [],
   "source": []
  }
 ],
 "metadata": {
  "colab": {
   "name": "titanic-final-with-eda.ipynb",
   "provenance": []
  },
  "kernelspec": {
   "display_name": "Python 3",
   "language": "python",
   "name": "python3"
  },
  "language_info": {
   "codemirror_mode": {
    "name": "ipython",
    "version": 3
   },
   "file_extension": ".py",
   "mimetype": "text/x-python",
   "name": "python",
   "nbconvert_exporter": "python",
   "pygments_lexer": "ipython3",
   "version": "3.8.8"
  },
  "papermill": {
   "default_parameters": {},
   "duration": 25.222546,
   "end_time": "2021-12-02T02:12:17.715071",
   "environment_variables": {},
   "exception": null,
   "input_path": "__notebook__.ipynb",
   "output_path": "__notebook__.ipynb",
   "parameters": {},
   "start_time": "2021-12-02T02:11:52.492525",
   "version": "2.3.3"
  }
 },
 "nbformat": 4,
 "nbformat_minor": 5
}
