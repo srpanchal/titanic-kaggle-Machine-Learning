{
 "cells": [
  {
   "cell_type": "code",
   "execution_count": 1,
   "metadata": {
    "_cell_guid": "2ce68358-02ec-556d-ba88-e773a50bc18b",
    "execution": {
     "iopub.execute_input": "2021-12-02T02:12:01.654580Z",
     "iopub.status.busy": "2021-12-02T02:12:01.652765Z",
     "iopub.status.idle": "2021-12-02T02:12:02.561188Z",
     "shell.execute_reply": "2021-12-02T02:12:02.560202Z",
     "shell.execute_reply.started": "2021-12-02T01:43:43.264155Z"
    },
    "papermill": {
     "duration": 0.949644,
     "end_time": "2021-12-02T02:12:02.561364",
     "exception": false,
     "start_time": "2021-12-02T02:12:01.611720",
     "status": "completed"
    },
    "tags": []
   },
   "outputs": [],
   "source": [
    "%matplotlib inline\n",
    "import numpy as np\n",
    "import pandas as pd\n",
    "import re as re\n",
    "import matplotlib.pyplot as plt\n",
    "import seaborn as sns\n",
    "\n",
    "import warnings\n",
    "warnings.filterwarnings('ignore')\n",
    "\n",
    "train = pd.read_csv('../input/titanic/train.csv', header = 0, dtype={'Age': np.float64})\n",
    "test  = pd.read_csv('../input/titanic/test.csv' , header = 0, dtype={'Age': np.float64})\n",
    "PassengerId = test['PassengerId']\n",
    "\n",
    "full_data = [train, test]"
   ]
  },
  {
   "cell_type": "code",
   "execution_count": 2,
   "metadata": {
    "execution": {
     "iopub.execute_input": "2021-12-02T02:12:02.638518Z",
     "iopub.status.busy": "2021-12-02T02:12:02.637766Z",
     "iopub.status.idle": "2021-12-02T02:12:02.670588Z",
     "shell.execute_reply": "2021-12-02T02:12:02.671091Z",
     "shell.execute_reply.started": "2021-12-02T01:43:43.294792Z"
    },
    "papermill": {
     "duration": 0.077483,
     "end_time": "2021-12-02T02:12:02.671270",
     "exception": false,
     "start_time": "2021-12-02T02:12:02.593787",
     "status": "completed"
    },
    "tags": []
   },
   "outputs": [
    {
     "data": {
      "text/html": [
       "<div>\n",
       "<style scoped>\n",
       "    .dataframe tbody tr th:only-of-type {\n",
       "        vertical-align: middle;\n",
       "    }\n",
       "\n",
       "    .dataframe tbody tr th {\n",
       "        vertical-align: top;\n",
       "    }\n",
       "\n",
       "    .dataframe thead th {\n",
       "        text-align: right;\n",
       "    }\n",
       "</style>\n",
       "<table border=\"1\" class=\"dataframe\">\n",
       "  <thead>\n",
       "    <tr style=\"text-align: right;\">\n",
       "      <th></th>\n",
       "      <th>PassengerId</th>\n",
       "      <th>Survived</th>\n",
       "      <th>Pclass</th>\n",
       "      <th>Age</th>\n",
       "      <th>SibSp</th>\n",
       "      <th>Parch</th>\n",
       "      <th>Fare</th>\n",
       "    </tr>\n",
       "  </thead>\n",
       "  <tbody>\n",
       "    <tr>\n",
       "      <th>count</th>\n",
       "      <td>891.000000</td>\n",
       "      <td>891.000000</td>\n",
       "      <td>891.000000</td>\n",
       "      <td>714.000000</td>\n",
       "      <td>891.000000</td>\n",
       "      <td>891.000000</td>\n",
       "      <td>891.000000</td>\n",
       "    </tr>\n",
       "    <tr>\n",
       "      <th>mean</th>\n",
       "      <td>446.000000</td>\n",
       "      <td>0.383838</td>\n",
       "      <td>2.308642</td>\n",
       "      <td>29.699118</td>\n",
       "      <td>0.523008</td>\n",
       "      <td>0.381594</td>\n",
       "      <td>32.204208</td>\n",
       "    </tr>\n",
       "    <tr>\n",
       "      <th>std</th>\n",
       "      <td>257.353842</td>\n",
       "      <td>0.486592</td>\n",
       "      <td>0.836071</td>\n",
       "      <td>14.526497</td>\n",
       "      <td>1.102743</td>\n",
       "      <td>0.806057</td>\n",
       "      <td>49.693429</td>\n",
       "    </tr>\n",
       "    <tr>\n",
       "      <th>min</th>\n",
       "      <td>1.000000</td>\n",
       "      <td>0.000000</td>\n",
       "      <td>1.000000</td>\n",
       "      <td>0.420000</td>\n",
       "      <td>0.000000</td>\n",
       "      <td>0.000000</td>\n",
       "      <td>0.000000</td>\n",
       "    </tr>\n",
       "    <tr>\n",
       "      <th>25%</th>\n",
       "      <td>223.500000</td>\n",
       "      <td>0.000000</td>\n",
       "      <td>2.000000</td>\n",
       "      <td>20.125000</td>\n",
       "      <td>0.000000</td>\n",
       "      <td>0.000000</td>\n",
       "      <td>7.910400</td>\n",
       "    </tr>\n",
       "    <tr>\n",
       "      <th>50%</th>\n",
       "      <td>446.000000</td>\n",
       "      <td>0.000000</td>\n",
       "      <td>3.000000</td>\n",
       "      <td>28.000000</td>\n",
       "      <td>0.000000</td>\n",
       "      <td>0.000000</td>\n",
       "      <td>14.454200</td>\n",
       "    </tr>\n",
       "    <tr>\n",
       "      <th>75%</th>\n",
       "      <td>668.500000</td>\n",
       "      <td>1.000000</td>\n",
       "      <td>3.000000</td>\n",
       "      <td>38.000000</td>\n",
       "      <td>1.000000</td>\n",
       "      <td>0.000000</td>\n",
       "      <td>31.000000</td>\n",
       "    </tr>\n",
       "    <tr>\n",
       "      <th>max</th>\n",
       "      <td>891.000000</td>\n",
       "      <td>1.000000</td>\n",
       "      <td>3.000000</td>\n",
       "      <td>80.000000</td>\n",
       "      <td>8.000000</td>\n",
       "      <td>6.000000</td>\n",
       "      <td>512.329200</td>\n",
       "    </tr>\n",
       "  </tbody>\n",
       "</table>\n",
       "</div>"
      ],
      "text/plain": [
       "       PassengerId    Survived      Pclass         Age       SibSp  \\\n",
       "count   891.000000  891.000000  891.000000  714.000000  891.000000   \n",
       "mean    446.000000    0.383838    2.308642   29.699118    0.523008   \n",
       "std     257.353842    0.486592    0.836071   14.526497    1.102743   \n",
       "min       1.000000    0.000000    1.000000    0.420000    0.000000   \n",
       "25%     223.500000    0.000000    2.000000   20.125000    0.000000   \n",
       "50%     446.000000    0.000000    3.000000   28.000000    0.000000   \n",
       "75%     668.500000    1.000000    3.000000   38.000000    1.000000   \n",
       "max     891.000000    1.000000    3.000000   80.000000    8.000000   \n",
       "\n",
       "            Parch        Fare  \n",
       "count  891.000000  891.000000  \n",
       "mean     0.381594   32.204208  \n",
       "std      0.806057   49.693429  \n",
       "min      0.000000    0.000000  \n",
       "25%      0.000000    7.910400  \n",
       "50%      0.000000   14.454200  \n",
       "75%      0.000000   31.000000  \n",
       "max      6.000000  512.329200  "
      ]
     },
     "execution_count": 2,
     "metadata": {},
     "output_type": "execute_result"
    }
   ],
   "source": [
    "train.describe()"
   ]
  },
  {
   "cell_type": "code",
   "execution_count": 3,
   "metadata": {
    "execution": {
     "iopub.execute_input": "2021-12-02T02:12:02.748499Z",
     "iopub.status.busy": "2021-12-02T02:12:02.747014Z",
     "iopub.status.idle": "2021-12-02T02:12:02.751558Z",
     "shell.execute_reply": "2021-12-02T02:12:02.752236Z",
     "shell.execute_reply.started": "2021-12-02T01:43:43.330035Z"
    },
    "papermill": {
     "duration": 0.049459,
     "end_time": "2021-12-02T02:12:02.752448",
     "exception": false,
     "start_time": "2021-12-02T02:12:02.702989",
     "status": "completed"
    },
    "tags": []
   },
   "outputs": [
    {
     "name": "stdout",
     "output_type": "stream",
     "text": [
      "<class 'pandas.core.frame.DataFrame'>\n",
      "RangeIndex: 891 entries, 0 to 890\n",
      "Data columns (total 12 columns):\n",
      " #   Column       Non-Null Count  Dtype  \n",
      "---  ------       --------------  -----  \n",
      " 0   PassengerId  891 non-null    int64  \n",
      " 1   Survived     891 non-null    int64  \n",
      " 2   Pclass       891 non-null    int64  \n",
      " 3   Name         891 non-null    object \n",
      " 4   Sex          891 non-null    object \n",
      " 5   Age          714 non-null    float64\n",
      " 6   SibSp        891 non-null    int64  \n",
      " 7   Parch        891 non-null    int64  \n",
      " 8   Ticket       891 non-null    object \n",
      " 9   Fare         891 non-null    float64\n",
      " 10  Cabin        204 non-null    object \n",
      " 11  Embarked     889 non-null    object \n",
      "dtypes: float64(2), int64(5), object(5)\n",
      "memory usage: 83.7+ KB\n"
     ]
    }
   ],
   "source": [
    "train.info()"
   ]
  },
  {
   "cell_type": "code",
   "execution_count": 4,
   "metadata": {
    "execution": {
     "iopub.execute_input": "2021-12-02T02:12:02.818912Z",
     "iopub.status.busy": "2021-12-02T02:12:02.818253Z",
     "iopub.status.idle": "2021-12-02T02:12:02.826100Z",
     "shell.execute_reply": "2021-12-02T02:12:02.826675Z",
     "shell.execute_reply.started": "2021-12-02T01:43:43.344555Z"
    },
    "papermill": {
     "duration": 0.042534,
     "end_time": "2021-12-02T02:12:02.826845",
     "exception": false,
     "start_time": "2021-12-02T02:12:02.784311",
     "status": "completed"
    },
    "tags": []
   },
   "outputs": [
    {
     "data": {
      "text/plain": [
       "PassengerId      0\n",
       "Survived         0\n",
       "Pclass           0\n",
       "Name             0\n",
       "Sex              0\n",
       "Age            177\n",
       "SibSp            0\n",
       "Parch            0\n",
       "Ticket           0\n",
       "Fare             0\n",
       "Cabin          687\n",
       "Embarked         2\n",
       "dtype: int64"
      ]
     },
     "execution_count": 4,
     "metadata": {},
     "output_type": "execute_result"
    }
   ],
   "source": [
    "train.isna().sum()"
   ]
  },
  {
   "cell_type": "code",
   "execution_count": 5,
   "metadata": {
    "execution": {
     "iopub.execute_input": "2021-12-02T02:12:02.893842Z",
     "iopub.status.busy": "2021-12-02T02:12:02.893222Z",
     "iopub.status.idle": "2021-12-02T02:12:02.899103Z",
     "shell.execute_reply": "2021-12-02T02:12:02.899667Z",
     "shell.execute_reply.started": "2021-12-02T01:43:43.362147Z"
    },
    "papermill": {
     "duration": 0.041314,
     "end_time": "2021-12-02T02:12:02.899830",
     "exception": false,
     "start_time": "2021-12-02T02:12:02.858516",
     "status": "completed"
    },
    "tags": []
   },
   "outputs": [
    {
     "data": {
      "text/plain": [
       "0    549\n",
       "1    342\n",
       "Name: Survived, dtype: int64"
      ]
     },
     "execution_count": 5,
     "metadata": {},
     "output_type": "execute_result"
    }
   ],
   "source": [
    "train['Survived'].value_counts()"
   ]
  },
  {
   "cell_type": "markdown",
   "metadata": {
    "_cell_guid": "f9595646-65c9-6fc4-395f-0befc4d122ce",
    "papermill": {
     "duration": 0.032006,
     "end_time": "2021-12-02T02:12:02.963971",
     "exception": false,
     "start_time": "2021-12-02T02:12:02.931965",
     "status": "completed"
    },
    "tags": []
   },
   "source": [
    "# Feature Engineering #"
   ]
  },
  {
   "cell_type": "code",
   "execution_count": 6,
   "metadata": {
    "execution": {
     "iopub.execute_input": "2021-12-02T02:12:03.035714Z",
     "iopub.status.busy": "2021-12-02T02:12:03.034692Z",
     "iopub.status.idle": "2021-12-02T02:12:04.663353Z",
     "shell.execute_reply": "2021-12-02T02:12:04.663870Z",
     "shell.execute_reply.started": "2021-12-02T01:43:43.376162Z"
    },
    "papermill": {
     "duration": 1.667147,
     "end_time": "2021-12-02T02:12:04.664076",
     "exception": false,
     "start_time": "2021-12-02T02:12:02.996929",
     "status": "completed"
    },
    "tags": []
   },
   "outputs": [
    {
     "name": "stdout",
     "output_type": "stream",
     "text": [
      "Survival Correlation by: Sex\n",
      "      Sex  Survived\n",
      "0  female  0.742038\n",
      "1    male  0.188908\n",
      "---------- \n",
      "\n",
      "Survival Correlation by: Pclass\n",
      "   Pclass  Survived\n",
      "0       1  0.629630\n",
      "1       2  0.472826\n",
      "2       3  0.242363\n",
      "---------- \n",
      "\n",
      "Survival Correlation by: SibSp\n",
      "   SibSp  Survived\n",
      "0      0  0.345395\n",
      "1      1  0.535885\n",
      "2      2  0.464286\n",
      "3      3  0.250000\n",
      "4      4  0.166667\n",
      "5      5  0.000000\n",
      "6      8  0.000000\n",
      "---------- \n",
      "\n",
      "Survival Correlation by: Parch\n",
      "   Parch  Survived\n",
      "0      0  0.343658\n",
      "1      1  0.550847\n",
      "2      2  0.500000\n",
      "3      3  0.600000\n",
      "4      4  0.000000\n",
      "5      5  0.200000\n",
      "6      6  0.000000\n",
      "---------- \n",
      "\n",
      "Survival Correlation by: Embarked\n",
      "  Embarked  Survived\n",
      "0        C  0.553571\n",
      "1        Q  0.389610\n",
      "2        S  0.336957\n",
      "---------- \n",
      "\n"
     ]
    },
    {
     "data": {
      "image/png": "[encoded data removed]",
      "text/plain": [
       "<Figure size 2160x432 with 5 Axes>"
      ]
     },
     "metadata": {
      "needs_background": "light"
     },
     "output_type": "display_data"
    }
   ],
   "source": [
    "features = ['Sex', 'Pclass', 'SibSp', 'Parch', 'Embarked']\n",
    "fig, saxis = plt.subplots(1, len(features),figsize=(len(features) * 6,6))\n",
    "for ind, x in enumerate(features):\n",
    "    print('Survival Correlation by:', x)\n",
    "    print(train[[x, \"Survived\"]].groupby(x, as_index=False).mean()) \n",
    "    print('-'*10, '\\n')\n",
    "    sns.barplot(x, y=\"Survived\", data=train, ax = saxis[ind])"
   ]
  },
  {
   "cell_type": "code",
   "execution_count": 7,
   "metadata": {
    "execution": {
     "iopub.execute_input": "2021-12-02T02:12:04.736150Z",
     "iopub.status.busy": "2021-12-02T02:12:04.735534Z",
     "iopub.status.idle": "2021-12-02T02:12:05.102588Z",
     "shell.execute_reply": "2021-12-02T02:12:05.102014Z",
     "shell.execute_reply.started": "2021-12-02T01:43:44.922444Z"
    },
    "papermill": {
     "duration": 0.404175,
     "end_time": "2021-12-02T02:12:05.102741",
     "exception": false,
     "start_time": "2021-12-02T02:12:04.698566",
     "status": "completed"
    },
    "tags": []
   },
   "outputs": [
    {
     "data": {
      "image/png": "[encoded data removed]",
      "text/plain": [
       "<Figure size 432x288 with 1 Axes>"
      ]
     },
     "metadata": {
      "needs_background": "light"
     },
     "output_type": "display_data"
    }
   ],
   "source": [
    "bins = [0, 2, 12, 17, 60, np.inf]\n",
    "labels = ['baby', 'child', 'teenager', 'adult', 'elderly']\n",
    "age_groups = pd.cut(train.Age, bins, labels = labels)\n",
    "train['AgeGroup'] = age_groups\n",
    "sns.barplot(x=\"AgeGroup\", y=\"Survived\", data=train)\n",
    "plt.show()"
   ]
  },
  {
   "cell_type": "markdown",
   "metadata": {
    "_cell_guid": "7c58b7ee-d6a1-0cc9-2346-81c47846a54a",
    "papermill": {
     "duration": 0.035468,
     "end_time": "2021-12-02T02:12:05.174105",
     "exception": false,
     "start_time": "2021-12-02T02:12:05.138637",
     "status": "completed"
    },
    "tags": []
   },
   "source": [
    "number of siblings/spouse + number of children/parents + 1 =  Family Size."
   ]
  },
  {
   "cell_type": "code",
   "execution_count": 8,
   "metadata": {
    "_cell_guid": "1a537f10-7cec-d0b7-8a34-fa9975655190",
    "execution": {
     "iopub.execute_input": "2021-12-02T02:12:05.260877Z",
     "iopub.status.busy": "2021-12-02T02:12:05.255037Z",
     "iopub.status.idle": "2021-12-02T02:12:05.770158Z",
     "shell.execute_reply": "2021-12-02T02:12:05.770672Z",
     "shell.execute_reply.started": "2021-12-02T01:43:45.296687Z"
    },
    "papermill": {
     "duration": 0.56103,
     "end_time": "2021-12-02T02:12:05.770850",
     "exception": false,
     "start_time": "2021-12-02T02:12:05.209820",
     "status": "completed"
    },
    "tags": []
   },
   "outputs": [
    {
     "name": "stdout",
     "output_type": "stream",
     "text": [
      "   FamilySize  Survived\n",
      "0           1  0.303538\n",
      "1           2  0.552795\n",
      "2           3  0.578431\n",
      "3           4  0.724138\n",
      "4           5  0.200000\n",
      "5           6  0.136364\n",
      "6           7  0.333333\n",
      "7           8  0.000000\n",
      "8          11  0.000000\n"
     ]
    },
    {
     "data": {
      "image/png": "[encoded data removed]",
      "text/plain": [
       "<Figure size 432x288 with 1 Axes>"
      ]
     },
     "metadata": {
      "needs_background": "light"
     },
     "output_type": "display_data"
    }
   ],
   "source": [
    "for dataset in full_data:\n",
    "    dataset['FamilySize'] = dataset['SibSp'] + dataset['Parch'] + 1\n",
    "print (train[['FamilySize', 'Survived']].groupby(['FamilySize'], as_index=False).mean())\n",
    "sns.barplot(x=\"FamilySize\", y=\"Survived\", data=train)\n",
    "plt.show()"
   ]
  },
  {
   "cell_type": "code",
   "execution_count": 9,
   "metadata": {
    "_cell_guid": "8c35e945-c928-e3bc-bd9c-d6ddb287e4c9",
    "execution": {
     "iopub.execute_input": "2021-12-02T02:12:05.858032Z",
     "iopub.status.busy": "2021-12-02T02:12:05.853109Z",
     "iopub.status.idle": "2021-12-02T02:12:06.087536Z",
     "shell.execute_reply": "2021-12-02T02:12:06.086788Z",
     "shell.execute_reply.started": "2021-12-02T01:43:45.822555Z"
    },
    "papermill": {
     "duration": 0.280303,
     "end_time": "2021-12-02T02:12:06.087686",
     "exception": false,
     "start_time": "2021-12-02T02:12:05.807383",
     "status": "completed"
    },
    "tags": []
   },
   "outputs": [
    {
     "name": "stdout",
     "output_type": "stream",
     "text": [
      "   IsAlone  Survived\n",
      "0        0  0.505650\n",
      "1        1  0.303538\n"
     ]
    },
    {
     "data": {
      "image/png": "[encoded data removed]",
      "text/plain": [
       "<Figure size 432x288 with 1 Axes>"
      ]
     },
     "metadata": {
      "needs_background": "light"
     },
     "output_type": "display_data"
    }
   ],
   "source": [
    "# check whether they are alone in this ship or not.\n",
    "for dataset in full_data:\n",
    "    dataset['IsAlone'] = 0\n",
    "    dataset.loc[dataset['FamilySize'] == 1, 'IsAlone'] = 1\n",
    "print (train[['IsAlone', 'Survived']].groupby(['IsAlone'], as_index=False).mean())\n",
    "sns.barplot(x=\"IsAlone\", y=\"Survived\", data=train)\n",
    "plt.show()"
   ]
  },
  {
   "cell_type": "code",
   "execution_count": 10,
   "metadata": {
    "_cell_guid": "0e70e9af-d7cc-8c40-b7d4-2643889c376d",
    "execution": {
     "iopub.execute_input": "2021-12-02T02:12:06.167362Z",
     "iopub.status.busy": "2021-12-02T02:12:06.166337Z",
     "iopub.status.idle": "2021-12-02T02:12:06.448881Z",
     "shell.execute_reply": "2021-12-02T02:12:06.449510Z",
     "shell.execute_reply.started": "2021-12-02T01:43:46.075487Z"
    },
    "papermill": {
     "duration": 0.32394,
     "end_time": "2021-12-02T02:12:06.449697",
     "exception": false,
     "start_time": "2021-12-02T02:12:06.125757",
     "status": "completed"
    },
    "tags": []
   },
   "outputs": [
    {
     "name": "stdout",
     "output_type": "stream",
     "text": [
      "  Embarked  Survived\n",
      "0        C  0.553571\n",
      "1        Q  0.389610\n",
      "2        S  0.339009\n"
     ]
    },
    {
     "data": {
      "image/png": "[encoded data removed]",
      "text/plain": [
       "<Figure size 432x288 with 1 Axes>"
      ]
     },
     "metadata": {
      "needs_background": "light"
     },
     "output_type": "display_data"
    }
   ],
   "source": [
    "# The embarked feature has some missing value. and we try to fill those with the most occurred value ( 'S' ).\n",
    "for dataset in full_data:\n",
    "    dataset['Embarked'] = dataset['Embarked'].fillna('S')\n",
    "print (train[['Embarked', 'Survived']].groupby(['Embarked'], as_index=False).mean())\n",
    "sns.barplot(x=\"Embarked\", y=\"Survived\", data=train)\n",
    "plt.show()"
   ]
  },
  {
   "cell_type": "code",
   "execution_count": 11,
   "metadata": {
    "_cell_guid": "a21335bd-4e8d-66e8-e6a5-5d2173b72d3b",
    "execution": {
     "iopub.execute_input": "2021-12-02T02:12:06.530314Z",
     "iopub.status.busy": "2021-12-02T02:12:06.529317Z",
     "iopub.status.idle": "2021-12-02T02:12:06.550662Z",
     "shell.execute_reply": "2021-12-02T02:12:06.551230Z",
     "shell.execute_reply.started": "2021-12-02T01:43:46.370694Z"
    },
    "papermill": {
     "duration": 0.063292,
     "end_time": "2021-12-02T02:12:06.551414",
     "exception": false,
     "start_time": "2021-12-02T02:12:06.488122",
     "status": "completed"
    },
    "tags": []
   },
   "outputs": [
    {
     "name": "stdout",
     "output_type": "stream",
     "text": [
      "   CategoricalFare  Survived\n",
      "0   (-0.001, 7.91]  0.197309\n",
      "1   (7.91, 14.454]  0.303571\n",
      "2   (14.454, 31.0]  0.454955\n",
      "3  (31.0, 512.329]  0.581081\n"
     ]
    }
   ],
   "source": [
    "# Fare also has some missing value and we will replace it with the median. then we categorize it into 4 ranges.\n",
    "for dataset in full_data:\n",
    "    dataset['Fare'] = dataset['Fare'].fillna(train['Fare'].median())\n",
    "train['CategoricalFare'] = pd.qcut(train['Fare'], 4)\n",
    "print (train[['CategoricalFare', 'Survived']].groupby(['CategoricalFare'], as_index=False).mean())"
   ]
  },
  {
   "cell_type": "code",
   "execution_count": 12,
   "metadata": {
    "_cell_guid": "b90c2870-ce5d-ae0e-a33d-59e35445500e",
    "execution": {
     "iopub.execute_input": "2021-12-02T02:12:06.634765Z",
     "iopub.status.busy": "2021-12-02T02:12:06.633671Z",
     "iopub.status.idle": "2021-12-02T02:12:06.656885Z",
     "shell.execute_reply": "2021-12-02T02:12:06.657723Z",
     "shell.execute_reply.started": "2021-12-02T01:43:46.396605Z"
    },
    "papermill": {
     "duration": 0.067559,
     "end_time": "2021-12-02T02:12:06.657991",
     "exception": false,
     "start_time": "2021-12-02T02:12:06.590432",
     "status": "completed"
    },
    "tags": []
   },
   "outputs": [
    {
     "name": "stdout",
     "output_type": "stream",
     "text": [
      "  CategoricalAge  Survived\n",
      "0  (-0.08, 16.0]  0.536364\n",
      "1   (16.0, 32.0]  0.359202\n",
      "2   (32.0, 48.0]  0.360000\n",
      "3   (48.0, 64.0]  0.434783\n",
      "4   (64.0, 80.0]  0.090909\n"
     ]
    }
   ],
   "source": [
    "# We have plenty of missing values in Age feature. Generate random numbers between (mean - std) and (mean + std) then we categorize age into 5 range.\n",
    "for dataset in full_data:\n",
    "    age_avg = dataset['Age'].mean()\n",
    "    age_std = dataset['Age'].std()\n",
    "    age_null_count = dataset['Age'].isnull().sum()\n",
    "    \n",
    "    age_null_random_list = np.random.randint(age_avg - age_std, age_avg + age_std, size=age_null_count)\n",
    "    dataset['Age'][np.isnan(dataset['Age'])] = age_null_random_list\n",
    "    dataset['Age'] = dataset['Age'].astype(int)\n",
    "    \n",
    "train['CategoricalAge'] = pd.cut(train['Age'], 5)\n",
    "\n",
    "print (train[['CategoricalAge', 'Survived']].groupby(['CategoricalAge'], as_index=False).mean())"
   ]
  },
  {
   "cell_type": "code",
   "execution_count": 13,
   "metadata": {
    "_cell_guid": "ad042f43-bfe0-ded0-4171-379d8caaa749",
    "execution": {
     "iopub.execute_input": "2021-12-02T02:12:06.752957Z",
     "iopub.status.busy": "2021-12-02T02:12:06.752179Z",
     "iopub.status.idle": "2021-12-02T02:12:06.769747Z",
     "shell.execute_reply": "2021-12-02T02:12:06.770801Z",
     "shell.execute_reply.started": "2021-12-02T01:43:46.427472Z"
    },
    "papermill": {
     "duration": 0.072708,
     "end_time": "2021-12-02T02:12:06.771130",
     "exception": false,
     "start_time": "2021-12-02T02:12:06.698422",
     "status": "completed"
    },
    "tags": []
   },
   "outputs": [
    {
     "name": "stdout",
     "output_type": "stream",
     "text": [
      "Sex       female  male\n",
      "Title                 \n",
      "Capt           0     1\n",
      "Col            0     2\n",
      "Countess       1     0\n",
      "Don            0     1\n",
      "Dr             1     6\n",
      "Jonkheer       0     1\n",
      "Lady           1     0\n",
      "Major          0     2\n",
      "Master         0    40\n",
      "Miss         182     0\n",
      "Mlle           2     0\n",
      "Mme            1     0\n",
      "Mr             0   517\n",
      "Mrs          125     0\n",
      "Ms             1     0\n",
      "Rev            0     6\n",
      "Sir            0     1\n"
     ]
    }
   ],
   "source": [
    "# find Title from Name\n",
    "def get_title(name):\n",
    "    title_search = re.search(' ([A-Za-z]+)\\.', name)\n",
    "    # If the title exists, extract and return it.\n",
    "    if title_search:\n",
    "        return title_search.group(1)\n",
    "    return \"\"\n",
    "\n",
    "for dataset in full_data:\n",
    "    dataset['Title'] = dataset['Name'].apply(get_title)\n",
    "\n",
    "print(pd.crosstab(train['Title'], train['Sex']))"
   ]
  },
  {
   "cell_type": "code",
   "execution_count": 14,
   "metadata": {
    "_cell_guid": "8357238b-98fe-632a-acd5-33674a6132ce",
    "execution": {
     "iopub.execute_input": "2021-12-02T02:12:06.861996Z",
     "iopub.status.busy": "2021-12-02T02:12:06.860096Z",
     "iopub.status.idle": "2021-12-02T02:12:07.219226Z",
     "shell.execute_reply": "2021-12-02T02:12:07.219703Z",
     "shell.execute_reply.started": "2021-12-02T01:43:46.462897Z"
    },
    "papermill": {
     "duration": 0.40726,
     "end_time": "2021-12-02T02:12:07.219887",
     "exception": false,
     "start_time": "2021-12-02T02:12:06.812627",
     "status": "completed"
    },
    "tags": []
   },
   "outputs": [
    {
     "name": "stdout",
     "output_type": "stream",
     "text": [
      "    Title  Survived\n",
      "0  Master  0.575000\n",
      "1    Miss  0.702703\n",
      "2      Mr  0.156673\n",
      "3     Mrs  0.793651\n",
      "4    Rare  0.347826\n"
     ]
    },
    {
     "data": {
      "image/png": "[encoded data removed]",
      "text/plain": [
       "<Figure size 432x288 with 1 Axes>"
      ]
     },
     "metadata": {
      "needs_background": "light"
     },
     "output_type": "display_data"
    }
   ],
   "source": [
    "# categorize the titles\n",
    "for dataset in full_data:\n",
    "    dataset['Title'] = dataset['Title'].replace(['Lady', 'Countess','Capt', 'Col',\\\n",
    "     'Don', 'Dr', 'Major', 'Rev', 'Sir', 'Jonkheer', 'Dona'], 'Rare')\n",
    "\n",
    "    dataset['Title'] = dataset['Title'].replace('Mlle', 'Miss')\n",
    "    dataset['Title'] = dataset['Title'].replace('Ms', 'Miss')\n",
    "    dataset['Title'] = dataset['Title'].replace('Mme', 'Mrs')\n",
    "\n",
    "print (train[['Title', 'Survived']].groupby(['Title'], as_index=False).mean())\n",
    "sns.barplot(x=\"Title\", y=\"Survived\", data=train)\n",
    "plt.show()"
   ]
  },
  {
   "cell_type": "code",
   "execution_count": 15,
   "metadata": {
    "execution": {
     "iopub.execute_input": "2021-12-02T02:12:07.304219Z",
     "iopub.status.busy": "2021-12-02T02:12:07.303520Z",
     "iopub.status.idle": "2021-12-02T02:12:07.313944Z",
     "shell.execute_reply": "2021-12-02T02:12:07.314481Z",
     "shell.execute_reply.started": "2021-12-02T01:43:46.876120Z"
    },
    "papermill": {
     "duration": 0.054185,
     "end_time": "2021-12-02T02:12:07.314672",
     "exception": false,
     "start_time": "2021-12-02T02:12:07.260487",
     "status": "completed"
    },
    "tags": []
   },
   "outputs": [],
   "source": [
    "# ticket type\n",
    "for dataset in full_data:\n",
    "    dataset['Ticket_type'] = dataset['Ticket'].apply(lambda x: x[0:3])\n",
    "    dataset['Ticket_type'] = dataset['Ticket_type'].astype('category')\n",
    "    dataset['Ticket_type'] = dataset['Ticket_type'].cat.codes"
   ]
  },
  {
   "cell_type": "code",
   "execution_count": 16,
   "metadata": {
    "execution": {
     "iopub.execute_input": "2021-12-02T02:12:07.398870Z",
     "iopub.status.busy": "2021-12-02T02:12:07.398249Z",
     "iopub.status.idle": "2021-12-02T02:12:07.410902Z",
     "shell.execute_reply": "2021-12-02T02:12:07.411669Z",
     "shell.execute_reply.started": "2021-12-02T01:43:46.891814Z"
    },
    "papermill": {
     "duration": 0.057011,
     "end_time": "2021-12-02T02:12:07.411892",
     "exception": false,
     "start_time": "2021-12-02T02:12:07.354881",
     "status": "completed"
    },
    "tags": []
   },
   "outputs": [
    {
     "name": "stdout",
     "output_type": "stream",
     "text": [
      "   Has_Cabin  Survived\n",
      "0          0  0.299854\n",
      "1          1  0.666667\n"
     ]
    }
   ],
   "source": [
    "# has cabin ?\n",
    "for dataset in full_data:\n",
    "    dataset['Has_Cabin'] = dataset[\"Cabin\"].apply(lambda x: 0 if type(x) == float else 1)\n",
    "print (train[['Has_Cabin', 'Survived']].groupby(['Has_Cabin'], as_index=False).mean())"
   ]
  },
  {
   "cell_type": "code",
   "execution_count": 17,
   "metadata": {
    "execution": {
     "iopub.execute_input": "2021-12-02T02:12:07.512635Z",
     "iopub.status.busy": "2021-12-02T02:12:07.511824Z",
     "iopub.status.idle": "2021-12-02T02:12:07.598245Z",
     "shell.execute_reply": "2021-12-02T02:12:07.597597Z",
     "shell.execute_reply.started": "2021-12-02T01:43:46.922114Z"
    },
    "papermill": {
     "duration": 0.144422,
     "end_time": "2021-12-02T02:12:07.598402",
     "exception": false,
     "start_time": "2021-12-02T02:12:07.453980",
     "status": "completed"
    },
    "tags": []
   },
   "outputs": [],
   "source": [
    "for dataset in full_data:\n",
    "    dataset['Surname'] = dataset.Name.str.extract(r'([A-Za-z]+),', expand=False)\n",
    "    dataset['TicketPrefix'] = dataset.Ticket.str.extract(r'(.*\\d)', expand=False)\n",
    "    dataset['Surname_Ticket'] = dataset['Surname'] + dataset['TicketPrefix']\n",
    "    dataset['IsFamily'] = dataset.Surname_Ticket.duplicated(keep=False).astype(int)\n",
    "    dataset['Child'] = dataset.Age.map(lambda x: 1 if x <=16 else 0)\n",
    "    FamilyWithChild = dataset[(dataset.IsFamily==1)&(dataset.Child==1)]['Surname_Ticket'].unique()\n",
    "\n",
    "    dataset['FamilyId'] = 0\n",
    "    for ind, identifier in enumerate(FamilyWithChild):\n",
    "        dataset.loc[dataset.Surname_Ticket==identifier, ['FamilyId']] = ind + 1"
   ]
  },
  {
   "cell_type": "code",
   "execution_count": 18,
   "metadata": {
    "execution": {
     "iopub.execute_input": "2021-12-02T02:12:07.692693Z",
     "iopub.status.busy": "2021-12-02T02:12:07.690143Z",
     "iopub.status.idle": "2021-12-02T02:12:07.999178Z",
     "shell.execute_reply": "2021-12-02T02:12:07.998585Z",
     "shell.execute_reply.started": "2021-12-02T01:43:47.032476Z"
    },
    "papermill": {
     "duration": 0.358789,
     "end_time": "2021-12-02T02:12:07.999342",
     "exception": false,
     "start_time": "2021-12-02T02:12:07.640553",
     "status": "completed"
    },
    "tags": []
   },
   "outputs": [
    {
     "data": {
      "image/png": "[encoded data removed]",
      "text/plain": [
       "<Figure size 432x288 with 1 Axes>"
      ]
     },
     "metadata": {
      "needs_background": "light"
     },
     "output_type": "display_data"
    }
   ],
   "source": [
    "test['Survived'] = np.nan\n",
    "for dataset in full_data:\n",
    "    dataset['FamilySurvival'] = 1 \n",
    "    Survived_by_FamilyId = dataset.groupby('FamilyId').Survived.sum()\n",
    "    for i in range(1, len(FamilyWithChild)+1):\n",
    "        if Survived_by_FamilyId[i] >= 1:\n",
    "            dataset.loc[dataset.FamilyId==i, ['FamilySurvival']] = 2\n",
    "        elif Survived_by_FamilyId[i] == 0:\n",
    "            dataset.loc[dataset.FamilyId==i, ['FamilySurvival']] = 0\n",
    "\n",
    "import seaborn as sns\n",
    "import matplotlib.pyplot as plt\n",
    "sns.barplot(x='FamilySurvival', y='Survived', data=train)\n",
    "plt.show()"
   ]
  },
  {
   "cell_type": "markdown",
   "metadata": {
    "_cell_guid": "68fa2057-e27a-e252-0d1b-869c00a303ba",
    "papermill": {
     "duration": 0.040736,
     "end_time": "2021-12-02T02:12:08.081848",
     "exception": false,
     "start_time": "2021-12-02T02:12:08.041112",
     "status": "completed"
    },
    "tags": []
   },
   "source": [
    "# Data Preprocessing #"
   ]
  },
  {
   "cell_type": "code",
   "execution_count": 19,
   "metadata": {
    "_cell_guid": "2502bb70-ce6f-2497-7331-7d1f80521470",
    "execution": {
     "iopub.execute_input": "2021-12-02T02:12:08.176109Z",
     "iopub.status.busy": "2021-12-02T02:12:08.175083Z",
     "iopub.status.idle": "2021-12-02T02:12:08.221760Z",
     "shell.execute_reply": "2021-12-02T02:12:08.222358Z",
     "shell.execute_reply.started": "2021-12-02T01:43:47.304769Z"
    },
    "papermill": {
     "duration": 0.097844,
     "end_time": "2021-12-02T02:12:08.222537",
     "exception": false,
     "start_time": "2021-12-02T02:12:08.124693",
     "status": "completed"
    },
    "tags": []
   },
   "outputs": [
    {
     "data": {
      "text/html": [
       "<div>\n",
       "<style scoped>\n",
       "    .dataframe tbody tr th:only-of-type {\n",
       "        vertical-align: middle;\n",
       "    }\n",
       "\n",
       "    .dataframe tbody tr th {\n",
       "        vertical-align: top;\n",
       "    }\n",
       "\n",
       "    .dataframe thead th {\n",
       "        text-align: right;\n",
       "    }\n",
       "</style>\n",
       "<table border=\"1\" class=\"dataframe\">\n",
       "  <thead>\n",
       "    <tr style=\"text-align: right;\">\n",
       "      <th></th>\n",
       "      <th>Survived</th>\n",
       "      <th>Pclass</th>\n",
       "      <th>Sex</th>\n",
       "      <th>Age</th>\n",
       "      <th>Parch</th>\n",
       "      <th>Fare</th>\n",
       "      <th>Embarked</th>\n",
       "      <th>FamilySize</th>\n",
       "      <th>IsAlone</th>\n",
       "      <th>Title</th>\n",
       "      <th>Ticket_type</th>\n",
       "      <th>Has_Cabin</th>\n",
       "      <th>FamilySurvival</th>\n",
       "      <th>Words_Count</th>\n",
       "    </tr>\n",
       "  </thead>\n",
       "  <tbody>\n",
       "    <tr>\n",
       "      <th>0</th>\n",
       "      <td>0</td>\n",
       "      <td>3</td>\n",
       "      <td>1</td>\n",
       "      <td>1</td>\n",
       "      <td>0</td>\n",
       "      <td>0</td>\n",
       "      <td>0</td>\n",
       "      <td>2</td>\n",
       "      <td>0</td>\n",
       "      <td>1</td>\n",
       "      <td>124</td>\n",
       "      <td>0</td>\n",
       "      <td>1</td>\n",
       "      <td>4</td>\n",
       "    </tr>\n",
       "    <tr>\n",
       "      <th>1</th>\n",
       "      <td>1</td>\n",
       "      <td>1</td>\n",
       "      <td>0</td>\n",
       "      <td>2</td>\n",
       "      <td>0</td>\n",
       "      <td>3</td>\n",
       "      <td>1</td>\n",
       "      <td>2</td>\n",
       "      <td>0</td>\n",
       "      <td>3</td>\n",
       "      <td>137</td>\n",
       "      <td>1</td>\n",
       "      <td>1</td>\n",
       "      <td>7</td>\n",
       "    </tr>\n",
       "    <tr>\n",
       "      <th>2</th>\n",
       "      <td>1</td>\n",
       "      <td>3</td>\n",
       "      <td>0</td>\n",
       "      <td>1</td>\n",
       "      <td>0</td>\n",
       "      <td>1</td>\n",
       "      <td>0</td>\n",
       "      <td>1</td>\n",
       "      <td>1</td>\n",
       "      <td>2</td>\n",
       "      <td>148</td>\n",
       "      <td>0</td>\n",
       "      <td>1</td>\n",
       "      <td>3</td>\n",
       "    </tr>\n",
       "    <tr>\n",
       "      <th>3</th>\n",
       "      <td>1</td>\n",
       "      <td>1</td>\n",
       "      <td>0</td>\n",
       "      <td>2</td>\n",
       "      <td>0</td>\n",
       "      <td>3</td>\n",
       "      <td>0</td>\n",
       "      <td>2</td>\n",
       "      <td>0</td>\n",
       "      <td>3</td>\n",
       "      <td>3</td>\n",
       "      <td>1</td>\n",
       "      <td>1</td>\n",
       "      <td>7</td>\n",
       "    </tr>\n",
       "    <tr>\n",
       "      <th>4</th>\n",
       "      <td>0</td>\n",
       "      <td>3</td>\n",
       "      <td>1</td>\n",
       "      <td>2</td>\n",
       "      <td>0</td>\n",
       "      <td>1</td>\n",
       "      <td>0</td>\n",
       "      <td>1</td>\n",
       "      <td>1</td>\n",
       "      <td>1</td>\n",
       "      <td>97</td>\n",
       "      <td>0</td>\n",
       "      <td>1</td>\n",
       "      <td>4</td>\n",
       "    </tr>\n",
       "    <tr>\n",
       "      <th>5</th>\n",
       "      <td>0</td>\n",
       "      <td>3</td>\n",
       "      <td>1</td>\n",
       "      <td>2</td>\n",
       "      <td>0</td>\n",
       "      <td>1</td>\n",
       "      <td>2</td>\n",
       "      <td>1</td>\n",
       "      <td>1</td>\n",
       "      <td>1</td>\n",
       "      <td>72</td>\n",
       "      <td>0</td>\n",
       "      <td>1</td>\n",
       "      <td>3</td>\n",
       "    </tr>\n",
       "    <tr>\n",
       "      <th>6</th>\n",
       "      <td>0</td>\n",
       "      <td>1</td>\n",
       "      <td>1</td>\n",
       "      <td>3</td>\n",
       "      <td>0</td>\n",
       "      <td>3</td>\n",
       "      <td>0</td>\n",
       "      <td>1</td>\n",
       "      <td>1</td>\n",
       "      <td>1</td>\n",
       "      <td>18</td>\n",
       "      <td>1</td>\n",
       "      <td>1</td>\n",
       "      <td>4</td>\n",
       "    </tr>\n",
       "    <tr>\n",
       "      <th>7</th>\n",
       "      <td>0</td>\n",
       "      <td>3</td>\n",
       "      <td>1</td>\n",
       "      <td>0</td>\n",
       "      <td>1</td>\n",
       "      <td>2</td>\n",
       "      <td>0</td>\n",
       "      <td>5</td>\n",
       "      <td>0</td>\n",
       "      <td>4</td>\n",
       "      <td>83</td>\n",
       "      <td>0</td>\n",
       "      <td>0</td>\n",
       "      <td>4</td>\n",
       "    </tr>\n",
       "    <tr>\n",
       "      <th>8</th>\n",
       "      <td>1</td>\n",
       "      <td>3</td>\n",
       "      <td>0</td>\n",
       "      <td>1</td>\n",
       "      <td>2</td>\n",
       "      <td>1</td>\n",
       "      <td>0</td>\n",
       "      <td>3</td>\n",
       "      <td>0</td>\n",
       "      <td>3</td>\n",
       "      <td>81</td>\n",
       "      <td>0</td>\n",
       "      <td>1</td>\n",
       "      <td>7</td>\n",
       "    </tr>\n",
       "    <tr>\n",
       "      <th>9</th>\n",
       "      <td>1</td>\n",
       "      <td>2</td>\n",
       "      <td>0</td>\n",
       "      <td>0</td>\n",
       "      <td>0</td>\n",
       "      <td>2</td>\n",
       "      <td>1</td>\n",
       "      <td>2</td>\n",
       "      <td>0</td>\n",
       "      <td>3</td>\n",
       "      <td>38</td>\n",
       "      <td>0</td>\n",
       "      <td>2</td>\n",
       "      <td>5</td>\n",
       "    </tr>\n",
       "  </tbody>\n",
       "</table>\n",
       "</div>"
      ],
      "text/plain": [
       "   Survived  Pclass  Sex  Age  Parch  Fare  Embarked  FamilySize  IsAlone  \\\n",
       "0         0       3    1    1      0     0         0           2        0   \n",
       "1         1       1    0    2      0     3         1           2        0   \n",
       "2         1       3    0    1      0     1         0           1        1   \n",
       "3         1       1    0    2      0     3         0           2        0   \n",
       "4         0       3    1    2      0     1         0           1        1   \n",
       "5         0       3    1    2      0     1         2           1        1   \n",
       "6         0       1    1    3      0     3         0           1        1   \n",
       "7         0       3    1    0      1     2         0           5        0   \n",
       "8         1       3    0    1      2     1         0           3        0   \n",
       "9         1       2    0    0      0     2         1           2        0   \n",
       "\n",
       "   Title  Ticket_type  Has_Cabin  FamilySurvival  Words_Count  \n",
       "0      1          124          0               1            4  \n",
       "1      3          137          1               1            7  \n",
       "2      2          148          0               1            3  \n",
       "3      3            3          1               1            7  \n",
       "4      1           97          0               1            4  \n",
       "5      1           72          0               1            3  \n",
       "6      1           18          1               1            4  \n",
       "7      4           83          0               0            4  \n",
       "8      3           81          0               1            7  \n",
       "9      3           38          0               2            5  "
      ]
     },
     "execution_count": 19,
     "metadata": {},
     "output_type": "execute_result"
    }
   ],
   "source": [
    "for dataset in full_data:\n",
    "    \n",
    "    # Mapping name to word count\n",
    "    dataset['Words_Count'] = dataset['Name'].apply(lambda x: len(x.split()))\n",
    "    \n",
    "    # Mapping Sex\n",
    "    dataset['Sex'] = dataset['Sex'].map( {'female': 0, 'male': 1} ).astype(int)\n",
    "    \n",
    "    # Mapping titles\n",
    "    title_mapping = {\"Mr\": 1, \"Miss\": 2, \"Mrs\": 3, \"Master\": 4, \"Rare\": 5}\n",
    "    dataset['Title'] = dataset['Title'].map(title_mapping)\n",
    "    dataset['Title'] = dataset['Title'].fillna(0)\n",
    "    \n",
    "    # Mapping Embarked\n",
    "    dataset['Embarked'] = dataset['Embarked'].map( {'S': 0, 'C': 1, 'Q': 2} ).astype(int)\n",
    "    \n",
    "    # Mapping Fare\n",
    "    dataset.loc[ dataset['Fare'] <= 7.91, 'Fare'] \t\t\t\t\t\t        = 0\n",
    "    dataset.loc[(dataset['Fare'] > 7.91) & (dataset['Fare'] <= 14.454), 'Fare'] = 1\n",
    "    dataset.loc[(dataset['Fare'] > 14.454) & (dataset['Fare'] <= 31), 'Fare']   = 2\n",
    "    dataset.loc[ dataset['Fare'] > 31, 'Fare'] \t\t\t\t\t\t\t        = 3\n",
    "    dataset['Fare'] = dataset['Fare'].astype(int)\n",
    "    \n",
    "    # Mapping Age\n",
    "    dataset.loc[ dataset['Age'] <= 16, 'Age'] \t\t\t\t\t       = 0\n",
    "    dataset.loc[(dataset['Age'] > 16) & (dataset['Age'] <= 32), 'Age'] = 1\n",
    "    dataset.loc[(dataset['Age'] > 32) & (dataset['Age'] <= 48), 'Age'] = 2\n",
    "    dataset.loc[(dataset['Age'] > 48) & (dataset['Age'] <= 64), 'Age'] = 3\n",
    "    dataset.loc[ dataset['Age'] > 64, 'Age']                           = 4\n",
    "\n",
    "# Feature Selection\n",
    "drop_elements = ['PassengerId', 'Name', 'Ticket', 'Cabin', 'SibSp','Surname','TicketPrefix', 'Surname_Ticket', 'IsFamily', 'FamilyId', 'Child']\n",
    "train = train.drop(drop_elements, axis = 1)\n",
    "train = train.drop(['AgeGroup', 'CategoricalAge', 'CategoricalFare'], axis = 1)\n",
    "\n",
    "test  = test.drop(drop_elements, axis = 1)\n",
    "test = test.drop(['Survived'], axis = 1)\n",
    "train.head(10)"
   ]
  },
  {
   "cell_type": "code",
   "execution_count": 20,
   "metadata": {
    "execution": {
     "iopub.execute_input": "2021-12-02T02:12:08.316469Z",
     "iopub.status.busy": "2021-12-02T02:12:08.315458Z",
     "iopub.status.idle": "2021-12-02T02:12:09.761420Z",
     "shell.execute_reply": "2021-12-02T02:12:09.761969Z",
     "shell.execute_reply.started": "2021-12-02T01:43:47.367205Z"
    },
    "papermill": {
     "duration": 1.497821,
     "end_time": "2021-12-02T02:12:09.762150",
     "exception": false,
     "start_time": "2021-12-02T02:12:08.264329",
     "status": "completed"
    },
    "tags": []
   },
   "outputs": [
    {
     "data": {
      "text/plain": [
       "<AxesSubplot:title={'center':'Correlation of Features'}>"
      ]
     },
     "execution_count": 20,
     "metadata": {},
     "output_type": "execute_result"
    },
    {
     "data": {
      "image/png": "[encoded data removed]",
      "text/plain": [
       "<Figure size 1008x864 with 2 Axes>"
      ]
     },
     "metadata": {
      "needs_background": "light"
     },
     "output_type": "display_data"
    }
   ],
   "source": [
    "import matplotlib.pyplot as plt\n",
    "%matplotlib inline\n",
    "import seaborn as sns\n",
    "\n",
    "colormap = plt.cm.RdBu\n",
    "plt.figure(figsize=(14,12))\n",
    "plt.title('Correlation of Features', y=1.05, size=15)\n",
    "sns.heatmap(train.astype(float).corr(),linewidths=0.1,vmax=1.0, \n",
    "            square=True, cmap=colormap, linecolor='white', annot=True)"
   ]
  },
  {
   "cell_type": "code",
   "execution_count": 21,
   "metadata": {
    "execution": {
     "iopub.execute_input": "2021-12-02T02:12:09.859312Z",
     "iopub.status.busy": "2021-12-02T02:12:09.856142Z",
     "iopub.status.idle": "2021-12-02T02:12:09.861790Z",
     "shell.execute_reply": "2021-12-02T02:12:09.862266Z",
     "shell.execute_reply.started": "2021-12-02T01:43:48.948657Z"
    },
    "papermill": {
     "duration": 0.054802,
     "end_time": "2021-12-02T02:12:09.862451",
     "exception": false,
     "start_time": "2021-12-02T02:12:09.807649",
     "status": "completed"
    },
    "tags": []
   },
   "outputs": [
    {
     "name": "stdout",
     "output_type": "stream",
     "text": [
      "(891, 14)\n",
      "(418, 13)\n",
      "Index(['Survived', 'Pclass', 'Sex', 'Age', 'Parch', 'Fare', 'Embarked',\n",
      "       'FamilySize', 'IsAlone', 'Title', 'Ticket_type', 'Has_Cabin',\n",
      "       'FamilySurvival', 'Words_Count'],\n",
      "      dtype='object')\n",
      "Index(['Pclass', 'Sex', 'Age', 'Parch', 'Fare', 'Embarked', 'FamilySize',\n",
      "       'IsAlone', 'Title', 'Ticket_type', 'Has_Cabin', 'FamilySurvival',\n",
      "       'Words_Count'],\n",
      "      dtype='object')\n"
     ]
    }
   ],
   "source": [
    "print(train.shape)\n",
    "print(test.shape)\n",
    "print(train.columns)\n",
    "print(test.columns)"
   ]
  },
  {
   "cell_type": "code",
   "execution_count": 22,
   "metadata": {
    "execution": {
     "iopub.execute_input": "2021-12-02T02:12:09.956235Z",
     "iopub.status.busy": "2021-12-02T02:12:09.955573Z",
     "iopub.status.idle": "2021-12-02T02:12:09.960209Z",
     "shell.execute_reply": "2021-12-02T02:12:09.960780Z",
     "shell.execute_reply.started": "2021-12-02T01:43:48.959041Z"
    },
    "papermill": {
     "duration": 0.053649,
     "end_time": "2021-12-02T02:12:09.960965",
     "exception": false,
     "start_time": "2021-12-02T02:12:09.907316",
     "status": "completed"
    },
    "tags": []
   },
   "outputs": [],
   "source": [
    "# keep only some columns\n",
    "X_train = train[['Pclass', 'Sex', 'Age', 'Parch', 'Fare', 'Embarked',\n",
    "       'FamilySize', 'IsAlone', 'Title', 'Ticket_type', 'Has_Cabin',\n",
    "       'FamilySurvival']]\n",
    "y_train = train['Survived']"
   ]
  },
  {
   "cell_type": "code",
   "execution_count": 23,
   "metadata": {
    "execution": {
     "iopub.execute_input": "2021-12-02T02:12:10.116190Z",
     "iopub.status.busy": "2021-12-02T02:12:10.115502Z",
     "iopub.status.idle": "2021-12-02T02:12:10.119445Z",
     "shell.execute_reply": "2021-12-02T02:12:10.120064Z",
     "shell.execute_reply.started": "2021-12-02T01:43:48.969438Z"
    },
    "papermill": {
     "duration": 0.115558,
     "end_time": "2021-12-02T02:12:10.120250",
     "exception": false,
     "start_time": "2021-12-02T02:12:10.004692",
     "status": "completed"
    },
    "tags": []
   },
   "outputs": [
    {
     "name": "stdout",
     "output_type": "stream",
     "text": [
      "(891, 12)\n",
      "(891,)\n"
     ]
    }
   ],
   "source": [
    "print(X_train.shape)\n",
    "print(y_train.shape)"
   ]
  },
  {
   "cell_type": "code",
   "execution_count": 24,
   "metadata": {
    "execution": {
     "iopub.execute_input": "2021-12-02T02:12:10.216866Z",
     "iopub.status.busy": "2021-12-02T02:12:10.216204Z",
     "iopub.status.idle": "2021-12-02T02:12:11.602143Z",
     "shell.execute_reply": "2021-12-02T02:12:11.601495Z",
     "shell.execute_reply.started": "2021-12-02T01:43:48.983173Z"
    },
    "papermill": {
     "duration": 1.435297,
     "end_time": "2021-12-02T02:12:11.602307",
     "exception": false,
     "start_time": "2021-12-02T02:12:10.167010",
     "status": "completed"
    },
    "tags": []
   },
   "outputs": [
    {
     "data": {
      "image/png": "[encoded data removed]",
      "text/plain": [
       "<Figure size 432x288 with 1 Axes>"
      ]
     },
     "metadata": {
      "needs_background": "light"
     },
     "output_type": "display_data"
    },
    {
     "data": {
      "text/html": [
       "<div>\n",
       "<style scoped>\n",
       "    .dataframe tbody tr th:only-of-type {\n",
       "        vertical-align: middle;\n",
       "    }\n",
       "\n",
       "    .dataframe tbody tr th {\n",
       "        vertical-align: top;\n",
       "    }\n",
       "\n",
       "    .dataframe thead th {\n",
       "        text-align: right;\n",
       "    }\n",
       "</style>\n",
       "<table border=\"1\" class=\"dataframe\">\n",
       "  <thead>\n",
       "    <tr style=\"text-align: right;\">\n",
       "      <th></th>\n",
       "      <th>feature</th>\n",
       "      <th>importance</th>\n",
       "    </tr>\n",
       "  </thead>\n",
       "  <tbody>\n",
       "    <tr>\n",
       "      <th>0</th>\n",
       "      <td>Pclass</td>\n",
       "      <td>10.791001</td>\n",
       "    </tr>\n",
       "    <tr>\n",
       "      <th>1</th>\n",
       "      <td>Sex</td>\n",
       "      <td>16.907658</td>\n",
       "    </tr>\n",
       "    <tr>\n",
       "      <th>2</th>\n",
       "      <td>Age</td>\n",
       "      <td>8.978921</td>\n",
       "    </tr>\n",
       "    <tr>\n",
       "      <th>3</th>\n",
       "      <td>Parch</td>\n",
       "      <td>1.922979</td>\n",
       "    </tr>\n",
       "    <tr>\n",
       "      <th>4</th>\n",
       "      <td>Fare</td>\n",
       "      <td>8.618425</td>\n",
       "    </tr>\n",
       "    <tr>\n",
       "      <th>5</th>\n",
       "      <td>Embarked</td>\n",
       "      <td>3.519488</td>\n",
       "    </tr>\n",
       "    <tr>\n",
       "      <th>6</th>\n",
       "      <td>FamilySize</td>\n",
       "      <td>4.059844</td>\n",
       "    </tr>\n",
       "    <tr>\n",
       "      <th>7</th>\n",
       "      <td>IsAlone</td>\n",
       "      <td>0.633464</td>\n",
       "    </tr>\n",
       "    <tr>\n",
       "      <th>8</th>\n",
       "      <td>Title</td>\n",
       "      <td>18.158864</td>\n",
       "    </tr>\n",
       "    <tr>\n",
       "      <th>9</th>\n",
       "      <td>Ticket_type</td>\n",
       "      <td>15.039817</td>\n",
       "    </tr>\n",
       "    <tr>\n",
       "      <th>10</th>\n",
       "      <td>Has_Cabin</td>\n",
       "      <td>5.240747</td>\n",
       "    </tr>\n",
       "    <tr>\n",
       "      <th>11</th>\n",
       "      <td>FamilySurvival</td>\n",
       "      <td>6.128792</td>\n",
       "    </tr>\n",
       "  </tbody>\n",
       "</table>\n",
       "</div>"
      ],
      "text/plain": [
       "           feature  importance\n",
       "0           Pclass   10.791001\n",
       "1              Sex   16.907658\n",
       "2              Age    8.978921\n",
       "3            Parch    1.922979\n",
       "4             Fare    8.618425\n",
       "5         Embarked    3.519488\n",
       "6       FamilySize    4.059844\n",
       "7          IsAlone    0.633464\n",
       "8            Title   18.158864\n",
       "9      Ticket_type   15.039817\n",
       "10       Has_Cabin    5.240747\n",
       "11  FamilySurvival    6.128792"
      ]
     },
     "execution_count": 24,
     "metadata": {},
     "output_type": "execute_result"
    }
   ],
   "source": [
    "from catboost import CatBoostClassifier\n",
    "\n",
    "model = CatBoostClassifier(verbose=False)\n",
    "model.fit(X_train, y_train)\n",
    "importance = pd.DataFrame({'feature':X_train.columns, 'importance': model.feature_importances_})\n",
    "importance.sort_values('importance', ascending=False).set_index('feature').plot(kind='barh')\n",
    "plt.show()\n",
    "\n",
    "importance"
   ]
  },
  {
   "cell_type": "code",
   "execution_count": 25,
   "metadata": {
    "execution": {
     "iopub.execute_input": "2021-12-02T02:12:11.703984Z",
     "iopub.status.busy": "2021-12-02T02:12:11.703265Z",
     "iopub.status.idle": "2021-12-02T02:12:11.708123Z",
     "shell.execute_reply": "2021-12-02T02:12:11.707530Z",
     "shell.execute_reply.started": "2021-12-02T01:43:50.568304Z"
    },
    "papermill": {
     "duration": 0.058108,
     "end_time": "2021-12-02T02:12:11.708274",
     "exception": false,
     "start_time": "2021-12-02T02:12:11.650166",
     "status": "completed"
    },
    "tags": []
   },
   "outputs": [],
   "source": [
    "train.to_pickle('./train.pkl')\n",
    "test.to_pickle('./test.pkl')\n",
    "train = pd.read_pickle('./train.pkl')\n",
    "test = pd.read_pickle('./test.pkl')"
   ]
  },
  {
   "cell_type": "markdown",
   "metadata": {
    "_cell_guid": "23b55b45-572b-7276-32e7-8f7a0dcfd25e",
    "papermill": {
     "duration": 0.046782,
     "end_time": "2021-12-02T02:12:11.803270",
     "exception": false,
     "start_time": "2021-12-02T02:12:11.756488",
     "status": "completed"
    },
    "tags": []
   },
   "source": [
    "# Classifier Comparison #"
   ]
  },
  {
   "cell_type": "markdown",
   "metadata": {
    "_cell_guid": "438585cf-b7ad-73ba-49aa-87688ff21233",
    "papermill": {
     "duration": 0.047566,
     "end_time": "2021-12-02T02:12:11.898273",
     "exception": false,
     "start_time": "2021-12-02T02:12:11.850707",
     "status": "completed"
    },
    "tags": []
   },
   "source": [
    "# Prediction #"
   ]
  },
  {
   "cell_type": "code",
   "execution_count": 26,
   "metadata": {
    "execution": {
     "iopub.execute_input": "2021-12-02T02:12:12.000370Z",
     "iopub.status.busy": "2021-12-02T02:12:11.999648Z",
     "iopub.status.idle": "2021-12-02T02:12:12.548067Z",
     "shell.execute_reply": "2021-12-02T02:12:12.548635Z",
     "shell.execute_reply.started": "2021-12-02T01:43:50.577309Z"
    },
    "papermill": {
     "duration": 0.601545,
     "end_time": "2021-12-02T02:12:12.548812",
     "exception": false,
     "start_time": "2021-12-02T02:12:11.947267",
     "status": "completed"
    },
    "tags": []
   },
   "outputs": [],
   "source": [
    "from sklearn.model_selection import cross_val_score, cross_validate\n",
    "from xgboost import XGBClassifier\n",
    "from sklearn.ensemble import RandomForestClassifier\n"
   ]
  },
  {
   "cell_type": "code",
   "execution_count": 27,
   "metadata": {
    "execution": {
     "iopub.execute_input": "2021-12-02T02:12:12.656385Z",
     "iopub.status.busy": "2021-12-02T02:12:12.655621Z",
     "iopub.status.idle": "2021-12-02T02:12:12.658727Z",
     "shell.execute_reply": "2021-12-02T02:12:12.658212Z",
     "shell.execute_reply.started": "2021-12-02T01:43:51.028842Z"
    },
    "papermill": {
     "duration": 0.061422,
     "end_time": "2021-12-02T02:12:12.658870",
     "exception": false,
     "start_time": "2021-12-02T02:12:12.597448",
     "status": "completed"
    },
    "tags": []
   },
   "outputs": [],
   "source": [
    "y_train = train['Survived'].ravel()\n",
    "features = ['Pclass', 'Sex', 'Age', 'Parch', 'Fare', 'Embarked',\n",
    "       'FamilySize', 'Title', 'Ticket_type', 'Has_Cabin',\n",
    "       'FamilySurvival']\n",
    "\n",
    "x_train = train[features].values # Creates an array of the train data\n",
    "x_test = test[features].values "
   ]
  },
  {
   "cell_type": "code",
   "execution_count": 28,
   "metadata": {
    "execution": {
     "iopub.execute_input": "2021-12-02T02:12:12.760735Z",
     "iopub.status.busy": "2021-12-02T02:12:12.759442Z",
     "iopub.status.idle": "2021-12-02T02:12:12.762655Z",
     "shell.execute_reply": "2021-12-02T02:12:12.762090Z",
     "shell.execute_reply.started": "2021-12-02T01:43:51.039224Z"
    },
    "papermill": {
     "duration": 0.055857,
     "end_time": "2021-12-02T02:12:12.762800",
     "exception": false,
     "start_time": "2021-12-02T02:12:12.706943",
     "status": "completed"
    },
    "tags": []
   },
   "outputs": [],
   "source": [
    "\n",
    "# xgb = XGBClassifier()\n",
    "# cv_results = cross_validate(xgb, x_train, y_train, cv=5)\n",
    "# print(cv_results['test_score'].mean())\n",
    "# xgb.fit(x_train, y_train)\n",
    "# result = xgb.predict(x_test)"
   ]
  },
  {
   "cell_type": "code",
   "execution_count": 29,
   "metadata": {
    "execution": {
     "iopub.execute_input": "2021-12-02T02:12:12.863847Z",
     "iopub.status.busy": "2021-12-02T02:12:12.860585Z",
     "iopub.status.idle": "2021-12-02T02:12:14.351367Z",
     "shell.execute_reply": "2021-12-02T02:12:14.350583Z",
     "shell.execute_reply.started": "2021-12-02T01:43:51.052057Z"
    },
    "papermill": {
     "duration": 1.541288,
     "end_time": "2021-12-02T02:12:14.351531",
     "exception": false,
     "start_time": "2021-12-02T02:12:12.810243",
     "status": "completed"
    },
    "tags": []
   },
   "outputs": [
    {
     "name": "stdout",
     "output_type": "stream",
     "text": [
      "0.8103257799259305\n"
     ]
    }
   ],
   "source": [
    "rf = RandomForestClassifier()\n",
    "cv_results = cross_validate(rf, x_train, y_train, cv=5)\n",
    "print(cv_results['test_score'].mean())\n",
    "rf.fit(x_train, y_train)\n",
    "result = rf.predict(x_test)"
   ]
  },
  {
   "cell_type": "code",
   "execution_count": 30,
   "metadata": {
    "execution": {
     "iopub.execute_input": "2021-12-02T02:12:14.455024Z",
     "iopub.status.busy": "2021-12-02T02:12:14.454269Z",
     "iopub.status.idle": "2021-12-02T02:12:14.457606Z",
     "shell.execute_reply": "2021-12-02T02:12:14.457107Z",
     "shell.execute_reply.started": "2021-12-02T01:43:52.463528Z"
    },
    "papermill": {
     "duration": 0.056503,
     "end_time": "2021-12-02T02:12:14.457760",
     "exception": false,
     "start_time": "2021-12-02T02:12:14.401257",
     "status": "completed"
    },
    "tags": []
   },
   "outputs": [],
   "source": [
    "# from sklearn.model_selection import cross_val_score, cross_validate\n",
    "# from sklearn.ensemble import VotingClassifier, RandomForestClassifier, AdaBoostClassifier, ExtraTreesClassifier\n",
    "# from sklearn import svm, neighbors\n",
    "# from xgboost import XGBClassifier\n",
    "# from catboost import CatBoostClassifier\n",
    "\n",
    "# ensemble = [CatBoostClassifier(verbose=False), RandomForestClassifier(), svm.NuSVC(probability=True), neighbors.KNeighborsClassifier()]\n",
    "\n",
    "# classifiers_with_names = []\n",
    "# _ = [classifiers_with_names.append((clf.__class__.__name__, clf)) for clf in ensemble]\n",
    "# voting = VotingClassifier(classifiers_with_names, voting='hard')\n",
    "\n",
    "# cv_results = cross_validate(voting, x_train, y_train, cv=5)\n",
    "# print(cv_results['test_score'].mean())\n",
    "\n",
    "# voting.fit(x_train, y_train)\n",
    "# result = voting.predict(x_test)"
   ]
  },
  {
   "cell_type": "code",
   "execution_count": 31,
   "metadata": {
    "execution": {
     "iopub.execute_input": "2021-12-02T02:12:14.560589Z",
     "iopub.status.busy": "2021-12-02T02:12:14.559681Z",
     "iopub.status.idle": "2021-12-02T02:12:14.563210Z",
     "shell.execute_reply": "2021-12-02T02:12:14.562668Z",
     "shell.execute_reply.started": "2021-12-02T01:46:38.959070Z"
    },
    "papermill": {
     "duration": 0.057039,
     "end_time": "2021-12-02T02:12:14.563360",
     "exception": false,
     "start_time": "2021-12-02T02:12:14.506321",
     "status": "completed"
    },
    "tags": []
   },
   "outputs": [],
   "source": [
    "# from sklearn.model_selection import GridSearchCV\n",
    "# from sklearn.ensemble import RandomForestClassifier\n",
    "# n_estimators = [100,  500, 800, 1200]\n",
    "# max_depth = [5, 8, 15,30]\n",
    "# min_samples_split = [2, 5, 10, 100]\n",
    "# min_samples_leaf = [1, 2, 10] \n",
    "# forest = RandomForestClassifier(random_state = 1)\n",
    "\n",
    "# hyperF = dict(n_estimators = n_estimators, max_depth = max_depth,  \n",
    "#               min_samples_split = min_samples_split, \n",
    "#              min_samples_leaf = min_samples_leaf)\n",
    "\n",
    "# gridF = GridSearchCV(forest, hyperF )\n",
    "# bestF = gridF.fit(x_train, y_train)\n",
    "# print(bestF.best_estimator_)"
   ]
  },
  {
   "cell_type": "code",
   "execution_count": 32,
   "metadata": {
    "execution": {
     "iopub.execute_input": "2021-12-02T02:12:14.663900Z",
     "iopub.status.busy": "2021-12-02T02:12:14.663267Z",
     "iopub.status.idle": "2021-12-02T02:12:16.526678Z",
     "shell.execute_reply": "2021-12-02T02:12:16.525993Z",
     "shell.execute_reply.started": "2021-12-02T02:11:15.732736Z"
    },
    "papermill": {
     "duration": 1.914763,
     "end_time": "2021-12-02T02:12:16.526831",
     "exception": false,
     "start_time": "2021-12-02T02:12:14.612068",
     "status": "completed"
    },
    "tags": []
   },
   "outputs": [],
   "source": [
    "model = RandomForestClassifier(n_estimators=800, max_depth=15,min_samples_leaf=2, random_state=1).fit(x_train, y_train)\n",
    "result = model.predict(x_test)"
   ]
  },
  {
   "cell_type": "code",
   "execution_count": 33,
   "metadata": {
    "execution": {
     "iopub.execute_input": "2021-12-02T02:12:16.638022Z",
     "iopub.status.busy": "2021-12-02T02:12:16.636949Z",
     "iopub.status.idle": "2021-12-02T02:12:16.642335Z",
     "shell.execute_reply": "2021-12-02T02:12:16.642854Z",
     "shell.execute_reply.started": "2021-12-02T02:11:18.018139Z"
    },
    "papermill": {
     "duration": 0.066164,
     "end_time": "2021-12-02T02:12:16.643110",
     "exception": false,
     "start_time": "2021-12-02T02:12:16.576946",
     "status": "completed"
    },
    "tags": []
   },
   "outputs": [
    {
     "data": {
      "text/html": [
       "<div>\n",
       "<style scoped>\n",
       "    .dataframe tbody tr th:only-of-type {\n",
       "        vertical-align: middle;\n",
       "    }\n",
       "\n",
       "    .dataframe tbody tr th {\n",
       "        vertical-align: top;\n",
       "    }\n",
       "\n",
       "    .dataframe thead th {\n",
       "        text-align: right;\n",
       "    }\n",
       "</style>\n",
       "<table border=\"1\" class=\"dataframe\">\n",
       "  <thead>\n",
       "    <tr style=\"text-align: right;\">\n",
       "      <th></th>\n",
       "      <th>PassengerId</th>\n",
       "      <th>Survived</th>\n",
       "    </tr>\n",
       "  </thead>\n",
       "  <tbody>\n",
       "    <tr>\n",
       "      <th>0</th>\n",
       "      <td>892</td>\n",
       "      <td>0</td>\n",
       "    </tr>\n",
       "    <tr>\n",
       "      <th>1</th>\n",
       "      <td>893</td>\n",
       "      <td>1</td>\n",
       "    </tr>\n",
       "    <tr>\n",
       "      <th>2</th>\n",
       "      <td>894</td>\n",
       "      <td>0</td>\n",
       "    </tr>\n",
       "    <tr>\n",
       "      <th>3</th>\n",
       "      <td>895</td>\n",
       "      <td>0</td>\n",
       "    </tr>\n",
       "    <tr>\n",
       "      <th>4</th>\n",
       "      <td>896</td>\n",
       "      <td>1</td>\n",
       "    </tr>\n",
       "    <tr>\n",
       "      <th>...</th>\n",
       "      <td>...</td>\n",
       "      <td>...</td>\n",
       "    </tr>\n",
       "    <tr>\n",
       "      <th>413</th>\n",
       "      <td>1305</td>\n",
       "      <td>0</td>\n",
       "    </tr>\n",
       "    <tr>\n",
       "      <th>414</th>\n",
       "      <td>1306</td>\n",
       "      <td>1</td>\n",
       "    </tr>\n",
       "    <tr>\n",
       "      <th>415</th>\n",
       "      <td>1307</td>\n",
       "      <td>0</td>\n",
       "    </tr>\n",
       "    <tr>\n",
       "      <th>416</th>\n",
       "      <td>1308</td>\n",
       "      <td>0</td>\n",
       "    </tr>\n",
       "    <tr>\n",
       "      <th>417</th>\n",
       "      <td>1309</td>\n",
       "      <td>1</td>\n",
       "    </tr>\n",
       "  </tbody>\n",
       "</table>\n",
       "<p>418 rows × 2 columns</p>\n",
       "</div>"
      ],
      "text/plain": [
       "     PassengerId  Survived\n",
       "0            892         0\n",
       "1            893         1\n",
       "2            894         0\n",
       "3            895         0\n",
       "4            896         1\n",
       "..           ...       ...\n",
       "413         1305         0\n",
       "414         1306         1\n",
       "415         1307         0\n",
       "416         1308         0\n",
       "417         1309         1\n",
       "\n",
       "[418 rows x 2 columns]"
      ]
     },
     "execution_count": 33,
     "metadata": {},
     "output_type": "execute_result"
    }
   ],
   "source": [
    "submission = pd.DataFrame({\n",
    "        \"PassengerId\": PassengerId,\n",
    "        \"Survived\": result\n",
    "    })\n",
    "submission"
   ]
  },
  {
   "cell_type": "code",
   "execution_count": 34,
   "metadata": {
    "execution": {
     "iopub.execute_input": "2021-12-02T02:12:16.748116Z",
     "iopub.status.busy": "2021-12-02T02:12:16.747216Z",
     "iopub.status.idle": "2021-12-02T02:12:16.752713Z",
     "shell.execute_reply": "2021-12-02T02:12:16.753216Z",
     "shell.execute_reply.started": "2021-12-02T02:11:23.504724Z"
    },
    "papermill": {
     "duration": 0.059987,
     "end_time": "2021-12-02T02:12:16.753398",
     "exception": false,
     "start_time": "2021-12-02T02:12:16.693411",
     "status": "completed"
    },
    "tags": []
   },
   "outputs": [],
   "source": [
    "submission.to_csv('./submission.csv', index=False)"
   ]
  },
  {
   "cell_type": "code",
   "execution_count": null,
   "metadata": {
    "papermill": {
     "duration": 0.049063,
     "end_time": "2021-12-02T02:12:16.851948",
     "exception": false,
     "start_time": "2021-12-02T02:12:16.802885",
     "status": "completed"
    },
    "tags": []
   },
   "outputs": [],
   "source": []
  }
 ],
 "metadata": {
  "kernelspec": {
   "display_name": "Python 3",
   "language": "python",
   "name": "python3"
  },
  "language_info": {
   "codemirror_mode": {
    "name": "ipython",
    "version": 3
   },
   "file_extension": ".py",
   "mimetype": "text/x-python",
   "name": "python",
   "nbconvert_exporter": "python",
   "pygments_lexer": "ipython3",
   "version": "3.7.3"
  },
  "papermill": {
   "default_parameters": {},
   "duration": 25.222546,
   "end_time": "2021-12-02T02:12:17.715071",
   "environment_variables": {},
   "exception": null,
   "input_path": "__notebook__.ipynb",
   "output_path": "__notebook__.ipynb",
   "parameters": {},
   "start_time": "2021-12-02T02:11:52.492525",
   "version": "2.3.3"
  }
 },
 "nbformat": 4,
 "nbformat_minor": 5
}
